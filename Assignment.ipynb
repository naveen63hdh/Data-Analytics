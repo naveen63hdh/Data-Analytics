{
  "nbformat": 4,
  "nbformat_minor": 0,
  "metadata": {
    "kernelspec": {
      "display_name": "Python 3",
      "language": "python",
      "name": "python3"
    },
    "language_info": {
      "codemirror_mode": {
        "name": "ipython",
        "version": 3
      },
      "file_extension": ".py",
      "mimetype": "text/x-python",
      "name": "python",
      "nbconvert_exporter": "python",
      "pygments_lexer": "ipython3",
      "version": "3.7.4"
    },
    "colab": {
      "name": "Assignment.ipynb",
      "provenance": [],
      "collapsed_sections": [],
      "include_colab_link": true
    }
  },
  "cells": [
    {
      "cell_type": "markdown",
      "metadata": {
        "id": "view-in-github",
        "colab_type": "text"
      },
      "source": [
        "<a href=\"https://colab.research.google.com/github/naveen63hdh/Data-Analytics/blob/main/Assignment.ipynb\" target=\"_parent\"><img src=\"https://colab.research.google.com/assets/colab-badge.svg\" alt=\"Open In Colab\"/></a>"
      ]
    },
    {
      "cell_type": "markdown",
      "metadata": {
        "id": "BHa8Sd55Owo0"
      },
      "source": [
        "# 1.Creating Dataframe in Python\n",
        "\n",
        "\n",
        "> In python there are more than ways to create a dataframe using pandas. We can create dataframe from lists, tuple, dictionary, numpy array, csv file and etc. We can also create an empty dataframe and add records to it.\n",
        "\n",
        "> To create a dataframe we are loading pandas library in the alias pd, and we are also loading numpy in alias np to create dataframe from numpy array.\n",
        "\n",
        "\n",
        "        \n",
        "\n",
        "\n",
        "\n"
      ]
    },
    {
      "cell_type": "code",
      "metadata": {
        "id": "Pj_eCvrvOwpL"
      },
      "source": [
        "import numpy as np\n",
        "import pandas as pd"
      ],
      "execution_count": 1,
      "outputs": []
    },
    {
      "cell_type": "markdown",
      "metadata": {
        "id": "nb4wbPxsOwpQ"
      },
      "source": [
        "## 1.1 Creating empty dataframe and adding records\n",
        "\n",
        "\n",
        "> DataFrame constructor is used to create a empty dataframe. The columns attribute is a list of strings which become columns of the dataframe. DataFrame rows are reference loc method with index value.                   \n",
        "\n"
      ]
    },
    {
      "cell_type": "code",
      "metadata": {
        "id": "wV_3nsu7OwpT"
      },
      "source": [
        "df = pd.DataFrame(columns = [\"Emp No\",\"Emp Name\",\"Salary\"])"
      ],
      "execution_count": 2,
      "outputs": []
    },
    {
      "cell_type": "code",
      "metadata": {
        "id": "QrV2mFxdOwpW"
      },
      "source": [
        "df.loc[0] = [101,\"Jai\",14000]\n",
        "df.loc[1] = [102,\"Kannan\",10000]\n",
        "df.loc[2] = [103,\"Raman\",7000]\n",
        "df.loc[3] = [104,\"Suresh\",9000]\n",
        "df.loc[4] = [105,\"Sam\",11000]"
      ],
      "execution_count": 3,
      "outputs": []
    },
    {
      "cell_type": "code",
      "metadata": {
        "colab": {
          "base_uri": "https://localhost:8080/",
          "height": 206
        },
        "id": "5lGqRs0WOwpY",
        "outputId": "9c1a7881-8321-401c-d6b5-eede093d05c1"
      },
      "source": [
        "df"
      ],
      "execution_count": 4,
      "outputs": [
        {
          "output_type": "execute_result",
          "data": {
            "text/html": [
              "<div>\n",
              "<style scoped>\n",
              "    .dataframe tbody tr th:only-of-type {\n",
              "        vertical-align: middle;\n",
              "    }\n",
              "\n",
              "    .dataframe tbody tr th {\n",
              "        vertical-align: top;\n",
              "    }\n",
              "\n",
              "    .dataframe thead th {\n",
              "        text-align: right;\n",
              "    }\n",
              "</style>\n",
              "<table border=\"1\" class=\"dataframe\">\n",
              "  <thead>\n",
              "    <tr style=\"text-align: right;\">\n",
              "      <th></th>\n",
              "      <th>Emp No</th>\n",
              "      <th>Emp Name</th>\n",
              "      <th>Salary</th>\n",
              "    </tr>\n",
              "  </thead>\n",
              "  <tbody>\n",
              "    <tr>\n",
              "      <th>0</th>\n",
              "      <td>101</td>\n",
              "      <td>Jai</td>\n",
              "      <td>14000</td>\n",
              "    </tr>\n",
              "    <tr>\n",
              "      <th>1</th>\n",
              "      <td>102</td>\n",
              "      <td>Kannan</td>\n",
              "      <td>10000</td>\n",
              "    </tr>\n",
              "    <tr>\n",
              "      <th>2</th>\n",
              "      <td>103</td>\n",
              "      <td>Raman</td>\n",
              "      <td>7000</td>\n",
              "    </tr>\n",
              "    <tr>\n",
              "      <th>3</th>\n",
              "      <td>104</td>\n",
              "      <td>Suresh</td>\n",
              "      <td>9000</td>\n",
              "    </tr>\n",
              "    <tr>\n",
              "      <th>4</th>\n",
              "      <td>105</td>\n",
              "      <td>Sam</td>\n",
              "      <td>11000</td>\n",
              "    </tr>\n",
              "  </tbody>\n",
              "</table>\n",
              "</div>"
            ],
            "text/plain": [
              "  Emp No Emp Name Salary\n",
              "0    101      Jai  14000\n",
              "1    102   Kannan  10000\n",
              "2    103    Raman   7000\n",
              "3    104   Suresh   9000\n",
              "4    105      Sam  11000"
            ]
          },
          "metadata": {
            "tags": []
          },
          "execution_count": 4
        }
      ]
    },
    {
      "cell_type": "markdown",
      "metadata": {
        "id": "X6u0LhtPOwpe"
      },
      "source": [
        "## 1.2 Creating dataframe using numpy array\n",
        "\n",
        "> In DataFrame constructor we can pass numpy array. Each row in  numpy array is the corresponding row required in the dataframe.\n"
      ]
    },
    {
      "cell_type": "code",
      "metadata": {
        "id": "yf6xWtIkOwpg"
      },
      "source": [
        "data = np.array([[101,\"Jai\",14000],\n",
        "                 [102,\"Kannan\",10000],\n",
        "                 [103,\"Raman\",7000],\n",
        "                 [104,\"Suresh\",9000],\n",
        "                 [105,\"Sam\",11000]\n",
        "                ])"
      ],
      "execution_count": 5,
      "outputs": []
    },
    {
      "cell_type": "code",
      "metadata": {
        "colab": {
          "base_uri": "https://localhost:8080/"
        },
        "id": "jYKKsyA-Owpj",
        "outputId": "49138b16-1c48-459f-864b-d2f0b600f31e"
      },
      "source": [
        "type(data)"
      ],
      "execution_count": 6,
      "outputs": [
        {
          "output_type": "execute_result",
          "data": {
            "text/plain": [
              "numpy.ndarray"
            ]
          },
          "metadata": {
            "tags": []
          },
          "execution_count": 6
        }
      ]
    },
    {
      "cell_type": "code",
      "metadata": {
        "id": "Xr63IDGBOwpm"
      },
      "source": [
        "df = pd.DataFrame(data,columns = [\"Emp No\",\"Emp Name\",\"Salary\"])"
      ],
      "execution_count": 7,
      "outputs": []
    },
    {
      "cell_type": "code",
      "metadata": {
        "colab": {
          "base_uri": "https://localhost:8080/",
          "height": 206
        },
        "id": "b4PLAuEqOwpo",
        "outputId": "08931acc-0f8b-4fab-e192-73a8e4a09e43"
      },
      "source": [
        "df"
      ],
      "execution_count": 8,
      "outputs": [
        {
          "output_type": "execute_result",
          "data": {
            "text/html": [
              "<div>\n",
              "<style scoped>\n",
              "    .dataframe tbody tr th:only-of-type {\n",
              "        vertical-align: middle;\n",
              "    }\n",
              "\n",
              "    .dataframe tbody tr th {\n",
              "        vertical-align: top;\n",
              "    }\n",
              "\n",
              "    .dataframe thead th {\n",
              "        text-align: right;\n",
              "    }\n",
              "</style>\n",
              "<table border=\"1\" class=\"dataframe\">\n",
              "  <thead>\n",
              "    <tr style=\"text-align: right;\">\n",
              "      <th></th>\n",
              "      <th>Emp No</th>\n",
              "      <th>Emp Name</th>\n",
              "      <th>Salary</th>\n",
              "    </tr>\n",
              "  </thead>\n",
              "  <tbody>\n",
              "    <tr>\n",
              "      <th>0</th>\n",
              "      <td>101</td>\n",
              "      <td>Jai</td>\n",
              "      <td>14000</td>\n",
              "    </tr>\n",
              "    <tr>\n",
              "      <th>1</th>\n",
              "      <td>102</td>\n",
              "      <td>Kannan</td>\n",
              "      <td>10000</td>\n",
              "    </tr>\n",
              "    <tr>\n",
              "      <th>2</th>\n",
              "      <td>103</td>\n",
              "      <td>Raman</td>\n",
              "      <td>7000</td>\n",
              "    </tr>\n",
              "    <tr>\n",
              "      <th>3</th>\n",
              "      <td>104</td>\n",
              "      <td>Suresh</td>\n",
              "      <td>9000</td>\n",
              "    </tr>\n",
              "    <tr>\n",
              "      <th>4</th>\n",
              "      <td>105</td>\n",
              "      <td>Sam</td>\n",
              "      <td>11000</td>\n",
              "    </tr>\n",
              "  </tbody>\n",
              "</table>\n",
              "</div>"
            ],
            "text/plain": [
              "  Emp No Emp Name Salary\n",
              "0    101      Jai  14000\n",
              "1    102   Kannan  10000\n",
              "2    103    Raman   7000\n",
              "3    104   Suresh   9000\n",
              "4    105      Sam  11000"
            ]
          },
          "metadata": {
            "tags": []
          },
          "execution_count": 8
        }
      ]
    },
    {
      "cell_type": "markdown",
      "metadata": {
        "id": "CgqY-98aOwpr"
      },
      "source": [
        "## 1.3 Creating dataframe using List\n",
        "\n",
        ">  To Create a dataframe using list we have to pass the list in DataFrame constructor and we can give column names in colum attribute.\n"
      ]
    },
    {
      "cell_type": "code",
      "metadata": {
        "id": "j9X4kB8OOwpu"
      },
      "source": [
        "data = [[101,\"Jai\",14000],\n",
        "        [102,\"Kannan\",10000],\n",
        "        [103,\"Raman\",7000],\n",
        "        [104,\"Suresh\",9000],\n",
        "        [105,\"Sam\",11000]]"
      ],
      "execution_count": 9,
      "outputs": []
    },
    {
      "cell_type": "code",
      "metadata": {
        "colab": {
          "base_uri": "https://localhost:8080/"
        },
        "id": "keHrtJ60Owpw",
        "outputId": "adcd2fbf-fd09-4059-efef-d3eec534d4ed"
      },
      "source": [
        "type(data)"
      ],
      "execution_count": 10,
      "outputs": [
        {
          "output_type": "execute_result",
          "data": {
            "text/plain": [
              "list"
            ]
          },
          "metadata": {
            "tags": []
          },
          "execution_count": 10
        }
      ]
    },
    {
      "cell_type": "code",
      "metadata": {
        "id": "wOYeuT4MOwpy"
      },
      "source": [
        "df = pd.DataFrame(data,columns = [\"Emp No\",\"Emp Name\",\"Salary\"])"
      ],
      "execution_count": 11,
      "outputs": []
    },
    {
      "cell_type": "code",
      "metadata": {
        "colab": {
          "base_uri": "https://localhost:8080/",
          "height": 206
        },
        "id": "XfEB-neGOwpz",
        "outputId": "b5c055ba-968a-4db4-934f-1f30c4148cda"
      },
      "source": [
        "df"
      ],
      "execution_count": 12,
      "outputs": [
        {
          "output_type": "execute_result",
          "data": {
            "text/html": [
              "<div>\n",
              "<style scoped>\n",
              "    .dataframe tbody tr th:only-of-type {\n",
              "        vertical-align: middle;\n",
              "    }\n",
              "\n",
              "    .dataframe tbody tr th {\n",
              "        vertical-align: top;\n",
              "    }\n",
              "\n",
              "    .dataframe thead th {\n",
              "        text-align: right;\n",
              "    }\n",
              "</style>\n",
              "<table border=\"1\" class=\"dataframe\">\n",
              "  <thead>\n",
              "    <tr style=\"text-align: right;\">\n",
              "      <th></th>\n",
              "      <th>Emp No</th>\n",
              "      <th>Emp Name</th>\n",
              "      <th>Salary</th>\n",
              "    </tr>\n",
              "  </thead>\n",
              "  <tbody>\n",
              "    <tr>\n",
              "      <th>0</th>\n",
              "      <td>101</td>\n",
              "      <td>Jai</td>\n",
              "      <td>14000</td>\n",
              "    </tr>\n",
              "    <tr>\n",
              "      <th>1</th>\n",
              "      <td>102</td>\n",
              "      <td>Kannan</td>\n",
              "      <td>10000</td>\n",
              "    </tr>\n",
              "    <tr>\n",
              "      <th>2</th>\n",
              "      <td>103</td>\n",
              "      <td>Raman</td>\n",
              "      <td>7000</td>\n",
              "    </tr>\n",
              "    <tr>\n",
              "      <th>3</th>\n",
              "      <td>104</td>\n",
              "      <td>Suresh</td>\n",
              "      <td>9000</td>\n",
              "    </tr>\n",
              "    <tr>\n",
              "      <th>4</th>\n",
              "      <td>105</td>\n",
              "      <td>Sam</td>\n",
              "      <td>11000</td>\n",
              "    </tr>\n",
              "  </tbody>\n",
              "</table>\n",
              "</div>"
            ],
            "text/plain": [
              "   Emp No Emp Name  Salary\n",
              "0     101      Jai   14000\n",
              "1     102   Kannan   10000\n",
              "2     103    Raman    7000\n",
              "3     104   Suresh    9000\n",
              "4     105      Sam   11000"
            ]
          },
          "metadata": {
            "tags": []
          },
          "execution_count": 12
        }
      ]
    },
    {
      "cell_type": "markdown",
      "metadata": {
        "id": "_L6MDM4LOwp1"
      },
      "source": [
        "## 1.4 Creating dataframe using Dictionary \n",
        "\n",
        "> There are 3 ways to create a dataframe using dictonary \n",
        "\n",
        "* [Using Dictionary in DataFrame Constructor](https://colab.research.google.com/drive/1XbRrMi3RkTKGM0l4m1qsXH5LRggqSzrj#scrollTo=BlQdFRMOOwp3)\n",
        "* [Using List of Dictionary](https://colab.research.google.com/drive/1XbRrMi3RkTKGM0l4m1qsXH5LRggqSzrj#scrollTo=_L6MDM4LOwp1&line=7&uniqifier=1)\n",
        "* [Using from_dict method](https://colab.research.google.com/drive/1XbRrMi3RkTKGM0l4m1qsXH5LRggqSzrj#scrollTo=_L6MDM4LOwp1&line=7&uniqifier=1)\n"
      ]
    },
    {
      "cell_type": "markdown",
      "metadata": {
        "id": "BlQdFRMOOwp3"
      },
      "source": [
        "### 1.4.1 Using Dictionary in DataFrame Constructor\n",
        "\n",
        "\n",
        "> If we pass dictionary in dataframe then dictionary keys become column names of dataframe and dictionary value becomes dataframe row values. Dictionary column are combined into single row according to the order of dictionary.\n",
        "\n"
      ]
    },
    {
      "cell_type": "code",
      "metadata": {
        "id": "qJjr1wrgOwp3"
      },
      "source": [
        "data = {'Emp No':[101,102,103,104,105],\n",
        "        'Emp Name':['Jai','Kannan','Raman','Suresh','Sam'],\n",
        "        'Salary':[14000,10000,7000,9000,11000]}        "
      ],
      "execution_count": 13,
      "outputs": []
    },
    {
      "cell_type": "code",
      "metadata": {
        "colab": {
          "base_uri": "https://localhost:8080/"
        },
        "id": "jKlsRdptOwp4",
        "outputId": "29b03ae2-5aba-42d1-d04b-0eb80c3c5650"
      },
      "source": [
        "type(data)"
      ],
      "execution_count": 14,
      "outputs": [
        {
          "output_type": "execute_result",
          "data": {
            "text/plain": [
              "dict"
            ]
          },
          "metadata": {
            "tags": []
          },
          "execution_count": 14
        }
      ]
    },
    {
      "cell_type": "code",
      "metadata": {
        "id": "bmNqLMTvOwp5"
      },
      "source": [
        "df = pd.DataFrame(data)"
      ],
      "execution_count": 15,
      "outputs": []
    },
    {
      "cell_type": "code",
      "metadata": {
        "colab": {
          "base_uri": "https://localhost:8080/",
          "height": 206
        },
        "id": "cQOyeNQPOwp7",
        "outputId": "77edb46c-4bc2-4f5a-a2bb-20dc7b9e7245"
      },
      "source": [
        "df"
      ],
      "execution_count": 16,
      "outputs": [
        {
          "output_type": "execute_result",
          "data": {
            "text/html": [
              "<div>\n",
              "<style scoped>\n",
              "    .dataframe tbody tr th:only-of-type {\n",
              "        vertical-align: middle;\n",
              "    }\n",
              "\n",
              "    .dataframe tbody tr th {\n",
              "        vertical-align: top;\n",
              "    }\n",
              "\n",
              "    .dataframe thead th {\n",
              "        text-align: right;\n",
              "    }\n",
              "</style>\n",
              "<table border=\"1\" class=\"dataframe\">\n",
              "  <thead>\n",
              "    <tr style=\"text-align: right;\">\n",
              "      <th></th>\n",
              "      <th>Emp No</th>\n",
              "      <th>Emp Name</th>\n",
              "      <th>Salary</th>\n",
              "    </tr>\n",
              "  </thead>\n",
              "  <tbody>\n",
              "    <tr>\n",
              "      <th>0</th>\n",
              "      <td>101</td>\n",
              "      <td>Jai</td>\n",
              "      <td>14000</td>\n",
              "    </tr>\n",
              "    <tr>\n",
              "      <th>1</th>\n",
              "      <td>102</td>\n",
              "      <td>Kannan</td>\n",
              "      <td>10000</td>\n",
              "    </tr>\n",
              "    <tr>\n",
              "      <th>2</th>\n",
              "      <td>103</td>\n",
              "      <td>Raman</td>\n",
              "      <td>7000</td>\n",
              "    </tr>\n",
              "    <tr>\n",
              "      <th>3</th>\n",
              "      <td>104</td>\n",
              "      <td>Suresh</td>\n",
              "      <td>9000</td>\n",
              "    </tr>\n",
              "    <tr>\n",
              "      <th>4</th>\n",
              "      <td>105</td>\n",
              "      <td>Sam</td>\n",
              "      <td>11000</td>\n",
              "    </tr>\n",
              "  </tbody>\n",
              "</table>\n",
              "</div>"
            ],
            "text/plain": [
              "   Emp No Emp Name  Salary\n",
              "0     101      Jai   14000\n",
              "1     102   Kannan   10000\n",
              "2     103    Raman    7000\n",
              "3     104   Suresh    9000\n",
              "4     105      Sam   11000"
            ]
          },
          "metadata": {
            "tags": []
          },
          "execution_count": 16
        }
      ]
    },
    {
      "cell_type": "markdown",
      "metadata": {
        "id": "9vDMxvMsOwp9"
      },
      "source": [
        "### 1.4.2 Using List of Dictionary\n",
        "\n",
        "> We can pass a list of dictionaries in DataFrame constructor. Each dictionary is considered as a record. Dictionary Keys become Column names in the dataframe. Dictionary values become the row values.\n",
        "        "
      ]
    },
    {
      "cell_type": "code",
      "metadata": {
        "id": "ONxSMztWOwp-"
      },
      "source": [
        "data = [{\"Emp No\":101,\"Emp Name\":\"Jai\",\"Salary\":14000},\n",
        "        {\"Emp No\":102,\"Emp Name\":\"Kannan\",\"Salary\":10000},\n",
        "        {\"Emp No\":103,\"Emp Name\":\"Raman\",\"Salary\":7000},\n",
        "        {\"Emp No\":104,\"Emp Name\":\"Suresh\",\"Salary\":9000},\n",
        "        {\"Emp No\":105,\"Emp Name\":\"Sam\",\"Salary\":11000}]"
      ],
      "execution_count": 17,
      "outputs": []
    },
    {
      "cell_type": "code",
      "metadata": {
        "colab": {
          "base_uri": "https://localhost:8080/"
        },
        "id": "UYot95RlOwqA",
        "outputId": "b5fb9cf2-b2f7-4f18-af82-6385c8be466b"
      },
      "source": [
        "type(data)"
      ],
      "execution_count": 18,
      "outputs": [
        {
          "output_type": "execute_result",
          "data": {
            "text/plain": [
              "list"
            ]
          },
          "metadata": {
            "tags": []
          },
          "execution_count": 18
        }
      ]
    },
    {
      "cell_type": "code",
      "metadata": {
        "id": "sHH5saMrOwqC"
      },
      "source": [
        "df = pd.DataFrame(data)"
      ],
      "execution_count": 19,
      "outputs": []
    },
    {
      "cell_type": "code",
      "metadata": {
        "colab": {
          "base_uri": "https://localhost:8080/",
          "height": 206
        },
        "id": "-n0CdprlOwqD",
        "outputId": "93312b74-1fb9-4a37-fbee-5bb3374794b0"
      },
      "source": [
        "df"
      ],
      "execution_count": 20,
      "outputs": [
        {
          "output_type": "execute_result",
          "data": {
            "text/html": [
              "<div>\n",
              "<style scoped>\n",
              "    .dataframe tbody tr th:only-of-type {\n",
              "        vertical-align: middle;\n",
              "    }\n",
              "\n",
              "    .dataframe tbody tr th {\n",
              "        vertical-align: top;\n",
              "    }\n",
              "\n",
              "    .dataframe thead th {\n",
              "        text-align: right;\n",
              "    }\n",
              "</style>\n",
              "<table border=\"1\" class=\"dataframe\">\n",
              "  <thead>\n",
              "    <tr style=\"text-align: right;\">\n",
              "      <th></th>\n",
              "      <th>Emp No</th>\n",
              "      <th>Emp Name</th>\n",
              "      <th>Salary</th>\n",
              "    </tr>\n",
              "  </thead>\n",
              "  <tbody>\n",
              "    <tr>\n",
              "      <th>0</th>\n",
              "      <td>101</td>\n",
              "      <td>Jai</td>\n",
              "      <td>14000</td>\n",
              "    </tr>\n",
              "    <tr>\n",
              "      <th>1</th>\n",
              "      <td>102</td>\n",
              "      <td>Kannan</td>\n",
              "      <td>10000</td>\n",
              "    </tr>\n",
              "    <tr>\n",
              "      <th>2</th>\n",
              "      <td>103</td>\n",
              "      <td>Raman</td>\n",
              "      <td>7000</td>\n",
              "    </tr>\n",
              "    <tr>\n",
              "      <th>3</th>\n",
              "      <td>104</td>\n",
              "      <td>Suresh</td>\n",
              "      <td>9000</td>\n",
              "    </tr>\n",
              "    <tr>\n",
              "      <th>4</th>\n",
              "      <td>105</td>\n",
              "      <td>Sam</td>\n",
              "      <td>11000</td>\n",
              "    </tr>\n",
              "  </tbody>\n",
              "</table>\n",
              "</div>"
            ],
            "text/plain": [
              "   Emp No Emp Name  Salary\n",
              "0     101      Jai   14000\n",
              "1     102   Kannan   10000\n",
              "2     103    Raman    7000\n",
              "3     104   Suresh    9000\n",
              "4     105      Sam   11000"
            ]
          },
          "metadata": {
            "tags": []
          },
          "execution_count": 20
        }
      ]
    },
    {
      "cell_type": "markdown",
      "metadata": {
        "id": "ORedkmUcOwqE"
      },
      "source": [
        "###  1.4.3 Using from_dict method\n",
        "\n",
        "> Using **from_dict** is similar to first method except here we can specify whether the keys value should be a column  name or row index. \n",
        "\n",
        "> By default keys are identified as column names but we can change it by using **orient** attribute if  we give **index** to orient attribute it will change orientation of dataframe and passes the keys as row index. \n",
        "\n",
        "> If we  give orient as index then we can specify column name using columns attribute where we pass column name as list.\n",
        "\n"
      ]
    },
    {
      "cell_type": "code",
      "metadata": {
        "id": "TY_SC1IZOwqF"
      },
      "source": [
        "data = {'Emp No':[101,102,103,104,105],\n",
        "        'Emp Name':['Jai','Kannan','Raman','Suresh','Sam'],\n",
        "        'Salary':[14000,10000,7000,9000,11000]}        "
      ],
      "execution_count": 21,
      "outputs": []
    },
    {
      "cell_type": "code",
      "metadata": {
        "colab": {
          "base_uri": "https://localhost:8080/"
        },
        "id": "GN9cqEczOwqG",
        "outputId": "ac3bccc3-ea8f-46ec-c2e8-d20b51cfd136"
      },
      "source": [
        "type(data)"
      ],
      "execution_count": 22,
      "outputs": [
        {
          "output_type": "execute_result",
          "data": {
            "text/plain": [
              "dict"
            ]
          },
          "metadata": {
            "tags": []
          },
          "execution_count": 22
        }
      ]
    },
    {
      "cell_type": "code",
      "metadata": {
        "id": "__5_xd8XOwqH"
      },
      "source": [
        "df = pd.DataFrame().from_dict(data,orient=\"index\",columns=['Emp1','Emp2','Emp3','Emp4','Emp5'])"
      ],
      "execution_count": 23,
      "outputs": []
    },
    {
      "cell_type": "code",
      "metadata": {
        "colab": {
          "base_uri": "https://localhost:8080/",
          "height": 143
        },
        "id": "zsE8m3dOOwqI",
        "outputId": "5bdefa76-6e57-4f44-b537-4dc9e6654da0"
      },
      "source": [
        "df"
      ],
      "execution_count": 24,
      "outputs": [
        {
          "output_type": "execute_result",
          "data": {
            "text/html": [
              "<div>\n",
              "<style scoped>\n",
              "    .dataframe tbody tr th:only-of-type {\n",
              "        vertical-align: middle;\n",
              "    }\n",
              "\n",
              "    .dataframe tbody tr th {\n",
              "        vertical-align: top;\n",
              "    }\n",
              "\n",
              "    .dataframe thead th {\n",
              "        text-align: right;\n",
              "    }\n",
              "</style>\n",
              "<table border=\"1\" class=\"dataframe\">\n",
              "  <thead>\n",
              "    <tr style=\"text-align: right;\">\n",
              "      <th></th>\n",
              "      <th>Emp1</th>\n",
              "      <th>Emp2</th>\n",
              "      <th>Emp3</th>\n",
              "      <th>Emp4</th>\n",
              "      <th>Emp5</th>\n",
              "    </tr>\n",
              "  </thead>\n",
              "  <tbody>\n",
              "    <tr>\n",
              "      <th>Emp No</th>\n",
              "      <td>101</td>\n",
              "      <td>102</td>\n",
              "      <td>103</td>\n",
              "      <td>104</td>\n",
              "      <td>105</td>\n",
              "    </tr>\n",
              "    <tr>\n",
              "      <th>Emp Name</th>\n",
              "      <td>Jai</td>\n",
              "      <td>Kannan</td>\n",
              "      <td>Raman</td>\n",
              "      <td>Suresh</td>\n",
              "      <td>Sam</td>\n",
              "    </tr>\n",
              "    <tr>\n",
              "      <th>Salary</th>\n",
              "      <td>14000</td>\n",
              "      <td>10000</td>\n",
              "      <td>7000</td>\n",
              "      <td>9000</td>\n",
              "      <td>11000</td>\n",
              "    </tr>\n",
              "  </tbody>\n",
              "</table>\n",
              "</div>"
            ],
            "text/plain": [
              "           Emp1    Emp2   Emp3    Emp4   Emp5\n",
              "Emp No      101     102    103     104    105\n",
              "Emp Name    Jai  Kannan  Raman  Suresh    Sam\n",
              "Salary    14000   10000   7000    9000  11000"
            ]
          },
          "metadata": {
            "tags": []
          },
          "execution_count": 24
        }
      ]
    },
    {
      "cell_type": "markdown",
      "metadata": {
        "id": "1O67sIexOwqK"
      },
      "source": [
        "## 1.5 Creating copy of dataframe\n",
        "\n",
        "> In some scenarios me might need to do operations in dataframe without affecting the actual dataframe. In those situations we can use copy method and create a clone of the dataframe and work on it.      "
      ]
    },
    {
      "cell_type": "code",
      "metadata": {
        "id": "SrLD4EIXOwqL"
      },
      "source": [
        "df1 = df.copy()"
      ],
      "execution_count": 25,
      "outputs": []
    },
    {
      "cell_type": "code",
      "metadata": {
        "colab": {
          "base_uri": "https://localhost:8080/",
          "height": 143
        },
        "id": "CiTgZzJ1OwqN",
        "outputId": "b5442d87-853f-4ec6-b9c0-b71b80c01396"
      },
      "source": [
        "df1"
      ],
      "execution_count": 26,
      "outputs": [
        {
          "output_type": "execute_result",
          "data": {
            "text/html": [
              "<div>\n",
              "<style scoped>\n",
              "    .dataframe tbody tr th:only-of-type {\n",
              "        vertical-align: middle;\n",
              "    }\n",
              "\n",
              "    .dataframe tbody tr th {\n",
              "        vertical-align: top;\n",
              "    }\n",
              "\n",
              "    .dataframe thead th {\n",
              "        text-align: right;\n",
              "    }\n",
              "</style>\n",
              "<table border=\"1\" class=\"dataframe\">\n",
              "  <thead>\n",
              "    <tr style=\"text-align: right;\">\n",
              "      <th></th>\n",
              "      <th>Emp1</th>\n",
              "      <th>Emp2</th>\n",
              "      <th>Emp3</th>\n",
              "      <th>Emp4</th>\n",
              "      <th>Emp5</th>\n",
              "    </tr>\n",
              "  </thead>\n",
              "  <tbody>\n",
              "    <tr>\n",
              "      <th>Emp No</th>\n",
              "      <td>101</td>\n",
              "      <td>102</td>\n",
              "      <td>103</td>\n",
              "      <td>104</td>\n",
              "      <td>105</td>\n",
              "    </tr>\n",
              "    <tr>\n",
              "      <th>Emp Name</th>\n",
              "      <td>Jai</td>\n",
              "      <td>Kannan</td>\n",
              "      <td>Raman</td>\n",
              "      <td>Suresh</td>\n",
              "      <td>Sam</td>\n",
              "    </tr>\n",
              "    <tr>\n",
              "      <th>Salary</th>\n",
              "      <td>14000</td>\n",
              "      <td>10000</td>\n",
              "      <td>7000</td>\n",
              "      <td>9000</td>\n",
              "      <td>11000</td>\n",
              "    </tr>\n",
              "  </tbody>\n",
              "</table>\n",
              "</div>"
            ],
            "text/plain": [
              "           Emp1    Emp2   Emp3    Emp4   Emp5\n",
              "Emp No      101     102    103     104    105\n",
              "Emp Name    Jai  Kannan  Raman  Suresh    Sam\n",
              "Salary    14000   10000   7000    9000  11000"
            ]
          },
          "metadata": {
            "tags": []
          },
          "execution_count": 26
        }
      ]
    },
    {
      "cell_type": "markdown",
      "metadata": {
        "id": "csN0509b3J-9"
      },
      "source": [
        "# 2. Creating DataFrame from CSV and Saving it to CSV\n",
        "\n",
        "> CSV(Comma Seperated Values) is the most commonly used format used for storing tabular data like spreadsheets and database. As name suggests in csv values are seperated or delimited by comma ( , )\n",
        "\n",
        "> Pandas Provide methods for creating dataframe from a csv file and to export/save a dataframe into a csv file.\n",
        "\n",
        "\n",
        "## 2.1 Creating DataFrame from CSV\n",
        "\n",
        "> To create dataframe from csv pandas library provides a method called read_csv. read_csv method contains many attributes some of the most commonly used attributes are.\n",
        "\n",
        "\n",
        "1.   **filepath_or_buffer** - URL/Dir location of the csv file goes here\n",
        "2.   **sep** - Delimeter of csv file. Default value is ','\n",
        "3.   **header** - Makes the passed row or rowas as column header\n",
        "4.   **index_col** - Makes passed column as index\n",
        "5.   **use_cols** - Used to retrive only specific columns\n",
        "\n"
      ]
    },
    {
      "cell_type": "code",
      "metadata": {
        "id": "EsHxNccB-oDl"
      },
      "source": [
        "df_path = 'https://raw.githubusercontent.com/naveen63hdh/Data-Analytics/main/dataset.csv'"
      ],
      "execution_count": 27,
      "outputs": []
    },
    {
      "cell_type": "code",
      "metadata": {
        "id": "c3FgAs55IZpW"
      },
      "source": [
        "one_piece_df = pd.read_csv(df_path,sep = ',', header = 'infer', index_col = 'Character', usecols = ['Character','Devil Fruit','Class','Status'])"
      ],
      "execution_count": 28,
      "outputs": []
    },
    {
      "cell_type": "code",
      "metadata": {
        "colab": {
          "base_uri": "https://localhost:8080/",
          "height": 238
        },
        "id": "uFSC81t4Icek",
        "outputId": "2b1a064f-d1e4-4beb-eb91-f661742ec20f"
      },
      "source": [
        "one_piece_df.head()"
      ],
      "execution_count": 29,
      "outputs": [
        {
          "output_type": "execute_result",
          "data": {
            "text/html": [
              "<div>\n",
              "<style scoped>\n",
              "    .dataframe tbody tr th:only-of-type {\n",
              "        vertical-align: middle;\n",
              "    }\n",
              "\n",
              "    .dataframe tbody tr th {\n",
              "        vertical-align: top;\n",
              "    }\n",
              "\n",
              "    .dataframe thead th {\n",
              "        text-align: right;\n",
              "    }\n",
              "</style>\n",
              "<table border=\"1\" class=\"dataframe\">\n",
              "  <thead>\n",
              "    <tr style=\"text-align: right;\">\n",
              "      <th></th>\n",
              "      <th>Devil Fruit</th>\n",
              "      <th>Class</th>\n",
              "      <th>Status</th>\n",
              "    </tr>\n",
              "    <tr>\n",
              "      <th>Character</th>\n",
              "      <th></th>\n",
              "      <th></th>\n",
              "      <th></th>\n",
              "    </tr>\n",
              "  </thead>\n",
              "  <tbody>\n",
              "    <tr>\n",
              "      <th>Marshall D. Teach</th>\n",
              "      <td>Gura Gura no Mi</td>\n",
              "      <td>Paramecia</td>\n",
              "      <td>Consumed</td>\n",
              "    </tr>\n",
              "    <tr>\n",
              "      <th>Marshall D. Teach</th>\n",
              "      <td>Yami Yami no Mi</td>\n",
              "      <td>Logia</td>\n",
              "      <td>Consumed</td>\n",
              "    </tr>\n",
              "    <tr>\n",
              "      <th>Absalom</th>\n",
              "      <td>Suke Suke no Mi</td>\n",
              "      <td>Paramecia</td>\n",
              "      <td>Re-Consumed</td>\n",
              "    </tr>\n",
              "    <tr>\n",
              "      <th>Alpacaman</th>\n",
              "      <td>Alpaca SMILE</td>\n",
              "      <td>SMILE</td>\n",
              "      <td>Consumed</td>\n",
              "    </tr>\n",
              "    <tr>\n",
              "      <th>Alvida</th>\n",
              "      <td>Sube Sube no Mi</td>\n",
              "      <td>Paramecia</td>\n",
              "      <td>Consumed</td>\n",
              "    </tr>\n",
              "  </tbody>\n",
              "</table>\n",
              "</div>"
            ],
            "text/plain": [
              "                       Devil Fruit      Class       Status\n",
              "Character                                                 \n",
              "Marshall D. Teach  Gura Gura no Mi  Paramecia     Consumed\n",
              "Marshall D. Teach  Yami Yami no Mi      Logia     Consumed\n",
              "Absalom            Suke Suke no Mi  Paramecia  Re-Consumed\n",
              "Alpacaman             Alpaca SMILE      SMILE     Consumed\n",
              "Alvida             Sube Sube no Mi  Paramecia     Consumed"
            ]
          },
          "metadata": {
            "tags": []
          },
          "execution_count": 29
        }
      ]
    },
    {
      "cell_type": "markdown",
      "metadata": {
        "id": "Opjy246sNvjX"
      },
      "source": [
        "## 2.2 Saving DataFrame as CSV\n",
        "> To save a dataframe as a csv file pandas provide a method called to_csv()"
      ]
    },
    {
      "cell_type": "code",
      "metadata": {
        "id": "YPcZLLNHQVsW"
      },
      "source": [
        "data = {'Emp No':[101,102,103,104,105],\n",
        "        'Emp Name':['Jai','Kannan','Raman','Suresh','Sam'],\n",
        "        'Salary':[14000,10000,7000,9000,11000]}                "
      ],
      "execution_count": 33,
      "outputs": []
    },
    {
      "cell_type": "code",
      "metadata": {
        "id": "rOokWX2lQnYD"
      },
      "source": [
        "df = pd.DataFrame(data)"
      ],
      "execution_count": 34,
      "outputs": []
    },
    {
      "cell_type": "code",
      "metadata": {
        "id": "S58PmvSXIdW2"
      },
      "source": [
        "df.to_csv('my_dataset.csv')"
      ],
      "execution_count": 35,
      "outputs": []
    },
    {
      "cell_type": "markdown",
      "metadata": {
        "id": "v1g9zRxwRGt9"
      },
      "source": [
        "# 3. Group by operations in DataFrame"
      ]
    }
  ]
}