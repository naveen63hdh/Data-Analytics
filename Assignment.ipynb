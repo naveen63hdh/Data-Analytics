{
  "nbformat": 4,
  "nbformat_minor": 0,
  "metadata": {
    "kernelspec": {
      "display_name": "Python 3",
      "language": "python",
      "name": "python3"
    },
    "language_info": {
      "codemirror_mode": {
        "name": "ipython",
        "version": 3
      },
      "file_extension": ".py",
      "mimetype": "text/x-python",
      "name": "python",
      "nbconvert_exporter": "python",
      "pygments_lexer": "ipython3",
      "version": "3.7.4"
    },
    "colab": {
      "name": "Assignment.ipynb",
      "provenance": [],
      "collapsed_sections": [],
      "include_colab_link": true
    }
  },
  "cells": [
    {
      "cell_type": "markdown",
      "metadata": {
        "id": "view-in-github",
        "colab_type": "text"
      },
      "source": [
        "<a href=\"https://colab.research.google.com/github/naveen63hdh/Data-Analytics/blob/main/Assignment.ipynb\" target=\"_parent\"><img src=\"https://colab.research.google.com/assets/colab-badge.svg\" alt=\"Open In Colab\"/></a>"
      ]
    },
    {
      "cell_type": "markdown",
      "metadata": {
        "id": "BHa8Sd55Owo0"
      },
      "source": [
        "# 1.Creating Dataframe in Python\n",
        "\n",
        "\n",
        "> In python there are more than ways to create a dataframe using pandas. We can create dataframe from lists, tuple, dictionary, numpy array, csv file and etc. We can also create an empty dataframe and add records to it.\n",
        "\n",
        "> To create a dataframe we are loading pandas library in the alias pd, and we are also loading numpy in alias np to create dataframe from numpy array.\n",
        "\n",
        "\n",
        "        \n",
        "\n",
        "\n",
        "\n"
      ]
    },
    {
      "cell_type": "code",
      "metadata": {
        "id": "Pj_eCvrvOwpL"
      },
      "source": [
        "import numpy as np\n",
        "import pandas as pd"
      ],
      "execution_count": 1,
      "outputs": []
    },
    {
      "cell_type": "markdown",
      "metadata": {
        "id": "nb4wbPxsOwpQ"
      },
      "source": [
        "## 1.1 Creating empty dataframe and adding records\n",
        "\n",
        "\n",
        "> DataFrame constructor is used to create a empty dataframe. The columns attribute is a list of strings which become columns of the dataframe. DataFrame rows are reference loc method with index value.                   \n",
        "\n"
      ]
    },
    {
      "cell_type": "code",
      "metadata": {
        "id": "wV_3nsu7OwpT"
      },
      "source": [
        "df = pd.DataFrame(columns = [\"Emp No\",\"Emp Name\",\"Salary\"])"
      ],
      "execution_count": 2,
      "outputs": []
    },
    {
      "cell_type": "code",
      "metadata": {
        "id": "QrV2mFxdOwpW"
      },
      "source": [
        "df.loc[0] = [101,\"Jai\",14000]\n",
        "df.loc[1] = [102,\"Kannan\",10000]\n",
        "df.loc[2] = [103,\"Raman\",7000]\n",
        "df.loc[3] = [104,\"Suresh\",9000]\n",
        "df.loc[4] = [105,\"Sam\",11000]"
      ],
      "execution_count": 3,
      "outputs": []
    },
    {
      "cell_type": "code",
      "metadata": {
        "colab": {
          "base_uri": "https://localhost:8080/",
          "height": 206
        },
        "id": "5lGqRs0WOwpY",
        "outputId": "7f7d133c-d961-4674-dd40-875a3a505c43"
      },
      "source": [
        "df"
      ],
      "execution_count": 4,
      "outputs": [
        {
          "output_type": "execute_result",
          "data": {
            "text/html": [
              "<div>\n",
              "<style scoped>\n",
              "    .dataframe tbody tr th:only-of-type {\n",
              "        vertical-align: middle;\n",
              "    }\n",
              "\n",
              "    .dataframe tbody tr th {\n",
              "        vertical-align: top;\n",
              "    }\n",
              "\n",
              "    .dataframe thead th {\n",
              "        text-align: right;\n",
              "    }\n",
              "</style>\n",
              "<table border=\"1\" class=\"dataframe\">\n",
              "  <thead>\n",
              "    <tr style=\"text-align: right;\">\n",
              "      <th></th>\n",
              "      <th>Emp No</th>\n",
              "      <th>Emp Name</th>\n",
              "      <th>Salary</th>\n",
              "    </tr>\n",
              "  </thead>\n",
              "  <tbody>\n",
              "    <tr>\n",
              "      <th>0</th>\n",
              "      <td>101</td>\n",
              "      <td>Jai</td>\n",
              "      <td>14000</td>\n",
              "    </tr>\n",
              "    <tr>\n",
              "      <th>1</th>\n",
              "      <td>102</td>\n",
              "      <td>Kannan</td>\n",
              "      <td>10000</td>\n",
              "    </tr>\n",
              "    <tr>\n",
              "      <th>2</th>\n",
              "      <td>103</td>\n",
              "      <td>Raman</td>\n",
              "      <td>7000</td>\n",
              "    </tr>\n",
              "    <tr>\n",
              "      <th>3</th>\n",
              "      <td>104</td>\n",
              "      <td>Suresh</td>\n",
              "      <td>9000</td>\n",
              "    </tr>\n",
              "    <tr>\n",
              "      <th>4</th>\n",
              "      <td>105</td>\n",
              "      <td>Sam</td>\n",
              "      <td>11000</td>\n",
              "    </tr>\n",
              "  </tbody>\n",
              "</table>\n",
              "</div>"
            ],
            "text/plain": [
              "  Emp No Emp Name Salary\n",
              "0    101      Jai  14000\n",
              "1    102   Kannan  10000\n",
              "2    103    Raman   7000\n",
              "3    104   Suresh   9000\n",
              "4    105      Sam  11000"
            ]
          },
          "metadata": {
            "tags": []
          },
          "execution_count": 4
        }
      ]
    },
    {
      "cell_type": "markdown",
      "metadata": {
        "id": "X6u0LhtPOwpe"
      },
      "source": [
        "## 1.2 Creating dataframe using numpy array\n",
        "\n",
        "> In DataFrame constructor we can pass numpy array. Each row in  numpy array is the corresponding row required in the dataframe.\n"
      ]
    },
    {
      "cell_type": "code",
      "metadata": {
        "id": "yf6xWtIkOwpg"
      },
      "source": [
        "data = np.array([[101,\"Jai\",14000],\n",
        "                 [102,\"Kannan\",10000],\n",
        "                 [103,\"Raman\",7000],\n",
        "                 [104,\"Suresh\",9000],\n",
        "                 [105,\"Sam\",11000]\n",
        "                ])"
      ],
      "execution_count": 5,
      "outputs": []
    },
    {
      "cell_type": "code",
      "metadata": {
        "colab": {
          "base_uri": "https://localhost:8080/"
        },
        "id": "jYKKsyA-Owpj",
        "outputId": "c7630ee6-5a34-42e4-acac-f55e57bc4988"
      },
      "source": [
        "type(data)"
      ],
      "execution_count": 6,
      "outputs": [
        {
          "output_type": "execute_result",
          "data": {
            "text/plain": [
              "numpy.ndarray"
            ]
          },
          "metadata": {
            "tags": []
          },
          "execution_count": 6
        }
      ]
    },
    {
      "cell_type": "code",
      "metadata": {
        "id": "Xr63IDGBOwpm"
      },
      "source": [
        "df = pd.DataFrame(data,columns = [\"Emp No\",\"Emp Name\",\"Salary\"])"
      ],
      "execution_count": 7,
      "outputs": []
    },
    {
      "cell_type": "code",
      "metadata": {
        "colab": {
          "base_uri": "https://localhost:8080/",
          "height": 206
        },
        "id": "b4PLAuEqOwpo",
        "outputId": "6e439897-cecd-4ebb-87de-3093944e5cec"
      },
      "source": [
        "df"
      ],
      "execution_count": 8,
      "outputs": [
        {
          "output_type": "execute_result",
          "data": {
            "text/html": [
              "<div>\n",
              "<style scoped>\n",
              "    .dataframe tbody tr th:only-of-type {\n",
              "        vertical-align: middle;\n",
              "    }\n",
              "\n",
              "    .dataframe tbody tr th {\n",
              "        vertical-align: top;\n",
              "    }\n",
              "\n",
              "    .dataframe thead th {\n",
              "        text-align: right;\n",
              "    }\n",
              "</style>\n",
              "<table border=\"1\" class=\"dataframe\">\n",
              "  <thead>\n",
              "    <tr style=\"text-align: right;\">\n",
              "      <th></th>\n",
              "      <th>Emp No</th>\n",
              "      <th>Emp Name</th>\n",
              "      <th>Salary</th>\n",
              "    </tr>\n",
              "  </thead>\n",
              "  <tbody>\n",
              "    <tr>\n",
              "      <th>0</th>\n",
              "      <td>101</td>\n",
              "      <td>Jai</td>\n",
              "      <td>14000</td>\n",
              "    </tr>\n",
              "    <tr>\n",
              "      <th>1</th>\n",
              "      <td>102</td>\n",
              "      <td>Kannan</td>\n",
              "      <td>10000</td>\n",
              "    </tr>\n",
              "    <tr>\n",
              "      <th>2</th>\n",
              "      <td>103</td>\n",
              "      <td>Raman</td>\n",
              "      <td>7000</td>\n",
              "    </tr>\n",
              "    <tr>\n",
              "      <th>3</th>\n",
              "      <td>104</td>\n",
              "      <td>Suresh</td>\n",
              "      <td>9000</td>\n",
              "    </tr>\n",
              "    <tr>\n",
              "      <th>4</th>\n",
              "      <td>105</td>\n",
              "      <td>Sam</td>\n",
              "      <td>11000</td>\n",
              "    </tr>\n",
              "  </tbody>\n",
              "</table>\n",
              "</div>"
            ],
            "text/plain": [
              "  Emp No Emp Name Salary\n",
              "0    101      Jai  14000\n",
              "1    102   Kannan  10000\n",
              "2    103    Raman   7000\n",
              "3    104   Suresh   9000\n",
              "4    105      Sam  11000"
            ]
          },
          "metadata": {
            "tags": []
          },
          "execution_count": 8
        }
      ]
    },
    {
      "cell_type": "markdown",
      "metadata": {
        "id": "CgqY-98aOwpr"
      },
      "source": [
        "## 1.3 Creating dataframe using List\n",
        "\n",
        ">  To Create a dataframe using list we have to pass the list in DataFrame constructor and we can give column names in colum attribute.\n"
      ]
    },
    {
      "cell_type": "code",
      "metadata": {
        "id": "j9X4kB8OOwpu"
      },
      "source": [
        "data = [[101,\"Jai\",14000],\n",
        "        [102,\"Kannan\",10000],\n",
        "        [103,\"Raman\",7000],\n",
        "        [104,\"Suresh\",9000],\n",
        "        [105,\"Sam\",11000]]"
      ],
      "execution_count": 9,
      "outputs": []
    },
    {
      "cell_type": "code",
      "metadata": {
        "colab": {
          "base_uri": "https://localhost:8080/"
        },
        "id": "keHrtJ60Owpw",
        "outputId": "d4e49b96-3acb-46bc-85a9-a6304389d1ef"
      },
      "source": [
        "type(data)"
      ],
      "execution_count": 10,
      "outputs": [
        {
          "output_type": "execute_result",
          "data": {
            "text/plain": [
              "list"
            ]
          },
          "metadata": {
            "tags": []
          },
          "execution_count": 10
        }
      ]
    },
    {
      "cell_type": "code",
      "metadata": {
        "id": "wOYeuT4MOwpy"
      },
      "source": [
        "df = pd.DataFrame(data,columns = [\"Emp No\",\"Emp Name\",\"Salary\"])"
      ],
      "execution_count": 11,
      "outputs": []
    },
    {
      "cell_type": "code",
      "metadata": {
        "colab": {
          "base_uri": "https://localhost:8080/",
          "height": 206
        },
        "id": "XfEB-neGOwpz",
        "outputId": "f80e3cf8-2568-48e2-9cfa-c165611bc969"
      },
      "source": [
        "df"
      ],
      "execution_count": 12,
      "outputs": [
        {
          "output_type": "execute_result",
          "data": {
            "text/html": [
              "<div>\n",
              "<style scoped>\n",
              "    .dataframe tbody tr th:only-of-type {\n",
              "        vertical-align: middle;\n",
              "    }\n",
              "\n",
              "    .dataframe tbody tr th {\n",
              "        vertical-align: top;\n",
              "    }\n",
              "\n",
              "    .dataframe thead th {\n",
              "        text-align: right;\n",
              "    }\n",
              "</style>\n",
              "<table border=\"1\" class=\"dataframe\">\n",
              "  <thead>\n",
              "    <tr style=\"text-align: right;\">\n",
              "      <th></th>\n",
              "      <th>Emp No</th>\n",
              "      <th>Emp Name</th>\n",
              "      <th>Salary</th>\n",
              "    </tr>\n",
              "  </thead>\n",
              "  <tbody>\n",
              "    <tr>\n",
              "      <th>0</th>\n",
              "      <td>101</td>\n",
              "      <td>Jai</td>\n",
              "      <td>14000</td>\n",
              "    </tr>\n",
              "    <tr>\n",
              "      <th>1</th>\n",
              "      <td>102</td>\n",
              "      <td>Kannan</td>\n",
              "      <td>10000</td>\n",
              "    </tr>\n",
              "    <tr>\n",
              "      <th>2</th>\n",
              "      <td>103</td>\n",
              "      <td>Raman</td>\n",
              "      <td>7000</td>\n",
              "    </tr>\n",
              "    <tr>\n",
              "      <th>3</th>\n",
              "      <td>104</td>\n",
              "      <td>Suresh</td>\n",
              "      <td>9000</td>\n",
              "    </tr>\n",
              "    <tr>\n",
              "      <th>4</th>\n",
              "      <td>105</td>\n",
              "      <td>Sam</td>\n",
              "      <td>11000</td>\n",
              "    </tr>\n",
              "  </tbody>\n",
              "</table>\n",
              "</div>"
            ],
            "text/plain": [
              "   Emp No Emp Name  Salary\n",
              "0     101      Jai   14000\n",
              "1     102   Kannan   10000\n",
              "2     103    Raman    7000\n",
              "3     104   Suresh    9000\n",
              "4     105      Sam   11000"
            ]
          },
          "metadata": {
            "tags": []
          },
          "execution_count": 12
        }
      ]
    },
    {
      "cell_type": "markdown",
      "metadata": {
        "id": "_L6MDM4LOwp1"
      },
      "source": [
        "## 1.4 Creating dataframe using Dictionary \n",
        "\n",
        "> There are 3 ways to create a dataframe using dictonary \n",
        "\n",
        "* [Using Dictionary in DataFrame Constructor](https://colab.research.google.com/drive/1XbRrMi3RkTKGM0l4m1qsXH5LRggqSzrj#scrollTo=BlQdFRMOOwp3)\n",
        "* [Using List of Dictionary](https://colab.research.google.com/drive/1XbRrMi3RkTKGM0l4m1qsXH5LRggqSzrj#scrollTo=_L6MDM4LOwp1&line=7&uniqifier=1)\n",
        "* [Using from_dict method](https://colab.research.google.com/drive/1XbRrMi3RkTKGM0l4m1qsXH5LRggqSzrj#scrollTo=_L6MDM4LOwp1&line=7&uniqifier=1)\n"
      ]
    },
    {
      "cell_type": "markdown",
      "metadata": {
        "id": "BlQdFRMOOwp3"
      },
      "source": [
        "### 1.4.1 Using Dictionary in DataFrame Constructor\n",
        "\n",
        "\n",
        "> If we pass dictionary in dataframe then dictionary keys become column names of dataframe and dictionary value becomes dataframe row values. Dictionary column are combined into single row according to the order of dictionary.\n",
        "\n"
      ]
    },
    {
      "cell_type": "code",
      "metadata": {
        "id": "qJjr1wrgOwp3"
      },
      "source": [
        "data = {'Emp No':[101,102,103,104,105],\n",
        "        'Emp Name':['Jai','Kannan','Raman','Suresh','Sam'],\n",
        "        'Salary':[14000,10000,7000,9000,11000]}        "
      ],
      "execution_count": 13,
      "outputs": []
    },
    {
      "cell_type": "code",
      "metadata": {
        "colab": {
          "base_uri": "https://localhost:8080/"
        },
        "id": "jKlsRdptOwp4",
        "outputId": "519700d4-4c3b-4090-d44c-3c632f420610"
      },
      "source": [
        "type(data)"
      ],
      "execution_count": 14,
      "outputs": [
        {
          "output_type": "execute_result",
          "data": {
            "text/plain": [
              "dict"
            ]
          },
          "metadata": {
            "tags": []
          },
          "execution_count": 14
        }
      ]
    },
    {
      "cell_type": "code",
      "metadata": {
        "id": "bmNqLMTvOwp5"
      },
      "source": [
        "df = pd.DataFrame(data)"
      ],
      "execution_count": 15,
      "outputs": []
    },
    {
      "cell_type": "code",
      "metadata": {
        "colab": {
          "base_uri": "https://localhost:8080/",
          "height": 206
        },
        "id": "cQOyeNQPOwp7",
        "outputId": "7bda914f-1baf-4e8e-f178-dd0b84272672"
      },
      "source": [
        "df"
      ],
      "execution_count": 16,
      "outputs": [
        {
          "output_type": "execute_result",
          "data": {
            "text/html": [
              "<div>\n",
              "<style scoped>\n",
              "    .dataframe tbody tr th:only-of-type {\n",
              "        vertical-align: middle;\n",
              "    }\n",
              "\n",
              "    .dataframe tbody tr th {\n",
              "        vertical-align: top;\n",
              "    }\n",
              "\n",
              "    .dataframe thead th {\n",
              "        text-align: right;\n",
              "    }\n",
              "</style>\n",
              "<table border=\"1\" class=\"dataframe\">\n",
              "  <thead>\n",
              "    <tr style=\"text-align: right;\">\n",
              "      <th></th>\n",
              "      <th>Emp No</th>\n",
              "      <th>Emp Name</th>\n",
              "      <th>Salary</th>\n",
              "    </tr>\n",
              "  </thead>\n",
              "  <tbody>\n",
              "    <tr>\n",
              "      <th>0</th>\n",
              "      <td>101</td>\n",
              "      <td>Jai</td>\n",
              "      <td>14000</td>\n",
              "    </tr>\n",
              "    <tr>\n",
              "      <th>1</th>\n",
              "      <td>102</td>\n",
              "      <td>Kannan</td>\n",
              "      <td>10000</td>\n",
              "    </tr>\n",
              "    <tr>\n",
              "      <th>2</th>\n",
              "      <td>103</td>\n",
              "      <td>Raman</td>\n",
              "      <td>7000</td>\n",
              "    </tr>\n",
              "    <tr>\n",
              "      <th>3</th>\n",
              "      <td>104</td>\n",
              "      <td>Suresh</td>\n",
              "      <td>9000</td>\n",
              "    </tr>\n",
              "    <tr>\n",
              "      <th>4</th>\n",
              "      <td>105</td>\n",
              "      <td>Sam</td>\n",
              "      <td>11000</td>\n",
              "    </tr>\n",
              "  </tbody>\n",
              "</table>\n",
              "</div>"
            ],
            "text/plain": [
              "   Emp No Emp Name  Salary\n",
              "0     101      Jai   14000\n",
              "1     102   Kannan   10000\n",
              "2     103    Raman    7000\n",
              "3     104   Suresh    9000\n",
              "4     105      Sam   11000"
            ]
          },
          "metadata": {
            "tags": []
          },
          "execution_count": 16
        }
      ]
    },
    {
      "cell_type": "markdown",
      "metadata": {
        "id": "9vDMxvMsOwp9"
      },
      "source": [
        "### 1.4.2 Using List of Dictionary\n",
        "\n",
        "> We can pass a list of dictionaries in DataFrame constructor. Each dictionary is considered as a record. Dictionary Keys become Column names in the dataframe. Dictionary values become the row values.\n",
        "        "
      ]
    },
    {
      "cell_type": "code",
      "metadata": {
        "id": "ONxSMztWOwp-"
      },
      "source": [
        "data = [{\"Emp No\":101,\"Emp Name\":\"Jai\",\"Salary\":14000},\n",
        "        {\"Emp No\":102,\"Emp Name\":\"Kannan\",\"Salary\":10000},\n",
        "        {\"Emp No\":103,\"Emp Name\":\"Raman\",\"Salary\":7000},\n",
        "        {\"Emp No\":104,\"Emp Name\":\"Suresh\",\"Salary\":9000},\n",
        "        {\"Emp No\":105,\"Emp Name\":\"Sam\",\"Salary\":11000}]"
      ],
      "execution_count": 17,
      "outputs": []
    },
    {
      "cell_type": "code",
      "metadata": {
        "colab": {
          "base_uri": "https://localhost:8080/"
        },
        "id": "UYot95RlOwqA",
        "outputId": "866e5abc-0415-452b-896f-359d04ef9d77"
      },
      "source": [
        "type(data)"
      ],
      "execution_count": 18,
      "outputs": [
        {
          "output_type": "execute_result",
          "data": {
            "text/plain": [
              "list"
            ]
          },
          "metadata": {
            "tags": []
          },
          "execution_count": 18
        }
      ]
    },
    {
      "cell_type": "code",
      "metadata": {
        "id": "sHH5saMrOwqC"
      },
      "source": [
        "df = pd.DataFrame(data)"
      ],
      "execution_count": 19,
      "outputs": []
    },
    {
      "cell_type": "code",
      "metadata": {
        "colab": {
          "base_uri": "https://localhost:8080/",
          "height": 206
        },
        "id": "-n0CdprlOwqD",
        "outputId": "e9c0589c-030b-496a-df0a-429cd68e5cb7"
      },
      "source": [
        "df"
      ],
      "execution_count": 20,
      "outputs": [
        {
          "output_type": "execute_result",
          "data": {
            "text/html": [
              "<div>\n",
              "<style scoped>\n",
              "    .dataframe tbody tr th:only-of-type {\n",
              "        vertical-align: middle;\n",
              "    }\n",
              "\n",
              "    .dataframe tbody tr th {\n",
              "        vertical-align: top;\n",
              "    }\n",
              "\n",
              "    .dataframe thead th {\n",
              "        text-align: right;\n",
              "    }\n",
              "</style>\n",
              "<table border=\"1\" class=\"dataframe\">\n",
              "  <thead>\n",
              "    <tr style=\"text-align: right;\">\n",
              "      <th></th>\n",
              "      <th>Emp No</th>\n",
              "      <th>Emp Name</th>\n",
              "      <th>Salary</th>\n",
              "    </tr>\n",
              "  </thead>\n",
              "  <tbody>\n",
              "    <tr>\n",
              "      <th>0</th>\n",
              "      <td>101</td>\n",
              "      <td>Jai</td>\n",
              "      <td>14000</td>\n",
              "    </tr>\n",
              "    <tr>\n",
              "      <th>1</th>\n",
              "      <td>102</td>\n",
              "      <td>Kannan</td>\n",
              "      <td>10000</td>\n",
              "    </tr>\n",
              "    <tr>\n",
              "      <th>2</th>\n",
              "      <td>103</td>\n",
              "      <td>Raman</td>\n",
              "      <td>7000</td>\n",
              "    </tr>\n",
              "    <tr>\n",
              "      <th>3</th>\n",
              "      <td>104</td>\n",
              "      <td>Suresh</td>\n",
              "      <td>9000</td>\n",
              "    </tr>\n",
              "    <tr>\n",
              "      <th>4</th>\n",
              "      <td>105</td>\n",
              "      <td>Sam</td>\n",
              "      <td>11000</td>\n",
              "    </tr>\n",
              "  </tbody>\n",
              "</table>\n",
              "</div>"
            ],
            "text/plain": [
              "   Emp No Emp Name  Salary\n",
              "0     101      Jai   14000\n",
              "1     102   Kannan   10000\n",
              "2     103    Raman    7000\n",
              "3     104   Suresh    9000\n",
              "4     105      Sam   11000"
            ]
          },
          "metadata": {
            "tags": []
          },
          "execution_count": 20
        }
      ]
    },
    {
      "cell_type": "markdown",
      "metadata": {
        "id": "ORedkmUcOwqE"
      },
      "source": [
        "###  1.4.3 Using from_dict method\n",
        "\n",
        "> Using **from_dict** is similar to first method except here we can specify whether the keys value should be a column  name or row index. \n",
        "\n",
        "> By default keys are identified as column names but we can change it by using **orient** attribute if  we give **index** to orient attribute it will change orientation of dataframe and passes the keys as row index. \n",
        "\n",
        "> If we  give orient as index then we can specify column name using columns attribute where we pass column name as list.\n",
        "\n"
      ]
    },
    {
      "cell_type": "code",
      "metadata": {
        "id": "TY_SC1IZOwqF"
      },
      "source": [
        "data = {'Emp No':[101,102,103,104,105],\n",
        "        'Emp Name':['Jai','Kannan','Raman','Suresh','Sam'],\n",
        "        'Salary':[14000,10000,7000,9000,11000]}        "
      ],
      "execution_count": 21,
      "outputs": []
    },
    {
      "cell_type": "code",
      "metadata": {
        "colab": {
          "base_uri": "https://localhost:8080/"
        },
        "id": "GN9cqEczOwqG",
        "outputId": "993f6a98-f051-47ae-bb4a-9a854e2116b1"
      },
      "source": [
        "type(data)"
      ],
      "execution_count": 22,
      "outputs": [
        {
          "output_type": "execute_result",
          "data": {
            "text/plain": [
              "dict"
            ]
          },
          "metadata": {
            "tags": []
          },
          "execution_count": 22
        }
      ]
    },
    {
      "cell_type": "code",
      "metadata": {
        "id": "__5_xd8XOwqH"
      },
      "source": [
        "df = pd.DataFrame().from_dict(data,orient=\"index\",columns=['Emp1','Emp2','Emp3','Emp4','Emp5'])"
      ],
      "execution_count": 23,
      "outputs": []
    },
    {
      "cell_type": "code",
      "metadata": {
        "colab": {
          "base_uri": "https://localhost:8080/",
          "height": 143
        },
        "id": "zsE8m3dOOwqI",
        "outputId": "dccad19b-3283-42bf-f4ae-c0a0e5e27ccb"
      },
      "source": [
        "df"
      ],
      "execution_count": 24,
      "outputs": [
        {
          "output_type": "execute_result",
          "data": {
            "text/html": [
              "<div>\n",
              "<style scoped>\n",
              "    .dataframe tbody tr th:only-of-type {\n",
              "        vertical-align: middle;\n",
              "    }\n",
              "\n",
              "    .dataframe tbody tr th {\n",
              "        vertical-align: top;\n",
              "    }\n",
              "\n",
              "    .dataframe thead th {\n",
              "        text-align: right;\n",
              "    }\n",
              "</style>\n",
              "<table border=\"1\" class=\"dataframe\">\n",
              "  <thead>\n",
              "    <tr style=\"text-align: right;\">\n",
              "      <th></th>\n",
              "      <th>Emp1</th>\n",
              "      <th>Emp2</th>\n",
              "      <th>Emp3</th>\n",
              "      <th>Emp4</th>\n",
              "      <th>Emp5</th>\n",
              "    </tr>\n",
              "  </thead>\n",
              "  <tbody>\n",
              "    <tr>\n",
              "      <th>Emp No</th>\n",
              "      <td>101</td>\n",
              "      <td>102</td>\n",
              "      <td>103</td>\n",
              "      <td>104</td>\n",
              "      <td>105</td>\n",
              "    </tr>\n",
              "    <tr>\n",
              "      <th>Emp Name</th>\n",
              "      <td>Jai</td>\n",
              "      <td>Kannan</td>\n",
              "      <td>Raman</td>\n",
              "      <td>Suresh</td>\n",
              "      <td>Sam</td>\n",
              "    </tr>\n",
              "    <tr>\n",
              "      <th>Salary</th>\n",
              "      <td>14000</td>\n",
              "      <td>10000</td>\n",
              "      <td>7000</td>\n",
              "      <td>9000</td>\n",
              "      <td>11000</td>\n",
              "    </tr>\n",
              "  </tbody>\n",
              "</table>\n",
              "</div>"
            ],
            "text/plain": [
              "           Emp1    Emp2   Emp3    Emp4   Emp5\n",
              "Emp No      101     102    103     104    105\n",
              "Emp Name    Jai  Kannan  Raman  Suresh    Sam\n",
              "Salary    14000   10000   7000    9000  11000"
            ]
          },
          "metadata": {
            "tags": []
          },
          "execution_count": 24
        }
      ]
    },
    {
      "cell_type": "markdown",
      "metadata": {
        "id": "1O67sIexOwqK"
      },
      "source": [
        "## 1.5 Creating copy of dataframe\n",
        "\n",
        "> In some scenarios me might need to do operations in dataframe without affecting the actual dataframe. In those situations we can use copy method and create a clone of the dataframe and work on it.      "
      ]
    },
    {
      "cell_type": "code",
      "metadata": {
        "id": "SrLD4EIXOwqL"
      },
      "source": [
        "df1 = df.copy()"
      ],
      "execution_count": 25,
      "outputs": []
    },
    {
      "cell_type": "code",
      "metadata": {
        "colab": {
          "base_uri": "https://localhost:8080/",
          "height": 143
        },
        "id": "CiTgZzJ1OwqN",
        "outputId": "9ab6c01b-6852-4b12-c6b5-ad53775107de"
      },
      "source": [
        "df1"
      ],
      "execution_count": 26,
      "outputs": [
        {
          "output_type": "execute_result",
          "data": {
            "text/html": [
              "<div>\n",
              "<style scoped>\n",
              "    .dataframe tbody tr th:only-of-type {\n",
              "        vertical-align: middle;\n",
              "    }\n",
              "\n",
              "    .dataframe tbody tr th {\n",
              "        vertical-align: top;\n",
              "    }\n",
              "\n",
              "    .dataframe thead th {\n",
              "        text-align: right;\n",
              "    }\n",
              "</style>\n",
              "<table border=\"1\" class=\"dataframe\">\n",
              "  <thead>\n",
              "    <tr style=\"text-align: right;\">\n",
              "      <th></th>\n",
              "      <th>Emp1</th>\n",
              "      <th>Emp2</th>\n",
              "      <th>Emp3</th>\n",
              "      <th>Emp4</th>\n",
              "      <th>Emp5</th>\n",
              "    </tr>\n",
              "  </thead>\n",
              "  <tbody>\n",
              "    <tr>\n",
              "      <th>Emp No</th>\n",
              "      <td>101</td>\n",
              "      <td>102</td>\n",
              "      <td>103</td>\n",
              "      <td>104</td>\n",
              "      <td>105</td>\n",
              "    </tr>\n",
              "    <tr>\n",
              "      <th>Emp Name</th>\n",
              "      <td>Jai</td>\n",
              "      <td>Kannan</td>\n",
              "      <td>Raman</td>\n",
              "      <td>Suresh</td>\n",
              "      <td>Sam</td>\n",
              "    </tr>\n",
              "    <tr>\n",
              "      <th>Salary</th>\n",
              "      <td>14000</td>\n",
              "      <td>10000</td>\n",
              "      <td>7000</td>\n",
              "      <td>9000</td>\n",
              "      <td>11000</td>\n",
              "    </tr>\n",
              "  </tbody>\n",
              "</table>\n",
              "</div>"
            ],
            "text/plain": [
              "           Emp1    Emp2   Emp3    Emp4   Emp5\n",
              "Emp No      101     102    103     104    105\n",
              "Emp Name    Jai  Kannan  Raman  Suresh    Sam\n",
              "Salary    14000   10000   7000    9000  11000"
            ]
          },
          "metadata": {
            "tags": []
          },
          "execution_count": 26
        }
      ]
    },
    {
      "cell_type": "markdown",
      "metadata": {
        "id": "csN0509b3J-9"
      },
      "source": [
        "---\n",
        "# 2. Creating DataFrame from CSV and Saving it to CSV\n",
        "\n",
        "> CSV(Comma Seperated Values) is the most commonly used format used for storing tabular data like spreadsheets and database. As name suggests in csv values are seperated or delimited by comma ( , )\n",
        "\n",
        "> Pandas Provide methods for creating dataframe from a csv file and to export/save a dataframe into a csv file.\n"
      ]
    },
    {
      "cell_type": "code",
      "metadata": {
        "id": "fDPb0lj5paS8"
      },
      "source": [
        "import pandas as pd"
      ],
      "execution_count": 27,
      "outputs": []
    },
    {
      "cell_type": "markdown",
      "metadata": {
        "id": "oTshUtpypZfu"
      },
      "source": [
        "## 2.1 Creating DataFrame from CSV\n",
        "\n",
        "> To create dataframe from csv pandas library provides a method called read_csv. read_csv method contains many attributes some of the most commonly used attributes are.\n",
        "\n",
        "\n",
        "1.   **filepath_or_buffer** - URL/Dir location of the csv file goes here\n",
        "2.   **sep** - Delimeter of csv file. Default value is ','\n",
        "3.   **header** - Makes the passed row or rowas as column header\n",
        "4.   **index_col** - Makes passed column as index\n",
        "5.   **use_cols** - Used to retrive only specific columns\n"
      ]
    },
    {
      "cell_type": "code",
      "metadata": {
        "id": "EsHxNccB-oDl"
      },
      "source": [
        "df_path = 'https://raw.githubusercontent.com/naveen63hdh/Data-Analytics/main/dataset.csv'"
      ],
      "execution_count": 28,
      "outputs": []
    },
    {
      "cell_type": "code",
      "metadata": {
        "id": "c3FgAs55IZpW"
      },
      "source": [
        "one_piece_df = pd.read_csv(df_path,sep = ',', header = 'infer', index_col = 'Character', usecols = ['Character','Devil Fruit','Class','Status'])"
      ],
      "execution_count": 29,
      "outputs": []
    },
    {
      "cell_type": "code",
      "metadata": {
        "colab": {
          "base_uri": "https://localhost:8080/",
          "height": 238
        },
        "id": "uFSC81t4Icek",
        "outputId": "f0b07437-760b-47b9-ab0a-03034217d018"
      },
      "source": [
        "one_piece_df.head()"
      ],
      "execution_count": 30,
      "outputs": [
        {
          "output_type": "execute_result",
          "data": {
            "text/html": [
              "<div>\n",
              "<style scoped>\n",
              "    .dataframe tbody tr th:only-of-type {\n",
              "        vertical-align: middle;\n",
              "    }\n",
              "\n",
              "    .dataframe tbody tr th {\n",
              "        vertical-align: top;\n",
              "    }\n",
              "\n",
              "    .dataframe thead th {\n",
              "        text-align: right;\n",
              "    }\n",
              "</style>\n",
              "<table border=\"1\" class=\"dataframe\">\n",
              "  <thead>\n",
              "    <tr style=\"text-align: right;\">\n",
              "      <th></th>\n",
              "      <th>Devil Fruit</th>\n",
              "      <th>Class</th>\n",
              "      <th>Status</th>\n",
              "    </tr>\n",
              "    <tr>\n",
              "      <th>Character</th>\n",
              "      <th></th>\n",
              "      <th></th>\n",
              "      <th></th>\n",
              "    </tr>\n",
              "  </thead>\n",
              "  <tbody>\n",
              "    <tr>\n",
              "      <th>Marshall D. Teach</th>\n",
              "      <td>Gura Gura no Mi</td>\n",
              "      <td>Paramecia</td>\n",
              "      <td>Consumed</td>\n",
              "    </tr>\n",
              "    <tr>\n",
              "      <th>Marshall D. Teach</th>\n",
              "      <td>Yami Yami no Mi</td>\n",
              "      <td>Logia</td>\n",
              "      <td>Consumed</td>\n",
              "    </tr>\n",
              "    <tr>\n",
              "      <th>Absalom</th>\n",
              "      <td>Suke Suke no Mi</td>\n",
              "      <td>Paramecia</td>\n",
              "      <td>Re-Consumed</td>\n",
              "    </tr>\n",
              "    <tr>\n",
              "      <th>Alpacaman</th>\n",
              "      <td>Alpaca SMILE</td>\n",
              "      <td>SMILE</td>\n",
              "      <td>Consumed</td>\n",
              "    </tr>\n",
              "    <tr>\n",
              "      <th>Alvida</th>\n",
              "      <td>Sube Sube no Mi</td>\n",
              "      <td>Paramecia</td>\n",
              "      <td>Consumed</td>\n",
              "    </tr>\n",
              "  </tbody>\n",
              "</table>\n",
              "</div>"
            ],
            "text/plain": [
              "                       Devil Fruit      Class       Status\n",
              "Character                                                 \n",
              "Marshall D. Teach  Gura Gura no Mi  Paramecia     Consumed\n",
              "Marshall D. Teach  Yami Yami no Mi      Logia     Consumed\n",
              "Absalom            Suke Suke no Mi  Paramecia  Re-Consumed\n",
              "Alpacaman             Alpaca SMILE      SMILE     Consumed\n",
              "Alvida             Sube Sube no Mi  Paramecia     Consumed"
            ]
          },
          "metadata": {
            "tags": []
          },
          "execution_count": 30
        }
      ]
    },
    {
      "cell_type": "markdown",
      "metadata": {
        "id": "Opjy246sNvjX"
      },
      "source": [
        "## 2.2 Saving DataFrame as CSV\n",
        "> To save a dataframe as a csv file pandas provide a method called to_csv()"
      ]
    },
    {
      "cell_type": "code",
      "metadata": {
        "id": "YPcZLLNHQVsW"
      },
      "source": [
        "data = {'Emp No':[101,102,103,104,105],\n",
        "        'Emp Name':['Jai','Kannan','Raman','Suresh','Sam'],\n",
        "        'Salary':[14000,10000,7000,9000,11000]}                "
      ],
      "execution_count": 31,
      "outputs": []
    },
    {
      "cell_type": "code",
      "metadata": {
        "id": "rOokWX2lQnYD"
      },
      "source": [
        "df = pd.DataFrame(data)"
      ],
      "execution_count": 32,
      "outputs": []
    },
    {
      "cell_type": "code",
      "metadata": {
        "id": "S58PmvSXIdW2"
      },
      "source": [
        "df.to_csv('my_dataset.csv')"
      ],
      "execution_count": 33,
      "outputs": []
    },
    {
      "cell_type": "markdown",
      "metadata": {
        "id": "v1g9zRxwRGt9"
      },
      "source": [
        "---\n",
        "# 3. Group by operations in DataFrame\n",
        "    \n",
        "> Pandas groupby() allows us to split our data into separate groups to perform computations for better analysis. groupby() returns the **DataFrameGroupBy** object.\n",
        "\n",
        "> Using DataFrameGroupBy object we can do some analysis like getting speicfic group's values, number of groups, size of each group and etc.\n",
        "\n",
        "> Some of the attributes and methods used to access DataFrameGroupBy are:\n",
        "\n",
        "*   **ngroups** - Attribute to get number of groups\n",
        "*   **groups** - Attribute that returns groupwise row number                \n",
        "*   **size()** - Method to display group sizes\n",
        "*   **first() and last()** - Methods to preview first and last entry of each group\n",
        "*   **get_group()** - Method to retrive a dataframe for specific group\n"
      ]
    },
    {
      "cell_type": "code",
      "metadata": {
        "id": "wjN5tCEHq-_3"
      },
      "source": [
        "import pandas as pd"
      ],
      "execution_count": 34,
      "outputs": []
    },
    {
      "cell_type": "code",
      "metadata": {
        "id": "d2k3Hbv8r3ej"
      },
      "source": [
        "df_path = 'https://raw.githubusercontent.com/naveen63hdh/Data-Analytics/main/dataset.csv'"
      ],
      "execution_count": 35,
      "outputs": []
    },
    {
      "cell_type": "code",
      "metadata": {
        "id": "i4ENiHcIr2f4"
      },
      "source": [
        "op_df = pd.read_csv(df_path)"
      ],
      "execution_count": 36,
      "outputs": []
    },
    {
      "cell_type": "code",
      "metadata": {
        "id": "luzkfJjJr11-"
      },
      "source": [
        "devil_fruits = op_df.groupby('Class')"
      ],
      "execution_count": 37,
      "outputs": []
    },
    {
      "cell_type": "markdown",
      "metadata": {
        "id": "Wfb67k5sxhGg"
      },
      "source": [
        "### 3.1 ngroups - Attribute to get number of **groups**"
      ]
    },
    {
      "cell_type": "code",
      "metadata": {
        "colab": {
          "base_uri": "https://localhost:8080/"
        },
        "id": "Gs4kA34ox4JI",
        "outputId": "9a6b3524-4833-47fe-e1e9-f30f58be3854"
      },
      "source": [
        "devil_fruits.ngroups"
      ],
      "execution_count": 38,
      "outputs": [
        {
          "output_type": "execute_result",
          "data": {
            "text/plain": [
              "6"
            ]
          },
          "metadata": {
            "tags": []
          },
          "execution_count": 38
        }
      ]
    },
    {
      "cell_type": "markdown",
      "metadata": {
        "id": "UVoHifAMyG7X"
      },
      "source": [
        "### 3.2 groups - Attribute that returns groupwise row number                "
      ]
    },
    {
      "cell_type": "code",
      "metadata": {
        "colab": {
          "base_uri": "https://localhost:8080/"
        },
        "id": "rCaSvYM2sW1Y",
        "outputId": "4552d7a1-095e-4dfb-9155-01b267b11178"
      },
      "source": [
        "devil_fruits.groups"
      ],
      "execution_count": 39,
      "outputs": [
        {
          "output_type": "execute_result",
          "data": {
            "text/plain": [
              "{'(undetermined)': [96, 105, 163], 'Failed SMILE': [78, 98, 141, 150, 164], 'Logia': [1, 22, 28, 30, 50, 63, 104, 120, 135, 139, 140, 155], 'Paramecia': [0, 2, 4, 5, 7, 8, 9, 10, 13, 14, 15, 17, 18, 19, 23, 24, 25, 29, 31, 34, 35, 36, 37, 38, 39, 40, 41, 42, 43, 44, 45, 46, 54, 55, 57, 58, 60, 62, 65, 66, 68, 70, 71, 73, 75, 79, 85, 86, 89, 90, 94, 95, 97, 99, 102, 107, 109, 111, 112, 114, 121, 123, 126, 132, 133, 142, 143, 146, 147, 149, 151, 152, 153, 160, 161, 162, 166, 167, 168, 169, 170, 171, 172, 173, 178], 'SMILE': [3, 6, 11, 12, 26, 47, 48, 49, 51, 56, 61, 69, 72, 74, 76, 77, 80, 81, 82, 83, 84, 101, 108, 110, 124, 125, 129, 137, 144, 148, 156, 157, 158, 159, 174, 175, 176], 'Zoan': [16, 20, 21, 27, 32, 33, 52, 53, 59, 64, 67, 87, 88, 91, 92, 93, 100, 103, 106, 113, 115, 116, 117, 118, 119, 122, 127, 128, 130, 131, 134, 136, 138, 145, 154, 165, 177]}"
            ]
          },
          "metadata": {
            "tags": []
          },
          "execution_count": 39
        }
      ]
    },
    {
      "cell_type": "markdown",
      "metadata": {
        "id": "yLXs_2B-ym3x"
      },
      "source": [
        "### 3.3 size() - Method to display group sizes"
      ]
    },
    {
      "cell_type": "code",
      "metadata": {
        "colab": {
          "base_uri": "https://localhost:8080/"
        },
        "id": "PZy3cUFhyuAP",
        "outputId": "9b28c094-40a1-4ed2-dce5-5842a3c5e13b"
      },
      "source": [
        "devil_fruits.size()"
      ],
      "execution_count": 40,
      "outputs": [
        {
          "output_type": "execute_result",
          "data": {
            "text/plain": [
              "Class\n",
              "(undetermined)     3\n",
              "Failed SMILE       5\n",
              "Logia             12\n",
              "Paramecia         85\n",
              "SMILE             37\n",
              "Zoan              37\n",
              "dtype: int64"
            ]
          },
          "metadata": {
            "tags": []
          },
          "execution_count": 40
        }
      ]
    },
    {
      "cell_type": "markdown",
      "metadata": {
        "id": "rkpuA0mNy9HV"
      },
      "source": [
        "### 3.4 first() and last() - Methods to preview first and last entry of each group"
      ]
    },
    {
      "cell_type": "code",
      "metadata": {
        "colab": {
          "base_uri": "https://localhost:8080/",
          "height": 269
        },
        "id": "Vfku0MnWzRuI",
        "outputId": "e35e5cff-8b94-4228-bd71-c5f541e80165"
      },
      "source": [
        "devil_fruits.first()"
      ],
      "execution_count": 41,
      "outputs": [
        {
          "output_type": "execute_result",
          "data": {
            "text/html": [
              "<div>\n",
              "<style scoped>\n",
              "    .dataframe tbody tr th:only-of-type {\n",
              "        vertical-align: middle;\n",
              "    }\n",
              "\n",
              "    .dataframe tbody tr th {\n",
              "        vertical-align: top;\n",
              "    }\n",
              "\n",
              "    .dataframe thead th {\n",
              "        text-align: right;\n",
              "    }\n",
              "</style>\n",
              "<table border=\"1\" class=\"dataframe\">\n",
              "  <thead>\n",
              "    <tr style=\"text-align: right;\">\n",
              "      <th></th>\n",
              "      <th>Character</th>\n",
              "      <th>Devil Fruit</th>\n",
              "      <th>Subclass</th>\n",
              "      <th>Awakened</th>\n",
              "      <th>Status</th>\n",
              "    </tr>\n",
              "    <tr>\n",
              "      <th>Class</th>\n",
              "      <th></th>\n",
              "      <th></th>\n",
              "      <th></th>\n",
              "      <th></th>\n",
              "      <th></th>\n",
              "    </tr>\n",
              "  </thead>\n",
              "  <tbody>\n",
              "    <tr>\n",
              "      <th>(undetermined)</th>\n",
              "      <td>Karasu</td>\n",
              "      <td>(unnamed)</td>\n",
              "      <td>(undetermined)</td>\n",
              "      <td>No</td>\n",
              "      <td>Consumed</td>\n",
              "    </tr>\n",
              "    <tr>\n",
              "      <th>Failed SMILE</th>\n",
              "      <td>Han</td>\n",
              "      <td>(unnamed)</td>\n",
              "      <td>Failed Artificial Zoan</td>\n",
              "      <td>No</td>\n",
              "      <td>Consumed</td>\n",
              "    </tr>\n",
              "    <tr>\n",
              "      <th>Logia</th>\n",
              "      <td>Marshall D. Teach</td>\n",
              "      <td>Yami Yami no Mi</td>\n",
              "      <td>Regular Logia</td>\n",
              "      <td>No</td>\n",
              "      <td>Consumed</td>\n",
              "    </tr>\n",
              "    <tr>\n",
              "      <th>Paramecia</th>\n",
              "      <td>Marshall D. Teach</td>\n",
              "      <td>Gura Gura no Mi</td>\n",
              "      <td>Regular Paramecia</td>\n",
              "      <td>No</td>\n",
              "      <td>Consumed</td>\n",
              "    </tr>\n",
              "    <tr>\n",
              "      <th>SMILE</th>\n",
              "      <td>Alpacaman</td>\n",
              "      <td>Alpaca SMILE</td>\n",
              "      <td>Artificial Zoan</td>\n",
              "      <td>No</td>\n",
              "      <td>Consumed</td>\n",
              "    </tr>\n",
              "    <tr>\n",
              "      <th>Zoan</th>\n",
              "      <td>Bian</td>\n",
              "      <td>Mushi Mushi no Mi, Model: Suzumebachi</td>\n",
              "      <td>Regular Zoan</td>\n",
              "      <td>No</td>\n",
              "      <td>Consumed</td>\n",
              "    </tr>\n",
              "  </tbody>\n",
              "</table>\n",
              "</div>"
            ],
            "text/plain": [
              "                        Character  ...    Status\n",
              "Class                              ...          \n",
              "(undetermined)             Karasu  ...  Consumed\n",
              "Failed SMILE                  Han  ...  Consumed\n",
              "Logia           Marshall D. Teach  ...  Consumed\n",
              "Paramecia       Marshall D. Teach  ...  Consumed\n",
              "SMILE                   Alpacaman  ...  Consumed\n",
              "Zoan                         Bian  ...  Consumed\n",
              "\n",
              "[6 rows x 5 columns]"
            ]
          },
          "metadata": {
            "tags": []
          },
          "execution_count": 41
        }
      ]
    },
    {
      "cell_type": "code",
      "metadata": {
        "colab": {
          "base_uri": "https://localhost:8080/",
          "height": 269
        },
        "id": "hqMFRJX_zYPI",
        "outputId": "aba36fde-a7ee-4c92-cd47-46b9beb5a486"
      },
      "source": [
        "devil_fruits.last()"
      ],
      "execution_count": 42,
      "outputs": [
        {
          "output_type": "execute_result",
          "data": {
            "text/html": [
              "<div>\n",
              "<style scoped>\n",
              "    .dataframe tbody tr th:only-of-type {\n",
              "        vertical-align: middle;\n",
              "    }\n",
              "\n",
              "    .dataframe tbody tr th {\n",
              "        vertical-align: top;\n",
              "    }\n",
              "\n",
              "    .dataframe thead th {\n",
              "        text-align: right;\n",
              "    }\n",
              "</style>\n",
              "<table border=\"1\" class=\"dataframe\">\n",
              "  <thead>\n",
              "    <tr style=\"text-align: right;\">\n",
              "      <th></th>\n",
              "      <th>Character</th>\n",
              "      <th>Devil Fruit</th>\n",
              "      <th>Subclass</th>\n",
              "      <th>Awakened</th>\n",
              "      <th>Status</th>\n",
              "    </tr>\n",
              "    <tr>\n",
              "      <th>Class</th>\n",
              "      <th></th>\n",
              "      <th></th>\n",
              "      <th></th>\n",
              "      <th></th>\n",
              "      <th></th>\n",
              "    </tr>\n",
              "  </thead>\n",
              "  <tbody>\n",
              "    <tr>\n",
              "      <th>(undetermined)</th>\n",
              "      <td>Tamago</td>\n",
              "      <td>Tama Tama no Mi</td>\n",
              "      <td>(undetermined)</td>\n",
              "      <td>No</td>\n",
              "      <td>Consumed</td>\n",
              "    </tr>\n",
              "    <tr>\n",
              "      <th>Failed SMILE</th>\n",
              "      <td>Toko</td>\n",
              "      <td>(unnamed)</td>\n",
              "      <td>Failed Artificial Zoan</td>\n",
              "      <td>No</td>\n",
              "      <td>Consumed</td>\n",
              "    </tr>\n",
              "    <tr>\n",
              "      <th>Logia</th>\n",
              "      <td>Smoker</td>\n",
              "      <td>Moku Moku no Mi</td>\n",
              "      <td>Regular Logia</td>\n",
              "      <td>No</td>\n",
              "      <td>Consumed</td>\n",
              "    </tr>\n",
              "    <tr>\n",
              "      <th>Paramecia</th>\n",
              "      <td>Zala</td>\n",
              "      <td>Toge Toge no Mi</td>\n",
              "      <td>Regular Paramecia</td>\n",
              "      <td>No</td>\n",
              "      <td>Consumed</td>\n",
              "    </tr>\n",
              "    <tr>\n",
              "      <th>SMILE</th>\n",
              "      <td>Wolf gifter (chapter 943) #2</td>\n",
              "      <td>Wolf SMILE</td>\n",
              "      <td>Artificial Zoan</td>\n",
              "      <td>No</td>\n",
              "      <td>Consumed</td>\n",
              "    </tr>\n",
              "    <tr>\n",
              "      <th>Zoan</th>\n",
              "      <td>X Drake</td>\n",
              "      <td>Ryu Ryu no Mi, Model: Allosaurus</td>\n",
              "      <td>Ancient Zoan</td>\n",
              "      <td>No</td>\n",
              "      <td>Consumed</td>\n",
              "    </tr>\n",
              "  </tbody>\n",
              "</table>\n",
              "</div>"
            ],
            "text/plain": [
              "                                   Character  ...    Status\n",
              "Class                                         ...          \n",
              "(undetermined)                        Tamago  ...  Consumed\n",
              "Failed SMILE                            Toko  ...  Consumed\n",
              "Logia                                 Smoker  ...  Consumed\n",
              "Paramecia                               Zala  ...  Consumed\n",
              "SMILE           Wolf gifter (chapter 943) #2  ...  Consumed\n",
              "Zoan                                 X Drake  ...  Consumed\n",
              "\n",
              "[6 rows x 5 columns]"
            ]
          },
          "metadata": {
            "tags": []
          },
          "execution_count": 42
        }
      ]
    },
    {
      "cell_type": "markdown",
      "metadata": {
        "id": "EUeX2ABVzcKW"
      },
      "source": [
        "### 3.5 get_group() - Method to retrive a dataframe for specific group"
      ]
    },
    {
      "cell_type": "code",
      "metadata": {
        "colab": {
          "base_uri": "https://localhost:8080/",
          "height": 426
        },
        "id": "jLYhI_b7zlvR",
        "outputId": "728d68b4-ad67-4d5c-e1b3-44348642e354"
      },
      "source": [
        "devil_fruits.get_group('Logia')"
      ],
      "execution_count": 43,
      "outputs": [
        {
          "output_type": "execute_result",
          "data": {
            "text/html": [
              "<div>\n",
              "<style scoped>\n",
              "    .dataframe tbody tr th:only-of-type {\n",
              "        vertical-align: middle;\n",
              "    }\n",
              "\n",
              "    .dataframe tbody tr th {\n",
              "        vertical-align: top;\n",
              "    }\n",
              "\n",
              "    .dataframe thead th {\n",
              "        text-align: right;\n",
              "    }\n",
              "</style>\n",
              "<table border=\"1\" class=\"dataframe\">\n",
              "  <thead>\n",
              "    <tr style=\"text-align: right;\">\n",
              "      <th></th>\n",
              "      <th>Character</th>\n",
              "      <th>Devil Fruit</th>\n",
              "      <th>Subclass</th>\n",
              "      <th>Awakened</th>\n",
              "      <th>Status</th>\n",
              "    </tr>\n",
              "  </thead>\n",
              "  <tbody>\n",
              "    <tr>\n",
              "      <th>1</th>\n",
              "      <td>Marshall D. Teach</td>\n",
              "      <td>Yami Yami no Mi</td>\n",
              "      <td>Regular Logia</td>\n",
              "      <td>No</td>\n",
              "      <td>Consumed</td>\n",
              "    </tr>\n",
              "    <tr>\n",
              "      <th>22</th>\n",
              "      <td>Borsalino</td>\n",
              "      <td>Pika Pika no Mi</td>\n",
              "      <td>Regular Logia</td>\n",
              "      <td>No</td>\n",
              "      <td>Consumed</td>\n",
              "    </tr>\n",
              "    <tr>\n",
              "      <th>28</th>\n",
              "      <td>Caesar Clown</td>\n",
              "      <td>Gasu Gasu no Mi</td>\n",
              "      <td>Regular Logia</td>\n",
              "      <td>No</td>\n",
              "      <td>Consumed</td>\n",
              "    </tr>\n",
              "    <tr>\n",
              "      <th>30</th>\n",
              "      <td>Caribou</td>\n",
              "      <td>Numa Numa no Mi</td>\n",
              "      <td>Regular Logia</td>\n",
              "      <td>No</td>\n",
              "      <td>Consumed</td>\n",
              "    </tr>\n",
              "    <tr>\n",
              "      <th>50</th>\n",
              "      <td>Crocodile</td>\n",
              "      <td>Suna Suna no Mi</td>\n",
              "      <td>Regular Logia</td>\n",
              "      <td>No</td>\n",
              "      <td>Consumed</td>\n",
              "    </tr>\n",
              "    <tr>\n",
              "      <th>63</th>\n",
              "      <td>Enel</td>\n",
              "      <td>Goro Goro no Mi</td>\n",
              "      <td>Regular Logia</td>\n",
              "      <td>No</td>\n",
              "      <td>Consumed</td>\n",
              "    </tr>\n",
              "    <tr>\n",
              "      <th>104</th>\n",
              "      <td>Kuzan</td>\n",
              "      <td>Hie Hie no Mi</td>\n",
              "      <td>Regular Logia</td>\n",
              "      <td>No</td>\n",
              "      <td>Consumed</td>\n",
              "    </tr>\n",
              "    <tr>\n",
              "      <th>120</th>\n",
              "      <td>Monet</td>\n",
              "      <td>Yuki Yuki no Mi</td>\n",
              "      <td>Regular Logia</td>\n",
              "      <td>No</td>\n",
              "      <td>Free</td>\n",
              "    </tr>\n",
              "    <tr>\n",
              "      <th>135</th>\n",
              "      <td>Portgas D. Ace</td>\n",
              "      <td>Mera Mera no Mi</td>\n",
              "      <td>Regular Logia</td>\n",
              "      <td>No</td>\n",
              "      <td>Re-Consumed</td>\n",
              "    </tr>\n",
              "    <tr>\n",
              "      <th>139</th>\n",
              "      <td>Sabo</td>\n",
              "      <td>Mera Mera no Mi</td>\n",
              "      <td>Regular Logia</td>\n",
              "      <td>No</td>\n",
              "      <td>Consumed</td>\n",
              "    </tr>\n",
              "    <tr>\n",
              "      <th>140</th>\n",
              "      <td>Sakazuki</td>\n",
              "      <td>Magu Magu no Mi</td>\n",
              "      <td>Regular Logia</td>\n",
              "      <td>No</td>\n",
              "      <td>Consumed</td>\n",
              "    </tr>\n",
              "    <tr>\n",
              "      <th>155</th>\n",
              "      <td>Smoker</td>\n",
              "      <td>Moku Moku no Mi</td>\n",
              "      <td>Regular Logia</td>\n",
              "      <td>No</td>\n",
              "      <td>Consumed</td>\n",
              "    </tr>\n",
              "  </tbody>\n",
              "</table>\n",
              "</div>"
            ],
            "text/plain": [
              "             Character      Devil Fruit       Subclass Awakened       Status\n",
              "1    Marshall D. Teach  Yami Yami no Mi  Regular Logia       No     Consumed\n",
              "22           Borsalino  Pika Pika no Mi  Regular Logia       No     Consumed\n",
              "28        Caesar Clown  Gasu Gasu no Mi  Regular Logia       No     Consumed\n",
              "30             Caribou  Numa Numa no Mi  Regular Logia       No     Consumed\n",
              "50           Crocodile  Suna Suna no Mi  Regular Logia       No     Consumed\n",
              "63                Enel  Goro Goro no Mi  Regular Logia       No     Consumed\n",
              "104              Kuzan    Hie Hie no Mi  Regular Logia       No     Consumed\n",
              "120              Monet  Yuki Yuki no Mi  Regular Logia       No         Free\n",
              "135     Portgas D. Ace  Mera Mera no Mi  Regular Logia       No  Re-Consumed\n",
              "139               Sabo  Mera Mera no Mi  Regular Logia       No     Consumed\n",
              "140           Sakazuki  Magu Magu no Mi  Regular Logia       No     Consumed\n",
              "155             Smoker  Moku Moku no Mi  Regular Logia       No     Consumed"
            ]
          },
          "metadata": {
            "tags": []
          },
          "execution_count": 43
        }
      ]
    },
    {
      "cell_type": "markdown",
      "metadata": {
        "id": "tD0o7epi6Vob"
      },
      "source": [
        "---\n",
        "# 4. Combining and Merging in DataFrame\n",
        "\n",
        "> Pandas Support both Horizontal and vertical combination of dataframes. **Horizontal combination** means combining dataframes in column level **merge()** and **join()** are the methods provided by pandas for horizontal combination.And **Vertical combination** means combining dataframes in row leve **concat()** and **append()** are the methods used for vertical combination.\n"
      ]
    },
    {
      "cell_type": "code",
      "metadata": {
        "id": "tg71Y9HX_-kb"
      },
      "source": [
        "import pandas as pd"
      ],
      "execution_count": 44,
      "outputs": []
    },
    {
      "cell_type": "markdown",
      "metadata": {
        "id": "cJW0zZ5lADzK"
      },
      "source": [
        "## 4.1 merge() - Combining data on common columns or indices.\n",
        "\n",
        "\n",
        "> Merging two dataset can be done in two ways\n",
        "\n",
        "*   Merging dataframe with common column name\n",
        "*   Merging dataframe with different column name\n",
        "\n",
        "> Using how attribute in merge() each type can do 4 merge different operations \n",
        "\n",
        "*   Inner/Equi Join\n",
        "*   Left Join\n",
        "*   Right Join\n",
        "*   Outer Join\n"
      ]
    },
    {
      "cell_type": "markdown",
      "metadata": {
        "id": "WCHwxSDADoZi"
      },
      "source": [
        "### 4.1.1Merging dataframe with common column name"
      ]
    },
    {
      "cell_type": "code",
      "metadata": {
        "id": "2RUNR_CwACu5"
      },
      "source": [
        "data1 = {'Emp No':[101,102,103,104,105],\n",
        "        'Emp Name':['Jai','Kannan','Raman','Suresh','Sam'],\n",
        "        'Salary':[14000,10000,7000,9000,11000]}                \n",
        "\n",
        "data2 = {'Emp No':[101,102,104,105,106,107],\n",
        "        'Team id':[201,203,201,202,202,204],\n",
        "        'Team Leader':['Vivek','Gaurav','Vivek','Vishwa','Vishwa','Guru']}"
      ],
      "execution_count": 45,
      "outputs": []
    },
    {
      "cell_type": "code",
      "metadata": {
        "id": "sJWmcr76Dqo_"
      },
      "source": [
        "df1 = pd.DataFrame(data1)\n",
        "df2 = pd.DataFrame(data2)"
      ],
      "execution_count": 46,
      "outputs": []
    },
    {
      "cell_type": "code",
      "metadata": {
        "colab": {
          "base_uri": "https://localhost:8080/",
          "height": 206
        },
        "id": "ZC-pGK8jD7Tz",
        "outputId": "e58217c4-5fb5-4845-de11-ca143cf852f0"
      },
      "source": [
        "df1"
      ],
      "execution_count": 47,
      "outputs": [
        {
          "output_type": "execute_result",
          "data": {
            "text/html": [
              "<div>\n",
              "<style scoped>\n",
              "    .dataframe tbody tr th:only-of-type {\n",
              "        vertical-align: middle;\n",
              "    }\n",
              "\n",
              "    .dataframe tbody tr th {\n",
              "        vertical-align: top;\n",
              "    }\n",
              "\n",
              "    .dataframe thead th {\n",
              "        text-align: right;\n",
              "    }\n",
              "</style>\n",
              "<table border=\"1\" class=\"dataframe\">\n",
              "  <thead>\n",
              "    <tr style=\"text-align: right;\">\n",
              "      <th></th>\n",
              "      <th>Emp No</th>\n",
              "      <th>Emp Name</th>\n",
              "      <th>Salary</th>\n",
              "    </tr>\n",
              "  </thead>\n",
              "  <tbody>\n",
              "    <tr>\n",
              "      <th>0</th>\n",
              "      <td>101</td>\n",
              "      <td>Jai</td>\n",
              "      <td>14000</td>\n",
              "    </tr>\n",
              "    <tr>\n",
              "      <th>1</th>\n",
              "      <td>102</td>\n",
              "      <td>Kannan</td>\n",
              "      <td>10000</td>\n",
              "    </tr>\n",
              "    <tr>\n",
              "      <th>2</th>\n",
              "      <td>103</td>\n",
              "      <td>Raman</td>\n",
              "      <td>7000</td>\n",
              "    </tr>\n",
              "    <tr>\n",
              "      <th>3</th>\n",
              "      <td>104</td>\n",
              "      <td>Suresh</td>\n",
              "      <td>9000</td>\n",
              "    </tr>\n",
              "    <tr>\n",
              "      <th>4</th>\n",
              "      <td>105</td>\n",
              "      <td>Sam</td>\n",
              "      <td>11000</td>\n",
              "    </tr>\n",
              "  </tbody>\n",
              "</table>\n",
              "</div>"
            ],
            "text/plain": [
              "   Emp No Emp Name  Salary\n",
              "0     101      Jai   14000\n",
              "1     102   Kannan   10000\n",
              "2     103    Raman    7000\n",
              "3     104   Suresh    9000\n",
              "4     105      Sam   11000"
            ]
          },
          "metadata": {
            "tags": []
          },
          "execution_count": 47
        }
      ]
    },
    {
      "cell_type": "code",
      "metadata": {
        "colab": {
          "base_uri": "https://localhost:8080/",
          "height": 238
        },
        "id": "MDoyOhLLD-wO",
        "outputId": "2b8d6ea4-2fe1-4601-affe-44ea1909f04b"
      },
      "source": [
        "df2"
      ],
      "execution_count": 48,
      "outputs": [
        {
          "output_type": "execute_result",
          "data": {
            "text/html": [
              "<div>\n",
              "<style scoped>\n",
              "    .dataframe tbody tr th:only-of-type {\n",
              "        vertical-align: middle;\n",
              "    }\n",
              "\n",
              "    .dataframe tbody tr th {\n",
              "        vertical-align: top;\n",
              "    }\n",
              "\n",
              "    .dataframe thead th {\n",
              "        text-align: right;\n",
              "    }\n",
              "</style>\n",
              "<table border=\"1\" class=\"dataframe\">\n",
              "  <thead>\n",
              "    <tr style=\"text-align: right;\">\n",
              "      <th></th>\n",
              "      <th>Emp No</th>\n",
              "      <th>Team id</th>\n",
              "      <th>Team Leader</th>\n",
              "    </tr>\n",
              "  </thead>\n",
              "  <tbody>\n",
              "    <tr>\n",
              "      <th>0</th>\n",
              "      <td>101</td>\n",
              "      <td>201</td>\n",
              "      <td>Vivek</td>\n",
              "    </tr>\n",
              "    <tr>\n",
              "      <th>1</th>\n",
              "      <td>102</td>\n",
              "      <td>203</td>\n",
              "      <td>Gaurav</td>\n",
              "    </tr>\n",
              "    <tr>\n",
              "      <th>2</th>\n",
              "      <td>104</td>\n",
              "      <td>201</td>\n",
              "      <td>Vivek</td>\n",
              "    </tr>\n",
              "    <tr>\n",
              "      <th>3</th>\n",
              "      <td>105</td>\n",
              "      <td>202</td>\n",
              "      <td>Vishwa</td>\n",
              "    </tr>\n",
              "    <tr>\n",
              "      <th>4</th>\n",
              "      <td>106</td>\n",
              "      <td>202</td>\n",
              "      <td>Vishwa</td>\n",
              "    </tr>\n",
              "    <tr>\n",
              "      <th>5</th>\n",
              "      <td>107</td>\n",
              "      <td>204</td>\n",
              "      <td>Guru</td>\n",
              "    </tr>\n",
              "  </tbody>\n",
              "</table>\n",
              "</div>"
            ],
            "text/plain": [
              "   Emp No  Team id Team Leader\n",
              "0     101      201       Vivek\n",
              "1     102      203      Gaurav\n",
              "2     104      201       Vivek\n",
              "3     105      202      Vishwa\n",
              "4     106      202      Vishwa\n",
              "5     107      204        Guru"
            ]
          },
          "metadata": {
            "tags": []
          },
          "execution_count": 48
        }
      ]
    },
    {
      "cell_type": "markdown",
      "metadata": {
        "id": "MGOp76anEkC_"
      },
      "source": [
        "### Inner/Equi Join"
      ]
    },
    {
      "cell_type": "code",
      "metadata": {
        "colab": {
          "base_uri": "https://localhost:8080/",
          "height": 175
        },
        "id": "qkmTva2DEUj7",
        "outputId": "e87b5d8c-809d-4825-b68b-e8ccdcb20673"
      },
      "source": [
        "pd.merge(df1,df2)"
      ],
      "execution_count": 49,
      "outputs": [
        {
          "output_type": "execute_result",
          "data": {
            "text/html": [
              "<div>\n",
              "<style scoped>\n",
              "    .dataframe tbody tr th:only-of-type {\n",
              "        vertical-align: middle;\n",
              "    }\n",
              "\n",
              "    .dataframe tbody tr th {\n",
              "        vertical-align: top;\n",
              "    }\n",
              "\n",
              "    .dataframe thead th {\n",
              "        text-align: right;\n",
              "    }\n",
              "</style>\n",
              "<table border=\"1\" class=\"dataframe\">\n",
              "  <thead>\n",
              "    <tr style=\"text-align: right;\">\n",
              "      <th></th>\n",
              "      <th>Emp No</th>\n",
              "      <th>Emp Name</th>\n",
              "      <th>Salary</th>\n",
              "      <th>Team id</th>\n",
              "      <th>Team Leader</th>\n",
              "    </tr>\n",
              "  </thead>\n",
              "  <tbody>\n",
              "    <tr>\n",
              "      <th>0</th>\n",
              "      <td>101</td>\n",
              "      <td>Jai</td>\n",
              "      <td>14000</td>\n",
              "      <td>201</td>\n",
              "      <td>Vivek</td>\n",
              "    </tr>\n",
              "    <tr>\n",
              "      <th>1</th>\n",
              "      <td>102</td>\n",
              "      <td>Kannan</td>\n",
              "      <td>10000</td>\n",
              "      <td>203</td>\n",
              "      <td>Gaurav</td>\n",
              "    </tr>\n",
              "    <tr>\n",
              "      <th>2</th>\n",
              "      <td>104</td>\n",
              "      <td>Suresh</td>\n",
              "      <td>9000</td>\n",
              "      <td>201</td>\n",
              "      <td>Vivek</td>\n",
              "    </tr>\n",
              "    <tr>\n",
              "      <th>3</th>\n",
              "      <td>105</td>\n",
              "      <td>Sam</td>\n",
              "      <td>11000</td>\n",
              "      <td>202</td>\n",
              "      <td>Vishwa</td>\n",
              "    </tr>\n",
              "  </tbody>\n",
              "</table>\n",
              "</div>"
            ],
            "text/plain": [
              "   Emp No Emp Name  Salary  Team id Team Leader\n",
              "0     101      Jai   14000      201       Vivek\n",
              "1     102   Kannan   10000      203      Gaurav\n",
              "2     104   Suresh    9000      201       Vivek\n",
              "3     105      Sam   11000      202      Vishwa"
            ]
          },
          "metadata": {
            "tags": []
          },
          "execution_count": 49
        }
      ]
    },
    {
      "cell_type": "code",
      "metadata": {
        "colab": {
          "base_uri": "https://localhost:8080/",
          "height": 175
        },
        "id": "ERfzcA1xEzDX",
        "outputId": "6cd1d223-7e56-44a2-a0a9-adfb305f2dae"
      },
      "source": [
        "pd.merge(df1,df2,how='inner')"
      ],
      "execution_count": 50,
      "outputs": [
        {
          "output_type": "execute_result",
          "data": {
            "text/html": [
              "<div>\n",
              "<style scoped>\n",
              "    .dataframe tbody tr th:only-of-type {\n",
              "        vertical-align: middle;\n",
              "    }\n",
              "\n",
              "    .dataframe tbody tr th {\n",
              "        vertical-align: top;\n",
              "    }\n",
              "\n",
              "    .dataframe thead th {\n",
              "        text-align: right;\n",
              "    }\n",
              "</style>\n",
              "<table border=\"1\" class=\"dataframe\">\n",
              "  <thead>\n",
              "    <tr style=\"text-align: right;\">\n",
              "      <th></th>\n",
              "      <th>Emp No</th>\n",
              "      <th>Emp Name</th>\n",
              "      <th>Salary</th>\n",
              "      <th>Team id</th>\n",
              "      <th>Team Leader</th>\n",
              "    </tr>\n",
              "  </thead>\n",
              "  <tbody>\n",
              "    <tr>\n",
              "      <th>0</th>\n",
              "      <td>101</td>\n",
              "      <td>Jai</td>\n",
              "      <td>14000</td>\n",
              "      <td>201</td>\n",
              "      <td>Vivek</td>\n",
              "    </tr>\n",
              "    <tr>\n",
              "      <th>1</th>\n",
              "      <td>102</td>\n",
              "      <td>Kannan</td>\n",
              "      <td>10000</td>\n",
              "      <td>203</td>\n",
              "      <td>Gaurav</td>\n",
              "    </tr>\n",
              "    <tr>\n",
              "      <th>2</th>\n",
              "      <td>104</td>\n",
              "      <td>Suresh</td>\n",
              "      <td>9000</td>\n",
              "      <td>201</td>\n",
              "      <td>Vivek</td>\n",
              "    </tr>\n",
              "    <tr>\n",
              "      <th>3</th>\n",
              "      <td>105</td>\n",
              "      <td>Sam</td>\n",
              "      <td>11000</td>\n",
              "      <td>202</td>\n",
              "      <td>Vishwa</td>\n",
              "    </tr>\n",
              "  </tbody>\n",
              "</table>\n",
              "</div>"
            ],
            "text/plain": [
              "   Emp No Emp Name  Salary  Team id Team Leader\n",
              "0     101      Jai   14000      201       Vivek\n",
              "1     102   Kannan   10000      203      Gaurav\n",
              "2     104   Suresh    9000      201       Vivek\n",
              "3     105      Sam   11000      202      Vishwa"
            ]
          },
          "metadata": {
            "tags": []
          },
          "execution_count": 50
        }
      ]
    },
    {
      "cell_type": "markdown",
      "metadata": {
        "id": "1AQFTk6jFaZ2"
      },
      "source": [
        "### Left Join"
      ]
    },
    {
      "cell_type": "code",
      "metadata": {
        "colab": {
          "base_uri": "https://localhost:8080/",
          "height": 206
        },
        "id": "7SUUyrbiFesw",
        "outputId": "f9926607-ab92-41af-b10c-b04d4409159d"
      },
      "source": [
        "pd.merge(df1,df2,how='left')"
      ],
      "execution_count": 51,
      "outputs": [
        {
          "output_type": "execute_result",
          "data": {
            "text/html": [
              "<div>\n",
              "<style scoped>\n",
              "    .dataframe tbody tr th:only-of-type {\n",
              "        vertical-align: middle;\n",
              "    }\n",
              "\n",
              "    .dataframe tbody tr th {\n",
              "        vertical-align: top;\n",
              "    }\n",
              "\n",
              "    .dataframe thead th {\n",
              "        text-align: right;\n",
              "    }\n",
              "</style>\n",
              "<table border=\"1\" class=\"dataframe\">\n",
              "  <thead>\n",
              "    <tr style=\"text-align: right;\">\n",
              "      <th></th>\n",
              "      <th>Emp No</th>\n",
              "      <th>Emp Name</th>\n",
              "      <th>Salary</th>\n",
              "      <th>Team id</th>\n",
              "      <th>Team Leader</th>\n",
              "    </tr>\n",
              "  </thead>\n",
              "  <tbody>\n",
              "    <tr>\n",
              "      <th>0</th>\n",
              "      <td>101</td>\n",
              "      <td>Jai</td>\n",
              "      <td>14000</td>\n",
              "      <td>201.0</td>\n",
              "      <td>Vivek</td>\n",
              "    </tr>\n",
              "    <tr>\n",
              "      <th>1</th>\n",
              "      <td>102</td>\n",
              "      <td>Kannan</td>\n",
              "      <td>10000</td>\n",
              "      <td>203.0</td>\n",
              "      <td>Gaurav</td>\n",
              "    </tr>\n",
              "    <tr>\n",
              "      <th>2</th>\n",
              "      <td>103</td>\n",
              "      <td>Raman</td>\n",
              "      <td>7000</td>\n",
              "      <td>NaN</td>\n",
              "      <td>NaN</td>\n",
              "    </tr>\n",
              "    <tr>\n",
              "      <th>3</th>\n",
              "      <td>104</td>\n",
              "      <td>Suresh</td>\n",
              "      <td>9000</td>\n",
              "      <td>201.0</td>\n",
              "      <td>Vivek</td>\n",
              "    </tr>\n",
              "    <tr>\n",
              "      <th>4</th>\n",
              "      <td>105</td>\n",
              "      <td>Sam</td>\n",
              "      <td>11000</td>\n",
              "      <td>202.0</td>\n",
              "      <td>Vishwa</td>\n",
              "    </tr>\n",
              "  </tbody>\n",
              "</table>\n",
              "</div>"
            ],
            "text/plain": [
              "   Emp No Emp Name  Salary  Team id Team Leader\n",
              "0     101      Jai   14000    201.0       Vivek\n",
              "1     102   Kannan   10000    203.0      Gaurav\n",
              "2     103    Raman    7000      NaN         NaN\n",
              "3     104   Suresh    9000    201.0       Vivek\n",
              "4     105      Sam   11000    202.0      Vishwa"
            ]
          },
          "metadata": {
            "tags": []
          },
          "execution_count": 51
        }
      ]
    },
    {
      "cell_type": "markdown",
      "metadata": {
        "id": "zZDXrCMqFqMJ"
      },
      "source": [
        "### Right Join"
      ]
    },
    {
      "cell_type": "code",
      "metadata": {
        "colab": {
          "base_uri": "https://localhost:8080/",
          "height": 238
        },
        "id": "cAtIXCzSFww4",
        "outputId": "4a2de07e-8290-4040-fe88-ad72ac6dc31e"
      },
      "source": [
        "pd.merge(df1,df2,how='right')"
      ],
      "execution_count": 52,
      "outputs": [
        {
          "output_type": "execute_result",
          "data": {
            "text/html": [
              "<div>\n",
              "<style scoped>\n",
              "    .dataframe tbody tr th:only-of-type {\n",
              "        vertical-align: middle;\n",
              "    }\n",
              "\n",
              "    .dataframe tbody tr th {\n",
              "        vertical-align: top;\n",
              "    }\n",
              "\n",
              "    .dataframe thead th {\n",
              "        text-align: right;\n",
              "    }\n",
              "</style>\n",
              "<table border=\"1\" class=\"dataframe\">\n",
              "  <thead>\n",
              "    <tr style=\"text-align: right;\">\n",
              "      <th></th>\n",
              "      <th>Emp No</th>\n",
              "      <th>Emp Name</th>\n",
              "      <th>Salary</th>\n",
              "      <th>Team id</th>\n",
              "      <th>Team Leader</th>\n",
              "    </tr>\n",
              "  </thead>\n",
              "  <tbody>\n",
              "    <tr>\n",
              "      <th>0</th>\n",
              "      <td>101</td>\n",
              "      <td>Jai</td>\n",
              "      <td>14000.0</td>\n",
              "      <td>201</td>\n",
              "      <td>Vivek</td>\n",
              "    </tr>\n",
              "    <tr>\n",
              "      <th>1</th>\n",
              "      <td>102</td>\n",
              "      <td>Kannan</td>\n",
              "      <td>10000.0</td>\n",
              "      <td>203</td>\n",
              "      <td>Gaurav</td>\n",
              "    </tr>\n",
              "    <tr>\n",
              "      <th>2</th>\n",
              "      <td>104</td>\n",
              "      <td>Suresh</td>\n",
              "      <td>9000.0</td>\n",
              "      <td>201</td>\n",
              "      <td>Vivek</td>\n",
              "    </tr>\n",
              "    <tr>\n",
              "      <th>3</th>\n",
              "      <td>105</td>\n",
              "      <td>Sam</td>\n",
              "      <td>11000.0</td>\n",
              "      <td>202</td>\n",
              "      <td>Vishwa</td>\n",
              "    </tr>\n",
              "    <tr>\n",
              "      <th>4</th>\n",
              "      <td>106</td>\n",
              "      <td>NaN</td>\n",
              "      <td>NaN</td>\n",
              "      <td>202</td>\n",
              "      <td>Vishwa</td>\n",
              "    </tr>\n",
              "    <tr>\n",
              "      <th>5</th>\n",
              "      <td>107</td>\n",
              "      <td>NaN</td>\n",
              "      <td>NaN</td>\n",
              "      <td>204</td>\n",
              "      <td>Guru</td>\n",
              "    </tr>\n",
              "  </tbody>\n",
              "</table>\n",
              "</div>"
            ],
            "text/plain": [
              "   Emp No Emp Name   Salary  Team id Team Leader\n",
              "0     101      Jai  14000.0      201       Vivek\n",
              "1     102   Kannan  10000.0      203      Gaurav\n",
              "2     104   Suresh   9000.0      201       Vivek\n",
              "3     105      Sam  11000.0      202      Vishwa\n",
              "4     106      NaN      NaN      202      Vishwa\n",
              "5     107      NaN      NaN      204        Guru"
            ]
          },
          "metadata": {
            "tags": []
          },
          "execution_count": 52
        }
      ]
    },
    {
      "cell_type": "markdown",
      "metadata": {
        "id": "qVgIIL2zF1uR"
      },
      "source": [
        "### Outer Join"
      ]
    },
    {
      "cell_type": "code",
      "metadata": {
        "colab": {
          "base_uri": "https://localhost:8080/",
          "height": 269
        },
        "id": "PL7pKawiF6db",
        "outputId": "5fa8b502-c864-4097-dd98-f36830ebdac7"
      },
      "source": [
        "pd.merge(df1,df2,how='outer')"
      ],
      "execution_count": 53,
      "outputs": [
        {
          "output_type": "execute_result",
          "data": {
            "text/html": [
              "<div>\n",
              "<style scoped>\n",
              "    .dataframe tbody tr th:only-of-type {\n",
              "        vertical-align: middle;\n",
              "    }\n",
              "\n",
              "    .dataframe tbody tr th {\n",
              "        vertical-align: top;\n",
              "    }\n",
              "\n",
              "    .dataframe thead th {\n",
              "        text-align: right;\n",
              "    }\n",
              "</style>\n",
              "<table border=\"1\" class=\"dataframe\">\n",
              "  <thead>\n",
              "    <tr style=\"text-align: right;\">\n",
              "      <th></th>\n",
              "      <th>Emp No</th>\n",
              "      <th>Emp Name</th>\n",
              "      <th>Salary</th>\n",
              "      <th>Team id</th>\n",
              "      <th>Team Leader</th>\n",
              "    </tr>\n",
              "  </thead>\n",
              "  <tbody>\n",
              "    <tr>\n",
              "      <th>0</th>\n",
              "      <td>101</td>\n",
              "      <td>Jai</td>\n",
              "      <td>14000.0</td>\n",
              "      <td>201.0</td>\n",
              "      <td>Vivek</td>\n",
              "    </tr>\n",
              "    <tr>\n",
              "      <th>1</th>\n",
              "      <td>102</td>\n",
              "      <td>Kannan</td>\n",
              "      <td>10000.0</td>\n",
              "      <td>203.0</td>\n",
              "      <td>Gaurav</td>\n",
              "    </tr>\n",
              "    <tr>\n",
              "      <th>2</th>\n",
              "      <td>103</td>\n",
              "      <td>Raman</td>\n",
              "      <td>7000.0</td>\n",
              "      <td>NaN</td>\n",
              "      <td>NaN</td>\n",
              "    </tr>\n",
              "    <tr>\n",
              "      <th>3</th>\n",
              "      <td>104</td>\n",
              "      <td>Suresh</td>\n",
              "      <td>9000.0</td>\n",
              "      <td>201.0</td>\n",
              "      <td>Vivek</td>\n",
              "    </tr>\n",
              "    <tr>\n",
              "      <th>4</th>\n",
              "      <td>105</td>\n",
              "      <td>Sam</td>\n",
              "      <td>11000.0</td>\n",
              "      <td>202.0</td>\n",
              "      <td>Vishwa</td>\n",
              "    </tr>\n",
              "    <tr>\n",
              "      <th>5</th>\n",
              "      <td>106</td>\n",
              "      <td>NaN</td>\n",
              "      <td>NaN</td>\n",
              "      <td>202.0</td>\n",
              "      <td>Vishwa</td>\n",
              "    </tr>\n",
              "    <tr>\n",
              "      <th>6</th>\n",
              "      <td>107</td>\n",
              "      <td>NaN</td>\n",
              "      <td>NaN</td>\n",
              "      <td>204.0</td>\n",
              "      <td>Guru</td>\n",
              "    </tr>\n",
              "  </tbody>\n",
              "</table>\n",
              "</div>"
            ],
            "text/plain": [
              "   Emp No Emp Name   Salary  Team id Team Leader\n",
              "0     101      Jai  14000.0    201.0       Vivek\n",
              "1     102   Kannan  10000.0    203.0      Gaurav\n",
              "2     103    Raman   7000.0      NaN         NaN\n",
              "3     104   Suresh   9000.0    201.0       Vivek\n",
              "4     105      Sam  11000.0    202.0      Vishwa\n",
              "5     106      NaN      NaN    202.0      Vishwa\n",
              "6     107      NaN      NaN    204.0        Guru"
            ]
          },
          "metadata": {
            "tags": []
          },
          "execution_count": 53
        }
      ]
    },
    {
      "cell_type": "markdown",
      "metadata": {
        "id": "VBhu3lgRGIpf"
      },
      "source": [
        "### 4.1.2 Merging dataframe with different column name"
      ]
    },
    {
      "cell_type": "code",
      "metadata": {
        "id": "AIXf6FduGTUJ"
      },
      "source": [
        "data1 = {'Emp No':[101,102,103,104,105],\n",
        "        'Emp Name':['Jai','Kannan','Raman','Suresh','Sam'],\n",
        "        'Salary':[14000,10000,7000,9000,11000]\n",
        "        }                \n",
        "\n",
        "data2 = {'Emp Id':[101,102,104,105,106,107],\n",
        "        'Team id':[201,203,201,202,202,204],\n",
        "        'Team Leader':['Vivek','Gaurav','Vivek','Vishwa','Vishwa','Guru']\n",
        "        }"
      ],
      "execution_count": 54,
      "outputs": []
    },
    {
      "cell_type": "code",
      "metadata": {
        "id": "I-foza4PGZJE"
      },
      "source": [
        "df1 = pd.DataFrame(data1)\n",
        "df2 = pd.DataFrame(data2)"
      ],
      "execution_count": 55,
      "outputs": []
    },
    {
      "cell_type": "code",
      "metadata": {
        "colab": {
          "base_uri": "https://localhost:8080/",
          "height": 206
        },
        "id": "76NObXKQGiRw",
        "outputId": "a05e4b5e-d399-4d79-cad3-553df89c660c"
      },
      "source": [
        "df1"
      ],
      "execution_count": 56,
      "outputs": [
        {
          "output_type": "execute_result",
          "data": {
            "text/html": [
              "<div>\n",
              "<style scoped>\n",
              "    .dataframe tbody tr th:only-of-type {\n",
              "        vertical-align: middle;\n",
              "    }\n",
              "\n",
              "    .dataframe tbody tr th {\n",
              "        vertical-align: top;\n",
              "    }\n",
              "\n",
              "    .dataframe thead th {\n",
              "        text-align: right;\n",
              "    }\n",
              "</style>\n",
              "<table border=\"1\" class=\"dataframe\">\n",
              "  <thead>\n",
              "    <tr style=\"text-align: right;\">\n",
              "      <th></th>\n",
              "      <th>Emp No</th>\n",
              "      <th>Emp Name</th>\n",
              "      <th>Salary</th>\n",
              "    </tr>\n",
              "  </thead>\n",
              "  <tbody>\n",
              "    <tr>\n",
              "      <th>0</th>\n",
              "      <td>101</td>\n",
              "      <td>Jai</td>\n",
              "      <td>14000</td>\n",
              "    </tr>\n",
              "    <tr>\n",
              "      <th>1</th>\n",
              "      <td>102</td>\n",
              "      <td>Kannan</td>\n",
              "      <td>10000</td>\n",
              "    </tr>\n",
              "    <tr>\n",
              "      <th>2</th>\n",
              "      <td>103</td>\n",
              "      <td>Raman</td>\n",
              "      <td>7000</td>\n",
              "    </tr>\n",
              "    <tr>\n",
              "      <th>3</th>\n",
              "      <td>104</td>\n",
              "      <td>Suresh</td>\n",
              "      <td>9000</td>\n",
              "    </tr>\n",
              "    <tr>\n",
              "      <th>4</th>\n",
              "      <td>105</td>\n",
              "      <td>Sam</td>\n",
              "      <td>11000</td>\n",
              "    </tr>\n",
              "  </tbody>\n",
              "</table>\n",
              "</div>"
            ],
            "text/plain": [
              "   Emp No Emp Name  Salary\n",
              "0     101      Jai   14000\n",
              "1     102   Kannan   10000\n",
              "2     103    Raman    7000\n",
              "3     104   Suresh    9000\n",
              "4     105      Sam   11000"
            ]
          },
          "metadata": {
            "tags": []
          },
          "execution_count": 56
        }
      ]
    },
    {
      "cell_type": "code",
      "metadata": {
        "colab": {
          "base_uri": "https://localhost:8080/",
          "height": 238
        },
        "id": "p32hw9vwGjMp",
        "outputId": "31a7dead-6f15-4d36-ac12-a53cf006663c"
      },
      "source": [
        "df2"
      ],
      "execution_count": 57,
      "outputs": [
        {
          "output_type": "execute_result",
          "data": {
            "text/html": [
              "<div>\n",
              "<style scoped>\n",
              "    .dataframe tbody tr th:only-of-type {\n",
              "        vertical-align: middle;\n",
              "    }\n",
              "\n",
              "    .dataframe tbody tr th {\n",
              "        vertical-align: top;\n",
              "    }\n",
              "\n",
              "    .dataframe thead th {\n",
              "        text-align: right;\n",
              "    }\n",
              "</style>\n",
              "<table border=\"1\" class=\"dataframe\">\n",
              "  <thead>\n",
              "    <tr style=\"text-align: right;\">\n",
              "      <th></th>\n",
              "      <th>Emp Id</th>\n",
              "      <th>Team id</th>\n",
              "      <th>Team Leader</th>\n",
              "    </tr>\n",
              "  </thead>\n",
              "  <tbody>\n",
              "    <tr>\n",
              "      <th>0</th>\n",
              "      <td>101</td>\n",
              "      <td>201</td>\n",
              "      <td>Vivek</td>\n",
              "    </tr>\n",
              "    <tr>\n",
              "      <th>1</th>\n",
              "      <td>102</td>\n",
              "      <td>203</td>\n",
              "      <td>Gaurav</td>\n",
              "    </tr>\n",
              "    <tr>\n",
              "      <th>2</th>\n",
              "      <td>104</td>\n",
              "      <td>201</td>\n",
              "      <td>Vivek</td>\n",
              "    </tr>\n",
              "    <tr>\n",
              "      <th>3</th>\n",
              "      <td>105</td>\n",
              "      <td>202</td>\n",
              "      <td>Vishwa</td>\n",
              "    </tr>\n",
              "    <tr>\n",
              "      <th>4</th>\n",
              "      <td>106</td>\n",
              "      <td>202</td>\n",
              "      <td>Vishwa</td>\n",
              "    </tr>\n",
              "    <tr>\n",
              "      <th>5</th>\n",
              "      <td>107</td>\n",
              "      <td>204</td>\n",
              "      <td>Guru</td>\n",
              "    </tr>\n",
              "  </tbody>\n",
              "</table>\n",
              "</div>"
            ],
            "text/plain": [
              "   Emp Id  Team id Team Leader\n",
              "0     101      201       Vivek\n",
              "1     102      203      Gaurav\n",
              "2     104      201       Vivek\n",
              "3     105      202      Vishwa\n",
              "4     106      202      Vishwa\n",
              "5     107      204        Guru"
            ]
          },
          "metadata": {
            "tags": []
          },
          "execution_count": 57
        }
      ]
    },
    {
      "cell_type": "code",
      "metadata": {
        "colab": {
          "base_uri": "https://localhost:8080/",
          "height": 175
        },
        "id": "HlZMEjjiGrn6",
        "outputId": "4b9108c4-8511-4ed1-9917-9b0e48881430"
      },
      "source": [
        "pd.merge(df1,df2,left_on = 'Emp No',right_on = 'Emp Id',how = 'inner')"
      ],
      "execution_count": 58,
      "outputs": [
        {
          "output_type": "execute_result",
          "data": {
            "text/html": [
              "<div>\n",
              "<style scoped>\n",
              "    .dataframe tbody tr th:only-of-type {\n",
              "        vertical-align: middle;\n",
              "    }\n",
              "\n",
              "    .dataframe tbody tr th {\n",
              "        vertical-align: top;\n",
              "    }\n",
              "\n",
              "    .dataframe thead th {\n",
              "        text-align: right;\n",
              "    }\n",
              "</style>\n",
              "<table border=\"1\" class=\"dataframe\">\n",
              "  <thead>\n",
              "    <tr style=\"text-align: right;\">\n",
              "      <th></th>\n",
              "      <th>Emp No</th>\n",
              "      <th>Emp Name</th>\n",
              "      <th>Salary</th>\n",
              "      <th>Emp Id</th>\n",
              "      <th>Team id</th>\n",
              "      <th>Team Leader</th>\n",
              "    </tr>\n",
              "  </thead>\n",
              "  <tbody>\n",
              "    <tr>\n",
              "      <th>0</th>\n",
              "      <td>101</td>\n",
              "      <td>Jai</td>\n",
              "      <td>14000</td>\n",
              "      <td>101</td>\n",
              "      <td>201</td>\n",
              "      <td>Vivek</td>\n",
              "    </tr>\n",
              "    <tr>\n",
              "      <th>1</th>\n",
              "      <td>102</td>\n",
              "      <td>Kannan</td>\n",
              "      <td>10000</td>\n",
              "      <td>102</td>\n",
              "      <td>203</td>\n",
              "      <td>Gaurav</td>\n",
              "    </tr>\n",
              "    <tr>\n",
              "      <th>2</th>\n",
              "      <td>104</td>\n",
              "      <td>Suresh</td>\n",
              "      <td>9000</td>\n",
              "      <td>104</td>\n",
              "      <td>201</td>\n",
              "      <td>Vivek</td>\n",
              "    </tr>\n",
              "    <tr>\n",
              "      <th>3</th>\n",
              "      <td>105</td>\n",
              "      <td>Sam</td>\n",
              "      <td>11000</td>\n",
              "      <td>105</td>\n",
              "      <td>202</td>\n",
              "      <td>Vishwa</td>\n",
              "    </tr>\n",
              "  </tbody>\n",
              "</table>\n",
              "</div>"
            ],
            "text/plain": [
              "   Emp No Emp Name  Salary  Emp Id  Team id Team Leader\n",
              "0     101      Jai   14000     101      201       Vivek\n",
              "1     102   Kannan   10000     102      203      Gaurav\n",
              "2     104   Suresh    9000     104      201       Vivek\n",
              "3     105      Sam   11000     105      202      Vishwa"
            ]
          },
          "metadata": {
            "tags": []
          },
          "execution_count": 58
        }
      ]
    },
    {
      "cell_type": "markdown",
      "metadata": {
        "id": "HSOrXyf0Ho1s"
      },
      "source": [
        "## 4.2 join() - combines data on a key column or an index.\n",
        "\n",
        ">   join() is similar to merge() both are used to combine dataframe. In join() dataframes can be combined using index but whereas in merge we can combine using both index and columns\n",
        "\n",
        "\n"
      ]
    },
    {
      "cell_type": "code",
      "metadata": {
        "id": "J6TWB_gIH4DY"
      },
      "source": [
        "data1 = {'Emp No':[101,102,103,104,105],\n",
        "        'Emp Name':['Jai','Kannan','Raman','Suresh','Sam'],\n",
        "        'Salary':[14000,10000,7000,9000,11000]}                \n",
        "\n",
        "data2 = {'Emp No':[101,102,104,105,106,107],\n",
        "        'Team id':[201,203,201,202,202,204],\n",
        "        'Team Leader':['Vivek','Gaurav','Vivek','Vishwa','Vishwa','Guru']}"
      ],
      "execution_count": 59,
      "outputs": []
    },
    {
      "cell_type": "code",
      "metadata": {
        "id": "URyNahOlNofF"
      },
      "source": [
        "df1 = pd.DataFrame(data1)\n",
        "df2 = pd.DataFrame(data2)"
      ],
      "execution_count": 60,
      "outputs": []
    },
    {
      "cell_type": "code",
      "metadata": {
        "colab": {
          "base_uri": "https://localhost:8080/",
          "height": 206
        },
        "id": "U0eVmAP2OEcP",
        "outputId": "d7ad998f-5738-45b7-d822-154acabeaf34"
      },
      "source": [
        "df1"
      ],
      "execution_count": 61,
      "outputs": [
        {
          "output_type": "execute_result",
          "data": {
            "text/html": [
              "<div>\n",
              "<style scoped>\n",
              "    .dataframe tbody tr th:only-of-type {\n",
              "        vertical-align: middle;\n",
              "    }\n",
              "\n",
              "    .dataframe tbody tr th {\n",
              "        vertical-align: top;\n",
              "    }\n",
              "\n",
              "    .dataframe thead th {\n",
              "        text-align: right;\n",
              "    }\n",
              "</style>\n",
              "<table border=\"1\" class=\"dataframe\">\n",
              "  <thead>\n",
              "    <tr style=\"text-align: right;\">\n",
              "      <th></th>\n",
              "      <th>Emp No</th>\n",
              "      <th>Emp Name</th>\n",
              "      <th>Salary</th>\n",
              "    </tr>\n",
              "  </thead>\n",
              "  <tbody>\n",
              "    <tr>\n",
              "      <th>0</th>\n",
              "      <td>101</td>\n",
              "      <td>Jai</td>\n",
              "      <td>14000</td>\n",
              "    </tr>\n",
              "    <tr>\n",
              "      <th>1</th>\n",
              "      <td>102</td>\n",
              "      <td>Kannan</td>\n",
              "      <td>10000</td>\n",
              "    </tr>\n",
              "    <tr>\n",
              "      <th>2</th>\n",
              "      <td>103</td>\n",
              "      <td>Raman</td>\n",
              "      <td>7000</td>\n",
              "    </tr>\n",
              "    <tr>\n",
              "      <th>3</th>\n",
              "      <td>104</td>\n",
              "      <td>Suresh</td>\n",
              "      <td>9000</td>\n",
              "    </tr>\n",
              "    <tr>\n",
              "      <th>4</th>\n",
              "      <td>105</td>\n",
              "      <td>Sam</td>\n",
              "      <td>11000</td>\n",
              "    </tr>\n",
              "  </tbody>\n",
              "</table>\n",
              "</div>"
            ],
            "text/plain": [
              "   Emp No Emp Name  Salary\n",
              "0     101      Jai   14000\n",
              "1     102   Kannan   10000\n",
              "2     103    Raman    7000\n",
              "3     104   Suresh    9000\n",
              "4     105      Sam   11000"
            ]
          },
          "metadata": {
            "tags": []
          },
          "execution_count": 61
        }
      ]
    },
    {
      "cell_type": "code",
      "metadata": {
        "colab": {
          "base_uri": "https://localhost:8080/",
          "height": 238
        },
        "id": "sZkwsz1WOHs3",
        "outputId": "ddeb3e23-1820-4be3-f0e8-2265dd970582"
      },
      "source": [
        "df2"
      ],
      "execution_count": 62,
      "outputs": [
        {
          "output_type": "execute_result",
          "data": {
            "text/html": [
              "<div>\n",
              "<style scoped>\n",
              "    .dataframe tbody tr th:only-of-type {\n",
              "        vertical-align: middle;\n",
              "    }\n",
              "\n",
              "    .dataframe tbody tr th {\n",
              "        vertical-align: top;\n",
              "    }\n",
              "\n",
              "    .dataframe thead th {\n",
              "        text-align: right;\n",
              "    }\n",
              "</style>\n",
              "<table border=\"1\" class=\"dataframe\">\n",
              "  <thead>\n",
              "    <tr style=\"text-align: right;\">\n",
              "      <th></th>\n",
              "      <th>Emp No</th>\n",
              "      <th>Team id</th>\n",
              "      <th>Team Leader</th>\n",
              "    </tr>\n",
              "  </thead>\n",
              "  <tbody>\n",
              "    <tr>\n",
              "      <th>0</th>\n",
              "      <td>101</td>\n",
              "      <td>201</td>\n",
              "      <td>Vivek</td>\n",
              "    </tr>\n",
              "    <tr>\n",
              "      <th>1</th>\n",
              "      <td>102</td>\n",
              "      <td>203</td>\n",
              "      <td>Gaurav</td>\n",
              "    </tr>\n",
              "    <tr>\n",
              "      <th>2</th>\n",
              "      <td>104</td>\n",
              "      <td>201</td>\n",
              "      <td>Vivek</td>\n",
              "    </tr>\n",
              "    <tr>\n",
              "      <th>3</th>\n",
              "      <td>105</td>\n",
              "      <td>202</td>\n",
              "      <td>Vishwa</td>\n",
              "    </tr>\n",
              "    <tr>\n",
              "      <th>4</th>\n",
              "      <td>106</td>\n",
              "      <td>202</td>\n",
              "      <td>Vishwa</td>\n",
              "    </tr>\n",
              "    <tr>\n",
              "      <th>5</th>\n",
              "      <td>107</td>\n",
              "      <td>204</td>\n",
              "      <td>Guru</td>\n",
              "    </tr>\n",
              "  </tbody>\n",
              "</table>\n",
              "</div>"
            ],
            "text/plain": [
              "   Emp No  Team id Team Leader\n",
              "0     101      201       Vivek\n",
              "1     102      203      Gaurav\n",
              "2     104      201       Vivek\n",
              "3     105      202      Vishwa\n",
              "4     106      202      Vishwa\n",
              "5     107      204        Guru"
            ]
          },
          "metadata": {
            "tags": []
          },
          "execution_count": 62
        }
      ]
    },
    {
      "cell_type": "code",
      "metadata": {
        "colab": {
          "base_uri": "https://localhost:8080/",
          "height": 206
        },
        "id": "kxS0pZ6-OIYY",
        "outputId": "ab26098f-b16d-4f17-b773-527355f6e03f"
      },
      "source": [
        "df1.join(df2,lsuffix = '_l',rsuffix = '_r')"
      ],
      "execution_count": 63,
      "outputs": [
        {
          "output_type": "execute_result",
          "data": {
            "text/html": [
              "<div>\n",
              "<style scoped>\n",
              "    .dataframe tbody tr th:only-of-type {\n",
              "        vertical-align: middle;\n",
              "    }\n",
              "\n",
              "    .dataframe tbody tr th {\n",
              "        vertical-align: top;\n",
              "    }\n",
              "\n",
              "    .dataframe thead th {\n",
              "        text-align: right;\n",
              "    }\n",
              "</style>\n",
              "<table border=\"1\" class=\"dataframe\">\n",
              "  <thead>\n",
              "    <tr style=\"text-align: right;\">\n",
              "      <th></th>\n",
              "      <th>Emp No_l</th>\n",
              "      <th>Emp Name</th>\n",
              "      <th>Salary</th>\n",
              "      <th>Emp No_r</th>\n",
              "      <th>Team id</th>\n",
              "      <th>Team Leader</th>\n",
              "    </tr>\n",
              "  </thead>\n",
              "  <tbody>\n",
              "    <tr>\n",
              "      <th>0</th>\n",
              "      <td>101</td>\n",
              "      <td>Jai</td>\n",
              "      <td>14000</td>\n",
              "      <td>101</td>\n",
              "      <td>201</td>\n",
              "      <td>Vivek</td>\n",
              "    </tr>\n",
              "    <tr>\n",
              "      <th>1</th>\n",
              "      <td>102</td>\n",
              "      <td>Kannan</td>\n",
              "      <td>10000</td>\n",
              "      <td>102</td>\n",
              "      <td>203</td>\n",
              "      <td>Gaurav</td>\n",
              "    </tr>\n",
              "    <tr>\n",
              "      <th>2</th>\n",
              "      <td>103</td>\n",
              "      <td>Raman</td>\n",
              "      <td>7000</td>\n",
              "      <td>104</td>\n",
              "      <td>201</td>\n",
              "      <td>Vivek</td>\n",
              "    </tr>\n",
              "    <tr>\n",
              "      <th>3</th>\n",
              "      <td>104</td>\n",
              "      <td>Suresh</td>\n",
              "      <td>9000</td>\n",
              "      <td>105</td>\n",
              "      <td>202</td>\n",
              "      <td>Vishwa</td>\n",
              "    </tr>\n",
              "    <tr>\n",
              "      <th>4</th>\n",
              "      <td>105</td>\n",
              "      <td>Sam</td>\n",
              "      <td>11000</td>\n",
              "      <td>106</td>\n",
              "      <td>202</td>\n",
              "      <td>Vishwa</td>\n",
              "    </tr>\n",
              "  </tbody>\n",
              "</table>\n",
              "</div>"
            ],
            "text/plain": [
              "   Emp No_l Emp Name  Salary  Emp No_r  Team id Team Leader\n",
              "0       101      Jai   14000       101      201       Vivek\n",
              "1       102   Kannan   10000       102      203      Gaurav\n",
              "2       103    Raman    7000       104      201       Vivek\n",
              "3       104   Suresh    9000       105      202      Vishwa\n",
              "4       105      Sam   11000       106      202      Vishwa"
            ]
          },
          "metadata": {
            "tags": []
          },
          "execution_count": 63
        }
      ]
    },
    {
      "cell_type": "markdown",
      "metadata": {
        "id": "5ksl-ktKT2-f"
      },
      "source": [
        "## 4.3 concat() - combines Data Frames across rows or columns.\n",
        "\n",
        "\n",
        "> In concat we pass the list of dataframes that need to be concatinated. Concat operation can be done in two ways\n",
        "\n",
        "\n",
        "*   Concat dataframe on axis 0 (Default Operation)\n",
        "*   Concat dataframe on axis 1 (Horizontal Operation) "
      ]
    },
    {
      "cell_type": "code",
      "metadata": {
        "id": "PuQ9S2x7GbS2"
      },
      "source": [
        "data1 = {'Emp No':[101,102,103,104,105],\n",
        "        'Emp Name':['Jai','Kannan','Raman','Suresh','Sam'],\n",
        "        'Salary':[14000,10000,7000,9000,11000]}                \n",
        "\n",
        "data2 = {'Emp No':[101,102,104,105,106,107],\n",
        "        'Team id':[201,203,201,202,202,204],\n",
        "        'Team Leader':['Vivek','Gaurav','Vivek','Vishwa','Vishwa','Guru']}"
      ],
      "execution_count": 64,
      "outputs": []
    },
    {
      "cell_type": "code",
      "metadata": {
        "id": "_Xe-EIvGGyk3"
      },
      "source": [
        "df1 = pd.DataFrame(data1)\n",
        "df2 = pd.DataFrame(data2)"
      ],
      "execution_count": 65,
      "outputs": []
    },
    {
      "cell_type": "code",
      "metadata": {
        "colab": {
          "base_uri": "https://localhost:8080/",
          "height": 206
        },
        "id": "gSPGmEufG2HF",
        "outputId": "139ae675-1b8b-45c4-9c1d-87f484208c15"
      },
      "source": [
        "df1"
      ],
      "execution_count": 66,
      "outputs": [
        {
          "output_type": "execute_result",
          "data": {
            "text/html": [
              "<div>\n",
              "<style scoped>\n",
              "    .dataframe tbody tr th:only-of-type {\n",
              "        vertical-align: middle;\n",
              "    }\n",
              "\n",
              "    .dataframe tbody tr th {\n",
              "        vertical-align: top;\n",
              "    }\n",
              "\n",
              "    .dataframe thead th {\n",
              "        text-align: right;\n",
              "    }\n",
              "</style>\n",
              "<table border=\"1\" class=\"dataframe\">\n",
              "  <thead>\n",
              "    <tr style=\"text-align: right;\">\n",
              "      <th></th>\n",
              "      <th>Emp No</th>\n",
              "      <th>Emp Name</th>\n",
              "      <th>Salary</th>\n",
              "    </tr>\n",
              "  </thead>\n",
              "  <tbody>\n",
              "    <tr>\n",
              "      <th>0</th>\n",
              "      <td>101</td>\n",
              "      <td>Jai</td>\n",
              "      <td>14000</td>\n",
              "    </tr>\n",
              "    <tr>\n",
              "      <th>1</th>\n",
              "      <td>102</td>\n",
              "      <td>Kannan</td>\n",
              "      <td>10000</td>\n",
              "    </tr>\n",
              "    <tr>\n",
              "      <th>2</th>\n",
              "      <td>103</td>\n",
              "      <td>Raman</td>\n",
              "      <td>7000</td>\n",
              "    </tr>\n",
              "    <tr>\n",
              "      <th>3</th>\n",
              "      <td>104</td>\n",
              "      <td>Suresh</td>\n",
              "      <td>9000</td>\n",
              "    </tr>\n",
              "    <tr>\n",
              "      <th>4</th>\n",
              "      <td>105</td>\n",
              "      <td>Sam</td>\n",
              "      <td>11000</td>\n",
              "    </tr>\n",
              "  </tbody>\n",
              "</table>\n",
              "</div>"
            ],
            "text/plain": [
              "   Emp No Emp Name  Salary\n",
              "0     101      Jai   14000\n",
              "1     102   Kannan   10000\n",
              "2     103    Raman    7000\n",
              "3     104   Suresh    9000\n",
              "4     105      Sam   11000"
            ]
          },
          "metadata": {
            "tags": []
          },
          "execution_count": 66
        }
      ]
    },
    {
      "cell_type": "code",
      "metadata": {
        "colab": {
          "base_uri": "https://localhost:8080/",
          "height": 238
        },
        "id": "rYzxjCvWG3TU",
        "outputId": "be5aad88-6d4d-4b28-edb9-a5693af548a8"
      },
      "source": [
        "df2"
      ],
      "execution_count": 67,
      "outputs": [
        {
          "output_type": "execute_result",
          "data": {
            "text/html": [
              "<div>\n",
              "<style scoped>\n",
              "    .dataframe tbody tr th:only-of-type {\n",
              "        vertical-align: middle;\n",
              "    }\n",
              "\n",
              "    .dataframe tbody tr th {\n",
              "        vertical-align: top;\n",
              "    }\n",
              "\n",
              "    .dataframe thead th {\n",
              "        text-align: right;\n",
              "    }\n",
              "</style>\n",
              "<table border=\"1\" class=\"dataframe\">\n",
              "  <thead>\n",
              "    <tr style=\"text-align: right;\">\n",
              "      <th></th>\n",
              "      <th>Emp No</th>\n",
              "      <th>Team id</th>\n",
              "      <th>Team Leader</th>\n",
              "    </tr>\n",
              "  </thead>\n",
              "  <tbody>\n",
              "    <tr>\n",
              "      <th>0</th>\n",
              "      <td>101</td>\n",
              "      <td>201</td>\n",
              "      <td>Vivek</td>\n",
              "    </tr>\n",
              "    <tr>\n",
              "      <th>1</th>\n",
              "      <td>102</td>\n",
              "      <td>203</td>\n",
              "      <td>Gaurav</td>\n",
              "    </tr>\n",
              "    <tr>\n",
              "      <th>2</th>\n",
              "      <td>104</td>\n",
              "      <td>201</td>\n",
              "      <td>Vivek</td>\n",
              "    </tr>\n",
              "    <tr>\n",
              "      <th>3</th>\n",
              "      <td>105</td>\n",
              "      <td>202</td>\n",
              "      <td>Vishwa</td>\n",
              "    </tr>\n",
              "    <tr>\n",
              "      <th>4</th>\n",
              "      <td>106</td>\n",
              "      <td>202</td>\n",
              "      <td>Vishwa</td>\n",
              "    </tr>\n",
              "    <tr>\n",
              "      <th>5</th>\n",
              "      <td>107</td>\n",
              "      <td>204</td>\n",
              "      <td>Guru</td>\n",
              "    </tr>\n",
              "  </tbody>\n",
              "</table>\n",
              "</div>"
            ],
            "text/plain": [
              "   Emp No  Team id Team Leader\n",
              "0     101      201       Vivek\n",
              "1     102      203      Gaurav\n",
              "2     104      201       Vivek\n",
              "3     105      202      Vishwa\n",
              "4     106      202      Vishwa\n",
              "5     107      204        Guru"
            ]
          },
          "metadata": {
            "tags": []
          },
          "execution_count": 67
        }
      ]
    },
    {
      "cell_type": "markdown",
      "metadata": {
        "id": "dekrbMeEG6ao"
      },
      "source": [
        "### 4.3.1 Concat dataframe on axis 0\n",
        "\n",
        "\n",
        "> This is the default concat operation with concats list of dataframe into single dataframe\n",
        "\n"
      ]
    },
    {
      "cell_type": "code",
      "metadata": {
        "colab": {
          "base_uri": "https://localhost:8080/",
          "height": 394
        },
        "id": "C-hAdu7XHLo0",
        "outputId": "33b59d92-bc1a-46b5-dfb0-89b9bf721186"
      },
      "source": [
        "pd.concat([df1,df2])"
      ],
      "execution_count": 68,
      "outputs": [
        {
          "output_type": "execute_result",
          "data": {
            "text/html": [
              "<div>\n",
              "<style scoped>\n",
              "    .dataframe tbody tr th:only-of-type {\n",
              "        vertical-align: middle;\n",
              "    }\n",
              "\n",
              "    .dataframe tbody tr th {\n",
              "        vertical-align: top;\n",
              "    }\n",
              "\n",
              "    .dataframe thead th {\n",
              "        text-align: right;\n",
              "    }\n",
              "</style>\n",
              "<table border=\"1\" class=\"dataframe\">\n",
              "  <thead>\n",
              "    <tr style=\"text-align: right;\">\n",
              "      <th></th>\n",
              "      <th>Emp No</th>\n",
              "      <th>Emp Name</th>\n",
              "      <th>Salary</th>\n",
              "      <th>Team id</th>\n",
              "      <th>Team Leader</th>\n",
              "    </tr>\n",
              "  </thead>\n",
              "  <tbody>\n",
              "    <tr>\n",
              "      <th>0</th>\n",
              "      <td>101</td>\n",
              "      <td>Jai</td>\n",
              "      <td>14000.0</td>\n",
              "      <td>NaN</td>\n",
              "      <td>NaN</td>\n",
              "    </tr>\n",
              "    <tr>\n",
              "      <th>1</th>\n",
              "      <td>102</td>\n",
              "      <td>Kannan</td>\n",
              "      <td>10000.0</td>\n",
              "      <td>NaN</td>\n",
              "      <td>NaN</td>\n",
              "    </tr>\n",
              "    <tr>\n",
              "      <th>2</th>\n",
              "      <td>103</td>\n",
              "      <td>Raman</td>\n",
              "      <td>7000.0</td>\n",
              "      <td>NaN</td>\n",
              "      <td>NaN</td>\n",
              "    </tr>\n",
              "    <tr>\n",
              "      <th>3</th>\n",
              "      <td>104</td>\n",
              "      <td>Suresh</td>\n",
              "      <td>9000.0</td>\n",
              "      <td>NaN</td>\n",
              "      <td>NaN</td>\n",
              "    </tr>\n",
              "    <tr>\n",
              "      <th>4</th>\n",
              "      <td>105</td>\n",
              "      <td>Sam</td>\n",
              "      <td>11000.0</td>\n",
              "      <td>NaN</td>\n",
              "      <td>NaN</td>\n",
              "    </tr>\n",
              "    <tr>\n",
              "      <th>0</th>\n",
              "      <td>101</td>\n",
              "      <td>NaN</td>\n",
              "      <td>NaN</td>\n",
              "      <td>201.0</td>\n",
              "      <td>Vivek</td>\n",
              "    </tr>\n",
              "    <tr>\n",
              "      <th>1</th>\n",
              "      <td>102</td>\n",
              "      <td>NaN</td>\n",
              "      <td>NaN</td>\n",
              "      <td>203.0</td>\n",
              "      <td>Gaurav</td>\n",
              "    </tr>\n",
              "    <tr>\n",
              "      <th>2</th>\n",
              "      <td>104</td>\n",
              "      <td>NaN</td>\n",
              "      <td>NaN</td>\n",
              "      <td>201.0</td>\n",
              "      <td>Vivek</td>\n",
              "    </tr>\n",
              "    <tr>\n",
              "      <th>3</th>\n",
              "      <td>105</td>\n",
              "      <td>NaN</td>\n",
              "      <td>NaN</td>\n",
              "      <td>202.0</td>\n",
              "      <td>Vishwa</td>\n",
              "    </tr>\n",
              "    <tr>\n",
              "      <th>4</th>\n",
              "      <td>106</td>\n",
              "      <td>NaN</td>\n",
              "      <td>NaN</td>\n",
              "      <td>202.0</td>\n",
              "      <td>Vishwa</td>\n",
              "    </tr>\n",
              "    <tr>\n",
              "      <th>5</th>\n",
              "      <td>107</td>\n",
              "      <td>NaN</td>\n",
              "      <td>NaN</td>\n",
              "      <td>204.0</td>\n",
              "      <td>Guru</td>\n",
              "    </tr>\n",
              "  </tbody>\n",
              "</table>\n",
              "</div>"
            ],
            "text/plain": [
              "   Emp No Emp Name   Salary  Team id Team Leader\n",
              "0     101      Jai  14000.0      NaN         NaN\n",
              "1     102   Kannan  10000.0      NaN         NaN\n",
              "2     103    Raman   7000.0      NaN         NaN\n",
              "3     104   Suresh   9000.0      NaN         NaN\n",
              "4     105      Sam  11000.0      NaN         NaN\n",
              "0     101      NaN      NaN    201.0       Vivek\n",
              "1     102      NaN      NaN    203.0      Gaurav\n",
              "2     104      NaN      NaN    201.0       Vivek\n",
              "3     105      NaN      NaN    202.0      Vishwa\n",
              "4     106      NaN      NaN    202.0      Vishwa\n",
              "5     107      NaN      NaN    204.0        Guru"
            ]
          },
          "metadata": {
            "tags": []
          },
          "execution_count": 68
        }
      ]
    },
    {
      "cell_type": "markdown",
      "metadata": {
        "id": "8zoeMzf1Hz54"
      },
      "source": [
        "### 4.3.2 Concat dataframe on axis 1\n",
        "\n",
        "\n",
        "> Concating dataframe with axis 1 is similar to joins \n",
        "\n"
      ]
    },
    {
      "cell_type": "code",
      "metadata": {
        "colab": {
          "base_uri": "https://localhost:8080/",
          "height": 238
        },
        "id": "wLEIYz-wUaY7",
        "outputId": "cd315e82-e2cf-4a25-c0c0-eebba13fad30"
      },
      "source": [
        "pd.concat([df1,df2],axis = 1)"
      ],
      "execution_count": 69,
      "outputs": [
        {
          "output_type": "execute_result",
          "data": {
            "text/html": [
              "<div>\n",
              "<style scoped>\n",
              "    .dataframe tbody tr th:only-of-type {\n",
              "        vertical-align: middle;\n",
              "    }\n",
              "\n",
              "    .dataframe tbody tr th {\n",
              "        vertical-align: top;\n",
              "    }\n",
              "\n",
              "    .dataframe thead th {\n",
              "        text-align: right;\n",
              "    }\n",
              "</style>\n",
              "<table border=\"1\" class=\"dataframe\">\n",
              "  <thead>\n",
              "    <tr style=\"text-align: right;\">\n",
              "      <th></th>\n",
              "      <th>Emp No</th>\n",
              "      <th>Emp Name</th>\n",
              "      <th>Salary</th>\n",
              "      <th>Emp No</th>\n",
              "      <th>Team id</th>\n",
              "      <th>Team Leader</th>\n",
              "    </tr>\n",
              "  </thead>\n",
              "  <tbody>\n",
              "    <tr>\n",
              "      <th>0</th>\n",
              "      <td>101.0</td>\n",
              "      <td>Jai</td>\n",
              "      <td>14000.0</td>\n",
              "      <td>101</td>\n",
              "      <td>201</td>\n",
              "      <td>Vivek</td>\n",
              "    </tr>\n",
              "    <tr>\n",
              "      <th>1</th>\n",
              "      <td>102.0</td>\n",
              "      <td>Kannan</td>\n",
              "      <td>10000.0</td>\n",
              "      <td>102</td>\n",
              "      <td>203</td>\n",
              "      <td>Gaurav</td>\n",
              "    </tr>\n",
              "    <tr>\n",
              "      <th>2</th>\n",
              "      <td>103.0</td>\n",
              "      <td>Raman</td>\n",
              "      <td>7000.0</td>\n",
              "      <td>104</td>\n",
              "      <td>201</td>\n",
              "      <td>Vivek</td>\n",
              "    </tr>\n",
              "    <tr>\n",
              "      <th>3</th>\n",
              "      <td>104.0</td>\n",
              "      <td>Suresh</td>\n",
              "      <td>9000.0</td>\n",
              "      <td>105</td>\n",
              "      <td>202</td>\n",
              "      <td>Vishwa</td>\n",
              "    </tr>\n",
              "    <tr>\n",
              "      <th>4</th>\n",
              "      <td>105.0</td>\n",
              "      <td>Sam</td>\n",
              "      <td>11000.0</td>\n",
              "      <td>106</td>\n",
              "      <td>202</td>\n",
              "      <td>Vishwa</td>\n",
              "    </tr>\n",
              "    <tr>\n",
              "      <th>5</th>\n",
              "      <td>NaN</td>\n",
              "      <td>NaN</td>\n",
              "      <td>NaN</td>\n",
              "      <td>107</td>\n",
              "      <td>204</td>\n",
              "      <td>Guru</td>\n",
              "    </tr>\n",
              "  </tbody>\n",
              "</table>\n",
              "</div>"
            ],
            "text/plain": [
              "   Emp No Emp Name   Salary  Emp No  Team id Team Leader\n",
              "0   101.0      Jai  14000.0     101      201       Vivek\n",
              "1   102.0   Kannan  10000.0     102      203      Gaurav\n",
              "2   103.0    Raman   7000.0     104      201       Vivek\n",
              "3   104.0   Suresh   9000.0     105      202      Vishwa\n",
              "4   105.0      Sam  11000.0     106      202      Vishwa\n",
              "5     NaN      NaN      NaN     107      204        Guru"
            ]
          },
          "metadata": {
            "tags": []
          },
          "execution_count": 69
        }
      ]
    },
    {
      "cell_type": "markdown",
      "metadata": {
        "id": "qPmffYe1VErd"
      },
      "source": [
        "---\n",
        "# 5.Types of Indexing in DataFrame\n",
        "\n",
        "\n",
        "> Selecting values from particular rows and columns in a dataframe is known as Indexing. By using Indexing, we can select all rows and some columns or some rows and all columns. \n",
        "\n",
        "> Indexing in DataFrame can be done in 3 ways:\n",
        "\n",
        "*   Column Name\n",
        "*   loc()\n",
        "*   iloc()\n"
      ]
    },
    {
      "cell_type": "code",
      "metadata": {
        "colab": {
          "base_uri": "https://localhost:8080/",
          "height": 206
        },
        "id": "68VYowlbUhrA",
        "outputId": "691a3579-3362-400c-d4cd-4493b59de38d"
      },
      "source": [
        "import pandas as pd \n",
        "\n",
        "data = {'Emp No':[101,102,103,104,105],\n",
        "        'Emp Name':['Jai','Kannan','Raman','Suresh','Sam'],\n",
        "        'Salary':[14000,10000,7000,9000,11000]}                \n",
        "\n",
        "df = pd.DataFrame(data)\n",
        "df"
      ],
      "execution_count": 70,
      "outputs": [
        {
          "output_type": "execute_result",
          "data": {
            "text/html": [
              "<div>\n",
              "<style scoped>\n",
              "    .dataframe tbody tr th:only-of-type {\n",
              "        vertical-align: middle;\n",
              "    }\n",
              "\n",
              "    .dataframe tbody tr th {\n",
              "        vertical-align: top;\n",
              "    }\n",
              "\n",
              "    .dataframe thead th {\n",
              "        text-align: right;\n",
              "    }\n",
              "</style>\n",
              "<table border=\"1\" class=\"dataframe\">\n",
              "  <thead>\n",
              "    <tr style=\"text-align: right;\">\n",
              "      <th></th>\n",
              "      <th>Emp No</th>\n",
              "      <th>Emp Name</th>\n",
              "      <th>Salary</th>\n",
              "    </tr>\n",
              "  </thead>\n",
              "  <tbody>\n",
              "    <tr>\n",
              "      <th>0</th>\n",
              "      <td>101</td>\n",
              "      <td>Jai</td>\n",
              "      <td>14000</td>\n",
              "    </tr>\n",
              "    <tr>\n",
              "      <th>1</th>\n",
              "      <td>102</td>\n",
              "      <td>Kannan</td>\n",
              "      <td>10000</td>\n",
              "    </tr>\n",
              "    <tr>\n",
              "      <th>2</th>\n",
              "      <td>103</td>\n",
              "      <td>Raman</td>\n",
              "      <td>7000</td>\n",
              "    </tr>\n",
              "    <tr>\n",
              "      <th>3</th>\n",
              "      <td>104</td>\n",
              "      <td>Suresh</td>\n",
              "      <td>9000</td>\n",
              "    </tr>\n",
              "    <tr>\n",
              "      <th>4</th>\n",
              "      <td>105</td>\n",
              "      <td>Sam</td>\n",
              "      <td>11000</td>\n",
              "    </tr>\n",
              "  </tbody>\n",
              "</table>\n",
              "</div>"
            ],
            "text/plain": [
              "   Emp No Emp Name  Salary\n",
              "0     101      Jai   14000\n",
              "1     102   Kannan   10000\n",
              "2     103    Raman    7000\n",
              "3     104   Suresh    9000\n",
              "4     105      Sam   11000"
            ]
          },
          "metadata": {
            "tags": []
          },
          "execution_count": 70
        }
      ]
    },
    {
      "cell_type": "markdown",
      "metadata": {
        "id": "1iiQkrvvXBFY"
      },
      "source": [
        "## 5.1 Indexing using column name\n",
        "\n",
        "\n",
        "> Giving column name in the index part will return only datas from given column.For indexing more than one column, column name can be passed as list.\n",
        "\n"
      ]
    },
    {
      "cell_type": "code",
      "metadata": {
        "colab": {
          "base_uri": "https://localhost:8080/"
        },
        "id": "BVg8xGmbXAZ_",
        "outputId": "ddb4a218-cbb4-42a0-b00a-81bcdc4e2e4c"
      },
      "source": [
        "df['Emp No']"
      ],
      "execution_count": 71,
      "outputs": [
        {
          "output_type": "execute_result",
          "data": {
            "text/plain": [
              "0    101\n",
              "1    102\n",
              "2    103\n",
              "3    104\n",
              "4    105\n",
              "Name: Emp No, dtype: int64"
            ]
          },
          "metadata": {
            "tags": []
          },
          "execution_count": 71
        }
      ]
    },
    {
      "cell_type": "code",
      "metadata": {
        "colab": {
          "base_uri": "https://localhost:8080/",
          "height": 206
        },
        "id": "gMEZUhkvXJLu",
        "outputId": "6970e6dc-2545-4637-8bab-cf3d19b25430"
      },
      "source": [
        "df[['Emp No','Salary']]"
      ],
      "execution_count": 72,
      "outputs": [
        {
          "output_type": "execute_result",
          "data": {
            "text/html": [
              "<div>\n",
              "<style scoped>\n",
              "    .dataframe tbody tr th:only-of-type {\n",
              "        vertical-align: middle;\n",
              "    }\n",
              "\n",
              "    .dataframe tbody tr th {\n",
              "        vertical-align: top;\n",
              "    }\n",
              "\n",
              "    .dataframe thead th {\n",
              "        text-align: right;\n",
              "    }\n",
              "</style>\n",
              "<table border=\"1\" class=\"dataframe\">\n",
              "  <thead>\n",
              "    <tr style=\"text-align: right;\">\n",
              "      <th></th>\n",
              "      <th>Emp No</th>\n",
              "      <th>Salary</th>\n",
              "    </tr>\n",
              "  </thead>\n",
              "  <tbody>\n",
              "    <tr>\n",
              "      <th>0</th>\n",
              "      <td>101</td>\n",
              "      <td>14000</td>\n",
              "    </tr>\n",
              "    <tr>\n",
              "      <th>1</th>\n",
              "      <td>102</td>\n",
              "      <td>10000</td>\n",
              "    </tr>\n",
              "    <tr>\n",
              "      <th>2</th>\n",
              "      <td>103</td>\n",
              "      <td>7000</td>\n",
              "    </tr>\n",
              "    <tr>\n",
              "      <th>3</th>\n",
              "      <td>104</td>\n",
              "      <td>9000</td>\n",
              "    </tr>\n",
              "    <tr>\n",
              "      <th>4</th>\n",
              "      <td>105</td>\n",
              "      <td>11000</td>\n",
              "    </tr>\n",
              "  </tbody>\n",
              "</table>\n",
              "</div>"
            ],
            "text/plain": [
              "   Emp No  Salary\n",
              "0     101   14000\n",
              "1     102   10000\n",
              "2     103    7000\n",
              "3     104    9000\n",
              "4     105   11000"
            ]
          },
          "metadata": {
            "tags": []
          },
          "execution_count": 72
        }
      ]
    },
    {
      "cell_type": "markdown",
      "metadata": {
        "id": "vm8BVX7HXxq0"
      },
      "source": [
        "## 5.2 loc method\n",
        "\n",
        "> Using loc() we can index row, column or both with the Label (column/row name)\n"
      ]
    },
    {
      "cell_type": "code",
      "metadata": {
        "colab": {
          "base_uri": "https://localhost:8080/",
          "height": 143
        },
        "id": "hCLtTKo3ZNGj",
        "outputId": "cb935d04-fe5b-48ca-d372-204deedc2ec2"
      },
      "source": [
        "df.loc[[0,1,2],['Emp No','Salary']]"
      ],
      "execution_count": 73,
      "outputs": [
        {
          "output_type": "execute_result",
          "data": {
            "text/html": [
              "<div>\n",
              "<style scoped>\n",
              "    .dataframe tbody tr th:only-of-type {\n",
              "        vertical-align: middle;\n",
              "    }\n",
              "\n",
              "    .dataframe tbody tr th {\n",
              "        vertical-align: top;\n",
              "    }\n",
              "\n",
              "    .dataframe thead th {\n",
              "        text-align: right;\n",
              "    }\n",
              "</style>\n",
              "<table border=\"1\" class=\"dataframe\">\n",
              "  <thead>\n",
              "    <tr style=\"text-align: right;\">\n",
              "      <th></th>\n",
              "      <th>Emp No</th>\n",
              "      <th>Salary</th>\n",
              "    </tr>\n",
              "  </thead>\n",
              "  <tbody>\n",
              "    <tr>\n",
              "      <th>0</th>\n",
              "      <td>101</td>\n",
              "      <td>14000</td>\n",
              "    </tr>\n",
              "    <tr>\n",
              "      <th>1</th>\n",
              "      <td>102</td>\n",
              "      <td>10000</td>\n",
              "    </tr>\n",
              "    <tr>\n",
              "      <th>2</th>\n",
              "      <td>103</td>\n",
              "      <td>7000</td>\n",
              "    </tr>\n",
              "  </tbody>\n",
              "</table>\n",
              "</div>"
            ],
            "text/plain": [
              "   Emp No  Salary\n",
              "0     101   14000\n",
              "1     102   10000\n",
              "2     103    7000"
            ]
          },
          "metadata": {
            "tags": []
          },
          "execution_count": 73
        }
      ]
    },
    {
      "cell_type": "markdown",
      "metadata": {
        "id": "s8cgyoUSZ_fj"
      },
      "source": [
        "## 5.3 iloc method\n",
        "\n",
        "> iloc is similar to loc method but in iloc we use integers to index\n",
        "\n"
      ]
    },
    {
      "cell_type": "code",
      "metadata": {
        "colab": {
          "base_uri": "https://localhost:8080/",
          "height": 143
        },
        "id": "Fp3W-Em5aUTo",
        "outputId": "2e15903e-5fa3-4a00-84b2-290f36b271ba"
      },
      "source": [
        "df.iloc[:3,1:3]"
      ],
      "execution_count": 74,
      "outputs": [
        {
          "output_type": "execute_result",
          "data": {
            "text/html": [
              "<div>\n",
              "<style scoped>\n",
              "    .dataframe tbody tr th:only-of-type {\n",
              "        vertical-align: middle;\n",
              "    }\n",
              "\n",
              "    .dataframe tbody tr th {\n",
              "        vertical-align: top;\n",
              "    }\n",
              "\n",
              "    .dataframe thead th {\n",
              "        text-align: right;\n",
              "    }\n",
              "</style>\n",
              "<table border=\"1\" class=\"dataframe\">\n",
              "  <thead>\n",
              "    <tr style=\"text-align: right;\">\n",
              "      <th></th>\n",
              "      <th>Emp Name</th>\n",
              "      <th>Salary</th>\n",
              "    </tr>\n",
              "  </thead>\n",
              "  <tbody>\n",
              "    <tr>\n",
              "      <th>0</th>\n",
              "      <td>Jai</td>\n",
              "      <td>14000</td>\n",
              "    </tr>\n",
              "    <tr>\n",
              "      <th>1</th>\n",
              "      <td>Kannan</td>\n",
              "      <td>10000</td>\n",
              "    </tr>\n",
              "    <tr>\n",
              "      <th>2</th>\n",
              "      <td>Raman</td>\n",
              "      <td>7000</td>\n",
              "    </tr>\n",
              "  </tbody>\n",
              "</table>\n",
              "</div>"
            ],
            "text/plain": [
              "  Emp Name  Salary\n",
              "0      Jai   14000\n",
              "1   Kannan   10000\n",
              "2    Raman    7000"
            ]
          },
          "metadata": {
            "tags": []
          },
          "execution_count": 74
        }
      ]
    },
    {
      "cell_type": "markdown",
      "metadata": {
        "id": "sIaaTconatbo"
      },
      "source": [
        "---\n",
        "# 6. Aggregation functions in dataframe\n",
        "\n",
        "> Pandas provides some aggregate functions to do some operations on grouped dataframe.\n",
        "\n",
        "> Some commonly used aggregation functions are\n",
        "\n",
        "*   **count()** - returns total number of items in dataframe\n",
        "*   **sum()** - returns sum of all items\n",
        "*   **mean()** - returns mean of all items\n",
        "*   **min()** - returns minimum\n",
        "*   **max()** - returns maximum\n"
      ]
    },
    {
      "cell_type": "code",
      "metadata": {
        "colab": {
          "base_uri": "https://localhost:8080/",
          "height": 206
        },
        "id": "_iNECH0hnbIl",
        "outputId": "3755bcc0-ac92-4066-df5f-5f811395f6d1"
      },
      "source": [
        "import pandas as pd \n",
        "\n",
        "df_path = 'https://raw.githubusercontent.com/naveen63hdh/Data-Analytics/main/bounty.csv'\n",
        "\n",
        "df = pd.read_csv(df_path)\n",
        "df.head()"
      ],
      "execution_count": 75,
      "outputs": [
        {
          "output_type": "execute_result",
          "data": {
            "text/html": [
              "<div>\n",
              "<style scoped>\n",
              "    .dataframe tbody tr th:only-of-type {\n",
              "        vertical-align: middle;\n",
              "    }\n",
              "\n",
              "    .dataframe tbody tr th {\n",
              "        vertical-align: top;\n",
              "    }\n",
              "\n",
              "    .dataframe thead th {\n",
              "        text-align: right;\n",
              "    }\n",
              "</style>\n",
              "<table border=\"1\" class=\"dataframe\">\n",
              "  <thead>\n",
              "    <tr style=\"text-align: right;\">\n",
              "      <th></th>\n",
              "      <th>Character</th>\n",
              "      <th>Bounty</th>\n",
              "      <th>Status</th>\n",
              "    </tr>\n",
              "  </thead>\n",
              "  <tbody>\n",
              "    <tr>\n",
              "      <th>0</th>\n",
              "      <td>Albion</td>\n",
              "      <td>92000000.0</td>\n",
              "      <td>NaN</td>\n",
              "    </tr>\n",
              "    <tr>\n",
              "      <th>1</th>\n",
              "      <td>Alvida</td>\n",
              "      <td>5000000.0</td>\n",
              "      <td>Retracted</td>\n",
              "    </tr>\n",
              "    <tr>\n",
              "      <th>2</th>\n",
              "      <td>Arlong</td>\n",
              "      <td>20000000.0</td>\n",
              "      <td>Retracted</td>\n",
              "    </tr>\n",
              "    <tr>\n",
              "      <th>3</th>\n",
              "      <td>Avalo Pizarro</td>\n",
              "      <td>NaN</td>\n",
              "      <td>Unknown value</td>\n",
              "    </tr>\n",
              "    <tr>\n",
              "      <th>4</th>\n",
              "      <td>Babe</td>\n",
              "      <td>3200000.0</td>\n",
              "      <td>NaN</td>\n",
              "    </tr>\n",
              "  </tbody>\n",
              "</table>\n",
              "</div>"
            ],
            "text/plain": [
              "       Character      Bounty         Status\n",
              "0         Albion  92000000.0            NaN\n",
              "1         Alvida   5000000.0      Retracted\n",
              "2         Arlong  20000000.0      Retracted\n",
              "3  Avalo Pizarro         NaN  Unknown value\n",
              "4           Babe   3200000.0            NaN"
            ]
          },
          "metadata": {
            "tags": []
          },
          "execution_count": 75
        }
      ]
    },
    {
      "cell_type": "markdown",
      "metadata": {
        "id": "o3oukmmnngYX"
      },
      "source": [
        "## 6.1 count() - returns total number of items in dataframe"
      ]
    },
    {
      "cell_type": "code",
      "metadata": {
        "colab": {
          "base_uri": "https://localhost:8080/",
          "height": 269
        },
        "id": "pjvpRBeSoqz6",
        "outputId": "fb1eb6fe-fd36-4c68-dd07-747c8b39b5be"
      },
      "source": [
        "df.groupby('Status').count()"
      ],
      "execution_count": 76,
      "outputs": [
        {
          "output_type": "execute_result",
          "data": {
            "text/html": [
              "<div>\n",
              "<style scoped>\n",
              "    .dataframe tbody tr th:only-of-type {\n",
              "        vertical-align: middle;\n",
              "    }\n",
              "\n",
              "    .dataframe tbody tr th {\n",
              "        vertical-align: top;\n",
              "    }\n",
              "\n",
              "    .dataframe thead th {\n",
              "        text-align: right;\n",
              "    }\n",
              "</style>\n",
              "<table border=\"1\" class=\"dataframe\">\n",
              "  <thead>\n",
              "    <tr style=\"text-align: right;\">\n",
              "      <th></th>\n",
              "      <th>Character</th>\n",
              "      <th>Bounty</th>\n",
              "    </tr>\n",
              "    <tr>\n",
              "      <th>Status</th>\n",
              "      <th></th>\n",
              "      <th></th>\n",
              "    </tr>\n",
              "  </thead>\n",
              "  <tbody>\n",
              "    <tr>\n",
              "      <th>As Nyaban Brothers</th>\n",
              "      <td>2</td>\n",
              "      <td>2</td>\n",
              "    </tr>\n",
              "    <tr>\n",
              "      <th>Over</th>\n",
              "      <td>4</td>\n",
              "      <td>4</td>\n",
              "    </tr>\n",
              "    <tr>\n",
              "      <th>Retracted</th>\n",
              "      <td>22</td>\n",
              "      <td>22</td>\n",
              "    </tr>\n",
              "    <tr>\n",
              "      <th>Unknown value</th>\n",
              "      <td>18</td>\n",
              "      <td>0</td>\n",
              "    </tr>\n",
              "    <tr>\n",
              "      <th>Wanted by Coast Guard</th>\n",
              "      <td>1</td>\n",
              "      <td>1</td>\n",
              "    </tr>\n",
              "    <tr>\n",
              "      <th>¥</th>\n",
              "      <td>1</td>\n",
              "      <td>1</td>\n",
              "    </tr>\n",
              "  </tbody>\n",
              "</table>\n",
              "</div>"
            ],
            "text/plain": [
              "                       Character  Bounty\n",
              "Status                                  \n",
              "As Nyaban Brothers             2       2\n",
              "Over                           4       4\n",
              "Retracted                     22      22\n",
              "Unknown value                 18       0\n",
              "Wanted by Coast Guard          1       1\n",
              "¥                              1       1"
            ]
          },
          "metadata": {
            "tags": []
          },
          "execution_count": 76
        }
      ]
    },
    {
      "cell_type": "markdown",
      "metadata": {
        "id": "3OGdowpGnyZ4"
      },
      "source": [
        "## 6.2 sum() - returns sum of all items"
      ]
    },
    {
      "cell_type": "code",
      "metadata": {
        "colab": {
          "base_uri": "https://localhost:8080/",
          "height": 269
        },
        "id": "_gakOxBPwiB3",
        "outputId": "fe27f80d-82a1-4183-9e9b-bce11f58054c"
      },
      "source": [
        "df.groupby('Status').sum()"
      ],
      "execution_count": 77,
      "outputs": [
        {
          "output_type": "execute_result",
          "data": {
            "text/html": [
              "<div>\n",
              "<style scoped>\n",
              "    .dataframe tbody tr th:only-of-type {\n",
              "        vertical-align: middle;\n",
              "    }\n",
              "\n",
              "    .dataframe tbody tr th {\n",
              "        vertical-align: top;\n",
              "    }\n",
              "\n",
              "    .dataframe thead th {\n",
              "        text-align: right;\n",
              "    }\n",
              "</style>\n",
              "<table border=\"1\" class=\"dataframe\">\n",
              "  <thead>\n",
              "    <tr style=\"text-align: right;\">\n",
              "      <th></th>\n",
              "      <th>Bounty</th>\n",
              "    </tr>\n",
              "    <tr>\n",
              "      <th>Status</th>\n",
              "      <th></th>\n",
              "    </tr>\n",
              "  </thead>\n",
              "  <tbody>\n",
              "    <tr>\n",
              "      <th>As Nyaban Brothers</th>\n",
              "      <td>1.400000e+07</td>\n",
              "    </tr>\n",
              "    <tr>\n",
              "      <th>Over</th>\n",
              "      <td>1.982000e+08</td>\n",
              "    </tr>\n",
              "    <tr>\n",
              "      <th>Retracted</th>\n",
              "      <td>1.259286e+10</td>\n",
              "    </tr>\n",
              "    <tr>\n",
              "      <th>Unknown value</th>\n",
              "      <td>0.000000e+00</td>\n",
              "    </tr>\n",
              "    <tr>\n",
              "      <th>Wanted by Coast Guard</th>\n",
              "      <td>7.800000e+06</td>\n",
              "    </tr>\n",
              "    <tr>\n",
              "      <th>¥</th>\n",
              "      <td>1.000000e+06</td>\n",
              "    </tr>\n",
              "  </tbody>\n",
              "</table>\n",
              "</div>"
            ],
            "text/plain": [
              "                             Bounty\n",
              "Status                             \n",
              "As Nyaban Brothers     1.400000e+07\n",
              "Over                   1.982000e+08\n",
              "Retracted              1.259286e+10\n",
              "Unknown value          0.000000e+00\n",
              "Wanted by Coast Guard  7.800000e+06\n",
              "¥                      1.000000e+06"
            ]
          },
          "metadata": {
            "tags": []
          },
          "execution_count": 77
        }
      ]
    },
    {
      "cell_type": "markdown",
      "metadata": {
        "id": "M8yokhG6n3PK"
      },
      "source": [
        "## 6.3 mean() - returns mean of all items"
      ]
    },
    {
      "cell_type": "code",
      "metadata": {
        "colab": {
          "base_uri": "https://localhost:8080/",
          "height": 269
        },
        "id": "8sqqdr_vwlik",
        "outputId": "78719440-2fd8-42a6-9a65-bfdf41908487"
      },
      "source": [
        "df.groupby('Status').mean()"
      ],
      "execution_count": 78,
      "outputs": [
        {
          "output_type": "execute_result",
          "data": {
            "text/html": [
              "<div>\n",
              "<style scoped>\n",
              "    .dataframe tbody tr th:only-of-type {\n",
              "        vertical-align: middle;\n",
              "    }\n",
              "\n",
              "    .dataframe tbody tr th {\n",
              "        vertical-align: top;\n",
              "    }\n",
              "\n",
              "    .dataframe thead th {\n",
              "        text-align: right;\n",
              "    }\n",
              "</style>\n",
              "<table border=\"1\" class=\"dataframe\">\n",
              "  <thead>\n",
              "    <tr style=\"text-align: right;\">\n",
              "      <th></th>\n",
              "      <th>Bounty</th>\n",
              "    </tr>\n",
              "    <tr>\n",
              "      <th>Status</th>\n",
              "      <th></th>\n",
              "    </tr>\n",
              "  </thead>\n",
              "  <tbody>\n",
              "    <tr>\n",
              "      <th>As Nyaban Brothers</th>\n",
              "      <td>7.000000e+06</td>\n",
              "    </tr>\n",
              "    <tr>\n",
              "      <th>Over</th>\n",
              "      <td>4.955000e+07</td>\n",
              "    </tr>\n",
              "    <tr>\n",
              "      <th>Retracted</th>\n",
              "      <td>5.724027e+08</td>\n",
              "    </tr>\n",
              "    <tr>\n",
              "      <th>Unknown value</th>\n",
              "      <td>NaN</td>\n",
              "    </tr>\n",
              "    <tr>\n",
              "      <th>Wanted by Coast Guard</th>\n",
              "      <td>7.800000e+06</td>\n",
              "    </tr>\n",
              "    <tr>\n",
              "      <th>¥</th>\n",
              "      <td>1.000000e+06</td>\n",
              "    </tr>\n",
              "  </tbody>\n",
              "</table>\n",
              "</div>"
            ],
            "text/plain": [
              "                             Bounty\n",
              "Status                             \n",
              "As Nyaban Brothers     7.000000e+06\n",
              "Over                   4.955000e+07\n",
              "Retracted              5.724027e+08\n",
              "Unknown value                   NaN\n",
              "Wanted by Coast Guard  7.800000e+06\n",
              "¥                      1.000000e+06"
            ]
          },
          "metadata": {
            "tags": []
          },
          "execution_count": 78
        }
      ]
    },
    {
      "cell_type": "markdown",
      "metadata": {
        "id": "VLSK0Fwyn5yS"
      },
      "source": [
        "## 6.4 min() - returns minimum\n",
        "\n"
      ]
    },
    {
      "cell_type": "code",
      "metadata": {
        "colab": {
          "base_uri": "https://localhost:8080/",
          "height": 269
        },
        "id": "1YmuitgDwqzX",
        "outputId": "d6617f34-98cd-4a0b-c730-bcce56c98758"
      },
      "source": [
        "df.groupby('Status').min()"
      ],
      "execution_count": 79,
      "outputs": [
        {
          "output_type": "execute_result",
          "data": {
            "text/html": [
              "<div>\n",
              "<style scoped>\n",
              "    .dataframe tbody tr th:only-of-type {\n",
              "        vertical-align: middle;\n",
              "    }\n",
              "\n",
              "    .dataframe tbody tr th {\n",
              "        vertical-align: top;\n",
              "    }\n",
              "\n",
              "    .dataframe thead th {\n",
              "        text-align: right;\n",
              "    }\n",
              "</style>\n",
              "<table border=\"1\" class=\"dataframe\">\n",
              "  <thead>\n",
              "    <tr style=\"text-align: right;\">\n",
              "      <th></th>\n",
              "      <th>Character</th>\n",
              "      <th>Bounty</th>\n",
              "    </tr>\n",
              "    <tr>\n",
              "      <th>Status</th>\n",
              "      <th></th>\n",
              "      <th></th>\n",
              "    </tr>\n",
              "  </thead>\n",
              "  <tbody>\n",
              "    <tr>\n",
              "      <th>As Nyaban Brothers</th>\n",
              "      <td>Buchi</td>\n",
              "      <td>7000000.0</td>\n",
              "    </tr>\n",
              "    <tr>\n",
              "      <th>Over</th>\n",
              "      <td>Doc Q</td>\n",
              "      <td>20000000.0</td>\n",
              "    </tr>\n",
              "    <tr>\n",
              "      <th>Retracted</th>\n",
              "      <td>(pirate defeated by Smoker in chapter 439)</td>\n",
              "      <td>5000000.0</td>\n",
              "    </tr>\n",
              "    <tr>\n",
              "      <th>Unknown value</th>\n",
              "      <td>Avalo Pizarro</td>\n",
              "      <td>NaN</td>\n",
              "    </tr>\n",
              "    <tr>\n",
              "      <th>Wanted by Coast Guard</th>\n",
              "      <td>Curly Dadan</td>\n",
              "      <td>7800000.0</td>\n",
              "    </tr>\n",
              "    <tr>\n",
              "      <th>¥</th>\n",
              "      <td>Mikio Itoo</td>\n",
              "      <td>1000000.0</td>\n",
              "    </tr>\n",
              "  </tbody>\n",
              "</table>\n",
              "</div>"
            ],
            "text/plain": [
              "                                                        Character      Bounty\n",
              "Status                                                                       \n",
              "As Nyaban Brothers                                          Buchi   7000000.0\n",
              "Over                                                        Doc Q  20000000.0\n",
              "Retracted              (pirate defeated by Smoker in chapter 439)   5000000.0\n",
              "Unknown value                                       Avalo Pizarro         NaN\n",
              "Wanted by Coast Guard                                 Curly Dadan   7800000.0\n",
              "¥                                                      Mikio Itoo   1000000.0"
            ]
          },
          "metadata": {
            "tags": []
          },
          "execution_count": 79
        }
      ]
    },
    {
      "cell_type": "markdown",
      "metadata": {
        "id": "xkGzvG41n7zY"
      },
      "source": [
        "## 6.5 max() - returns maximum"
      ]
    },
    {
      "cell_type": "code",
      "metadata": {
        "colab": {
          "base_uri": "https://localhost:8080/",
          "height": 269
        },
        "id": "3YFh0AonwurL",
        "outputId": "cde5b5af-889b-4c77-cdd9-909951caa881"
      },
      "source": [
        "df.groupby('Status').max()"
      ],
      "execution_count": 80,
      "outputs": [
        {
          "output_type": "execute_result",
          "data": {
            "text/html": [
              "<div>\n",
              "<style scoped>\n",
              "    .dataframe tbody tr th:only-of-type {\n",
              "        vertical-align: middle;\n",
              "    }\n",
              "\n",
              "    .dataframe tbody tr th {\n",
              "        vertical-align: top;\n",
              "    }\n",
              "\n",
              "    .dataframe thead th {\n",
              "        text-align: right;\n",
              "    }\n",
              "</style>\n",
              "<table border=\"1\" class=\"dataframe\">\n",
              "  <thead>\n",
              "    <tr style=\"text-align: right;\">\n",
              "      <th></th>\n",
              "      <th>Character</th>\n",
              "      <th>Bounty</th>\n",
              "    </tr>\n",
              "    <tr>\n",
              "      <th>Status</th>\n",
              "      <th></th>\n",
              "      <th></th>\n",
              "    </tr>\n",
              "  </thead>\n",
              "  <tbody>\n",
              "    <tr>\n",
              "      <th>As Nyaban Brothers</th>\n",
              "      <td>Sham</td>\n",
              "      <td>7.000000e+06</td>\n",
              "    </tr>\n",
              "    <tr>\n",
              "      <th>Over</th>\n",
              "      <td>Van Augur</td>\n",
              "      <td>7.200000e+07</td>\n",
              "    </tr>\n",
              "    <tr>\n",
              "      <th>Retracted</th>\n",
              "      <td>Trebol</td>\n",
              "      <td>5.564800e+09</td>\n",
              "    </tr>\n",
              "    <tr>\n",
              "      <th>Unknown value</th>\n",
              "      <td>Yorki</td>\n",
              "      <td>NaN</td>\n",
              "    </tr>\n",
              "    <tr>\n",
              "      <th>Wanted by Coast Guard</th>\n",
              "      <td>Curly Dadan</td>\n",
              "      <td>7.800000e+06</td>\n",
              "    </tr>\n",
              "    <tr>\n",
              "      <th>¥</th>\n",
              "      <td>Mikio Itoo</td>\n",
              "      <td>1.000000e+06</td>\n",
              "    </tr>\n",
              "  </tbody>\n",
              "</table>\n",
              "</div>"
            ],
            "text/plain": [
              "                         Character        Bounty\n",
              "Status                                          \n",
              "As Nyaban Brothers            Sham  7.000000e+06\n",
              "Over                     Van Augur  7.200000e+07\n",
              "Retracted                   Trebol  5.564800e+09\n",
              "Unknown value                Yorki           NaN\n",
              "Wanted by Coast Guard  Curly Dadan  7.800000e+06\n",
              "¥                       Mikio Itoo  1.000000e+06"
            ]
          },
          "metadata": {
            "tags": []
          },
          "execution_count": 80
        }
      ]
    },
    {
      "cell_type": "markdown",
      "metadata": {
        "id": "fybe7x2uxR8y"
      },
      "source": [
        "\n",
        "\n",
        "---\n",
        "\n",
        "\n",
        "# 7 Appending rows and columns to dataframe\n",
        "\n",
        "\n",
        "> In Pandas appending rows and columns to a dataframe can be done in many number of ways some of them are:\n",
        "\n",
        "*   By using append()\n",
        "*   By appending rows using loc[] method.\n",
        "*   By appending colums using lists.\n"
      ]
    },
    {
      "cell_type": "code",
      "metadata": {
        "id": "Rdd8uqLGMS10"
      },
      "source": [
        "import pandas as pd"
      ],
      "execution_count": 81,
      "outputs": []
    },
    {
      "cell_type": "markdown",
      "metadata": {
        "id": "x2eKbHcwMXr9"
      },
      "source": [
        "## 7.1 By using append()\n",
        "\n",
        "> By using append() we can append both rows and columns from one dataframe to another. The 3 types of appending using append() are:\n",
        "\n",
        "\n",
        "*   With same index as dataframes\n",
        "*   By ignoring index\n",
        "*   With Different Shapes\n",
        "\n"
      ]
    },
    {
      "cell_type": "code",
      "metadata": {
        "colab": {
          "base_uri": "https://localhost:8080/",
          "height": 206
        },
        "id": "-d7qX3LkSAu-",
        "outputId": "eae4b1d1-3b89-41e3-a6aa-defe2d1233ce"
      },
      "source": [
        "data1 = {'Emp No':[101,102,103,104,105],\n",
        "        'Emp Name':['Jai','Kannan','Raman','Suresh','Sam'],\n",
        "        'Salary':[14000,10000,7000,9000,11000]}                \n",
        "\n",
        "df1 = pd.DataFrame(data1)\n",
        "df1"
      ],
      "execution_count": 82,
      "outputs": [
        {
          "output_type": "execute_result",
          "data": {
            "text/html": [
              "<div>\n",
              "<style scoped>\n",
              "    .dataframe tbody tr th:only-of-type {\n",
              "        vertical-align: middle;\n",
              "    }\n",
              "\n",
              "    .dataframe tbody tr th {\n",
              "        vertical-align: top;\n",
              "    }\n",
              "\n",
              "    .dataframe thead th {\n",
              "        text-align: right;\n",
              "    }\n",
              "</style>\n",
              "<table border=\"1\" class=\"dataframe\">\n",
              "  <thead>\n",
              "    <tr style=\"text-align: right;\">\n",
              "      <th></th>\n",
              "      <th>Emp No</th>\n",
              "      <th>Emp Name</th>\n",
              "      <th>Salary</th>\n",
              "    </tr>\n",
              "  </thead>\n",
              "  <tbody>\n",
              "    <tr>\n",
              "      <th>0</th>\n",
              "      <td>101</td>\n",
              "      <td>Jai</td>\n",
              "      <td>14000</td>\n",
              "    </tr>\n",
              "    <tr>\n",
              "      <th>1</th>\n",
              "      <td>102</td>\n",
              "      <td>Kannan</td>\n",
              "      <td>10000</td>\n",
              "    </tr>\n",
              "    <tr>\n",
              "      <th>2</th>\n",
              "      <td>103</td>\n",
              "      <td>Raman</td>\n",
              "      <td>7000</td>\n",
              "    </tr>\n",
              "    <tr>\n",
              "      <th>3</th>\n",
              "      <td>104</td>\n",
              "      <td>Suresh</td>\n",
              "      <td>9000</td>\n",
              "    </tr>\n",
              "    <tr>\n",
              "      <th>4</th>\n",
              "      <td>105</td>\n",
              "      <td>Sam</td>\n",
              "      <td>11000</td>\n",
              "    </tr>\n",
              "  </tbody>\n",
              "</table>\n",
              "</div>"
            ],
            "text/plain": [
              "   Emp No Emp Name  Salary\n",
              "0     101      Jai   14000\n",
              "1     102   Kannan   10000\n",
              "2     103    Raman    7000\n",
              "3     104   Suresh    9000\n",
              "4     105      Sam   11000"
            ]
          },
          "metadata": {
            "tags": []
          },
          "execution_count": 82
        }
      ]
    },
    {
      "cell_type": "markdown",
      "metadata": {
        "id": "AVdAN03KSH43"
      },
      "source": [
        "### 7.1.1 With same index as dataframes"
      ]
    },
    {
      "cell_type": "code",
      "metadata": {
        "colab": {
          "base_uri": "https://localhost:8080/",
          "height": 332
        },
        "id": "z6fACOFKTC_1",
        "outputId": "40bc5583-d588-4bf9-ad9c-d996b055182f"
      },
      "source": [
        "data2 = {\n",
        "        'Emp No':[201,202,203,204],\n",
        "        'Emp Name':['Vivek','Gaurav','Vishwa','Guru'],\n",
        "        'Salary':[10000,13000,15000,12000]\n",
        "         }\n",
        "\n",
        "df2 = pd.DataFrame(data2)\n",
        "df1.append(df2)"
      ],
      "execution_count": 83,
      "outputs": [
        {
          "output_type": "execute_result",
          "data": {
            "text/html": [
              "<div>\n",
              "<style scoped>\n",
              "    .dataframe tbody tr th:only-of-type {\n",
              "        vertical-align: middle;\n",
              "    }\n",
              "\n",
              "    .dataframe tbody tr th {\n",
              "        vertical-align: top;\n",
              "    }\n",
              "\n",
              "    .dataframe thead th {\n",
              "        text-align: right;\n",
              "    }\n",
              "</style>\n",
              "<table border=\"1\" class=\"dataframe\">\n",
              "  <thead>\n",
              "    <tr style=\"text-align: right;\">\n",
              "      <th></th>\n",
              "      <th>Emp No</th>\n",
              "      <th>Emp Name</th>\n",
              "      <th>Salary</th>\n",
              "    </tr>\n",
              "  </thead>\n",
              "  <tbody>\n",
              "    <tr>\n",
              "      <th>0</th>\n",
              "      <td>101</td>\n",
              "      <td>Jai</td>\n",
              "      <td>14000</td>\n",
              "    </tr>\n",
              "    <tr>\n",
              "      <th>1</th>\n",
              "      <td>102</td>\n",
              "      <td>Kannan</td>\n",
              "      <td>10000</td>\n",
              "    </tr>\n",
              "    <tr>\n",
              "      <th>2</th>\n",
              "      <td>103</td>\n",
              "      <td>Raman</td>\n",
              "      <td>7000</td>\n",
              "    </tr>\n",
              "    <tr>\n",
              "      <th>3</th>\n",
              "      <td>104</td>\n",
              "      <td>Suresh</td>\n",
              "      <td>9000</td>\n",
              "    </tr>\n",
              "    <tr>\n",
              "      <th>4</th>\n",
              "      <td>105</td>\n",
              "      <td>Sam</td>\n",
              "      <td>11000</td>\n",
              "    </tr>\n",
              "    <tr>\n",
              "      <th>0</th>\n",
              "      <td>201</td>\n",
              "      <td>Vivek</td>\n",
              "      <td>10000</td>\n",
              "    </tr>\n",
              "    <tr>\n",
              "      <th>1</th>\n",
              "      <td>202</td>\n",
              "      <td>Gaurav</td>\n",
              "      <td>13000</td>\n",
              "    </tr>\n",
              "    <tr>\n",
              "      <th>2</th>\n",
              "      <td>203</td>\n",
              "      <td>Vishwa</td>\n",
              "      <td>15000</td>\n",
              "    </tr>\n",
              "    <tr>\n",
              "      <th>3</th>\n",
              "      <td>204</td>\n",
              "      <td>Guru</td>\n",
              "      <td>12000</td>\n",
              "    </tr>\n",
              "  </tbody>\n",
              "</table>\n",
              "</div>"
            ],
            "text/plain": [
              "   Emp No Emp Name  Salary\n",
              "0     101      Jai   14000\n",
              "1     102   Kannan   10000\n",
              "2     103    Raman    7000\n",
              "3     104   Suresh    9000\n",
              "4     105      Sam   11000\n",
              "0     201    Vivek   10000\n",
              "1     202   Gaurav   13000\n",
              "2     203   Vishwa   15000\n",
              "3     204     Guru   12000"
            ]
          },
          "metadata": {
            "tags": []
          },
          "execution_count": 83
        }
      ]
    },
    {
      "cell_type": "markdown",
      "metadata": {
        "id": "3LWY42gRZO3E"
      },
      "source": [
        "### 7.1.2 By ignoring index"
      ]
    },
    {
      "cell_type": "code",
      "metadata": {
        "colab": {
          "base_uri": "https://localhost:8080/",
          "height": 332
        },
        "id": "Mmfpnz9aZeyY",
        "outputId": "086090a4-3e2d-4cc0-9899-1c4fe9352d37"
      },
      "source": [
        "data2 = {\n",
        "        'Emp No':[201,202,203,204],\n",
        "        'Emp Name':['Vivek','Gaurav','Vishwa','Guru'],\n",
        "        'Salary':[10000,13000,15000,12000]\n",
        "         }\n",
        "\n",
        "df2 = pd.DataFrame(data2)\n",
        "df1.append(df2,ignore_index=True)"
      ],
      "execution_count": 84,
      "outputs": [
        {
          "output_type": "execute_result",
          "data": {
            "text/html": [
              "<div>\n",
              "<style scoped>\n",
              "    .dataframe tbody tr th:only-of-type {\n",
              "        vertical-align: middle;\n",
              "    }\n",
              "\n",
              "    .dataframe tbody tr th {\n",
              "        vertical-align: top;\n",
              "    }\n",
              "\n",
              "    .dataframe thead th {\n",
              "        text-align: right;\n",
              "    }\n",
              "</style>\n",
              "<table border=\"1\" class=\"dataframe\">\n",
              "  <thead>\n",
              "    <tr style=\"text-align: right;\">\n",
              "      <th></th>\n",
              "      <th>Emp No</th>\n",
              "      <th>Emp Name</th>\n",
              "      <th>Salary</th>\n",
              "    </tr>\n",
              "  </thead>\n",
              "  <tbody>\n",
              "    <tr>\n",
              "      <th>0</th>\n",
              "      <td>101</td>\n",
              "      <td>Jai</td>\n",
              "      <td>14000</td>\n",
              "    </tr>\n",
              "    <tr>\n",
              "      <th>1</th>\n",
              "      <td>102</td>\n",
              "      <td>Kannan</td>\n",
              "      <td>10000</td>\n",
              "    </tr>\n",
              "    <tr>\n",
              "      <th>2</th>\n",
              "      <td>103</td>\n",
              "      <td>Raman</td>\n",
              "      <td>7000</td>\n",
              "    </tr>\n",
              "    <tr>\n",
              "      <th>3</th>\n",
              "      <td>104</td>\n",
              "      <td>Suresh</td>\n",
              "      <td>9000</td>\n",
              "    </tr>\n",
              "    <tr>\n",
              "      <th>4</th>\n",
              "      <td>105</td>\n",
              "      <td>Sam</td>\n",
              "      <td>11000</td>\n",
              "    </tr>\n",
              "    <tr>\n",
              "      <th>5</th>\n",
              "      <td>201</td>\n",
              "      <td>Vivek</td>\n",
              "      <td>10000</td>\n",
              "    </tr>\n",
              "    <tr>\n",
              "      <th>6</th>\n",
              "      <td>202</td>\n",
              "      <td>Gaurav</td>\n",
              "      <td>13000</td>\n",
              "    </tr>\n",
              "    <tr>\n",
              "      <th>7</th>\n",
              "      <td>203</td>\n",
              "      <td>Vishwa</td>\n",
              "      <td>15000</td>\n",
              "    </tr>\n",
              "    <tr>\n",
              "      <th>8</th>\n",
              "      <td>204</td>\n",
              "      <td>Guru</td>\n",
              "      <td>12000</td>\n",
              "    </tr>\n",
              "  </tbody>\n",
              "</table>\n",
              "</div>"
            ],
            "text/plain": [
              "   Emp No Emp Name  Salary\n",
              "0     101      Jai   14000\n",
              "1     102   Kannan   10000\n",
              "2     103    Raman    7000\n",
              "3     104   Suresh    9000\n",
              "4     105      Sam   11000\n",
              "5     201    Vivek   10000\n",
              "6     202   Gaurav   13000\n",
              "7     203   Vishwa   15000\n",
              "8     204     Guru   12000"
            ]
          },
          "metadata": {
            "tags": []
          },
          "execution_count": 84
        }
      ]
    },
    {
      "cell_type": "markdown",
      "metadata": {
        "id": "7tPec6lZaj4A"
      },
      "source": [
        "### 7.1.3 With Different Shapes"
      ]
    },
    {
      "cell_type": "code",
      "metadata": {
        "colab": {
          "base_uri": "https://localhost:8080/",
          "height": 394
        },
        "id": "B4DwoBAXZwir",
        "outputId": "1aa2f5dd-1128-484b-f3c7-c517956352a6"
      },
      "source": [
        "data2 = {'Emp No':[101,102,104,105,106,107],        \n",
        "        'Team Leader':['Vivek','Gaurav','Vivek','Vishwa','Vishwa','Guru']}\n",
        "df2 = pd.DataFrame(data2)\n",
        "df1.append(df2,ignore_index = True)"
      ],
      "execution_count": 85,
      "outputs": [
        {
          "output_type": "execute_result",
          "data": {
            "text/html": [
              "<div>\n",
              "<style scoped>\n",
              "    .dataframe tbody tr th:only-of-type {\n",
              "        vertical-align: middle;\n",
              "    }\n",
              "\n",
              "    .dataframe tbody tr th {\n",
              "        vertical-align: top;\n",
              "    }\n",
              "\n",
              "    .dataframe thead th {\n",
              "        text-align: right;\n",
              "    }\n",
              "</style>\n",
              "<table border=\"1\" class=\"dataframe\">\n",
              "  <thead>\n",
              "    <tr style=\"text-align: right;\">\n",
              "      <th></th>\n",
              "      <th>Emp No</th>\n",
              "      <th>Emp Name</th>\n",
              "      <th>Salary</th>\n",
              "      <th>Team Leader</th>\n",
              "    </tr>\n",
              "  </thead>\n",
              "  <tbody>\n",
              "    <tr>\n",
              "      <th>0</th>\n",
              "      <td>101</td>\n",
              "      <td>Jai</td>\n",
              "      <td>14000.0</td>\n",
              "      <td>NaN</td>\n",
              "    </tr>\n",
              "    <tr>\n",
              "      <th>1</th>\n",
              "      <td>102</td>\n",
              "      <td>Kannan</td>\n",
              "      <td>10000.0</td>\n",
              "      <td>NaN</td>\n",
              "    </tr>\n",
              "    <tr>\n",
              "      <th>2</th>\n",
              "      <td>103</td>\n",
              "      <td>Raman</td>\n",
              "      <td>7000.0</td>\n",
              "      <td>NaN</td>\n",
              "    </tr>\n",
              "    <tr>\n",
              "      <th>3</th>\n",
              "      <td>104</td>\n",
              "      <td>Suresh</td>\n",
              "      <td>9000.0</td>\n",
              "      <td>NaN</td>\n",
              "    </tr>\n",
              "    <tr>\n",
              "      <th>4</th>\n",
              "      <td>105</td>\n",
              "      <td>Sam</td>\n",
              "      <td>11000.0</td>\n",
              "      <td>NaN</td>\n",
              "    </tr>\n",
              "    <tr>\n",
              "      <th>5</th>\n",
              "      <td>101</td>\n",
              "      <td>NaN</td>\n",
              "      <td>NaN</td>\n",
              "      <td>Vivek</td>\n",
              "    </tr>\n",
              "    <tr>\n",
              "      <th>6</th>\n",
              "      <td>102</td>\n",
              "      <td>NaN</td>\n",
              "      <td>NaN</td>\n",
              "      <td>Gaurav</td>\n",
              "    </tr>\n",
              "    <tr>\n",
              "      <th>7</th>\n",
              "      <td>104</td>\n",
              "      <td>NaN</td>\n",
              "      <td>NaN</td>\n",
              "      <td>Vivek</td>\n",
              "    </tr>\n",
              "    <tr>\n",
              "      <th>8</th>\n",
              "      <td>105</td>\n",
              "      <td>NaN</td>\n",
              "      <td>NaN</td>\n",
              "      <td>Vishwa</td>\n",
              "    </tr>\n",
              "    <tr>\n",
              "      <th>9</th>\n",
              "      <td>106</td>\n",
              "      <td>NaN</td>\n",
              "      <td>NaN</td>\n",
              "      <td>Vishwa</td>\n",
              "    </tr>\n",
              "    <tr>\n",
              "      <th>10</th>\n",
              "      <td>107</td>\n",
              "      <td>NaN</td>\n",
              "      <td>NaN</td>\n",
              "      <td>Guru</td>\n",
              "    </tr>\n",
              "  </tbody>\n",
              "</table>\n",
              "</div>"
            ],
            "text/plain": [
              "    Emp No Emp Name   Salary Team Leader\n",
              "0      101      Jai  14000.0         NaN\n",
              "1      102   Kannan  10000.0         NaN\n",
              "2      103    Raman   7000.0         NaN\n",
              "3      104   Suresh   9000.0         NaN\n",
              "4      105      Sam  11000.0         NaN\n",
              "5      101      NaN      NaN       Vivek\n",
              "6      102      NaN      NaN      Gaurav\n",
              "7      104      NaN      NaN       Vivek\n",
              "8      105      NaN      NaN      Vishwa\n",
              "9      106      NaN      NaN      Vishwa\n",
              "10     107      NaN      NaN        Guru"
            ]
          },
          "metadata": {
            "tags": []
          },
          "execution_count": 85
        }
      ]
    },
    {
      "cell_type": "markdown",
      "metadata": {
        "id": "TK1YIN8ubA4c"
      },
      "source": [
        "## 7.2 By appending rows using loc[] method\n",
        "\n",
        "> Create an empty DataFrame with a column name and indices and then appending rows one by one to it using loc[] method.\n",
        "\n"
      ]
    },
    {
      "cell_type": "code",
      "metadata": {
        "colab": {
          "base_uri": "https://localhost:8080/",
          "height": 206
        },
        "id": "Dz1BHLWKfaGX",
        "outputId": "25bb06cf-16c4-4897-9cb2-d59090e66f56"
      },
      "source": [
        "df1 = pd.DataFrame(columns=[\"Emp Name\",\"Salary\"],index=[101,102,103,104,105])\n",
        "df1"
      ],
      "execution_count": 86,
      "outputs": [
        {
          "output_type": "execute_result",
          "data": {
            "text/html": [
              "<div>\n",
              "<style scoped>\n",
              "    .dataframe tbody tr th:only-of-type {\n",
              "        vertical-align: middle;\n",
              "    }\n",
              "\n",
              "    .dataframe tbody tr th {\n",
              "        vertical-align: top;\n",
              "    }\n",
              "\n",
              "    .dataframe thead th {\n",
              "        text-align: right;\n",
              "    }\n",
              "</style>\n",
              "<table border=\"1\" class=\"dataframe\">\n",
              "  <thead>\n",
              "    <tr style=\"text-align: right;\">\n",
              "      <th></th>\n",
              "      <th>Emp Name</th>\n",
              "      <th>Salary</th>\n",
              "    </tr>\n",
              "  </thead>\n",
              "  <tbody>\n",
              "    <tr>\n",
              "      <th>101</th>\n",
              "      <td>NaN</td>\n",
              "      <td>NaN</td>\n",
              "    </tr>\n",
              "    <tr>\n",
              "      <th>102</th>\n",
              "      <td>NaN</td>\n",
              "      <td>NaN</td>\n",
              "    </tr>\n",
              "    <tr>\n",
              "      <th>103</th>\n",
              "      <td>NaN</td>\n",
              "      <td>NaN</td>\n",
              "    </tr>\n",
              "    <tr>\n",
              "      <th>104</th>\n",
              "      <td>NaN</td>\n",
              "      <td>NaN</td>\n",
              "    </tr>\n",
              "    <tr>\n",
              "      <th>105</th>\n",
              "      <td>NaN</td>\n",
              "      <td>NaN</td>\n",
              "    </tr>\n",
              "  </tbody>\n",
              "</table>\n",
              "</div>"
            ],
            "text/plain": [
              "    Emp Name Salary\n",
              "101      NaN    NaN\n",
              "102      NaN    NaN\n",
              "103      NaN    NaN\n",
              "104      NaN    NaN\n",
              "105      NaN    NaN"
            ]
          },
          "metadata": {
            "tags": []
          },
          "execution_count": 86
        }
      ]
    },
    {
      "cell_type": "code",
      "metadata": {
        "colab": {
          "base_uri": "https://localhost:8080/",
          "height": 206
        },
        "id": "oXcnkeqzfkKv",
        "outputId": "286eb007-21b7-47b9-8b7a-70fba7c20337"
      },
      "source": [
        "df1.loc[101] = ['Jai',14000]\n",
        "df1.loc[102] = ['Kannan',10000]\n",
        "df1.loc[103] = ['Raman',7000]\n",
        "df1.loc[104] = ['Suresh',9000]\n",
        "df1.loc[105] = ['Sam',11000]\n",
        "df1"
      ],
      "execution_count": 87,
      "outputs": [
        {
          "output_type": "execute_result",
          "data": {
            "text/html": [
              "<div>\n",
              "<style scoped>\n",
              "    .dataframe tbody tr th:only-of-type {\n",
              "        vertical-align: middle;\n",
              "    }\n",
              "\n",
              "    .dataframe tbody tr th {\n",
              "        vertical-align: top;\n",
              "    }\n",
              "\n",
              "    .dataframe thead th {\n",
              "        text-align: right;\n",
              "    }\n",
              "</style>\n",
              "<table border=\"1\" class=\"dataframe\">\n",
              "  <thead>\n",
              "    <tr style=\"text-align: right;\">\n",
              "      <th></th>\n",
              "      <th>Emp Name</th>\n",
              "      <th>Salary</th>\n",
              "    </tr>\n",
              "  </thead>\n",
              "  <tbody>\n",
              "    <tr>\n",
              "      <th>101</th>\n",
              "      <td>Jai</td>\n",
              "      <td>14000</td>\n",
              "    </tr>\n",
              "    <tr>\n",
              "      <th>102</th>\n",
              "      <td>Kannan</td>\n",
              "      <td>10000</td>\n",
              "    </tr>\n",
              "    <tr>\n",
              "      <th>103</th>\n",
              "      <td>Raman</td>\n",
              "      <td>7000</td>\n",
              "    </tr>\n",
              "    <tr>\n",
              "      <th>104</th>\n",
              "      <td>Suresh</td>\n",
              "      <td>9000</td>\n",
              "    </tr>\n",
              "    <tr>\n",
              "      <th>105</th>\n",
              "      <td>Sam</td>\n",
              "      <td>11000</td>\n",
              "    </tr>\n",
              "  </tbody>\n",
              "</table>\n",
              "</div>"
            ],
            "text/plain": [
              "    Emp Name Salary\n",
              "101      Jai  14000\n",
              "102   Kannan  10000\n",
              "103    Raman   7000\n",
              "104   Suresh   9000\n",
              "105      Sam  11000"
            ]
          },
          "metadata": {
            "tags": []
          },
          "execution_count": 87
        }
      ]
    },
    {
      "cell_type": "markdown",
      "metadata": {
        "id": "7QQsFiuGgmkh"
      },
      "source": [
        "## 7.3 By appending colums using lists"
      ]
    },
    {
      "cell_type": "code",
      "metadata": {
        "colab": {
          "base_uri": "https://localhost:8080/",
          "height": 206
        },
        "id": "BleQ2eCOgqSB",
        "outputId": "1f12cacd-2485-43c9-87d1-b40b59171e4a"
      },
      "source": [
        "data1 = {'Emp No':[101,102,103,104,105],        \n",
        "        'Salary':[14000,10000,7000,9000,11000]}                \n",
        "\n",
        "df1 = pd.DataFrame(data1)\n",
        "df1"
      ],
      "execution_count": 88,
      "outputs": [
        {
          "output_type": "execute_result",
          "data": {
            "text/html": [
              "<div>\n",
              "<style scoped>\n",
              "    .dataframe tbody tr th:only-of-type {\n",
              "        vertical-align: middle;\n",
              "    }\n",
              "\n",
              "    .dataframe tbody tr th {\n",
              "        vertical-align: top;\n",
              "    }\n",
              "\n",
              "    .dataframe thead th {\n",
              "        text-align: right;\n",
              "    }\n",
              "</style>\n",
              "<table border=\"1\" class=\"dataframe\">\n",
              "  <thead>\n",
              "    <tr style=\"text-align: right;\">\n",
              "      <th></th>\n",
              "      <th>Emp No</th>\n",
              "      <th>Salary</th>\n",
              "    </tr>\n",
              "  </thead>\n",
              "  <tbody>\n",
              "    <tr>\n",
              "      <th>0</th>\n",
              "      <td>101</td>\n",
              "      <td>14000</td>\n",
              "    </tr>\n",
              "    <tr>\n",
              "      <th>1</th>\n",
              "      <td>102</td>\n",
              "      <td>10000</td>\n",
              "    </tr>\n",
              "    <tr>\n",
              "      <th>2</th>\n",
              "      <td>103</td>\n",
              "      <td>7000</td>\n",
              "    </tr>\n",
              "    <tr>\n",
              "      <th>3</th>\n",
              "      <td>104</td>\n",
              "      <td>9000</td>\n",
              "    </tr>\n",
              "    <tr>\n",
              "      <th>4</th>\n",
              "      <td>105</td>\n",
              "      <td>11000</td>\n",
              "    </tr>\n",
              "  </tbody>\n",
              "</table>\n",
              "</div>"
            ],
            "text/plain": [
              "   Emp No  Salary\n",
              "0     101   14000\n",
              "1     102   10000\n",
              "2     103    7000\n",
              "3     104    9000\n",
              "4     105   11000"
            ]
          },
          "metadata": {
            "tags": []
          },
          "execution_count": 88
        }
      ]
    },
    {
      "cell_type": "code",
      "metadata": {
        "colab": {
          "base_uri": "https://localhost:8080/",
          "height": 206
        },
        "id": "1zMuzKPxgxpq",
        "outputId": "94e8567a-fa8b-4069-bfe3-c69303e0776e"
      },
      "source": [
        "empname = ['Jai','Kannan','Raman','Suresh','Sam']\n",
        "df1['Emp Name'] = empname\n",
        "df1"
      ],
      "execution_count": 89,
      "outputs": [
        {
          "output_type": "execute_result",
          "data": {
            "text/html": [
              "<div>\n",
              "<style scoped>\n",
              "    .dataframe tbody tr th:only-of-type {\n",
              "        vertical-align: middle;\n",
              "    }\n",
              "\n",
              "    .dataframe tbody tr th {\n",
              "        vertical-align: top;\n",
              "    }\n",
              "\n",
              "    .dataframe thead th {\n",
              "        text-align: right;\n",
              "    }\n",
              "</style>\n",
              "<table border=\"1\" class=\"dataframe\">\n",
              "  <thead>\n",
              "    <tr style=\"text-align: right;\">\n",
              "      <th></th>\n",
              "      <th>Emp No</th>\n",
              "      <th>Salary</th>\n",
              "      <th>Emp Name</th>\n",
              "    </tr>\n",
              "  </thead>\n",
              "  <tbody>\n",
              "    <tr>\n",
              "      <th>0</th>\n",
              "      <td>101</td>\n",
              "      <td>14000</td>\n",
              "      <td>Jai</td>\n",
              "    </tr>\n",
              "    <tr>\n",
              "      <th>1</th>\n",
              "      <td>102</td>\n",
              "      <td>10000</td>\n",
              "      <td>Kannan</td>\n",
              "    </tr>\n",
              "    <tr>\n",
              "      <th>2</th>\n",
              "      <td>103</td>\n",
              "      <td>7000</td>\n",
              "      <td>Raman</td>\n",
              "    </tr>\n",
              "    <tr>\n",
              "      <th>3</th>\n",
              "      <td>104</td>\n",
              "      <td>9000</td>\n",
              "      <td>Suresh</td>\n",
              "    </tr>\n",
              "    <tr>\n",
              "      <th>4</th>\n",
              "      <td>105</td>\n",
              "      <td>11000</td>\n",
              "      <td>Sam</td>\n",
              "    </tr>\n",
              "  </tbody>\n",
              "</table>\n",
              "</div>"
            ],
            "text/plain": [
              "   Emp No  Salary Emp Name\n",
              "0     101   14000      Jai\n",
              "1     102   10000   Kannan\n",
              "2     103    7000    Raman\n",
              "3     104    9000   Suresh\n",
              "4     105   11000      Sam"
            ]
          },
          "metadata": {
            "tags": []
          },
          "execution_count": 89
        }
      ]
    },
    {
      "cell_type": "markdown",
      "metadata": {
        "id": "ibr-Sjp1hAPF"
      },
      "source": [
        "---\n",
        "# 8 Pivoting operations in dataframe\n",
        "\n",
        "\n",
        "> Pivoting dataframes reshaping datframes. In some scenario we might need to have column values as column name or index in those scenarios pivotting comes into the picture. Panda provides two methods for pivotting\n",
        "\n",
        "*   pivot() - Returns ReshapedDataFrame\n",
        "*   pivot_table() - Returns DataFrame\n",
        "\n"
      ]
    },
    {
      "cell_type": "code",
      "metadata": {
        "colab": {
          "base_uri": "https://localhost:8080/",
          "height": 206
        },
        "id": "meZkVuLlChXm",
        "outputId": "4281fc49-ac49-4288-f411-5832187a4d74"
      },
      "source": [
        "import pandas as pd\n",
        "data = {'Emp No':[101,102,103,104,105],\n",
        "        'Emp Name':['Jai','Kannan','Raman','Suresh','Sam'],\n",
        "        'Salary':[14000,10000,7000,9000,11000]}                \n",
        "\n",
        "df = pd.DataFrame(data)\n",
        "df"
      ],
      "execution_count": 90,
      "outputs": [
        {
          "output_type": "execute_result",
          "data": {
            "text/html": [
              "<div>\n",
              "<style scoped>\n",
              "    .dataframe tbody tr th:only-of-type {\n",
              "        vertical-align: middle;\n",
              "    }\n",
              "\n",
              "    .dataframe tbody tr th {\n",
              "        vertical-align: top;\n",
              "    }\n",
              "\n",
              "    .dataframe thead th {\n",
              "        text-align: right;\n",
              "    }\n",
              "</style>\n",
              "<table border=\"1\" class=\"dataframe\">\n",
              "  <thead>\n",
              "    <tr style=\"text-align: right;\">\n",
              "      <th></th>\n",
              "      <th>Emp No</th>\n",
              "      <th>Emp Name</th>\n",
              "      <th>Salary</th>\n",
              "    </tr>\n",
              "  </thead>\n",
              "  <tbody>\n",
              "    <tr>\n",
              "      <th>0</th>\n",
              "      <td>101</td>\n",
              "      <td>Jai</td>\n",
              "      <td>14000</td>\n",
              "    </tr>\n",
              "    <tr>\n",
              "      <th>1</th>\n",
              "      <td>102</td>\n",
              "      <td>Kannan</td>\n",
              "      <td>10000</td>\n",
              "    </tr>\n",
              "    <tr>\n",
              "      <th>2</th>\n",
              "      <td>103</td>\n",
              "      <td>Raman</td>\n",
              "      <td>7000</td>\n",
              "    </tr>\n",
              "    <tr>\n",
              "      <th>3</th>\n",
              "      <td>104</td>\n",
              "      <td>Suresh</td>\n",
              "      <td>9000</td>\n",
              "    </tr>\n",
              "    <tr>\n",
              "      <th>4</th>\n",
              "      <td>105</td>\n",
              "      <td>Sam</td>\n",
              "      <td>11000</td>\n",
              "    </tr>\n",
              "  </tbody>\n",
              "</table>\n",
              "</div>"
            ],
            "text/plain": [
              "   Emp No Emp Name  Salary\n",
              "0     101      Jai   14000\n",
              "1     102   Kannan   10000\n",
              "2     103    Raman    7000\n",
              "3     104   Suresh    9000\n",
              "4     105      Sam   11000"
            ]
          },
          "metadata": {
            "tags": []
          },
          "execution_count": 90
        }
      ]
    },
    {
      "cell_type": "markdown",
      "metadata": {
        "id": "cjdCgSD0CmFi"
      },
      "source": [
        "## 8.1 pivot()\n",
        "\n",
        "> pivot() is an extremely powerfull function that can be used to reshape dataframe based on colums values. pivot() is called using DataFrame object and it returns ReshapedDataFrame object. pivot() contains three parameters they are:\n",
        "\n",
        "*   **index** - Single/List of columns to make new frame's index\n",
        "*   **columns** - Single/List of columns to make new frame's column\n",
        "*   **values** - Sinlge/List of columns to populate new frame\n",
        "\n",
        "**Syntax :**\n",
        "```\n",
        "pivot(index,columns,values)\n",
        "```\n",
        "\n",
        "\n"
      ]
    },
    {
      "cell_type": "code",
      "metadata": {
        "colab": {
          "base_uri": "https://localhost:8080/",
          "height": 238
        },
        "id": "7Ukyyn6oCqfr",
        "outputId": "fb7e40dc-ded5-460f-cddc-c511167f47f6"
      },
      "source": [
        "df.pivot(index ='Emp No',columns = 'Emp Name',values = 'Salary' )"
      ],
      "execution_count": 91,
      "outputs": [
        {
          "output_type": "execute_result",
          "data": {
            "text/html": [
              "<div>\n",
              "<style scoped>\n",
              "    .dataframe tbody tr th:only-of-type {\n",
              "        vertical-align: middle;\n",
              "    }\n",
              "\n",
              "    .dataframe tbody tr th {\n",
              "        vertical-align: top;\n",
              "    }\n",
              "\n",
              "    .dataframe thead th {\n",
              "        text-align: right;\n",
              "    }\n",
              "</style>\n",
              "<table border=\"1\" class=\"dataframe\">\n",
              "  <thead>\n",
              "    <tr style=\"text-align: right;\">\n",
              "      <th>Emp Name</th>\n",
              "      <th>Jai</th>\n",
              "      <th>Kannan</th>\n",
              "      <th>Raman</th>\n",
              "      <th>Sam</th>\n",
              "      <th>Suresh</th>\n",
              "    </tr>\n",
              "    <tr>\n",
              "      <th>Emp No</th>\n",
              "      <th></th>\n",
              "      <th></th>\n",
              "      <th></th>\n",
              "      <th></th>\n",
              "      <th></th>\n",
              "    </tr>\n",
              "  </thead>\n",
              "  <tbody>\n",
              "    <tr>\n",
              "      <th>101</th>\n",
              "      <td>14000.0</td>\n",
              "      <td>NaN</td>\n",
              "      <td>NaN</td>\n",
              "      <td>NaN</td>\n",
              "      <td>NaN</td>\n",
              "    </tr>\n",
              "    <tr>\n",
              "      <th>102</th>\n",
              "      <td>NaN</td>\n",
              "      <td>10000.0</td>\n",
              "      <td>NaN</td>\n",
              "      <td>NaN</td>\n",
              "      <td>NaN</td>\n",
              "    </tr>\n",
              "    <tr>\n",
              "      <th>103</th>\n",
              "      <td>NaN</td>\n",
              "      <td>NaN</td>\n",
              "      <td>7000.0</td>\n",
              "      <td>NaN</td>\n",
              "      <td>NaN</td>\n",
              "    </tr>\n",
              "    <tr>\n",
              "      <th>104</th>\n",
              "      <td>NaN</td>\n",
              "      <td>NaN</td>\n",
              "      <td>NaN</td>\n",
              "      <td>NaN</td>\n",
              "      <td>9000.0</td>\n",
              "    </tr>\n",
              "    <tr>\n",
              "      <th>105</th>\n",
              "      <td>NaN</td>\n",
              "      <td>NaN</td>\n",
              "      <td>NaN</td>\n",
              "      <td>11000.0</td>\n",
              "      <td>NaN</td>\n",
              "    </tr>\n",
              "  </tbody>\n",
              "</table>\n",
              "</div>"
            ],
            "text/plain": [
              "Emp Name      Jai   Kannan   Raman      Sam  Suresh\n",
              "Emp No                                             \n",
              "101       14000.0      NaN     NaN      NaN     NaN\n",
              "102           NaN  10000.0     NaN      NaN     NaN\n",
              "103           NaN      NaN  7000.0      NaN     NaN\n",
              "104           NaN      NaN     NaN      NaN  9000.0\n",
              "105           NaN      NaN     NaN  11000.0     NaN"
            ]
          },
          "metadata": {
            "tags": []
          },
          "execution_count": 91
        }
      ]
    },
    {
      "cell_type": "markdown",
      "metadata": {
        "id": "6YfKYI55Fnha"
      },
      "source": [
        "## 8.2 pivot_table()\n",
        "\n",
        "> Like pivot() pivot_table() is also used to reshape dataframe but pivot_table returns DataFrame which look like excel style pivot table. And pivot_table is called using pandas object. pivot_table provides many parameter some of the important params are:\n",
        "\n",
        "\n",
        "*   **data** - DataFrame object which holds data\n",
        "*   **index** - Single/List of columns to make new frame's index\n",
        "*   **columns** - Single/List of columns to make new frame's column\n",
        "*   **values** - Sinlge/List of columns to populate new frame\n",
        "\n",
        "**Syntax :**\n",
        "```\n",
        "pivot_table(data,index,columns,values)\n",
        "```"
      ]
    },
    {
      "cell_type": "code",
      "metadata": {
        "colab": {
          "base_uri": "https://localhost:8080/",
          "height": 238
        },
        "id": "Qcyr4GKxIGVX",
        "outputId": "857bd529-067f-4bdd-e008-c1caa0a477a4"
      },
      "source": [
        "df2 = pd.pivot_table(data = df,index = 'Emp Name',columns = 'Emp No',values ='Salary')\n",
        "df2"
      ],
      "execution_count": 94,
      "outputs": [
        {
          "output_type": "execute_result",
          "data": {
            "text/html": [
              "<div>\n",
              "<style scoped>\n",
              "    .dataframe tbody tr th:only-of-type {\n",
              "        vertical-align: middle;\n",
              "    }\n",
              "\n",
              "    .dataframe tbody tr th {\n",
              "        vertical-align: top;\n",
              "    }\n",
              "\n",
              "    .dataframe thead th {\n",
              "        text-align: right;\n",
              "    }\n",
              "</style>\n",
              "<table border=\"1\" class=\"dataframe\">\n",
              "  <thead>\n",
              "    <tr style=\"text-align: right;\">\n",
              "      <th>Emp No</th>\n",
              "      <th>101</th>\n",
              "      <th>102</th>\n",
              "      <th>103</th>\n",
              "      <th>104</th>\n",
              "      <th>105</th>\n",
              "    </tr>\n",
              "    <tr>\n",
              "      <th>Emp Name</th>\n",
              "      <th></th>\n",
              "      <th></th>\n",
              "      <th></th>\n",
              "      <th></th>\n",
              "      <th></th>\n",
              "    </tr>\n",
              "  </thead>\n",
              "  <tbody>\n",
              "    <tr>\n",
              "      <th>Jai</th>\n",
              "      <td>14000.0</td>\n",
              "      <td>NaN</td>\n",
              "      <td>NaN</td>\n",
              "      <td>NaN</td>\n",
              "      <td>NaN</td>\n",
              "    </tr>\n",
              "    <tr>\n",
              "      <th>Kannan</th>\n",
              "      <td>NaN</td>\n",
              "      <td>10000.0</td>\n",
              "      <td>NaN</td>\n",
              "      <td>NaN</td>\n",
              "      <td>NaN</td>\n",
              "    </tr>\n",
              "    <tr>\n",
              "      <th>Raman</th>\n",
              "      <td>NaN</td>\n",
              "      <td>NaN</td>\n",
              "      <td>7000.0</td>\n",
              "      <td>NaN</td>\n",
              "      <td>NaN</td>\n",
              "    </tr>\n",
              "    <tr>\n",
              "      <th>Sam</th>\n",
              "      <td>NaN</td>\n",
              "      <td>NaN</td>\n",
              "      <td>NaN</td>\n",
              "      <td>NaN</td>\n",
              "      <td>11000.0</td>\n",
              "    </tr>\n",
              "    <tr>\n",
              "      <th>Suresh</th>\n",
              "      <td>NaN</td>\n",
              "      <td>NaN</td>\n",
              "      <td>NaN</td>\n",
              "      <td>9000.0</td>\n",
              "      <td>NaN</td>\n",
              "    </tr>\n",
              "  </tbody>\n",
              "</table>\n",
              "</div>"
            ],
            "text/plain": [
              "Emp No        101      102     103     104      105\n",
              "Emp Name                                           \n",
              "Jai       14000.0      NaN     NaN     NaN      NaN\n",
              "Kannan        NaN  10000.0     NaN     NaN      NaN\n",
              "Raman         NaN      NaN  7000.0     NaN      NaN\n",
              "Sam           NaN      NaN     NaN     NaN  11000.0\n",
              "Suresh        NaN      NaN     NaN  9000.0      NaN"
            ]
          },
          "metadata": {
            "tags": []
          },
          "execution_count": 94
        }
      ]
    },
    {
      "cell_type": "code",
      "metadata": {
        "colab": {
          "base_uri": "https://localhost:8080/"
        },
        "id": "KFtzd9UkJEqa",
        "outputId": "8de40297-c4af-4b40-8684-0bc9693f93c8"
      },
      "source": [
        "type(df2)"
      ],
      "execution_count": 95,
      "outputs": [
        {
          "output_type": "execute_result",
          "data": {
            "text/plain": [
              "pandas.core.frame.DataFrame"
            ]
          },
          "metadata": {
            "tags": []
          },
          "execution_count": 95
        }
      ]
    }
  ]
}