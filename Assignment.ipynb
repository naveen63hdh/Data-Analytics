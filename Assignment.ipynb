{
  "nbformat": 4,
  "nbformat_minor": 0,
  "metadata": {
    "kernelspec": {
      "display_name": "Python 3",
      "language": "python",
      "name": "python3"
    },
    "language_info": {
      "codemirror_mode": {
        "name": "ipython",
        "version": 3
      },
      "file_extension": ".py",
      "mimetype": "text/x-python",
      "name": "python",
      "nbconvert_exporter": "python",
      "pygments_lexer": "ipython3",
      "version": "3.7.4"
    },
    "colab": {
      "name": "Assignment.ipynb",
      "provenance": [],
      "collapsed_sections": [],
      "history_visible": true,
      "include_colab_link": true
    }
  },
  "cells": [
    {
      "cell_type": "markdown",
      "metadata": {
        "id": "view-in-github",
        "colab_type": "text"
      },
      "source": [
        "<a href=\"https://colab.research.google.com/github/naveen63hdh/Data-Analytics/blob/main/Assignment.ipynb\" target=\"_parent\"><img src=\"https://colab.research.google.com/assets/colab-badge.svg\" alt=\"Open In Colab\"/></a>"
      ]
    },
    {
      "cell_type": "markdown",
      "metadata": {
        "id": "BHa8Sd55Owo0"
      },
      "source": [
        "# 1.Creating Dataframe in Python\n",
        "\n",
        "\n",
        "> In python there are more than ways to create a dataframe using pandas. We can create dataframe from lists, tuple, dictionary, numpy array, csv file and etc. We can also create an empty dataframe and add records to it.\n",
        "\n",
        "> To create a dataframe we are loading pandas library in the alias pd, and we are also loading numpy in alias np to create dataframe from numpy array.\n",
        "\n",
        "\n",
        "        \n",
        "\n",
        "\n",
        "\n"
      ]
    },
    {
      "cell_type": "code",
      "metadata": {
        "id": "Pj_eCvrvOwpL"
      },
      "source": [
        "import numpy as np\n",
        "import pandas as pd"
      ],
      "execution_count": 2,
      "outputs": []
    },
    {
      "cell_type": "markdown",
      "metadata": {
        "id": "nb4wbPxsOwpQ"
      },
      "source": [
        "## 1.1 Creating empty dataframe and adding records\n",
        "\n",
        "\n",
        "> DataFrame constructor is used to create a empty dataframe. The columns attribute is a list of strings which become columns of the dataframe. DataFrame rows are reference loc method with index value.                   \n",
        "\n"
      ]
    },
    {
      "cell_type": "code",
      "metadata": {
        "id": "wV_3nsu7OwpT"
      },
      "source": [
        "df = pd.DataFrame(columns = [\"Emp No\",\"Emp Name\",\"Salary\"])"
      ],
      "execution_count": 3,
      "outputs": []
    },
    {
      "cell_type": "code",
      "metadata": {
        "id": "QrV2mFxdOwpW"
      },
      "source": [
        "df.loc[0] = [101,\"Jai\",14000]\n",
        "df.loc[1] = [102,\"Kannan\",10000]\n",
        "df.loc[2] = [103,\"Raman\",7000]\n",
        "df.loc[3] = [104,\"Suresh\",9000]\n",
        "df.loc[4] = [105,\"Sam\",11000]"
      ],
      "execution_count": 4,
      "outputs": []
    },
    {
      "cell_type": "code",
      "metadata": {
        "colab": {
          "base_uri": "https://localhost:8080/",
          "height": 206
        },
        "id": "5lGqRs0WOwpY",
        "outputId": "a40d7e54-fba6-4966-f3c6-74bebefe7e9c"
      },
      "source": [
        "df"
      ],
      "execution_count": 5,
      "outputs": [
        {
          "output_type": "execute_result",
          "data": {
            "text/html": [
              "<div>\n",
              "<style scoped>\n",
              "    .dataframe tbody tr th:only-of-type {\n",
              "        vertical-align: middle;\n",
              "    }\n",
              "\n",
              "    .dataframe tbody tr th {\n",
              "        vertical-align: top;\n",
              "    }\n",
              "\n",
              "    .dataframe thead th {\n",
              "        text-align: right;\n",
              "    }\n",
              "</style>\n",
              "<table border=\"1\" class=\"dataframe\">\n",
              "  <thead>\n",
              "    <tr style=\"text-align: right;\">\n",
              "      <th></th>\n",
              "      <th>Emp No</th>\n",
              "      <th>Emp Name</th>\n",
              "      <th>Salary</th>\n",
              "    </tr>\n",
              "  </thead>\n",
              "  <tbody>\n",
              "    <tr>\n",
              "      <th>0</th>\n",
              "      <td>101</td>\n",
              "      <td>Jai</td>\n",
              "      <td>14000</td>\n",
              "    </tr>\n",
              "    <tr>\n",
              "      <th>1</th>\n",
              "      <td>102</td>\n",
              "      <td>Kannan</td>\n",
              "      <td>10000</td>\n",
              "    </tr>\n",
              "    <tr>\n",
              "      <th>2</th>\n",
              "      <td>103</td>\n",
              "      <td>Raman</td>\n",
              "      <td>7000</td>\n",
              "    </tr>\n",
              "    <tr>\n",
              "      <th>3</th>\n",
              "      <td>104</td>\n",
              "      <td>Suresh</td>\n",
              "      <td>9000</td>\n",
              "    </tr>\n",
              "    <tr>\n",
              "      <th>4</th>\n",
              "      <td>105</td>\n",
              "      <td>Sam</td>\n",
              "      <td>11000</td>\n",
              "    </tr>\n",
              "  </tbody>\n",
              "</table>\n",
              "</div>"
            ],
            "text/plain": [
              "  Emp No Emp Name Salary\n",
              "0    101      Jai  14000\n",
              "1    102   Kannan  10000\n",
              "2    103    Raman   7000\n",
              "3    104   Suresh   9000\n",
              "4    105      Sam  11000"
            ]
          },
          "metadata": {
            "tags": []
          },
          "execution_count": 5
        }
      ]
    },
    {
      "cell_type": "markdown",
      "metadata": {
        "id": "X6u0LhtPOwpe"
      },
      "source": [
        "## 1.2 Creating dataframe using numpy array\n",
        "\n",
        "> In DataFrame constructor we can pass numpy array. Each row in  numpy array is the corresponding row required in the dataframe.\n"
      ]
    },
    {
      "cell_type": "code",
      "metadata": {
        "id": "yf6xWtIkOwpg"
      },
      "source": [
        "data = np.array([[101,\"Jai\",14000],\n",
        "                 [102,\"Kannan\",10000],\n",
        "                 [103,\"Raman\",7000],\n",
        "                 [104,\"Suresh\",9000],\n",
        "                 [105,\"Sam\",11000]\n",
        "                ])"
      ],
      "execution_count": 6,
      "outputs": []
    },
    {
      "cell_type": "code",
      "metadata": {
        "colab": {
          "base_uri": "https://localhost:8080/"
        },
        "id": "jYKKsyA-Owpj",
        "outputId": "a88cafb0-b189-40a0-c186-a1169aa68d64"
      },
      "source": [
        "type(data)"
      ],
      "execution_count": 7,
      "outputs": [
        {
          "output_type": "execute_result",
          "data": {
            "text/plain": [
              "numpy.ndarray"
            ]
          },
          "metadata": {
            "tags": []
          },
          "execution_count": 7
        }
      ]
    },
    {
      "cell_type": "code",
      "metadata": {
        "id": "Xr63IDGBOwpm"
      },
      "source": [
        "df = pd.DataFrame(data,columns = [\"Emp No\",\"Emp Name\",\"Salary\"])"
      ],
      "execution_count": 8,
      "outputs": []
    },
    {
      "cell_type": "code",
      "metadata": {
        "colab": {
          "base_uri": "https://localhost:8080/",
          "height": 206
        },
        "id": "b4PLAuEqOwpo",
        "outputId": "515fa021-ab3d-41ee-c85a-b46e1d2bf40e"
      },
      "source": [
        "df"
      ],
      "execution_count": 9,
      "outputs": [
        {
          "output_type": "execute_result",
          "data": {
            "text/html": [
              "<div>\n",
              "<style scoped>\n",
              "    .dataframe tbody tr th:only-of-type {\n",
              "        vertical-align: middle;\n",
              "    }\n",
              "\n",
              "    .dataframe tbody tr th {\n",
              "        vertical-align: top;\n",
              "    }\n",
              "\n",
              "    .dataframe thead th {\n",
              "        text-align: right;\n",
              "    }\n",
              "</style>\n",
              "<table border=\"1\" class=\"dataframe\">\n",
              "  <thead>\n",
              "    <tr style=\"text-align: right;\">\n",
              "      <th></th>\n",
              "      <th>Emp No</th>\n",
              "      <th>Emp Name</th>\n",
              "      <th>Salary</th>\n",
              "    </tr>\n",
              "  </thead>\n",
              "  <tbody>\n",
              "    <tr>\n",
              "      <th>0</th>\n",
              "      <td>101</td>\n",
              "      <td>Jai</td>\n",
              "      <td>14000</td>\n",
              "    </tr>\n",
              "    <tr>\n",
              "      <th>1</th>\n",
              "      <td>102</td>\n",
              "      <td>Kannan</td>\n",
              "      <td>10000</td>\n",
              "    </tr>\n",
              "    <tr>\n",
              "      <th>2</th>\n",
              "      <td>103</td>\n",
              "      <td>Raman</td>\n",
              "      <td>7000</td>\n",
              "    </tr>\n",
              "    <tr>\n",
              "      <th>3</th>\n",
              "      <td>104</td>\n",
              "      <td>Suresh</td>\n",
              "      <td>9000</td>\n",
              "    </tr>\n",
              "    <tr>\n",
              "      <th>4</th>\n",
              "      <td>105</td>\n",
              "      <td>Sam</td>\n",
              "      <td>11000</td>\n",
              "    </tr>\n",
              "  </tbody>\n",
              "</table>\n",
              "</div>"
            ],
            "text/plain": [
              "  Emp No Emp Name Salary\n",
              "0    101      Jai  14000\n",
              "1    102   Kannan  10000\n",
              "2    103    Raman   7000\n",
              "3    104   Suresh   9000\n",
              "4    105      Sam  11000"
            ]
          },
          "metadata": {
            "tags": []
          },
          "execution_count": 9
        }
      ]
    },
    {
      "cell_type": "markdown",
      "metadata": {
        "id": "CgqY-98aOwpr"
      },
      "source": [
        "## 1.3 Creating dataframe using List\n",
        "\n",
        ">  To Create a dataframe using list we have to pass the list in DataFrame constructor and we can give column names in colum attribute.\n"
      ]
    },
    {
      "cell_type": "code",
      "metadata": {
        "id": "j9X4kB8OOwpu"
      },
      "source": [
        "data = [[101,\"Jai\",14000],\n",
        "        [102,\"Kannan\",10000],\n",
        "        [103,\"Raman\",7000],\n",
        "        [104,\"Suresh\",9000],\n",
        "        [105,\"Sam\",11000]]"
      ],
      "execution_count": 10,
      "outputs": []
    },
    {
      "cell_type": "code",
      "metadata": {
        "colab": {
          "base_uri": "https://localhost:8080/"
        },
        "id": "keHrtJ60Owpw",
        "outputId": "f148ed7b-1452-4510-cee1-99cbc6167085"
      },
      "source": [
        "type(data)"
      ],
      "execution_count": 11,
      "outputs": [
        {
          "output_type": "execute_result",
          "data": {
            "text/plain": [
              "list"
            ]
          },
          "metadata": {
            "tags": []
          },
          "execution_count": 11
        }
      ]
    },
    {
      "cell_type": "code",
      "metadata": {
        "id": "wOYeuT4MOwpy"
      },
      "source": [
        "df = pd.DataFrame(data,columns = [\"Emp No\",\"Emp Name\",\"Salary\"])"
      ],
      "execution_count": 12,
      "outputs": []
    },
    {
      "cell_type": "code",
      "metadata": {
        "colab": {
          "base_uri": "https://localhost:8080/",
          "height": 206
        },
        "id": "XfEB-neGOwpz",
        "outputId": "12387528-59ca-49f5-c91f-68abb31d9db6"
      },
      "source": [
        "df"
      ],
      "execution_count": 13,
      "outputs": [
        {
          "output_type": "execute_result",
          "data": {
            "text/html": [
              "<div>\n",
              "<style scoped>\n",
              "    .dataframe tbody tr th:only-of-type {\n",
              "        vertical-align: middle;\n",
              "    }\n",
              "\n",
              "    .dataframe tbody tr th {\n",
              "        vertical-align: top;\n",
              "    }\n",
              "\n",
              "    .dataframe thead th {\n",
              "        text-align: right;\n",
              "    }\n",
              "</style>\n",
              "<table border=\"1\" class=\"dataframe\">\n",
              "  <thead>\n",
              "    <tr style=\"text-align: right;\">\n",
              "      <th></th>\n",
              "      <th>Emp No</th>\n",
              "      <th>Emp Name</th>\n",
              "      <th>Salary</th>\n",
              "    </tr>\n",
              "  </thead>\n",
              "  <tbody>\n",
              "    <tr>\n",
              "      <th>0</th>\n",
              "      <td>101</td>\n",
              "      <td>Jai</td>\n",
              "      <td>14000</td>\n",
              "    </tr>\n",
              "    <tr>\n",
              "      <th>1</th>\n",
              "      <td>102</td>\n",
              "      <td>Kannan</td>\n",
              "      <td>10000</td>\n",
              "    </tr>\n",
              "    <tr>\n",
              "      <th>2</th>\n",
              "      <td>103</td>\n",
              "      <td>Raman</td>\n",
              "      <td>7000</td>\n",
              "    </tr>\n",
              "    <tr>\n",
              "      <th>3</th>\n",
              "      <td>104</td>\n",
              "      <td>Suresh</td>\n",
              "      <td>9000</td>\n",
              "    </tr>\n",
              "    <tr>\n",
              "      <th>4</th>\n",
              "      <td>105</td>\n",
              "      <td>Sam</td>\n",
              "      <td>11000</td>\n",
              "    </tr>\n",
              "  </tbody>\n",
              "</table>\n",
              "</div>"
            ],
            "text/plain": [
              "   Emp No Emp Name  Salary\n",
              "0     101      Jai   14000\n",
              "1     102   Kannan   10000\n",
              "2     103    Raman    7000\n",
              "3     104   Suresh    9000\n",
              "4     105      Sam   11000"
            ]
          },
          "metadata": {
            "tags": []
          },
          "execution_count": 13
        }
      ]
    },
    {
      "cell_type": "markdown",
      "metadata": {
        "id": "_L6MDM4LOwp1"
      },
      "source": [
        "## 1.4 Creating dataframe using Dictionary \n",
        "\n",
        "> There are 3 ways to create a dataframe using dictonary \n",
        "\n",
        "* [Using Dictionary in DataFrame Constructor](https://colab.research.google.com/drive/1XbRrMi3RkTKGM0l4m1qsXH5LRggqSzrj#scrollTo=BlQdFRMOOwp3)\n",
        "* [Using List of Dictionary](https://colab.research.google.com/drive/1XbRrMi3RkTKGM0l4m1qsXH5LRggqSzrj#scrollTo=_L6MDM4LOwp1&line=7&uniqifier=1)\n",
        "* [Using from_dict method](https://colab.research.google.com/drive/1XbRrMi3RkTKGM0l4m1qsXH5LRggqSzrj#scrollTo=_L6MDM4LOwp1&line=7&uniqifier=1)\n"
      ]
    },
    {
      "cell_type": "markdown",
      "metadata": {
        "id": "BlQdFRMOOwp3"
      },
      "source": [
        "### 1.4.1 Using Dictionary in DataFrame Constructor\n",
        "\n",
        "\n",
        "> If we pass dictionary in dataframe then dictionary keys become column names of dataframe and dictionary value becomes dataframe row values. Dictionary column are combined into single row according to the order of dictionary.\n",
        "\n"
      ]
    },
    {
      "cell_type": "code",
      "metadata": {
        "id": "qJjr1wrgOwp3"
      },
      "source": [
        "data = {'Emp No':[101,102,103,104,105],\n",
        "        'Emp Name':['Jai','Kannan','Raman','Suresh','Sam'],\n",
        "        'Salary':[14000,10000,7000,9000,11000]}        "
      ],
      "execution_count": 14,
      "outputs": []
    },
    {
      "cell_type": "code",
      "metadata": {
        "colab": {
          "base_uri": "https://localhost:8080/"
        },
        "id": "jKlsRdptOwp4",
        "outputId": "ffe1e306-d0c2-4159-ee17-015cbc6167fb"
      },
      "source": [
        "type(data)"
      ],
      "execution_count": 15,
      "outputs": [
        {
          "output_type": "execute_result",
          "data": {
            "text/plain": [
              "dict"
            ]
          },
          "metadata": {
            "tags": []
          },
          "execution_count": 15
        }
      ]
    },
    {
      "cell_type": "code",
      "metadata": {
        "id": "bmNqLMTvOwp5"
      },
      "source": [
        "df = pd.DataFrame(data)"
      ],
      "execution_count": 16,
      "outputs": []
    },
    {
      "cell_type": "code",
      "metadata": {
        "colab": {
          "base_uri": "https://localhost:8080/",
          "height": 206
        },
        "id": "cQOyeNQPOwp7",
        "outputId": "45443986-0bc4-4fdf-fd3e-bc18383054f4"
      },
      "source": [
        "df"
      ],
      "execution_count": 17,
      "outputs": [
        {
          "output_type": "execute_result",
          "data": {
            "text/html": [
              "<div>\n",
              "<style scoped>\n",
              "    .dataframe tbody tr th:only-of-type {\n",
              "        vertical-align: middle;\n",
              "    }\n",
              "\n",
              "    .dataframe tbody tr th {\n",
              "        vertical-align: top;\n",
              "    }\n",
              "\n",
              "    .dataframe thead th {\n",
              "        text-align: right;\n",
              "    }\n",
              "</style>\n",
              "<table border=\"1\" class=\"dataframe\">\n",
              "  <thead>\n",
              "    <tr style=\"text-align: right;\">\n",
              "      <th></th>\n",
              "      <th>Emp No</th>\n",
              "      <th>Emp Name</th>\n",
              "      <th>Salary</th>\n",
              "    </tr>\n",
              "  </thead>\n",
              "  <tbody>\n",
              "    <tr>\n",
              "      <th>0</th>\n",
              "      <td>101</td>\n",
              "      <td>Jai</td>\n",
              "      <td>14000</td>\n",
              "    </tr>\n",
              "    <tr>\n",
              "      <th>1</th>\n",
              "      <td>102</td>\n",
              "      <td>Kannan</td>\n",
              "      <td>10000</td>\n",
              "    </tr>\n",
              "    <tr>\n",
              "      <th>2</th>\n",
              "      <td>103</td>\n",
              "      <td>Raman</td>\n",
              "      <td>7000</td>\n",
              "    </tr>\n",
              "    <tr>\n",
              "      <th>3</th>\n",
              "      <td>104</td>\n",
              "      <td>Suresh</td>\n",
              "      <td>9000</td>\n",
              "    </tr>\n",
              "    <tr>\n",
              "      <th>4</th>\n",
              "      <td>105</td>\n",
              "      <td>Sam</td>\n",
              "      <td>11000</td>\n",
              "    </tr>\n",
              "  </tbody>\n",
              "</table>\n",
              "</div>"
            ],
            "text/plain": [
              "   Emp No Emp Name  Salary\n",
              "0     101      Jai   14000\n",
              "1     102   Kannan   10000\n",
              "2     103    Raman    7000\n",
              "3     104   Suresh    9000\n",
              "4     105      Sam   11000"
            ]
          },
          "metadata": {
            "tags": []
          },
          "execution_count": 17
        }
      ]
    },
    {
      "cell_type": "markdown",
      "metadata": {
        "id": "9vDMxvMsOwp9"
      },
      "source": [
        "### 1.4.2 Using List of Dictionary\n",
        "\n",
        "> We can pass a list of dictionaries in DataFrame constructor. Each dictionary is considered as a record. Dictionary Keys become Column names in the dataframe. Dictionary values become the row values.\n",
        "        "
      ]
    },
    {
      "cell_type": "code",
      "metadata": {
        "id": "ONxSMztWOwp-"
      },
      "source": [
        "data = [{\"Emp No\":101,\"Emp Name\":\"Jai\",\"Salary\":14000},\n",
        "        {\"Emp No\":102,\"Emp Name\":\"Kannan\",\"Salary\":10000},\n",
        "        {\"Emp No\":103,\"Emp Name\":\"Raman\",\"Salary\":7000},\n",
        "        {\"Emp No\":104,\"Emp Name\":\"Suresh\",\"Salary\":9000},\n",
        "        {\"Emp No\":105,\"Emp Name\":\"Sam\",\"Salary\":11000}]"
      ],
      "execution_count": 18,
      "outputs": []
    },
    {
      "cell_type": "code",
      "metadata": {
        "colab": {
          "base_uri": "https://localhost:8080/"
        },
        "id": "UYot95RlOwqA",
        "outputId": "231c1c40-3d63-486f-8098-e0d293b2c506"
      },
      "source": [
        "type(data)"
      ],
      "execution_count": 19,
      "outputs": [
        {
          "output_type": "execute_result",
          "data": {
            "text/plain": [
              "list"
            ]
          },
          "metadata": {
            "tags": []
          },
          "execution_count": 19
        }
      ]
    },
    {
      "cell_type": "code",
      "metadata": {
        "id": "sHH5saMrOwqC"
      },
      "source": [
        "df = pd.DataFrame(data)"
      ],
      "execution_count": 20,
      "outputs": []
    },
    {
      "cell_type": "code",
      "metadata": {
        "colab": {
          "base_uri": "https://localhost:8080/",
          "height": 206
        },
        "id": "-n0CdprlOwqD",
        "outputId": "288f9c6c-bb96-4726-e39e-193e08142a88"
      },
      "source": [
        "df"
      ],
      "execution_count": 21,
      "outputs": [
        {
          "output_type": "execute_result",
          "data": {
            "text/html": [
              "<div>\n",
              "<style scoped>\n",
              "    .dataframe tbody tr th:only-of-type {\n",
              "        vertical-align: middle;\n",
              "    }\n",
              "\n",
              "    .dataframe tbody tr th {\n",
              "        vertical-align: top;\n",
              "    }\n",
              "\n",
              "    .dataframe thead th {\n",
              "        text-align: right;\n",
              "    }\n",
              "</style>\n",
              "<table border=\"1\" class=\"dataframe\">\n",
              "  <thead>\n",
              "    <tr style=\"text-align: right;\">\n",
              "      <th></th>\n",
              "      <th>Emp No</th>\n",
              "      <th>Emp Name</th>\n",
              "      <th>Salary</th>\n",
              "    </tr>\n",
              "  </thead>\n",
              "  <tbody>\n",
              "    <tr>\n",
              "      <th>0</th>\n",
              "      <td>101</td>\n",
              "      <td>Jai</td>\n",
              "      <td>14000</td>\n",
              "    </tr>\n",
              "    <tr>\n",
              "      <th>1</th>\n",
              "      <td>102</td>\n",
              "      <td>Kannan</td>\n",
              "      <td>10000</td>\n",
              "    </tr>\n",
              "    <tr>\n",
              "      <th>2</th>\n",
              "      <td>103</td>\n",
              "      <td>Raman</td>\n",
              "      <td>7000</td>\n",
              "    </tr>\n",
              "    <tr>\n",
              "      <th>3</th>\n",
              "      <td>104</td>\n",
              "      <td>Suresh</td>\n",
              "      <td>9000</td>\n",
              "    </tr>\n",
              "    <tr>\n",
              "      <th>4</th>\n",
              "      <td>105</td>\n",
              "      <td>Sam</td>\n",
              "      <td>11000</td>\n",
              "    </tr>\n",
              "  </tbody>\n",
              "</table>\n",
              "</div>"
            ],
            "text/plain": [
              "   Emp No Emp Name  Salary\n",
              "0     101      Jai   14000\n",
              "1     102   Kannan   10000\n",
              "2     103    Raman    7000\n",
              "3     104   Suresh    9000\n",
              "4     105      Sam   11000"
            ]
          },
          "metadata": {
            "tags": []
          },
          "execution_count": 21
        }
      ]
    },
    {
      "cell_type": "markdown",
      "metadata": {
        "id": "ORedkmUcOwqE"
      },
      "source": [
        "###  1.4.3 Using from_dict method\n",
        "\n",
        "> Using **from_dict** is similar to first method except here we can specify whether the keys value should be a column  name or row index. \n",
        "\n",
        "> By default keys are identified as column names but we can change it by using **orient** attribute if  we give **index** to orient attribute it will change orientation of dataframe and passes the keys as row index. \n",
        "\n",
        "> If we  give orient as index then we can specify column name using columns attribute where we pass column name as list.\n",
        "\n"
      ]
    },
    {
      "cell_type": "code",
      "metadata": {
        "id": "TY_SC1IZOwqF"
      },
      "source": [
        "data = {'Emp No':[101,102,103,104,105],\n",
        "        'Emp Name':['Jai','Kannan','Raman','Suresh','Sam'],\n",
        "        'Salary':[14000,10000,7000,9000,11000]}        "
      ],
      "execution_count": 22,
      "outputs": []
    },
    {
      "cell_type": "code",
      "metadata": {
        "colab": {
          "base_uri": "https://localhost:8080/"
        },
        "id": "GN9cqEczOwqG",
        "outputId": "d5eca71e-83e3-4209-8371-d2bb748a313e"
      },
      "source": [
        "type(data)"
      ],
      "execution_count": 23,
      "outputs": [
        {
          "output_type": "execute_result",
          "data": {
            "text/plain": [
              "dict"
            ]
          },
          "metadata": {
            "tags": []
          },
          "execution_count": 23
        }
      ]
    },
    {
      "cell_type": "code",
      "metadata": {
        "id": "__5_xd8XOwqH"
      },
      "source": [
        "df = pd.DataFrame().from_dict(data,orient=\"index\",columns=['Emp1','Emp2','Emp3','Emp4','Emp5'])"
      ],
      "execution_count": 24,
      "outputs": []
    },
    {
      "cell_type": "code",
      "metadata": {
        "colab": {
          "base_uri": "https://localhost:8080/",
          "height": 143
        },
        "id": "zsE8m3dOOwqI",
        "outputId": "563f602d-d1f0-427f-e3d2-95023bcc016a"
      },
      "source": [
        "df"
      ],
      "execution_count": 25,
      "outputs": [
        {
          "output_type": "execute_result",
          "data": {
            "text/html": [
              "<div>\n",
              "<style scoped>\n",
              "    .dataframe tbody tr th:only-of-type {\n",
              "        vertical-align: middle;\n",
              "    }\n",
              "\n",
              "    .dataframe tbody tr th {\n",
              "        vertical-align: top;\n",
              "    }\n",
              "\n",
              "    .dataframe thead th {\n",
              "        text-align: right;\n",
              "    }\n",
              "</style>\n",
              "<table border=\"1\" class=\"dataframe\">\n",
              "  <thead>\n",
              "    <tr style=\"text-align: right;\">\n",
              "      <th></th>\n",
              "      <th>Emp1</th>\n",
              "      <th>Emp2</th>\n",
              "      <th>Emp3</th>\n",
              "      <th>Emp4</th>\n",
              "      <th>Emp5</th>\n",
              "    </tr>\n",
              "  </thead>\n",
              "  <tbody>\n",
              "    <tr>\n",
              "      <th>Emp No</th>\n",
              "      <td>101</td>\n",
              "      <td>102</td>\n",
              "      <td>103</td>\n",
              "      <td>104</td>\n",
              "      <td>105</td>\n",
              "    </tr>\n",
              "    <tr>\n",
              "      <th>Emp Name</th>\n",
              "      <td>Jai</td>\n",
              "      <td>Kannan</td>\n",
              "      <td>Raman</td>\n",
              "      <td>Suresh</td>\n",
              "      <td>Sam</td>\n",
              "    </tr>\n",
              "    <tr>\n",
              "      <th>Salary</th>\n",
              "      <td>14000</td>\n",
              "      <td>10000</td>\n",
              "      <td>7000</td>\n",
              "      <td>9000</td>\n",
              "      <td>11000</td>\n",
              "    </tr>\n",
              "  </tbody>\n",
              "</table>\n",
              "</div>"
            ],
            "text/plain": [
              "           Emp1    Emp2   Emp3    Emp4   Emp5\n",
              "Emp No      101     102    103     104    105\n",
              "Emp Name    Jai  Kannan  Raman  Suresh    Sam\n",
              "Salary    14000   10000   7000    9000  11000"
            ]
          },
          "metadata": {
            "tags": []
          },
          "execution_count": 25
        }
      ]
    },
    {
      "cell_type": "markdown",
      "metadata": {
        "id": "1O67sIexOwqK"
      },
      "source": [
        "## 1.5 Creating copy of dataframe\n",
        "\n",
        "> In some scenarios me might need to do operations in dataframe without affecting the actual dataframe. In those situations we can use copy method and create a clone of the dataframe and work on it.      "
      ]
    },
    {
      "cell_type": "code",
      "metadata": {
        "id": "SrLD4EIXOwqL"
      },
      "source": [
        "df1 = df.copy()"
      ],
      "execution_count": 26,
      "outputs": []
    },
    {
      "cell_type": "code",
      "metadata": {
        "colab": {
          "base_uri": "https://localhost:8080/",
          "height": 143
        },
        "id": "CiTgZzJ1OwqN",
        "outputId": "3fc69c68-a0bb-46ae-d112-8577ddbdb155"
      },
      "source": [
        "df1"
      ],
      "execution_count": 27,
      "outputs": [
        {
          "output_type": "execute_result",
          "data": {
            "text/html": [
              "<div>\n",
              "<style scoped>\n",
              "    .dataframe tbody tr th:only-of-type {\n",
              "        vertical-align: middle;\n",
              "    }\n",
              "\n",
              "    .dataframe tbody tr th {\n",
              "        vertical-align: top;\n",
              "    }\n",
              "\n",
              "    .dataframe thead th {\n",
              "        text-align: right;\n",
              "    }\n",
              "</style>\n",
              "<table border=\"1\" class=\"dataframe\">\n",
              "  <thead>\n",
              "    <tr style=\"text-align: right;\">\n",
              "      <th></th>\n",
              "      <th>Emp1</th>\n",
              "      <th>Emp2</th>\n",
              "      <th>Emp3</th>\n",
              "      <th>Emp4</th>\n",
              "      <th>Emp5</th>\n",
              "    </tr>\n",
              "  </thead>\n",
              "  <tbody>\n",
              "    <tr>\n",
              "      <th>Emp No</th>\n",
              "      <td>101</td>\n",
              "      <td>102</td>\n",
              "      <td>103</td>\n",
              "      <td>104</td>\n",
              "      <td>105</td>\n",
              "    </tr>\n",
              "    <tr>\n",
              "      <th>Emp Name</th>\n",
              "      <td>Jai</td>\n",
              "      <td>Kannan</td>\n",
              "      <td>Raman</td>\n",
              "      <td>Suresh</td>\n",
              "      <td>Sam</td>\n",
              "    </tr>\n",
              "    <tr>\n",
              "      <th>Salary</th>\n",
              "      <td>14000</td>\n",
              "      <td>10000</td>\n",
              "      <td>7000</td>\n",
              "      <td>9000</td>\n",
              "      <td>11000</td>\n",
              "    </tr>\n",
              "  </tbody>\n",
              "</table>\n",
              "</div>"
            ],
            "text/plain": [
              "           Emp1    Emp2   Emp3    Emp4   Emp5\n",
              "Emp No      101     102    103     104    105\n",
              "Emp Name    Jai  Kannan  Raman  Suresh    Sam\n",
              "Salary    14000   10000   7000    9000  11000"
            ]
          },
          "metadata": {
            "tags": []
          },
          "execution_count": 27
        }
      ]
    },
    {
      "cell_type": "markdown",
      "metadata": {
        "id": "csN0509b3J-9"
      },
      "source": [
        "# 2. Creating DataFrame from CSV and Saving it to CSV\n",
        "\n",
        "> CSV(Comma Seperated Values) is the most commonly used format used for storing tabular data like spreadsheets and database. As name suggests in csv values are seperated or delimited by comma ( , )\n",
        "\n",
        "> Pandas Provide methods for creating dataframe from a csv file and to export/save a dataframe into a csv file.\n"
      ]
    },
    {
      "cell_type": "code",
      "metadata": {
        "id": "fDPb0lj5paS8"
      },
      "source": [
        "import pandas as pd"
      ],
      "execution_count": 28,
      "outputs": []
    },
    {
      "cell_type": "markdown",
      "metadata": {
        "id": "oTshUtpypZfu"
      },
      "source": [
        "## 2.1 Creating DataFrame from CSV\n",
        "\n",
        "> To create dataframe from csv pandas library provides a method called read_csv. read_csv method contains many attributes some of the most commonly used attributes are.\n",
        "\n",
        "\n",
        "1.   **filepath_or_buffer** - URL/Dir location of the csv file goes here\n",
        "2.   **sep** - Delimeter of csv file. Default value is ','\n",
        "3.   **header** - Makes the passed row or rowas as column header\n",
        "4.   **index_col** - Makes passed column as index\n",
        "5.   **use_cols** - Used to retrive only specific columns\n"
      ]
    },
    {
      "cell_type": "code",
      "metadata": {
        "id": "EsHxNccB-oDl"
      },
      "source": [
        "df_path = 'https://raw.githubusercontent.com/naveen63hdh/Data-Analytics/main/dataset.csv'"
      ],
      "execution_count": 29,
      "outputs": []
    },
    {
      "cell_type": "code",
      "metadata": {
        "id": "c3FgAs55IZpW"
      },
      "source": [
        "one_piece_df = pd.read_csv(df_path,sep = ',', header = 'infer', index_col = 'Character', usecols = ['Character','Devil Fruit','Class','Status'])"
      ],
      "execution_count": 30,
      "outputs": []
    },
    {
      "cell_type": "code",
      "metadata": {
        "colab": {
          "base_uri": "https://localhost:8080/",
          "height": 238
        },
        "id": "uFSC81t4Icek",
        "outputId": "ff4a9613-6cd8-4fd0-c60b-062e47339784"
      },
      "source": [
        "one_piece_df.head()"
      ],
      "execution_count": 31,
      "outputs": [
        {
          "output_type": "execute_result",
          "data": {
            "text/html": [
              "<div>\n",
              "<style scoped>\n",
              "    .dataframe tbody tr th:only-of-type {\n",
              "        vertical-align: middle;\n",
              "    }\n",
              "\n",
              "    .dataframe tbody tr th {\n",
              "        vertical-align: top;\n",
              "    }\n",
              "\n",
              "    .dataframe thead th {\n",
              "        text-align: right;\n",
              "    }\n",
              "</style>\n",
              "<table border=\"1\" class=\"dataframe\">\n",
              "  <thead>\n",
              "    <tr style=\"text-align: right;\">\n",
              "      <th></th>\n",
              "      <th>Devil Fruit</th>\n",
              "      <th>Class</th>\n",
              "      <th>Status</th>\n",
              "    </tr>\n",
              "    <tr>\n",
              "      <th>Character</th>\n",
              "      <th></th>\n",
              "      <th></th>\n",
              "      <th></th>\n",
              "    </tr>\n",
              "  </thead>\n",
              "  <tbody>\n",
              "    <tr>\n",
              "      <th>Marshall D. Teach</th>\n",
              "      <td>Gura Gura no Mi</td>\n",
              "      <td>Paramecia</td>\n",
              "      <td>Consumed</td>\n",
              "    </tr>\n",
              "    <tr>\n",
              "      <th>Marshall D. Teach</th>\n",
              "      <td>Yami Yami no Mi</td>\n",
              "      <td>Logia</td>\n",
              "      <td>Consumed</td>\n",
              "    </tr>\n",
              "    <tr>\n",
              "      <th>Absalom</th>\n",
              "      <td>Suke Suke no Mi</td>\n",
              "      <td>Paramecia</td>\n",
              "      <td>Re-Consumed</td>\n",
              "    </tr>\n",
              "    <tr>\n",
              "      <th>Alpacaman</th>\n",
              "      <td>Alpaca SMILE</td>\n",
              "      <td>SMILE</td>\n",
              "      <td>Consumed</td>\n",
              "    </tr>\n",
              "    <tr>\n",
              "      <th>Alvida</th>\n",
              "      <td>Sube Sube no Mi</td>\n",
              "      <td>Paramecia</td>\n",
              "      <td>Consumed</td>\n",
              "    </tr>\n",
              "  </tbody>\n",
              "</table>\n",
              "</div>"
            ],
            "text/plain": [
              "                       Devil Fruit      Class       Status\n",
              "Character                                                 \n",
              "Marshall D. Teach  Gura Gura no Mi  Paramecia     Consumed\n",
              "Marshall D. Teach  Yami Yami no Mi      Logia     Consumed\n",
              "Absalom            Suke Suke no Mi  Paramecia  Re-Consumed\n",
              "Alpacaman             Alpaca SMILE      SMILE     Consumed\n",
              "Alvida             Sube Sube no Mi  Paramecia     Consumed"
            ]
          },
          "metadata": {
            "tags": []
          },
          "execution_count": 31
        }
      ]
    },
    {
      "cell_type": "markdown",
      "metadata": {
        "id": "Opjy246sNvjX"
      },
      "source": [
        "## 2.2 Saving DataFrame as CSV\n",
        "> To save a dataframe as a csv file pandas provide a method called to_csv()"
      ]
    },
    {
      "cell_type": "code",
      "metadata": {
        "id": "YPcZLLNHQVsW"
      },
      "source": [
        "data = {'Emp No':[101,102,103,104,105],\n",
        "        'Emp Name':['Jai','Kannan','Raman','Suresh','Sam'],\n",
        "        'Salary':[14000,10000,7000,9000,11000]}                "
      ],
      "execution_count": 32,
      "outputs": []
    },
    {
      "cell_type": "code",
      "metadata": {
        "id": "rOokWX2lQnYD"
      },
      "source": [
        "df = pd.DataFrame(data)"
      ],
      "execution_count": 33,
      "outputs": []
    },
    {
      "cell_type": "code",
      "metadata": {
        "id": "S58PmvSXIdW2"
      },
      "source": [
        "df.to_csv('my_dataset.csv')"
      ],
      "execution_count": 34,
      "outputs": []
    },
    {
      "cell_type": "markdown",
      "metadata": {
        "id": "v1g9zRxwRGt9"
      },
      "source": [
        "# 3. Group by operations in DataFrame\n",
        "    \n",
        "> Pandas groupby() allows us to split our data into separate groups to perform computations for better analysis. groupby() returns the **DataFrameGroupBy** object.\n",
        "\n",
        "> Using DataFrameGroupBy object we can do some analysis like getting speicfic group's values, number of groups, size of each group and etc.\n",
        "\n",
        "> Some of the attributes and methods used to access DataFrameGroupBy are:\n",
        "\n",
        "*   **ngroups** - Attribute to get number of groups\n",
        "*   **groups** - Attribute that returns groupwise row number                \n",
        "*   **size()** - Method to display group sizes\n",
        "*   **first() and last()** - Methods to preview first and last entry of each group\n",
        "*   **get_group()** - Method to retrive a dataframe for specific group\n"
      ]
    },
    {
      "cell_type": "code",
      "metadata": {
        "id": "wjN5tCEHq-_3"
      },
      "source": [
        "import pandas as pd"
      ],
      "execution_count": 35,
      "outputs": []
    },
    {
      "cell_type": "code",
      "metadata": {
        "id": "d2k3Hbv8r3ej"
      },
      "source": [
        "df_path = 'https://raw.githubusercontent.com/naveen63hdh/Data-Analytics/main/dataset.csv'"
      ],
      "execution_count": 36,
      "outputs": []
    },
    {
      "cell_type": "code",
      "metadata": {
        "id": "i4ENiHcIr2f4"
      },
      "source": [
        "op_df = pd.read_csv(df_path)"
      ],
      "execution_count": 37,
      "outputs": []
    },
    {
      "cell_type": "code",
      "metadata": {
        "id": "luzkfJjJr11-"
      },
      "source": [
        "devil_fruits = op_df.groupby('Class')"
      ],
      "execution_count": 38,
      "outputs": []
    },
    {
      "cell_type": "markdown",
      "metadata": {
        "id": "Wfb67k5sxhGg"
      },
      "source": [
        "### 3.1 ngroups - Attribute to get number of **groups**"
      ]
    },
    {
      "cell_type": "code",
      "metadata": {
        "colab": {
          "base_uri": "https://localhost:8080/"
        },
        "id": "Gs4kA34ox4JI",
        "outputId": "01b7f3d7-c2bf-4d7a-f09d-1f913bc2619f"
      },
      "source": [
        "devil_fruits.ngroups"
      ],
      "execution_count": 39,
      "outputs": [
        {
          "output_type": "execute_result",
          "data": {
            "text/plain": [
              "6"
            ]
          },
          "metadata": {
            "tags": []
          },
          "execution_count": 39
        }
      ]
    },
    {
      "cell_type": "markdown",
      "metadata": {
        "id": "UVoHifAMyG7X"
      },
      "source": [
        "### 3.2 groups - Attribute that returns groupwise row number                "
      ]
    },
    {
      "cell_type": "code",
      "metadata": {
        "colab": {
          "base_uri": "https://localhost:8080/"
        },
        "id": "rCaSvYM2sW1Y",
        "outputId": "4c401985-946e-41c5-c85c-928a0f8a777d"
      },
      "source": [
        "devil_fruits.groups"
      ],
      "execution_count": 40,
      "outputs": [
        {
          "output_type": "execute_result",
          "data": {
            "text/plain": [
              "{'(undetermined)': [96, 105, 163], 'Failed SMILE': [78, 98, 141, 150, 164], 'Logia': [1, 22, 28, 30, 50, 63, 104, 120, 135, 139, 140, 155], 'Paramecia': [0, 2, 4, 5, 7, 8, 9, 10, 13, 14, 15, 17, 18, 19, 23, 24, 25, 29, 31, 34, 35, 36, 37, 38, 39, 40, 41, 42, 43, 44, 45, 46, 54, 55, 57, 58, 60, 62, 65, 66, 68, 70, 71, 73, 75, 79, 85, 86, 89, 90, 94, 95, 97, 99, 102, 107, 109, 111, 112, 114, 121, 123, 126, 132, 133, 142, 143, 146, 147, 149, 151, 152, 153, 160, 161, 162, 166, 167, 168, 169, 170, 171, 172, 173, 178], 'SMILE': [3, 6, 11, 12, 26, 47, 48, 49, 51, 56, 61, 69, 72, 74, 76, 77, 80, 81, 82, 83, 84, 101, 108, 110, 124, 125, 129, 137, 144, 148, 156, 157, 158, 159, 174, 175, 176], 'Zoan': [16, 20, 21, 27, 32, 33, 52, 53, 59, 64, 67, 87, 88, 91, 92, 93, 100, 103, 106, 113, 115, 116, 117, 118, 119, 122, 127, 128, 130, 131, 134, 136, 138, 145, 154, 165, 177]}"
            ]
          },
          "metadata": {
            "tags": []
          },
          "execution_count": 40
        }
      ]
    },
    {
      "cell_type": "markdown",
      "metadata": {
        "id": "yLXs_2B-ym3x"
      },
      "source": [
        "### 3.3 size() - Method to display group sizes"
      ]
    },
    {
      "cell_type": "code",
      "metadata": {
        "colab": {
          "base_uri": "https://localhost:8080/"
        },
        "id": "PZy3cUFhyuAP",
        "outputId": "d29aaf00-13bb-4e03-a008-f13dcea28b24"
      },
      "source": [
        "devil_fruits.size()"
      ],
      "execution_count": 41,
      "outputs": [
        {
          "output_type": "execute_result",
          "data": {
            "text/plain": [
              "Class\n",
              "(undetermined)     3\n",
              "Failed SMILE       5\n",
              "Logia             12\n",
              "Paramecia         85\n",
              "SMILE             37\n",
              "Zoan              37\n",
              "dtype: int64"
            ]
          },
          "metadata": {
            "tags": []
          },
          "execution_count": 41
        }
      ]
    },
    {
      "cell_type": "markdown",
      "metadata": {
        "id": "rkpuA0mNy9HV"
      },
      "source": [
        "### 3.4 first() and last() - Methods to preview first and last entry of each group"
      ]
    },
    {
      "cell_type": "code",
      "metadata": {
        "colab": {
          "base_uri": "https://localhost:8080/",
          "height": 269
        },
        "id": "Vfku0MnWzRuI",
        "outputId": "4fd66005-edd9-4656-e2ac-f9c6d9565bdc"
      },
      "source": [
        "devil_fruits.first()"
      ],
      "execution_count": 42,
      "outputs": [
        {
          "output_type": "execute_result",
          "data": {
            "text/html": [
              "<div>\n",
              "<style scoped>\n",
              "    .dataframe tbody tr th:only-of-type {\n",
              "        vertical-align: middle;\n",
              "    }\n",
              "\n",
              "    .dataframe tbody tr th {\n",
              "        vertical-align: top;\n",
              "    }\n",
              "\n",
              "    .dataframe thead th {\n",
              "        text-align: right;\n",
              "    }\n",
              "</style>\n",
              "<table border=\"1\" class=\"dataframe\">\n",
              "  <thead>\n",
              "    <tr style=\"text-align: right;\">\n",
              "      <th></th>\n",
              "      <th>Character</th>\n",
              "      <th>Devil Fruit</th>\n",
              "      <th>Subclass</th>\n",
              "      <th>Awakened</th>\n",
              "      <th>Status</th>\n",
              "    </tr>\n",
              "    <tr>\n",
              "      <th>Class</th>\n",
              "      <th></th>\n",
              "      <th></th>\n",
              "      <th></th>\n",
              "      <th></th>\n",
              "      <th></th>\n",
              "    </tr>\n",
              "  </thead>\n",
              "  <tbody>\n",
              "    <tr>\n",
              "      <th>(undetermined)</th>\n",
              "      <td>Karasu</td>\n",
              "      <td>(unnamed)</td>\n",
              "      <td>(undetermined)</td>\n",
              "      <td>No</td>\n",
              "      <td>Consumed</td>\n",
              "    </tr>\n",
              "    <tr>\n",
              "      <th>Failed SMILE</th>\n",
              "      <td>Han</td>\n",
              "      <td>(unnamed)</td>\n",
              "      <td>Failed Artificial Zoan</td>\n",
              "      <td>No</td>\n",
              "      <td>Consumed</td>\n",
              "    </tr>\n",
              "    <tr>\n",
              "      <th>Logia</th>\n",
              "      <td>Marshall D. Teach</td>\n",
              "      <td>Yami Yami no Mi</td>\n",
              "      <td>Regular Logia</td>\n",
              "      <td>No</td>\n",
              "      <td>Consumed</td>\n",
              "    </tr>\n",
              "    <tr>\n",
              "      <th>Paramecia</th>\n",
              "      <td>Marshall D. Teach</td>\n",
              "      <td>Gura Gura no Mi</td>\n",
              "      <td>Regular Paramecia</td>\n",
              "      <td>No</td>\n",
              "      <td>Consumed</td>\n",
              "    </tr>\n",
              "    <tr>\n",
              "      <th>SMILE</th>\n",
              "      <td>Alpacaman</td>\n",
              "      <td>Alpaca SMILE</td>\n",
              "      <td>Artificial Zoan</td>\n",
              "      <td>No</td>\n",
              "      <td>Consumed</td>\n",
              "    </tr>\n",
              "    <tr>\n",
              "      <th>Zoan</th>\n",
              "      <td>Bian</td>\n",
              "      <td>Mushi Mushi no Mi, Model: Suzumebachi</td>\n",
              "      <td>Regular Zoan</td>\n",
              "      <td>No</td>\n",
              "      <td>Consumed</td>\n",
              "    </tr>\n",
              "  </tbody>\n",
              "</table>\n",
              "</div>"
            ],
            "text/plain": [
              "                        Character  ...    Status\n",
              "Class                              ...          \n",
              "(undetermined)             Karasu  ...  Consumed\n",
              "Failed SMILE                  Han  ...  Consumed\n",
              "Logia           Marshall D. Teach  ...  Consumed\n",
              "Paramecia       Marshall D. Teach  ...  Consumed\n",
              "SMILE                   Alpacaman  ...  Consumed\n",
              "Zoan                         Bian  ...  Consumed\n",
              "\n",
              "[6 rows x 5 columns]"
            ]
          },
          "metadata": {
            "tags": []
          },
          "execution_count": 42
        }
      ]
    },
    {
      "cell_type": "code",
      "metadata": {
        "colab": {
          "base_uri": "https://localhost:8080/",
          "height": 269
        },
        "id": "hqMFRJX_zYPI",
        "outputId": "75caed98-a42c-48f8-89ae-58a6ff07879c"
      },
      "source": [
        "devil_fruits.last()"
      ],
      "execution_count": 43,
      "outputs": [
        {
          "output_type": "execute_result",
          "data": {
            "text/html": [
              "<div>\n",
              "<style scoped>\n",
              "    .dataframe tbody tr th:only-of-type {\n",
              "        vertical-align: middle;\n",
              "    }\n",
              "\n",
              "    .dataframe tbody tr th {\n",
              "        vertical-align: top;\n",
              "    }\n",
              "\n",
              "    .dataframe thead th {\n",
              "        text-align: right;\n",
              "    }\n",
              "</style>\n",
              "<table border=\"1\" class=\"dataframe\">\n",
              "  <thead>\n",
              "    <tr style=\"text-align: right;\">\n",
              "      <th></th>\n",
              "      <th>Character</th>\n",
              "      <th>Devil Fruit</th>\n",
              "      <th>Subclass</th>\n",
              "      <th>Awakened</th>\n",
              "      <th>Status</th>\n",
              "    </tr>\n",
              "    <tr>\n",
              "      <th>Class</th>\n",
              "      <th></th>\n",
              "      <th></th>\n",
              "      <th></th>\n",
              "      <th></th>\n",
              "      <th></th>\n",
              "    </tr>\n",
              "  </thead>\n",
              "  <tbody>\n",
              "    <tr>\n",
              "      <th>(undetermined)</th>\n",
              "      <td>Tamago</td>\n",
              "      <td>Tama Tama no Mi</td>\n",
              "      <td>(undetermined)</td>\n",
              "      <td>No</td>\n",
              "      <td>Consumed</td>\n",
              "    </tr>\n",
              "    <tr>\n",
              "      <th>Failed SMILE</th>\n",
              "      <td>Toko</td>\n",
              "      <td>(unnamed)</td>\n",
              "      <td>Failed Artificial Zoan</td>\n",
              "      <td>No</td>\n",
              "      <td>Consumed</td>\n",
              "    </tr>\n",
              "    <tr>\n",
              "      <th>Logia</th>\n",
              "      <td>Smoker</td>\n",
              "      <td>Moku Moku no Mi</td>\n",
              "      <td>Regular Logia</td>\n",
              "      <td>No</td>\n",
              "      <td>Consumed</td>\n",
              "    </tr>\n",
              "    <tr>\n",
              "      <th>Paramecia</th>\n",
              "      <td>Zala</td>\n",
              "      <td>Toge Toge no Mi</td>\n",
              "      <td>Regular Paramecia</td>\n",
              "      <td>No</td>\n",
              "      <td>Consumed</td>\n",
              "    </tr>\n",
              "    <tr>\n",
              "      <th>SMILE</th>\n",
              "      <td>Wolf gifter (chapter 943) #2</td>\n",
              "      <td>Wolf SMILE</td>\n",
              "      <td>Artificial Zoan</td>\n",
              "      <td>No</td>\n",
              "      <td>Consumed</td>\n",
              "    </tr>\n",
              "    <tr>\n",
              "      <th>Zoan</th>\n",
              "      <td>X Drake</td>\n",
              "      <td>Ryu Ryu no Mi, Model: Allosaurus</td>\n",
              "      <td>Ancient Zoan</td>\n",
              "      <td>No</td>\n",
              "      <td>Consumed</td>\n",
              "    </tr>\n",
              "  </tbody>\n",
              "</table>\n",
              "</div>"
            ],
            "text/plain": [
              "                                   Character  ...    Status\n",
              "Class                                         ...          \n",
              "(undetermined)                        Tamago  ...  Consumed\n",
              "Failed SMILE                            Toko  ...  Consumed\n",
              "Logia                                 Smoker  ...  Consumed\n",
              "Paramecia                               Zala  ...  Consumed\n",
              "SMILE           Wolf gifter (chapter 943) #2  ...  Consumed\n",
              "Zoan                                 X Drake  ...  Consumed\n",
              "\n",
              "[6 rows x 5 columns]"
            ]
          },
          "metadata": {
            "tags": []
          },
          "execution_count": 43
        }
      ]
    },
    {
      "cell_type": "markdown",
      "metadata": {
        "id": "EUeX2ABVzcKW"
      },
      "source": [
        "### 3.5 get_group() - Method to retrive a dataframe for specific group"
      ]
    },
    {
      "cell_type": "code",
      "metadata": {
        "colab": {
          "base_uri": "https://localhost:8080/",
          "height": 426
        },
        "id": "jLYhI_b7zlvR",
        "outputId": "d9092c8e-347a-411e-ee82-2c1423c90c8f"
      },
      "source": [
        "devil_fruits.get_group('Logia')"
      ],
      "execution_count": 44,
      "outputs": [
        {
          "output_type": "execute_result",
          "data": {
            "text/html": [
              "<div>\n",
              "<style scoped>\n",
              "    .dataframe tbody tr th:only-of-type {\n",
              "        vertical-align: middle;\n",
              "    }\n",
              "\n",
              "    .dataframe tbody tr th {\n",
              "        vertical-align: top;\n",
              "    }\n",
              "\n",
              "    .dataframe thead th {\n",
              "        text-align: right;\n",
              "    }\n",
              "</style>\n",
              "<table border=\"1\" class=\"dataframe\">\n",
              "  <thead>\n",
              "    <tr style=\"text-align: right;\">\n",
              "      <th></th>\n",
              "      <th>Character</th>\n",
              "      <th>Devil Fruit</th>\n",
              "      <th>Subclass</th>\n",
              "      <th>Awakened</th>\n",
              "      <th>Status</th>\n",
              "    </tr>\n",
              "  </thead>\n",
              "  <tbody>\n",
              "    <tr>\n",
              "      <th>1</th>\n",
              "      <td>Marshall D. Teach</td>\n",
              "      <td>Yami Yami no Mi</td>\n",
              "      <td>Regular Logia</td>\n",
              "      <td>No</td>\n",
              "      <td>Consumed</td>\n",
              "    </tr>\n",
              "    <tr>\n",
              "      <th>22</th>\n",
              "      <td>Borsalino</td>\n",
              "      <td>Pika Pika no Mi</td>\n",
              "      <td>Regular Logia</td>\n",
              "      <td>No</td>\n",
              "      <td>Consumed</td>\n",
              "    </tr>\n",
              "    <tr>\n",
              "      <th>28</th>\n",
              "      <td>Caesar Clown</td>\n",
              "      <td>Gasu Gasu no Mi</td>\n",
              "      <td>Regular Logia</td>\n",
              "      <td>No</td>\n",
              "      <td>Consumed</td>\n",
              "    </tr>\n",
              "    <tr>\n",
              "      <th>30</th>\n",
              "      <td>Caribou</td>\n",
              "      <td>Numa Numa no Mi</td>\n",
              "      <td>Regular Logia</td>\n",
              "      <td>No</td>\n",
              "      <td>Consumed</td>\n",
              "    </tr>\n",
              "    <tr>\n",
              "      <th>50</th>\n",
              "      <td>Crocodile</td>\n",
              "      <td>Suna Suna no Mi</td>\n",
              "      <td>Regular Logia</td>\n",
              "      <td>No</td>\n",
              "      <td>Consumed</td>\n",
              "    </tr>\n",
              "    <tr>\n",
              "      <th>63</th>\n",
              "      <td>Enel</td>\n",
              "      <td>Goro Goro no Mi</td>\n",
              "      <td>Regular Logia</td>\n",
              "      <td>No</td>\n",
              "      <td>Consumed</td>\n",
              "    </tr>\n",
              "    <tr>\n",
              "      <th>104</th>\n",
              "      <td>Kuzan</td>\n",
              "      <td>Hie Hie no Mi</td>\n",
              "      <td>Regular Logia</td>\n",
              "      <td>No</td>\n",
              "      <td>Consumed</td>\n",
              "    </tr>\n",
              "    <tr>\n",
              "      <th>120</th>\n",
              "      <td>Monet</td>\n",
              "      <td>Yuki Yuki no Mi</td>\n",
              "      <td>Regular Logia</td>\n",
              "      <td>No</td>\n",
              "      <td>Free</td>\n",
              "    </tr>\n",
              "    <tr>\n",
              "      <th>135</th>\n",
              "      <td>Portgas D. Ace</td>\n",
              "      <td>Mera Mera no Mi</td>\n",
              "      <td>Regular Logia</td>\n",
              "      <td>No</td>\n",
              "      <td>Re-Consumed</td>\n",
              "    </tr>\n",
              "    <tr>\n",
              "      <th>139</th>\n",
              "      <td>Sabo</td>\n",
              "      <td>Mera Mera no Mi</td>\n",
              "      <td>Regular Logia</td>\n",
              "      <td>No</td>\n",
              "      <td>Consumed</td>\n",
              "    </tr>\n",
              "    <tr>\n",
              "      <th>140</th>\n",
              "      <td>Sakazuki</td>\n",
              "      <td>Magu Magu no Mi</td>\n",
              "      <td>Regular Logia</td>\n",
              "      <td>No</td>\n",
              "      <td>Consumed</td>\n",
              "    </tr>\n",
              "    <tr>\n",
              "      <th>155</th>\n",
              "      <td>Smoker</td>\n",
              "      <td>Moku Moku no Mi</td>\n",
              "      <td>Regular Logia</td>\n",
              "      <td>No</td>\n",
              "      <td>Consumed</td>\n",
              "    </tr>\n",
              "  </tbody>\n",
              "</table>\n",
              "</div>"
            ],
            "text/plain": [
              "             Character      Devil Fruit       Subclass Awakened       Status\n",
              "1    Marshall D. Teach  Yami Yami no Mi  Regular Logia       No     Consumed\n",
              "22           Borsalino  Pika Pika no Mi  Regular Logia       No     Consumed\n",
              "28        Caesar Clown  Gasu Gasu no Mi  Regular Logia       No     Consumed\n",
              "30             Caribou  Numa Numa no Mi  Regular Logia       No     Consumed\n",
              "50           Crocodile  Suna Suna no Mi  Regular Logia       No     Consumed\n",
              "63                Enel  Goro Goro no Mi  Regular Logia       No     Consumed\n",
              "104              Kuzan    Hie Hie no Mi  Regular Logia       No     Consumed\n",
              "120              Monet  Yuki Yuki no Mi  Regular Logia       No         Free\n",
              "135     Portgas D. Ace  Mera Mera no Mi  Regular Logia       No  Re-Consumed\n",
              "139               Sabo  Mera Mera no Mi  Regular Logia       No     Consumed\n",
              "140           Sakazuki  Magu Magu no Mi  Regular Logia       No     Consumed\n",
              "155             Smoker  Moku Moku no Mi  Regular Logia       No     Consumed"
            ]
          },
          "metadata": {
            "tags": []
          },
          "execution_count": 44
        }
      ]
    },
    {
      "cell_type": "markdown",
      "metadata": {
        "id": "tD0o7epi6Vob"
      },
      "source": [
        "# 4. Combining and Merging in DataFrame\n",
        "\n",
        "> Pandas Support both Horizontal and vertical combination of dataframes. **Horizontal combination** means combining dataframes in column level **merge()** and **join()** are the methods provided by pandas for horizontal combination.And **Vertical combination** means combining dataframes in row leve **concat()** and **append()** are the methods used for vertical combination.\n"
      ]
    },
    {
      "cell_type": "code",
      "metadata": {
        "id": "tg71Y9HX_-kb"
      },
      "source": [
        "import pandas as pd"
      ],
      "execution_count": 45,
      "outputs": []
    },
    {
      "cell_type": "markdown",
      "metadata": {
        "id": "cJW0zZ5lADzK"
      },
      "source": [
        "## 4.1 merge() - Combining data on common columns or indices.\n",
        "\n",
        "\n",
        "> Merging two dataset can be done in two ways\n",
        "\n",
        "*   Merging dataframe with common column name\n",
        "*   Merging dataframe with different column name\n",
        "\n",
        "> Using how attribute in merge() each type can do 4 merge different operations \n",
        "\n",
        "*   Inner/Equi Join\n",
        "*   Left Join\n",
        "*   Right Join\n",
        "*   Outer Join\n"
      ]
    },
    {
      "cell_type": "markdown",
      "metadata": {
        "id": "WCHwxSDADoZi"
      },
      "source": [
        "### 4.1.1Merging dataframe with common column name"
      ]
    },
    {
      "cell_type": "code",
      "metadata": {
        "id": "2RUNR_CwACu5"
      },
      "source": [
        "data1 = {'Emp No':[101,102,103,104,105],\n",
        "        'Emp Name':['Jai','Kannan','Raman','Suresh','Sam'],\n",
        "        'Salary':[14000,10000,7000,9000,11000]}                \n",
        "\n",
        "data2 = {'Emp No':[101,102,104,105,106,107],\n",
        "        'Team id':[201,203,201,202,202,204],\n",
        "        'Team Leader':['Vivek','Gaurav','Vivek','Vishwa','Vishwa','Guru']}"
      ],
      "execution_count": 46,
      "outputs": []
    },
    {
      "cell_type": "code",
      "metadata": {
        "id": "sJWmcr76Dqo_"
      },
      "source": [
        "df1 = pd.DataFrame(data1)\n",
        "df2 = pd.DataFrame(data2)"
      ],
      "execution_count": 47,
      "outputs": []
    },
    {
      "cell_type": "code",
      "metadata": {
        "colab": {
          "base_uri": "https://localhost:8080/",
          "height": 206
        },
        "id": "ZC-pGK8jD7Tz",
        "outputId": "da38bfa0-5d22-4996-8e27-98da2c134e15"
      },
      "source": [
        "df1"
      ],
      "execution_count": 48,
      "outputs": [
        {
          "output_type": "execute_result",
          "data": {
            "text/html": [
              "<div>\n",
              "<style scoped>\n",
              "    .dataframe tbody tr th:only-of-type {\n",
              "        vertical-align: middle;\n",
              "    }\n",
              "\n",
              "    .dataframe tbody tr th {\n",
              "        vertical-align: top;\n",
              "    }\n",
              "\n",
              "    .dataframe thead th {\n",
              "        text-align: right;\n",
              "    }\n",
              "</style>\n",
              "<table border=\"1\" class=\"dataframe\">\n",
              "  <thead>\n",
              "    <tr style=\"text-align: right;\">\n",
              "      <th></th>\n",
              "      <th>Emp No</th>\n",
              "      <th>Emp Name</th>\n",
              "      <th>Salary</th>\n",
              "    </tr>\n",
              "  </thead>\n",
              "  <tbody>\n",
              "    <tr>\n",
              "      <th>0</th>\n",
              "      <td>101</td>\n",
              "      <td>Jai</td>\n",
              "      <td>14000</td>\n",
              "    </tr>\n",
              "    <tr>\n",
              "      <th>1</th>\n",
              "      <td>102</td>\n",
              "      <td>Kannan</td>\n",
              "      <td>10000</td>\n",
              "    </tr>\n",
              "    <tr>\n",
              "      <th>2</th>\n",
              "      <td>103</td>\n",
              "      <td>Raman</td>\n",
              "      <td>7000</td>\n",
              "    </tr>\n",
              "    <tr>\n",
              "      <th>3</th>\n",
              "      <td>104</td>\n",
              "      <td>Suresh</td>\n",
              "      <td>9000</td>\n",
              "    </tr>\n",
              "    <tr>\n",
              "      <th>4</th>\n",
              "      <td>105</td>\n",
              "      <td>Sam</td>\n",
              "      <td>11000</td>\n",
              "    </tr>\n",
              "  </tbody>\n",
              "</table>\n",
              "</div>"
            ],
            "text/plain": [
              "   Emp No Emp Name  Salary\n",
              "0     101      Jai   14000\n",
              "1     102   Kannan   10000\n",
              "2     103    Raman    7000\n",
              "3     104   Suresh    9000\n",
              "4     105      Sam   11000"
            ]
          },
          "metadata": {
            "tags": []
          },
          "execution_count": 48
        }
      ]
    },
    {
      "cell_type": "code",
      "metadata": {
        "colab": {
          "base_uri": "https://localhost:8080/",
          "height": 238
        },
        "id": "MDoyOhLLD-wO",
        "outputId": "a4d58962-a223-45cc-a7d5-7b14223163ac"
      },
      "source": [
        "df2"
      ],
      "execution_count": 49,
      "outputs": [
        {
          "output_type": "execute_result",
          "data": {
            "text/html": [
              "<div>\n",
              "<style scoped>\n",
              "    .dataframe tbody tr th:only-of-type {\n",
              "        vertical-align: middle;\n",
              "    }\n",
              "\n",
              "    .dataframe tbody tr th {\n",
              "        vertical-align: top;\n",
              "    }\n",
              "\n",
              "    .dataframe thead th {\n",
              "        text-align: right;\n",
              "    }\n",
              "</style>\n",
              "<table border=\"1\" class=\"dataframe\">\n",
              "  <thead>\n",
              "    <tr style=\"text-align: right;\">\n",
              "      <th></th>\n",
              "      <th>Emp No</th>\n",
              "      <th>Team id</th>\n",
              "      <th>Team Leader</th>\n",
              "    </tr>\n",
              "  </thead>\n",
              "  <tbody>\n",
              "    <tr>\n",
              "      <th>0</th>\n",
              "      <td>101</td>\n",
              "      <td>201</td>\n",
              "      <td>Vivek</td>\n",
              "    </tr>\n",
              "    <tr>\n",
              "      <th>1</th>\n",
              "      <td>102</td>\n",
              "      <td>203</td>\n",
              "      <td>Gaurav</td>\n",
              "    </tr>\n",
              "    <tr>\n",
              "      <th>2</th>\n",
              "      <td>104</td>\n",
              "      <td>201</td>\n",
              "      <td>Vivek</td>\n",
              "    </tr>\n",
              "    <tr>\n",
              "      <th>3</th>\n",
              "      <td>105</td>\n",
              "      <td>202</td>\n",
              "      <td>Vishwa</td>\n",
              "    </tr>\n",
              "    <tr>\n",
              "      <th>4</th>\n",
              "      <td>106</td>\n",
              "      <td>202</td>\n",
              "      <td>Vishwa</td>\n",
              "    </tr>\n",
              "    <tr>\n",
              "      <th>5</th>\n",
              "      <td>107</td>\n",
              "      <td>204</td>\n",
              "      <td>Guru</td>\n",
              "    </tr>\n",
              "  </tbody>\n",
              "</table>\n",
              "</div>"
            ],
            "text/plain": [
              "   Emp No  Team id Team Leader\n",
              "0     101      201       Vivek\n",
              "1     102      203      Gaurav\n",
              "2     104      201       Vivek\n",
              "3     105      202      Vishwa\n",
              "4     106      202      Vishwa\n",
              "5     107      204        Guru"
            ]
          },
          "metadata": {
            "tags": []
          },
          "execution_count": 49
        }
      ]
    },
    {
      "cell_type": "markdown",
      "metadata": {
        "id": "MGOp76anEkC_"
      },
      "source": [
        "### Inner/Equi Join"
      ]
    },
    {
      "cell_type": "code",
      "metadata": {
        "colab": {
          "base_uri": "https://localhost:8080/",
          "height": 175
        },
        "id": "qkmTva2DEUj7",
        "outputId": "b999afc0-c467-42b6-8dde-1faa45bf2f37"
      },
      "source": [
        "pd.merge(df1,df2)"
      ],
      "execution_count": 50,
      "outputs": [
        {
          "output_type": "execute_result",
          "data": {
            "text/html": [
              "<div>\n",
              "<style scoped>\n",
              "    .dataframe tbody tr th:only-of-type {\n",
              "        vertical-align: middle;\n",
              "    }\n",
              "\n",
              "    .dataframe tbody tr th {\n",
              "        vertical-align: top;\n",
              "    }\n",
              "\n",
              "    .dataframe thead th {\n",
              "        text-align: right;\n",
              "    }\n",
              "</style>\n",
              "<table border=\"1\" class=\"dataframe\">\n",
              "  <thead>\n",
              "    <tr style=\"text-align: right;\">\n",
              "      <th></th>\n",
              "      <th>Emp No</th>\n",
              "      <th>Emp Name</th>\n",
              "      <th>Salary</th>\n",
              "      <th>Team id</th>\n",
              "      <th>Team Leader</th>\n",
              "    </tr>\n",
              "  </thead>\n",
              "  <tbody>\n",
              "    <tr>\n",
              "      <th>0</th>\n",
              "      <td>101</td>\n",
              "      <td>Jai</td>\n",
              "      <td>14000</td>\n",
              "      <td>201</td>\n",
              "      <td>Vivek</td>\n",
              "    </tr>\n",
              "    <tr>\n",
              "      <th>1</th>\n",
              "      <td>102</td>\n",
              "      <td>Kannan</td>\n",
              "      <td>10000</td>\n",
              "      <td>203</td>\n",
              "      <td>Gaurav</td>\n",
              "    </tr>\n",
              "    <tr>\n",
              "      <th>2</th>\n",
              "      <td>104</td>\n",
              "      <td>Suresh</td>\n",
              "      <td>9000</td>\n",
              "      <td>201</td>\n",
              "      <td>Vivek</td>\n",
              "    </tr>\n",
              "    <tr>\n",
              "      <th>3</th>\n",
              "      <td>105</td>\n",
              "      <td>Sam</td>\n",
              "      <td>11000</td>\n",
              "      <td>202</td>\n",
              "      <td>Vishwa</td>\n",
              "    </tr>\n",
              "  </tbody>\n",
              "</table>\n",
              "</div>"
            ],
            "text/plain": [
              "   Emp No Emp Name  Salary  Team id Team Leader\n",
              "0     101      Jai   14000      201       Vivek\n",
              "1     102   Kannan   10000      203      Gaurav\n",
              "2     104   Suresh    9000      201       Vivek\n",
              "3     105      Sam   11000      202      Vishwa"
            ]
          },
          "metadata": {
            "tags": []
          },
          "execution_count": 50
        }
      ]
    },
    {
      "cell_type": "code",
      "metadata": {
        "colab": {
          "base_uri": "https://localhost:8080/",
          "height": 175
        },
        "id": "ERfzcA1xEzDX",
        "outputId": "1f940563-6d23-4a6a-ad81-79e574ee17dc"
      },
      "source": [
        "pd.merge(df1,df2,how='inner')"
      ],
      "execution_count": 51,
      "outputs": [
        {
          "output_type": "execute_result",
          "data": {
            "text/html": [
              "<div>\n",
              "<style scoped>\n",
              "    .dataframe tbody tr th:only-of-type {\n",
              "        vertical-align: middle;\n",
              "    }\n",
              "\n",
              "    .dataframe tbody tr th {\n",
              "        vertical-align: top;\n",
              "    }\n",
              "\n",
              "    .dataframe thead th {\n",
              "        text-align: right;\n",
              "    }\n",
              "</style>\n",
              "<table border=\"1\" class=\"dataframe\">\n",
              "  <thead>\n",
              "    <tr style=\"text-align: right;\">\n",
              "      <th></th>\n",
              "      <th>Emp No</th>\n",
              "      <th>Emp Name</th>\n",
              "      <th>Salary</th>\n",
              "      <th>Team id</th>\n",
              "      <th>Team Leader</th>\n",
              "    </tr>\n",
              "  </thead>\n",
              "  <tbody>\n",
              "    <tr>\n",
              "      <th>0</th>\n",
              "      <td>101</td>\n",
              "      <td>Jai</td>\n",
              "      <td>14000</td>\n",
              "      <td>201</td>\n",
              "      <td>Vivek</td>\n",
              "    </tr>\n",
              "    <tr>\n",
              "      <th>1</th>\n",
              "      <td>102</td>\n",
              "      <td>Kannan</td>\n",
              "      <td>10000</td>\n",
              "      <td>203</td>\n",
              "      <td>Gaurav</td>\n",
              "    </tr>\n",
              "    <tr>\n",
              "      <th>2</th>\n",
              "      <td>104</td>\n",
              "      <td>Suresh</td>\n",
              "      <td>9000</td>\n",
              "      <td>201</td>\n",
              "      <td>Vivek</td>\n",
              "    </tr>\n",
              "    <tr>\n",
              "      <th>3</th>\n",
              "      <td>105</td>\n",
              "      <td>Sam</td>\n",
              "      <td>11000</td>\n",
              "      <td>202</td>\n",
              "      <td>Vishwa</td>\n",
              "    </tr>\n",
              "  </tbody>\n",
              "</table>\n",
              "</div>"
            ],
            "text/plain": [
              "   Emp No Emp Name  Salary  Team id Team Leader\n",
              "0     101      Jai   14000      201       Vivek\n",
              "1     102   Kannan   10000      203      Gaurav\n",
              "2     104   Suresh    9000      201       Vivek\n",
              "3     105      Sam   11000      202      Vishwa"
            ]
          },
          "metadata": {
            "tags": []
          },
          "execution_count": 51
        }
      ]
    },
    {
      "cell_type": "markdown",
      "metadata": {
        "id": "1AQFTk6jFaZ2"
      },
      "source": [
        "### Left Join"
      ]
    },
    {
      "cell_type": "code",
      "metadata": {
        "colab": {
          "base_uri": "https://localhost:8080/",
          "height": 206
        },
        "id": "7SUUyrbiFesw",
        "outputId": "7657f893-83be-44f5-d251-08fd2ad5a8fe"
      },
      "source": [
        "pd.merge(df1,df2,how='left')"
      ],
      "execution_count": 52,
      "outputs": [
        {
          "output_type": "execute_result",
          "data": {
            "text/html": [
              "<div>\n",
              "<style scoped>\n",
              "    .dataframe tbody tr th:only-of-type {\n",
              "        vertical-align: middle;\n",
              "    }\n",
              "\n",
              "    .dataframe tbody tr th {\n",
              "        vertical-align: top;\n",
              "    }\n",
              "\n",
              "    .dataframe thead th {\n",
              "        text-align: right;\n",
              "    }\n",
              "</style>\n",
              "<table border=\"1\" class=\"dataframe\">\n",
              "  <thead>\n",
              "    <tr style=\"text-align: right;\">\n",
              "      <th></th>\n",
              "      <th>Emp No</th>\n",
              "      <th>Emp Name</th>\n",
              "      <th>Salary</th>\n",
              "      <th>Team id</th>\n",
              "      <th>Team Leader</th>\n",
              "    </tr>\n",
              "  </thead>\n",
              "  <tbody>\n",
              "    <tr>\n",
              "      <th>0</th>\n",
              "      <td>101</td>\n",
              "      <td>Jai</td>\n",
              "      <td>14000</td>\n",
              "      <td>201.0</td>\n",
              "      <td>Vivek</td>\n",
              "    </tr>\n",
              "    <tr>\n",
              "      <th>1</th>\n",
              "      <td>102</td>\n",
              "      <td>Kannan</td>\n",
              "      <td>10000</td>\n",
              "      <td>203.0</td>\n",
              "      <td>Gaurav</td>\n",
              "    </tr>\n",
              "    <tr>\n",
              "      <th>2</th>\n",
              "      <td>103</td>\n",
              "      <td>Raman</td>\n",
              "      <td>7000</td>\n",
              "      <td>NaN</td>\n",
              "      <td>NaN</td>\n",
              "    </tr>\n",
              "    <tr>\n",
              "      <th>3</th>\n",
              "      <td>104</td>\n",
              "      <td>Suresh</td>\n",
              "      <td>9000</td>\n",
              "      <td>201.0</td>\n",
              "      <td>Vivek</td>\n",
              "    </tr>\n",
              "    <tr>\n",
              "      <th>4</th>\n",
              "      <td>105</td>\n",
              "      <td>Sam</td>\n",
              "      <td>11000</td>\n",
              "      <td>202.0</td>\n",
              "      <td>Vishwa</td>\n",
              "    </tr>\n",
              "  </tbody>\n",
              "</table>\n",
              "</div>"
            ],
            "text/plain": [
              "   Emp No Emp Name  Salary  Team id Team Leader\n",
              "0     101      Jai   14000    201.0       Vivek\n",
              "1     102   Kannan   10000    203.0      Gaurav\n",
              "2     103    Raman    7000      NaN         NaN\n",
              "3     104   Suresh    9000    201.0       Vivek\n",
              "4     105      Sam   11000    202.0      Vishwa"
            ]
          },
          "metadata": {
            "tags": []
          },
          "execution_count": 52
        }
      ]
    },
    {
      "cell_type": "markdown",
      "metadata": {
        "id": "zZDXrCMqFqMJ"
      },
      "source": [
        "### Right Join"
      ]
    },
    {
      "cell_type": "code",
      "metadata": {
        "colab": {
          "base_uri": "https://localhost:8080/",
          "height": 238
        },
        "id": "cAtIXCzSFww4",
        "outputId": "0db54428-0b6f-4be4-eb6f-a9711ec9b0bb"
      },
      "source": [
        "pd.merge(df1,df2,how='right')"
      ],
      "execution_count": 53,
      "outputs": [
        {
          "output_type": "execute_result",
          "data": {
            "text/html": [
              "<div>\n",
              "<style scoped>\n",
              "    .dataframe tbody tr th:only-of-type {\n",
              "        vertical-align: middle;\n",
              "    }\n",
              "\n",
              "    .dataframe tbody tr th {\n",
              "        vertical-align: top;\n",
              "    }\n",
              "\n",
              "    .dataframe thead th {\n",
              "        text-align: right;\n",
              "    }\n",
              "</style>\n",
              "<table border=\"1\" class=\"dataframe\">\n",
              "  <thead>\n",
              "    <tr style=\"text-align: right;\">\n",
              "      <th></th>\n",
              "      <th>Emp No</th>\n",
              "      <th>Emp Name</th>\n",
              "      <th>Salary</th>\n",
              "      <th>Team id</th>\n",
              "      <th>Team Leader</th>\n",
              "    </tr>\n",
              "  </thead>\n",
              "  <tbody>\n",
              "    <tr>\n",
              "      <th>0</th>\n",
              "      <td>101</td>\n",
              "      <td>Jai</td>\n",
              "      <td>14000.0</td>\n",
              "      <td>201</td>\n",
              "      <td>Vivek</td>\n",
              "    </tr>\n",
              "    <tr>\n",
              "      <th>1</th>\n",
              "      <td>102</td>\n",
              "      <td>Kannan</td>\n",
              "      <td>10000.0</td>\n",
              "      <td>203</td>\n",
              "      <td>Gaurav</td>\n",
              "    </tr>\n",
              "    <tr>\n",
              "      <th>2</th>\n",
              "      <td>104</td>\n",
              "      <td>Suresh</td>\n",
              "      <td>9000.0</td>\n",
              "      <td>201</td>\n",
              "      <td>Vivek</td>\n",
              "    </tr>\n",
              "    <tr>\n",
              "      <th>3</th>\n",
              "      <td>105</td>\n",
              "      <td>Sam</td>\n",
              "      <td>11000.0</td>\n",
              "      <td>202</td>\n",
              "      <td>Vishwa</td>\n",
              "    </tr>\n",
              "    <tr>\n",
              "      <th>4</th>\n",
              "      <td>106</td>\n",
              "      <td>NaN</td>\n",
              "      <td>NaN</td>\n",
              "      <td>202</td>\n",
              "      <td>Vishwa</td>\n",
              "    </tr>\n",
              "    <tr>\n",
              "      <th>5</th>\n",
              "      <td>107</td>\n",
              "      <td>NaN</td>\n",
              "      <td>NaN</td>\n",
              "      <td>204</td>\n",
              "      <td>Guru</td>\n",
              "    </tr>\n",
              "  </tbody>\n",
              "</table>\n",
              "</div>"
            ],
            "text/plain": [
              "   Emp No Emp Name   Salary  Team id Team Leader\n",
              "0     101      Jai  14000.0      201       Vivek\n",
              "1     102   Kannan  10000.0      203      Gaurav\n",
              "2     104   Suresh   9000.0      201       Vivek\n",
              "3     105      Sam  11000.0      202      Vishwa\n",
              "4     106      NaN      NaN      202      Vishwa\n",
              "5     107      NaN      NaN      204        Guru"
            ]
          },
          "metadata": {
            "tags": []
          },
          "execution_count": 53
        }
      ]
    },
    {
      "cell_type": "markdown",
      "metadata": {
        "id": "qVgIIL2zF1uR"
      },
      "source": [
        "### Outer Join"
      ]
    },
    {
      "cell_type": "code",
      "metadata": {
        "colab": {
          "base_uri": "https://localhost:8080/",
          "height": 269
        },
        "id": "PL7pKawiF6db",
        "outputId": "dd080865-5627-4b1c-e63b-e7990ec3e44a"
      },
      "source": [
        "pd.merge(df1,df2,how='outer')"
      ],
      "execution_count": 54,
      "outputs": [
        {
          "output_type": "execute_result",
          "data": {
            "text/html": [
              "<div>\n",
              "<style scoped>\n",
              "    .dataframe tbody tr th:only-of-type {\n",
              "        vertical-align: middle;\n",
              "    }\n",
              "\n",
              "    .dataframe tbody tr th {\n",
              "        vertical-align: top;\n",
              "    }\n",
              "\n",
              "    .dataframe thead th {\n",
              "        text-align: right;\n",
              "    }\n",
              "</style>\n",
              "<table border=\"1\" class=\"dataframe\">\n",
              "  <thead>\n",
              "    <tr style=\"text-align: right;\">\n",
              "      <th></th>\n",
              "      <th>Emp No</th>\n",
              "      <th>Emp Name</th>\n",
              "      <th>Salary</th>\n",
              "      <th>Team id</th>\n",
              "      <th>Team Leader</th>\n",
              "    </tr>\n",
              "  </thead>\n",
              "  <tbody>\n",
              "    <tr>\n",
              "      <th>0</th>\n",
              "      <td>101</td>\n",
              "      <td>Jai</td>\n",
              "      <td>14000.0</td>\n",
              "      <td>201.0</td>\n",
              "      <td>Vivek</td>\n",
              "    </tr>\n",
              "    <tr>\n",
              "      <th>1</th>\n",
              "      <td>102</td>\n",
              "      <td>Kannan</td>\n",
              "      <td>10000.0</td>\n",
              "      <td>203.0</td>\n",
              "      <td>Gaurav</td>\n",
              "    </tr>\n",
              "    <tr>\n",
              "      <th>2</th>\n",
              "      <td>103</td>\n",
              "      <td>Raman</td>\n",
              "      <td>7000.0</td>\n",
              "      <td>NaN</td>\n",
              "      <td>NaN</td>\n",
              "    </tr>\n",
              "    <tr>\n",
              "      <th>3</th>\n",
              "      <td>104</td>\n",
              "      <td>Suresh</td>\n",
              "      <td>9000.0</td>\n",
              "      <td>201.0</td>\n",
              "      <td>Vivek</td>\n",
              "    </tr>\n",
              "    <tr>\n",
              "      <th>4</th>\n",
              "      <td>105</td>\n",
              "      <td>Sam</td>\n",
              "      <td>11000.0</td>\n",
              "      <td>202.0</td>\n",
              "      <td>Vishwa</td>\n",
              "    </tr>\n",
              "    <tr>\n",
              "      <th>5</th>\n",
              "      <td>106</td>\n",
              "      <td>NaN</td>\n",
              "      <td>NaN</td>\n",
              "      <td>202.0</td>\n",
              "      <td>Vishwa</td>\n",
              "    </tr>\n",
              "    <tr>\n",
              "      <th>6</th>\n",
              "      <td>107</td>\n",
              "      <td>NaN</td>\n",
              "      <td>NaN</td>\n",
              "      <td>204.0</td>\n",
              "      <td>Guru</td>\n",
              "    </tr>\n",
              "  </tbody>\n",
              "</table>\n",
              "</div>"
            ],
            "text/plain": [
              "   Emp No Emp Name   Salary  Team id Team Leader\n",
              "0     101      Jai  14000.0    201.0       Vivek\n",
              "1     102   Kannan  10000.0    203.0      Gaurav\n",
              "2     103    Raman   7000.0      NaN         NaN\n",
              "3     104   Suresh   9000.0    201.0       Vivek\n",
              "4     105      Sam  11000.0    202.0      Vishwa\n",
              "5     106      NaN      NaN    202.0      Vishwa\n",
              "6     107      NaN      NaN    204.0        Guru"
            ]
          },
          "metadata": {
            "tags": []
          },
          "execution_count": 54
        }
      ]
    },
    {
      "cell_type": "markdown",
      "metadata": {
        "id": "VBhu3lgRGIpf"
      },
      "source": [
        "### 4.1.2Merging dataframe with different column name"
      ]
    },
    {
      "cell_type": "code",
      "metadata": {
        "id": "AIXf6FduGTUJ"
      },
      "source": [
        "data1 = {'Emp No':[101,102,103,104,105],\n",
        "        'Emp Name':['Jai','Kannan','Raman','Suresh','Sam'],\n",
        "        'Salary':[14000,10000,7000,9000,11000]\n",
        "        }                \n",
        "\n",
        "data2 = {'Emp Id':[101,102,104,105,106,107],\n",
        "        'Team id':[201,203,201,202,202,204],\n",
        "        'Team Leader':['Vivek','Gaurav','Vivek','Vishwa','Vishwa','Guru']\n",
        "        }"
      ],
      "execution_count": 55,
      "outputs": []
    },
    {
      "cell_type": "code",
      "metadata": {
        "id": "I-foza4PGZJE"
      },
      "source": [
        "df1 = pd.DataFrame(data1)\n",
        "df2 = pd.DataFrame(data2)"
      ],
      "execution_count": 56,
      "outputs": []
    },
    {
      "cell_type": "code",
      "metadata": {
        "colab": {
          "base_uri": "https://localhost:8080/",
          "height": 206
        },
        "id": "76NObXKQGiRw",
        "outputId": "bfad6c12-ed5a-4a17-8525-5ee37d5141ed"
      },
      "source": [
        "df1"
      ],
      "execution_count": 57,
      "outputs": [
        {
          "output_type": "execute_result",
          "data": {
            "text/html": [
              "<div>\n",
              "<style scoped>\n",
              "    .dataframe tbody tr th:only-of-type {\n",
              "        vertical-align: middle;\n",
              "    }\n",
              "\n",
              "    .dataframe tbody tr th {\n",
              "        vertical-align: top;\n",
              "    }\n",
              "\n",
              "    .dataframe thead th {\n",
              "        text-align: right;\n",
              "    }\n",
              "</style>\n",
              "<table border=\"1\" class=\"dataframe\">\n",
              "  <thead>\n",
              "    <tr style=\"text-align: right;\">\n",
              "      <th></th>\n",
              "      <th>Emp No</th>\n",
              "      <th>Emp Name</th>\n",
              "      <th>Salary</th>\n",
              "    </tr>\n",
              "  </thead>\n",
              "  <tbody>\n",
              "    <tr>\n",
              "      <th>0</th>\n",
              "      <td>101</td>\n",
              "      <td>Jai</td>\n",
              "      <td>14000</td>\n",
              "    </tr>\n",
              "    <tr>\n",
              "      <th>1</th>\n",
              "      <td>102</td>\n",
              "      <td>Kannan</td>\n",
              "      <td>10000</td>\n",
              "    </tr>\n",
              "    <tr>\n",
              "      <th>2</th>\n",
              "      <td>103</td>\n",
              "      <td>Raman</td>\n",
              "      <td>7000</td>\n",
              "    </tr>\n",
              "    <tr>\n",
              "      <th>3</th>\n",
              "      <td>104</td>\n",
              "      <td>Suresh</td>\n",
              "      <td>9000</td>\n",
              "    </tr>\n",
              "    <tr>\n",
              "      <th>4</th>\n",
              "      <td>105</td>\n",
              "      <td>Sam</td>\n",
              "      <td>11000</td>\n",
              "    </tr>\n",
              "  </tbody>\n",
              "</table>\n",
              "</div>"
            ],
            "text/plain": [
              "   Emp No Emp Name  Salary\n",
              "0     101      Jai   14000\n",
              "1     102   Kannan   10000\n",
              "2     103    Raman    7000\n",
              "3     104   Suresh    9000\n",
              "4     105      Sam   11000"
            ]
          },
          "metadata": {
            "tags": []
          },
          "execution_count": 57
        }
      ]
    },
    {
      "cell_type": "code",
      "metadata": {
        "colab": {
          "base_uri": "https://localhost:8080/",
          "height": 238
        },
        "id": "p32hw9vwGjMp",
        "outputId": "b03c974a-5e24-42b3-8fab-8b43d6adb257"
      },
      "source": [
        "df2"
      ],
      "execution_count": 58,
      "outputs": [
        {
          "output_type": "execute_result",
          "data": {
            "text/html": [
              "<div>\n",
              "<style scoped>\n",
              "    .dataframe tbody tr th:only-of-type {\n",
              "        vertical-align: middle;\n",
              "    }\n",
              "\n",
              "    .dataframe tbody tr th {\n",
              "        vertical-align: top;\n",
              "    }\n",
              "\n",
              "    .dataframe thead th {\n",
              "        text-align: right;\n",
              "    }\n",
              "</style>\n",
              "<table border=\"1\" class=\"dataframe\">\n",
              "  <thead>\n",
              "    <tr style=\"text-align: right;\">\n",
              "      <th></th>\n",
              "      <th>Emp Id</th>\n",
              "      <th>Team id</th>\n",
              "      <th>Team Leader</th>\n",
              "    </tr>\n",
              "  </thead>\n",
              "  <tbody>\n",
              "    <tr>\n",
              "      <th>0</th>\n",
              "      <td>101</td>\n",
              "      <td>201</td>\n",
              "      <td>Vivek</td>\n",
              "    </tr>\n",
              "    <tr>\n",
              "      <th>1</th>\n",
              "      <td>102</td>\n",
              "      <td>203</td>\n",
              "      <td>Gaurav</td>\n",
              "    </tr>\n",
              "    <tr>\n",
              "      <th>2</th>\n",
              "      <td>104</td>\n",
              "      <td>201</td>\n",
              "      <td>Vivek</td>\n",
              "    </tr>\n",
              "    <tr>\n",
              "      <th>3</th>\n",
              "      <td>105</td>\n",
              "      <td>202</td>\n",
              "      <td>Vishwa</td>\n",
              "    </tr>\n",
              "    <tr>\n",
              "      <th>4</th>\n",
              "      <td>106</td>\n",
              "      <td>202</td>\n",
              "      <td>Vishwa</td>\n",
              "    </tr>\n",
              "    <tr>\n",
              "      <th>5</th>\n",
              "      <td>107</td>\n",
              "      <td>204</td>\n",
              "      <td>Guru</td>\n",
              "    </tr>\n",
              "  </tbody>\n",
              "</table>\n",
              "</div>"
            ],
            "text/plain": [
              "   Emp Id  Team id Team Leader\n",
              "0     101      201       Vivek\n",
              "1     102      203      Gaurav\n",
              "2     104      201       Vivek\n",
              "3     105      202      Vishwa\n",
              "4     106      202      Vishwa\n",
              "5     107      204        Guru"
            ]
          },
          "metadata": {
            "tags": []
          },
          "execution_count": 58
        }
      ]
    },
    {
      "cell_type": "code",
      "metadata": {
        "colab": {
          "base_uri": "https://localhost:8080/",
          "height": 175
        },
        "id": "HlZMEjjiGrn6",
        "outputId": "5db2edcb-f0f2-428d-ee3a-afde91cd25c3"
      },
      "source": [
        "pd.merge(df1,df2,left_on = 'Emp No',right_on = 'Emp Id',how = 'inner')"
      ],
      "execution_count": 59,
      "outputs": [
        {
          "output_type": "execute_result",
          "data": {
            "text/html": [
              "<div>\n",
              "<style scoped>\n",
              "    .dataframe tbody tr th:only-of-type {\n",
              "        vertical-align: middle;\n",
              "    }\n",
              "\n",
              "    .dataframe tbody tr th {\n",
              "        vertical-align: top;\n",
              "    }\n",
              "\n",
              "    .dataframe thead th {\n",
              "        text-align: right;\n",
              "    }\n",
              "</style>\n",
              "<table border=\"1\" class=\"dataframe\">\n",
              "  <thead>\n",
              "    <tr style=\"text-align: right;\">\n",
              "      <th></th>\n",
              "      <th>Emp No</th>\n",
              "      <th>Emp Name</th>\n",
              "      <th>Salary</th>\n",
              "      <th>Emp Id</th>\n",
              "      <th>Team id</th>\n",
              "      <th>Team Leader</th>\n",
              "    </tr>\n",
              "  </thead>\n",
              "  <tbody>\n",
              "    <tr>\n",
              "      <th>0</th>\n",
              "      <td>101</td>\n",
              "      <td>Jai</td>\n",
              "      <td>14000</td>\n",
              "      <td>101</td>\n",
              "      <td>201</td>\n",
              "      <td>Vivek</td>\n",
              "    </tr>\n",
              "    <tr>\n",
              "      <th>1</th>\n",
              "      <td>102</td>\n",
              "      <td>Kannan</td>\n",
              "      <td>10000</td>\n",
              "      <td>102</td>\n",
              "      <td>203</td>\n",
              "      <td>Gaurav</td>\n",
              "    </tr>\n",
              "    <tr>\n",
              "      <th>2</th>\n",
              "      <td>104</td>\n",
              "      <td>Suresh</td>\n",
              "      <td>9000</td>\n",
              "      <td>104</td>\n",
              "      <td>201</td>\n",
              "      <td>Vivek</td>\n",
              "    </tr>\n",
              "    <tr>\n",
              "      <th>3</th>\n",
              "      <td>105</td>\n",
              "      <td>Sam</td>\n",
              "      <td>11000</td>\n",
              "      <td>105</td>\n",
              "      <td>202</td>\n",
              "      <td>Vishwa</td>\n",
              "    </tr>\n",
              "  </tbody>\n",
              "</table>\n",
              "</div>"
            ],
            "text/plain": [
              "   Emp No Emp Name  Salary  Emp Id  Team id Team Leader\n",
              "0     101      Jai   14000     101      201       Vivek\n",
              "1     102   Kannan   10000     102      203      Gaurav\n",
              "2     104   Suresh    9000     104      201       Vivek\n",
              "3     105      Sam   11000     105      202      Vishwa"
            ]
          },
          "metadata": {
            "tags": []
          },
          "execution_count": 59
        }
      ]
    },
    {
      "cell_type": "markdown",
      "metadata": {
        "id": "HSOrXyf0Ho1s"
      },
      "source": [
        "## 4.2 join() - combines data on a key column or an index.\n",
        "\n",
        ">   join() is similar to merge() both are used to combine dataframe. In join() dataframes can be combined using index but whereas in merge we can combine using both index and columns\n",
        "\n",
        "\n"
      ]
    },
    {
      "cell_type": "code",
      "metadata": {
        "id": "J6TWB_gIH4DY"
      },
      "source": [
        "data1 = {'Emp No':[101,102,103,104,105],\n",
        "        'Emp Name':['Jai','Kannan','Raman','Suresh','Sam'],\n",
        "        'Salary':[14000,10000,7000,9000,11000]}                \n",
        "\n",
        "data2 = {'Emp No':[101,102,104,105,106,107],\n",
        "        'Team id':[201,203,201,202,202,204],\n",
        "        'Team Leader':['Vivek','Gaurav','Vivek','Vishwa','Vishwa','Guru']}"
      ],
      "execution_count": 60,
      "outputs": []
    },
    {
      "cell_type": "code",
      "metadata": {
        "id": "URyNahOlNofF"
      },
      "source": [
        "df1 = pd.DataFrame(data1)\n",
        "df2 = pd.DataFrame(data2)"
      ],
      "execution_count": 66,
      "outputs": []
    },
    {
      "cell_type": "code",
      "metadata": {
        "colab": {
          "base_uri": "https://localhost:8080/",
          "height": 206
        },
        "id": "U0eVmAP2OEcP",
        "outputId": "4db58e23-e4a2-4b4b-e907-edde043e8115"
      },
      "source": [
        "df1"
      ],
      "execution_count": 67,
      "outputs": [
        {
          "output_type": "execute_result",
          "data": {
            "text/html": [
              "<div>\n",
              "<style scoped>\n",
              "    .dataframe tbody tr th:only-of-type {\n",
              "        vertical-align: middle;\n",
              "    }\n",
              "\n",
              "    .dataframe tbody tr th {\n",
              "        vertical-align: top;\n",
              "    }\n",
              "\n",
              "    .dataframe thead th {\n",
              "        text-align: right;\n",
              "    }\n",
              "</style>\n",
              "<table border=\"1\" class=\"dataframe\">\n",
              "  <thead>\n",
              "    <tr style=\"text-align: right;\">\n",
              "      <th></th>\n",
              "      <th>Emp No</th>\n",
              "      <th>Emp Name</th>\n",
              "      <th>Salary</th>\n",
              "    </tr>\n",
              "  </thead>\n",
              "  <tbody>\n",
              "    <tr>\n",
              "      <th>0</th>\n",
              "      <td>101</td>\n",
              "      <td>Jai</td>\n",
              "      <td>14000</td>\n",
              "    </tr>\n",
              "    <tr>\n",
              "      <th>1</th>\n",
              "      <td>102</td>\n",
              "      <td>Kannan</td>\n",
              "      <td>10000</td>\n",
              "    </tr>\n",
              "    <tr>\n",
              "      <th>2</th>\n",
              "      <td>103</td>\n",
              "      <td>Raman</td>\n",
              "      <td>7000</td>\n",
              "    </tr>\n",
              "    <tr>\n",
              "      <th>3</th>\n",
              "      <td>104</td>\n",
              "      <td>Suresh</td>\n",
              "      <td>9000</td>\n",
              "    </tr>\n",
              "    <tr>\n",
              "      <th>4</th>\n",
              "      <td>105</td>\n",
              "      <td>Sam</td>\n",
              "      <td>11000</td>\n",
              "    </tr>\n",
              "  </tbody>\n",
              "</table>\n",
              "</div>"
            ],
            "text/plain": [
              "   Emp No Emp Name  Salary\n",
              "0     101      Jai   14000\n",
              "1     102   Kannan   10000\n",
              "2     103    Raman    7000\n",
              "3     104   Suresh    9000\n",
              "4     105      Sam   11000"
            ]
          },
          "metadata": {
            "tags": []
          },
          "execution_count": 67
        }
      ]
    },
    {
      "cell_type": "code",
      "metadata": {
        "colab": {
          "base_uri": "https://localhost:8080/",
          "height": 238
        },
        "id": "sZkwsz1WOHs3",
        "outputId": "54ca65c5-7ecd-48ad-cd18-0b855713e32c"
      },
      "source": [
        "df2"
      ],
      "execution_count": 68,
      "outputs": [
        {
          "output_type": "execute_result",
          "data": {
            "text/html": [
              "<div>\n",
              "<style scoped>\n",
              "    .dataframe tbody tr th:only-of-type {\n",
              "        vertical-align: middle;\n",
              "    }\n",
              "\n",
              "    .dataframe tbody tr th {\n",
              "        vertical-align: top;\n",
              "    }\n",
              "\n",
              "    .dataframe thead th {\n",
              "        text-align: right;\n",
              "    }\n",
              "</style>\n",
              "<table border=\"1\" class=\"dataframe\">\n",
              "  <thead>\n",
              "    <tr style=\"text-align: right;\">\n",
              "      <th></th>\n",
              "      <th>Emp No</th>\n",
              "      <th>Team id</th>\n",
              "      <th>Team Leader</th>\n",
              "    </tr>\n",
              "  </thead>\n",
              "  <tbody>\n",
              "    <tr>\n",
              "      <th>0</th>\n",
              "      <td>101</td>\n",
              "      <td>201</td>\n",
              "      <td>Vivek</td>\n",
              "    </tr>\n",
              "    <tr>\n",
              "      <th>1</th>\n",
              "      <td>102</td>\n",
              "      <td>203</td>\n",
              "      <td>Gaurav</td>\n",
              "    </tr>\n",
              "    <tr>\n",
              "      <th>2</th>\n",
              "      <td>104</td>\n",
              "      <td>201</td>\n",
              "      <td>Vivek</td>\n",
              "    </tr>\n",
              "    <tr>\n",
              "      <th>3</th>\n",
              "      <td>105</td>\n",
              "      <td>202</td>\n",
              "      <td>Vishwa</td>\n",
              "    </tr>\n",
              "    <tr>\n",
              "      <th>4</th>\n",
              "      <td>106</td>\n",
              "      <td>202</td>\n",
              "      <td>Vishwa</td>\n",
              "    </tr>\n",
              "    <tr>\n",
              "      <th>5</th>\n",
              "      <td>107</td>\n",
              "      <td>204</td>\n",
              "      <td>Guru</td>\n",
              "    </tr>\n",
              "  </tbody>\n",
              "</table>\n",
              "</div>"
            ],
            "text/plain": [
              "   Emp No  Team id Team Leader\n",
              "0     101      201       Vivek\n",
              "1     102      203      Gaurav\n",
              "2     104      201       Vivek\n",
              "3     105      202      Vishwa\n",
              "4     106      202      Vishwa\n",
              "5     107      204        Guru"
            ]
          },
          "metadata": {
            "tags": []
          },
          "execution_count": 68
        }
      ]
    },
    {
      "cell_type": "code",
      "metadata": {
        "colab": {
          "base_uri": "https://localhost:8080/",
          "height": 206
        },
        "id": "kxS0pZ6-OIYY",
        "outputId": "f603484c-161f-4254-e828-77e8001cf8fd"
      },
      "source": [
        "df1.join(df2,lsuffix = '_l',rsuffix = '_r')"
      ],
      "execution_count": 69,
      "outputs": [
        {
          "output_type": "execute_result",
          "data": {
            "text/html": [
              "<div>\n",
              "<style scoped>\n",
              "    .dataframe tbody tr th:only-of-type {\n",
              "        vertical-align: middle;\n",
              "    }\n",
              "\n",
              "    .dataframe tbody tr th {\n",
              "        vertical-align: top;\n",
              "    }\n",
              "\n",
              "    .dataframe thead th {\n",
              "        text-align: right;\n",
              "    }\n",
              "</style>\n",
              "<table border=\"1\" class=\"dataframe\">\n",
              "  <thead>\n",
              "    <tr style=\"text-align: right;\">\n",
              "      <th></th>\n",
              "      <th>Emp No_l</th>\n",
              "      <th>Emp Name</th>\n",
              "      <th>Salary</th>\n",
              "      <th>Emp No_r</th>\n",
              "      <th>Team id</th>\n",
              "      <th>Team Leader</th>\n",
              "    </tr>\n",
              "  </thead>\n",
              "  <tbody>\n",
              "    <tr>\n",
              "      <th>0</th>\n",
              "      <td>101</td>\n",
              "      <td>Jai</td>\n",
              "      <td>14000</td>\n",
              "      <td>101</td>\n",
              "      <td>201</td>\n",
              "      <td>Vivek</td>\n",
              "    </tr>\n",
              "    <tr>\n",
              "      <th>1</th>\n",
              "      <td>102</td>\n",
              "      <td>Kannan</td>\n",
              "      <td>10000</td>\n",
              "      <td>102</td>\n",
              "      <td>203</td>\n",
              "      <td>Gaurav</td>\n",
              "    </tr>\n",
              "    <tr>\n",
              "      <th>2</th>\n",
              "      <td>103</td>\n",
              "      <td>Raman</td>\n",
              "      <td>7000</td>\n",
              "      <td>104</td>\n",
              "      <td>201</td>\n",
              "      <td>Vivek</td>\n",
              "    </tr>\n",
              "    <tr>\n",
              "      <th>3</th>\n",
              "      <td>104</td>\n",
              "      <td>Suresh</td>\n",
              "      <td>9000</td>\n",
              "      <td>105</td>\n",
              "      <td>202</td>\n",
              "      <td>Vishwa</td>\n",
              "    </tr>\n",
              "    <tr>\n",
              "      <th>4</th>\n",
              "      <td>105</td>\n",
              "      <td>Sam</td>\n",
              "      <td>11000</td>\n",
              "      <td>106</td>\n",
              "      <td>202</td>\n",
              "      <td>Vishwa</td>\n",
              "    </tr>\n",
              "  </tbody>\n",
              "</table>\n",
              "</div>"
            ],
            "text/plain": [
              "   Emp No_l Emp Name  Salary  Emp No_r  Team id Team Leader\n",
              "0       101      Jai   14000       101      201       Vivek\n",
              "1       102   Kannan   10000       102      203      Gaurav\n",
              "2       103    Raman    7000       104      201       Vivek\n",
              "3       104   Suresh    9000       105      202      Vishwa\n",
              "4       105      Sam   11000       106      202      Vishwa"
            ]
          },
          "metadata": {
            "tags": []
          },
          "execution_count": 69
        }
      ]
    },
    {
      "cell_type": "markdown",
      "metadata": {
        "id": "5ksl-ktKT2-f"
      },
      "source": [
        "## 4.3 concat() - combines Data Frames across rows or columns."
      ]
    }
  ]
}