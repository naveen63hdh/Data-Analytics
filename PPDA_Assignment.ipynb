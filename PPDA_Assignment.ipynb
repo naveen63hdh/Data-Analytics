{
  "nbformat": 4,
  "nbformat_minor": 0,
  "metadata": {
    "colab": {
      "name": "PPDA Assignment.ipynb",
      "provenance": [],
      "collapsed_sections": [
        "nb4wbPxsOwpQ",
        "X6u0LhtPOwpe",
        "CgqY-98aOwpr",
        "BlQdFRMOOwp3",
        "1O67sIexOwqK",
        "csN0509b3J-9",
        "oTshUtpypZfu",
        "Opjy246sNvjX",
        "v1g9zRxwRGt9",
        "Wfb67k5sxhGg",
        "UVoHifAMyG7X",
        "yLXs_2B-ym3x",
        "rkpuA0mNy9HV",
        "EUeX2ABVzcKW",
        "tD0o7epi6Vob",
        "cJW0zZ5lADzK",
        "WCHwxSDADoZi",
        "MGOp76anEkC_",
        "1AQFTk6jFaZ2",
        "zZDXrCMqFqMJ",
        "qVgIIL2zF1uR",
        "VBhu3lgRGIpf",
        "HSOrXyf0Ho1s",
        "5ksl-ktKT2-f",
        "dekrbMeEG6ao",
        "8zoeMzf1Hz54",
        "qPmffYe1VErd",
        "1iiQkrvvXBFY",
        "vm8BVX7HXxq0",
        "s8cgyoUSZ_fj",
        "sIaaTconatbo",
        "o3oukmmnngYX",
        "3OGdowpGnyZ4",
        "M8yokhG6n3PK",
        "VLSK0Fwyn5yS",
        "xkGzvG41n7zY",
        "fybe7x2uxR8y",
        "x2eKbHcwMXr9",
        "AVdAN03KSH43",
        "3LWY42gRZO3E",
        "7tPec6lZaj4A",
        "TK1YIN8ubA4c",
        "7QQsFiuGgmkh",
        "ibr-Sjp1hAPF",
        "cjdCgSD0CmFi",
        "6YfKYI55Fnha",
        "bYOXHf05MoFr",
        "a8p7iSAEUkv9",
        "PBQ1Q5j5VotT",
        "-4qTYkfjW57M",
        "F8JPbh9ffuRU",
        "vee7aTJviHzc"
      ],
      "include_colab_link": true
    },
    "kernelspec": {
      "display_name": "Python 3",
      "language": "python",
      "name": "python3"
    },
    "language_info": {
      "codemirror_mode": {
        "name": "ipython",
        "version": 3
      },
      "file_extension": ".py",
      "mimetype": "text/x-python",
      "name": "python",
      "nbconvert_exporter": "python",
      "pygments_lexer": "ipython3",
      "version": "3.7.4"
    }
  },
  "cells": [
    {
      "cell_type": "markdown",
      "metadata": {
        "id": "view-in-github",
        "colab_type": "text"
      },
      "source": [
        "<a href=\"https://colab.research.google.com/github/naveen63hdh/Data-Analytics/blob/main/PPDA_Assignment.ipynb\" target=\"_parent\"><img src=\"https://colab.research.google.com/assets/colab-badge.svg\" alt=\"Open In Colab\"/></a>"
      ]
    },
    {
      "cell_type": "markdown",
      "metadata": {
        "id": "JC1HjIG0YK1f"
      },
      "source": [
        "\n",
        "---\n",
        "# **Python Programming for Data Analytics - CSCA 562**\n",
        "\n",
        "### **Reg No :** 20352037\n",
        "### **Name :** Naveenkumar S\n",
        "### **Submission Date:** 21/6/2021\n",
        "\n",
        "Github : https://github.com/naveen63hdh/Data-Analytics\n",
        "\n",
        "\n",
        "---\n",
        "\n"
      ]
    },
    {
      "cell_type": "markdown",
      "metadata": {
        "id": "BHa8Sd55Owo0"
      },
      "source": [
        "# 1.Creating Dataframe in Python\n",
        "\n",
        "\n",
        "> In python there are more than ways to create a dataframe using pandas. We can create dataframe from lists, tuple, dictionary, numpy array, csv file and etc. We can also create an empty dataframe and add records to it.\n",
        "\n",
        "> To create a dataframe we are loading pandas library in the alias pd, and we are also loading numpy in alias np to create dataframe from numpy array.\n",
        "\n",
        "\n",
        "        \n",
        "\n",
        "\n",
        "\n"
      ]
    },
    {
      "cell_type": "code",
      "metadata": {
        "id": "Pj_eCvrvOwpL"
      },
      "source": [
        "import numpy as np\n",
        "import pandas as pd"
      ],
      "execution_count": null,
      "outputs": []
    },
    {
      "cell_type": "markdown",
      "metadata": {
        "id": "nb4wbPxsOwpQ"
      },
      "source": [
        "## 1.1 Creating empty dataframe and adding records\n",
        "\n",
        "\n",
        "> DataFrame constructor is used to create a empty dataframe. The columns attribute is a list of strings which become columns of the dataframe. DataFrame rows are reference loc method with index value.                   \n",
        "\n"
      ]
    },
    {
      "cell_type": "code",
      "metadata": {
        "id": "wV_3nsu7OwpT"
      },
      "source": [
        "df = pd.DataFrame(columns = [\"Emp No\",\"Emp Name\",\"Salary\"])"
      ],
      "execution_count": null,
      "outputs": []
    },
    {
      "cell_type": "code",
      "metadata": {
        "id": "QrV2mFxdOwpW"
      },
      "source": [
        "df.loc[0] = [101,\"Jai\",14000]\n",
        "df.loc[1] = [102,\"Kannan\",10000]\n",
        "df.loc[2] = [103,\"Raman\",7000]\n",
        "df.loc[3] = [104,\"Suresh\",9000]\n",
        "df.loc[4] = [105,\"Sam\",11000]"
      ],
      "execution_count": null,
      "outputs": []
    },
    {
      "cell_type": "code",
      "metadata": {
        "colab": {
          "base_uri": "https://localhost:8080/",
          "height": 206
        },
        "id": "5lGqRs0WOwpY",
        "outputId": "c165b5b1-fed4-4a92-a3e3-1e4701c5014e"
      },
      "source": [
        "df"
      ],
      "execution_count": null,
      "outputs": [
        {
          "output_type": "execute_result",
          "data": {
            "text/html": [
              "<div>\n",
              "<style scoped>\n",
              "    .dataframe tbody tr th:only-of-type {\n",
              "        vertical-align: middle;\n",
              "    }\n",
              "\n",
              "    .dataframe tbody tr th {\n",
              "        vertical-align: top;\n",
              "    }\n",
              "\n",
              "    .dataframe thead th {\n",
              "        text-align: right;\n",
              "    }\n",
              "</style>\n",
              "<table border=\"1\" class=\"dataframe\">\n",
              "  <thead>\n",
              "    <tr style=\"text-align: right;\">\n",
              "      <th></th>\n",
              "      <th>Emp No</th>\n",
              "      <th>Emp Name</th>\n",
              "      <th>Salary</th>\n",
              "    </tr>\n",
              "  </thead>\n",
              "  <tbody>\n",
              "    <tr>\n",
              "      <th>0</th>\n",
              "      <td>101</td>\n",
              "      <td>Jai</td>\n",
              "      <td>14000</td>\n",
              "    </tr>\n",
              "    <tr>\n",
              "      <th>1</th>\n",
              "      <td>102</td>\n",
              "      <td>Kannan</td>\n",
              "      <td>10000</td>\n",
              "    </tr>\n",
              "    <tr>\n",
              "      <th>2</th>\n",
              "      <td>103</td>\n",
              "      <td>Raman</td>\n",
              "      <td>7000</td>\n",
              "    </tr>\n",
              "    <tr>\n",
              "      <th>3</th>\n",
              "      <td>104</td>\n",
              "      <td>Suresh</td>\n",
              "      <td>9000</td>\n",
              "    </tr>\n",
              "    <tr>\n",
              "      <th>4</th>\n",
              "      <td>105</td>\n",
              "      <td>Sam</td>\n",
              "      <td>11000</td>\n",
              "    </tr>\n",
              "  </tbody>\n",
              "</table>\n",
              "</div>"
            ],
            "text/plain": [
              "  Emp No Emp Name Salary\n",
              "0    101      Jai  14000\n",
              "1    102   Kannan  10000\n",
              "2    103    Raman   7000\n",
              "3    104   Suresh   9000\n",
              "4    105      Sam  11000"
            ]
          },
          "metadata": {
            "tags": []
          },
          "execution_count": 4
        }
      ]
    },
    {
      "cell_type": "markdown",
      "metadata": {
        "id": "X6u0LhtPOwpe"
      },
      "source": [
        "## 1.2 Creating dataframe using numpy array\n",
        "\n",
        "> In DataFrame constructor we can pass numpy array. Each row in  numpy array is the corresponding row required in the dataframe.\n"
      ]
    },
    {
      "cell_type": "code",
      "metadata": {
        "id": "yf6xWtIkOwpg"
      },
      "source": [
        "data = np.array([[101,\"Jai\",14000],\n",
        "                 [102,\"Kannan\",10000],\n",
        "                 [103,\"Raman\",7000],\n",
        "                 [104,\"Suresh\",9000],\n",
        "                 [105,\"Sam\",11000]\n",
        "                ])"
      ],
      "execution_count": null,
      "outputs": []
    },
    {
      "cell_type": "code",
      "metadata": {
        "colab": {
          "base_uri": "https://localhost:8080/"
        },
        "id": "jYKKsyA-Owpj",
        "outputId": "b50d3717-4c4f-4e89-d002-5e6ef4b65264"
      },
      "source": [
        "type(data)"
      ],
      "execution_count": null,
      "outputs": [
        {
          "output_type": "execute_result",
          "data": {
            "text/plain": [
              "numpy.ndarray"
            ]
          },
          "metadata": {
            "tags": []
          },
          "execution_count": 6
        }
      ]
    },
    {
      "cell_type": "code",
      "metadata": {
        "id": "Xr63IDGBOwpm"
      },
      "source": [
        "df = pd.DataFrame(data,columns = [\"Emp No\",\"Emp Name\",\"Salary\"])"
      ],
      "execution_count": null,
      "outputs": []
    },
    {
      "cell_type": "code",
      "metadata": {
        "colab": {
          "base_uri": "https://localhost:8080/",
          "height": 206
        },
        "id": "b4PLAuEqOwpo",
        "outputId": "21bc8925-ce1a-4ebe-f279-f36b763bd9c4"
      },
      "source": [
        "df"
      ],
      "execution_count": null,
      "outputs": [
        {
          "output_type": "execute_result",
          "data": {
            "text/html": [
              "<div>\n",
              "<style scoped>\n",
              "    .dataframe tbody tr th:only-of-type {\n",
              "        vertical-align: middle;\n",
              "    }\n",
              "\n",
              "    .dataframe tbody tr th {\n",
              "        vertical-align: top;\n",
              "    }\n",
              "\n",
              "    .dataframe thead th {\n",
              "        text-align: right;\n",
              "    }\n",
              "</style>\n",
              "<table border=\"1\" class=\"dataframe\">\n",
              "  <thead>\n",
              "    <tr style=\"text-align: right;\">\n",
              "      <th></th>\n",
              "      <th>Emp No</th>\n",
              "      <th>Emp Name</th>\n",
              "      <th>Salary</th>\n",
              "    </tr>\n",
              "  </thead>\n",
              "  <tbody>\n",
              "    <tr>\n",
              "      <th>0</th>\n",
              "      <td>101</td>\n",
              "      <td>Jai</td>\n",
              "      <td>14000</td>\n",
              "    </tr>\n",
              "    <tr>\n",
              "      <th>1</th>\n",
              "      <td>102</td>\n",
              "      <td>Kannan</td>\n",
              "      <td>10000</td>\n",
              "    </tr>\n",
              "    <tr>\n",
              "      <th>2</th>\n",
              "      <td>103</td>\n",
              "      <td>Raman</td>\n",
              "      <td>7000</td>\n",
              "    </tr>\n",
              "    <tr>\n",
              "      <th>3</th>\n",
              "      <td>104</td>\n",
              "      <td>Suresh</td>\n",
              "      <td>9000</td>\n",
              "    </tr>\n",
              "    <tr>\n",
              "      <th>4</th>\n",
              "      <td>105</td>\n",
              "      <td>Sam</td>\n",
              "      <td>11000</td>\n",
              "    </tr>\n",
              "  </tbody>\n",
              "</table>\n",
              "</div>"
            ],
            "text/plain": [
              "  Emp No Emp Name Salary\n",
              "0    101      Jai  14000\n",
              "1    102   Kannan  10000\n",
              "2    103    Raman   7000\n",
              "3    104   Suresh   9000\n",
              "4    105      Sam  11000"
            ]
          },
          "metadata": {
            "tags": []
          },
          "execution_count": 8
        }
      ]
    },
    {
      "cell_type": "markdown",
      "metadata": {
        "id": "CgqY-98aOwpr"
      },
      "source": [
        "## 1.3 Creating dataframe using List\n",
        "\n",
        ">  To Create a dataframe using list we have to pass the list in DataFrame constructor and we can give column names in colum attribute.\n"
      ]
    },
    {
      "cell_type": "code",
      "metadata": {
        "id": "j9X4kB8OOwpu"
      },
      "source": [
        "data = [[101,\"Jai\",14000],\n",
        "        [102,\"Kannan\",10000],\n",
        "        [103,\"Raman\",7000],\n",
        "        [104,\"Suresh\",9000],\n",
        "        [105,\"Sam\",11000]]"
      ],
      "execution_count": null,
      "outputs": []
    },
    {
      "cell_type": "code",
      "metadata": {
        "colab": {
          "base_uri": "https://localhost:8080/"
        },
        "id": "keHrtJ60Owpw",
        "outputId": "031cbaa2-12c0-4e6f-d812-845f30b4b0b3"
      },
      "source": [
        "type(data)"
      ],
      "execution_count": null,
      "outputs": [
        {
          "output_type": "execute_result",
          "data": {
            "text/plain": [
              "list"
            ]
          },
          "metadata": {
            "tags": []
          },
          "execution_count": 10
        }
      ]
    },
    {
      "cell_type": "code",
      "metadata": {
        "id": "wOYeuT4MOwpy"
      },
      "source": [
        "df = pd.DataFrame(data,columns = [\"Emp No\",\"Emp Name\",\"Salary\"])"
      ],
      "execution_count": null,
      "outputs": []
    },
    {
      "cell_type": "code",
      "metadata": {
        "colab": {
          "base_uri": "https://localhost:8080/",
          "height": 206
        },
        "id": "XfEB-neGOwpz",
        "outputId": "d501b48b-d989-4860-e3d8-ffe6f8038550"
      },
      "source": [
        "df"
      ],
      "execution_count": null,
      "outputs": [
        {
          "output_type": "execute_result",
          "data": {
            "text/html": [
              "<div>\n",
              "<style scoped>\n",
              "    .dataframe tbody tr th:only-of-type {\n",
              "        vertical-align: middle;\n",
              "    }\n",
              "\n",
              "    .dataframe tbody tr th {\n",
              "        vertical-align: top;\n",
              "    }\n",
              "\n",
              "    .dataframe thead th {\n",
              "        text-align: right;\n",
              "    }\n",
              "</style>\n",
              "<table border=\"1\" class=\"dataframe\">\n",
              "  <thead>\n",
              "    <tr style=\"text-align: right;\">\n",
              "      <th></th>\n",
              "      <th>Emp No</th>\n",
              "      <th>Emp Name</th>\n",
              "      <th>Salary</th>\n",
              "    </tr>\n",
              "  </thead>\n",
              "  <tbody>\n",
              "    <tr>\n",
              "      <th>0</th>\n",
              "      <td>101</td>\n",
              "      <td>Jai</td>\n",
              "      <td>14000</td>\n",
              "    </tr>\n",
              "    <tr>\n",
              "      <th>1</th>\n",
              "      <td>102</td>\n",
              "      <td>Kannan</td>\n",
              "      <td>10000</td>\n",
              "    </tr>\n",
              "    <tr>\n",
              "      <th>2</th>\n",
              "      <td>103</td>\n",
              "      <td>Raman</td>\n",
              "      <td>7000</td>\n",
              "    </tr>\n",
              "    <tr>\n",
              "      <th>3</th>\n",
              "      <td>104</td>\n",
              "      <td>Suresh</td>\n",
              "      <td>9000</td>\n",
              "    </tr>\n",
              "    <tr>\n",
              "      <th>4</th>\n",
              "      <td>105</td>\n",
              "      <td>Sam</td>\n",
              "      <td>11000</td>\n",
              "    </tr>\n",
              "  </tbody>\n",
              "</table>\n",
              "</div>"
            ],
            "text/plain": [
              "   Emp No Emp Name  Salary\n",
              "0     101      Jai   14000\n",
              "1     102   Kannan   10000\n",
              "2     103    Raman    7000\n",
              "3     104   Suresh    9000\n",
              "4     105      Sam   11000"
            ]
          },
          "metadata": {
            "tags": []
          },
          "execution_count": 12
        }
      ]
    },
    {
      "cell_type": "markdown",
      "metadata": {
        "id": "_L6MDM4LOwp1"
      },
      "source": [
        "## 1.4 Creating dataframe using Dictionary \n",
        "\n",
        "> There are 3 ways to create a dataframe using dictonary \n",
        "\n",
        "* Using Dictionary in DataFrame Constructor\n",
        "* Using List of Dictionary\n",
        "* Using from_dict method\n"
      ]
    },
    {
      "cell_type": "markdown",
      "metadata": {
        "id": "BlQdFRMOOwp3"
      },
      "source": [
        "### 1.4.1 Using Dictionary in DataFrame Constructor\n",
        "\n",
        "\n",
        "> If we pass dictionary in dataframe then dictionary keys become column names of dataframe and dictionary value becomes dataframe row values. Dictionary column are combined into single row according to the order of dictionary.\n",
        "\n"
      ]
    },
    {
      "cell_type": "code",
      "metadata": {
        "id": "qJjr1wrgOwp3"
      },
      "source": [
        "data = {'Emp No':[101,102,103,104,105],\n",
        "        'Emp Name':['Jai','Kannan','Raman','Suresh','Sam'],\n",
        "        'Salary':[14000,10000,7000,9000,11000]}        "
      ],
      "execution_count": null,
      "outputs": []
    },
    {
      "cell_type": "code",
      "metadata": {
        "colab": {
          "base_uri": "https://localhost:8080/"
        },
        "id": "jKlsRdptOwp4",
        "outputId": "99057b2d-d93c-44a5-ebce-f1f948125c1b"
      },
      "source": [
        "type(data)"
      ],
      "execution_count": null,
      "outputs": [
        {
          "output_type": "execute_result",
          "data": {
            "text/plain": [
              "dict"
            ]
          },
          "metadata": {
            "tags": []
          },
          "execution_count": 14
        }
      ]
    },
    {
      "cell_type": "code",
      "metadata": {
        "id": "bmNqLMTvOwp5"
      },
      "source": [
        "df = pd.DataFrame(data)"
      ],
      "execution_count": null,
      "outputs": []
    },
    {
      "cell_type": "code",
      "metadata": {
        "colab": {
          "base_uri": "https://localhost:8080/",
          "height": 206
        },
        "id": "cQOyeNQPOwp7",
        "outputId": "56ebcfd2-454a-4680-ab2d-9fcaf88e4780"
      },
      "source": [
        "df"
      ],
      "execution_count": null,
      "outputs": [
        {
          "output_type": "execute_result",
          "data": {
            "text/html": [
              "<div>\n",
              "<style scoped>\n",
              "    .dataframe tbody tr th:only-of-type {\n",
              "        vertical-align: middle;\n",
              "    }\n",
              "\n",
              "    .dataframe tbody tr th {\n",
              "        vertical-align: top;\n",
              "    }\n",
              "\n",
              "    .dataframe thead th {\n",
              "        text-align: right;\n",
              "    }\n",
              "</style>\n",
              "<table border=\"1\" class=\"dataframe\">\n",
              "  <thead>\n",
              "    <tr style=\"text-align: right;\">\n",
              "      <th></th>\n",
              "      <th>Emp No</th>\n",
              "      <th>Emp Name</th>\n",
              "      <th>Salary</th>\n",
              "    </tr>\n",
              "  </thead>\n",
              "  <tbody>\n",
              "    <tr>\n",
              "      <th>0</th>\n",
              "      <td>101</td>\n",
              "      <td>Jai</td>\n",
              "      <td>14000</td>\n",
              "    </tr>\n",
              "    <tr>\n",
              "      <th>1</th>\n",
              "      <td>102</td>\n",
              "      <td>Kannan</td>\n",
              "      <td>10000</td>\n",
              "    </tr>\n",
              "    <tr>\n",
              "      <th>2</th>\n",
              "      <td>103</td>\n",
              "      <td>Raman</td>\n",
              "      <td>7000</td>\n",
              "    </tr>\n",
              "    <tr>\n",
              "      <th>3</th>\n",
              "      <td>104</td>\n",
              "      <td>Suresh</td>\n",
              "      <td>9000</td>\n",
              "    </tr>\n",
              "    <tr>\n",
              "      <th>4</th>\n",
              "      <td>105</td>\n",
              "      <td>Sam</td>\n",
              "      <td>11000</td>\n",
              "    </tr>\n",
              "  </tbody>\n",
              "</table>\n",
              "</div>"
            ],
            "text/plain": [
              "   Emp No Emp Name  Salary\n",
              "0     101      Jai   14000\n",
              "1     102   Kannan   10000\n",
              "2     103    Raman    7000\n",
              "3     104   Suresh    9000\n",
              "4     105      Sam   11000"
            ]
          },
          "metadata": {
            "tags": []
          },
          "execution_count": 16
        }
      ]
    },
    {
      "cell_type": "markdown",
      "metadata": {
        "id": "9vDMxvMsOwp9"
      },
      "source": [
        "### 1.4.2 Using List of Dictionary\n",
        "\n",
        "> We can pass a list of dictionaries in DataFrame constructor. Each dictionary is considered as a record. Dictionary Keys become Column names in the dataframe. Dictionary values become the row values.\n",
        "        "
      ]
    },
    {
      "cell_type": "code",
      "metadata": {
        "id": "ONxSMztWOwp-"
      },
      "source": [
        "data = [{\"Emp No\":101,\"Emp Name\":\"Jai\",\"Salary\":14000},\n",
        "        {\"Emp No\":102,\"Emp Name\":\"Kannan\",\"Salary\":10000},\n",
        "        {\"Emp No\":103,\"Emp Name\":\"Raman\",\"Salary\":7000},\n",
        "        {\"Emp No\":104,\"Emp Name\":\"Suresh\",\"Salary\":9000},\n",
        "        {\"Emp No\":105,\"Emp Name\":\"Sam\",\"Salary\":11000}]"
      ],
      "execution_count": null,
      "outputs": []
    },
    {
      "cell_type": "code",
      "metadata": {
        "colab": {
          "base_uri": "https://localhost:8080/"
        },
        "id": "UYot95RlOwqA",
        "outputId": "6909c385-18db-440c-fcfc-0a4810097d4b"
      },
      "source": [
        "type(data)"
      ],
      "execution_count": null,
      "outputs": [
        {
          "output_type": "execute_result",
          "data": {
            "text/plain": [
              "list"
            ]
          },
          "metadata": {
            "tags": []
          },
          "execution_count": 18
        }
      ]
    },
    {
      "cell_type": "code",
      "metadata": {
        "id": "sHH5saMrOwqC"
      },
      "source": [
        "df = pd.DataFrame(data)"
      ],
      "execution_count": null,
      "outputs": []
    },
    {
      "cell_type": "code",
      "metadata": {
        "colab": {
          "base_uri": "https://localhost:8080/",
          "height": 206
        },
        "id": "-n0CdprlOwqD",
        "outputId": "cb94e4de-de41-40d5-ac57-229cdb379b0e"
      },
      "source": [
        "df"
      ],
      "execution_count": null,
      "outputs": [
        {
          "output_type": "execute_result",
          "data": {
            "text/html": [
              "<div>\n",
              "<style scoped>\n",
              "    .dataframe tbody tr th:only-of-type {\n",
              "        vertical-align: middle;\n",
              "    }\n",
              "\n",
              "    .dataframe tbody tr th {\n",
              "        vertical-align: top;\n",
              "    }\n",
              "\n",
              "    .dataframe thead th {\n",
              "        text-align: right;\n",
              "    }\n",
              "</style>\n",
              "<table border=\"1\" class=\"dataframe\">\n",
              "  <thead>\n",
              "    <tr style=\"text-align: right;\">\n",
              "      <th></th>\n",
              "      <th>Emp No</th>\n",
              "      <th>Emp Name</th>\n",
              "      <th>Salary</th>\n",
              "    </tr>\n",
              "  </thead>\n",
              "  <tbody>\n",
              "    <tr>\n",
              "      <th>0</th>\n",
              "      <td>101</td>\n",
              "      <td>Jai</td>\n",
              "      <td>14000</td>\n",
              "    </tr>\n",
              "    <tr>\n",
              "      <th>1</th>\n",
              "      <td>102</td>\n",
              "      <td>Kannan</td>\n",
              "      <td>10000</td>\n",
              "    </tr>\n",
              "    <tr>\n",
              "      <th>2</th>\n",
              "      <td>103</td>\n",
              "      <td>Raman</td>\n",
              "      <td>7000</td>\n",
              "    </tr>\n",
              "    <tr>\n",
              "      <th>3</th>\n",
              "      <td>104</td>\n",
              "      <td>Suresh</td>\n",
              "      <td>9000</td>\n",
              "    </tr>\n",
              "    <tr>\n",
              "      <th>4</th>\n",
              "      <td>105</td>\n",
              "      <td>Sam</td>\n",
              "      <td>11000</td>\n",
              "    </tr>\n",
              "  </tbody>\n",
              "</table>\n",
              "</div>"
            ],
            "text/plain": [
              "   Emp No Emp Name  Salary\n",
              "0     101      Jai   14000\n",
              "1     102   Kannan   10000\n",
              "2     103    Raman    7000\n",
              "3     104   Suresh    9000\n",
              "4     105      Sam   11000"
            ]
          },
          "metadata": {
            "tags": []
          },
          "execution_count": 20
        }
      ]
    },
    {
      "cell_type": "markdown",
      "metadata": {
        "id": "ORedkmUcOwqE"
      },
      "source": [
        "###  1.4.3 Using from_dict method\n",
        "\n",
        "> Using **from_dict** is similar to first method except here we can specify whether the keys value should be a column  name or row index. \n",
        "\n",
        "> By default keys are identified as column names but we can change it by using **orient** attribute if  we give **index** to orient attribute it will change orientation of dataframe and passes the keys as row index. \n",
        "\n",
        "> If we  give orient as index then we can specify column name using columns attribute where we pass column name as list.\n",
        "\n"
      ]
    },
    {
      "cell_type": "code",
      "metadata": {
        "id": "TY_SC1IZOwqF"
      },
      "source": [
        "data = {'Emp No':[101,102,103,104,105],\n",
        "        'Emp Name':['Jai','Kannan','Raman','Suresh','Sam'],\n",
        "        'Salary':[14000,10000,7000,9000,11000]}        "
      ],
      "execution_count": null,
      "outputs": []
    },
    {
      "cell_type": "code",
      "metadata": {
        "colab": {
          "base_uri": "https://localhost:8080/"
        },
        "id": "GN9cqEczOwqG",
        "outputId": "b0c1bd93-9770-4b99-8b22-64014c8b97a8"
      },
      "source": [
        "type(data)"
      ],
      "execution_count": null,
      "outputs": [
        {
          "output_type": "execute_result",
          "data": {
            "text/plain": [
              "dict"
            ]
          },
          "metadata": {
            "tags": []
          },
          "execution_count": 22
        }
      ]
    },
    {
      "cell_type": "code",
      "metadata": {
        "id": "__5_xd8XOwqH"
      },
      "source": [
        "df = pd.DataFrame().from_dict(data,orient=\"index\",columns=['Emp1','Emp2','Emp3','Emp4','Emp5'])"
      ],
      "execution_count": null,
      "outputs": []
    },
    {
      "cell_type": "code",
      "metadata": {
        "colab": {
          "base_uri": "https://localhost:8080/",
          "height": 143
        },
        "id": "zsE8m3dOOwqI",
        "outputId": "a0047f63-795c-42cd-98f0-8e7185cb4835"
      },
      "source": [
        "df"
      ],
      "execution_count": null,
      "outputs": [
        {
          "output_type": "execute_result",
          "data": {
            "text/html": [
              "<div>\n",
              "<style scoped>\n",
              "    .dataframe tbody tr th:only-of-type {\n",
              "        vertical-align: middle;\n",
              "    }\n",
              "\n",
              "    .dataframe tbody tr th {\n",
              "        vertical-align: top;\n",
              "    }\n",
              "\n",
              "    .dataframe thead th {\n",
              "        text-align: right;\n",
              "    }\n",
              "</style>\n",
              "<table border=\"1\" class=\"dataframe\">\n",
              "  <thead>\n",
              "    <tr style=\"text-align: right;\">\n",
              "      <th></th>\n",
              "      <th>Emp1</th>\n",
              "      <th>Emp2</th>\n",
              "      <th>Emp3</th>\n",
              "      <th>Emp4</th>\n",
              "      <th>Emp5</th>\n",
              "    </tr>\n",
              "  </thead>\n",
              "  <tbody>\n",
              "    <tr>\n",
              "      <th>Emp No</th>\n",
              "      <td>101</td>\n",
              "      <td>102</td>\n",
              "      <td>103</td>\n",
              "      <td>104</td>\n",
              "      <td>105</td>\n",
              "    </tr>\n",
              "    <tr>\n",
              "      <th>Emp Name</th>\n",
              "      <td>Jai</td>\n",
              "      <td>Kannan</td>\n",
              "      <td>Raman</td>\n",
              "      <td>Suresh</td>\n",
              "      <td>Sam</td>\n",
              "    </tr>\n",
              "    <tr>\n",
              "      <th>Salary</th>\n",
              "      <td>14000</td>\n",
              "      <td>10000</td>\n",
              "      <td>7000</td>\n",
              "      <td>9000</td>\n",
              "      <td>11000</td>\n",
              "    </tr>\n",
              "  </tbody>\n",
              "</table>\n",
              "</div>"
            ],
            "text/plain": [
              "           Emp1    Emp2   Emp3    Emp4   Emp5\n",
              "Emp No      101     102    103     104    105\n",
              "Emp Name    Jai  Kannan  Raman  Suresh    Sam\n",
              "Salary    14000   10000   7000    9000  11000"
            ]
          },
          "metadata": {
            "tags": []
          },
          "execution_count": 24
        }
      ]
    },
    {
      "cell_type": "markdown",
      "metadata": {
        "id": "1O67sIexOwqK"
      },
      "source": [
        "## 1.5 Creating copy of dataframe\n",
        "\n",
        "> In some scenarios me might need to do operations in dataframe without affecting the actual dataframe. In those situations we can use copy method and create a clone of the dataframe and work on it.      "
      ]
    },
    {
      "cell_type": "code",
      "metadata": {
        "id": "SrLD4EIXOwqL"
      },
      "source": [
        "df1 = df.copy()"
      ],
      "execution_count": null,
      "outputs": []
    },
    {
      "cell_type": "code",
      "metadata": {
        "colab": {
          "base_uri": "https://localhost:8080/",
          "height": 143
        },
        "id": "CiTgZzJ1OwqN",
        "outputId": "f54e24cb-dbd1-4e27-f1cd-fc126b3120ca"
      },
      "source": [
        "df1"
      ],
      "execution_count": null,
      "outputs": [
        {
          "output_type": "execute_result",
          "data": {
            "text/html": [
              "<div>\n",
              "<style scoped>\n",
              "    .dataframe tbody tr th:only-of-type {\n",
              "        vertical-align: middle;\n",
              "    }\n",
              "\n",
              "    .dataframe tbody tr th {\n",
              "        vertical-align: top;\n",
              "    }\n",
              "\n",
              "    .dataframe thead th {\n",
              "        text-align: right;\n",
              "    }\n",
              "</style>\n",
              "<table border=\"1\" class=\"dataframe\">\n",
              "  <thead>\n",
              "    <tr style=\"text-align: right;\">\n",
              "      <th></th>\n",
              "      <th>Emp1</th>\n",
              "      <th>Emp2</th>\n",
              "      <th>Emp3</th>\n",
              "      <th>Emp4</th>\n",
              "      <th>Emp5</th>\n",
              "    </tr>\n",
              "  </thead>\n",
              "  <tbody>\n",
              "    <tr>\n",
              "      <th>Emp No</th>\n",
              "      <td>101</td>\n",
              "      <td>102</td>\n",
              "      <td>103</td>\n",
              "      <td>104</td>\n",
              "      <td>105</td>\n",
              "    </tr>\n",
              "    <tr>\n",
              "      <th>Emp Name</th>\n",
              "      <td>Jai</td>\n",
              "      <td>Kannan</td>\n",
              "      <td>Raman</td>\n",
              "      <td>Suresh</td>\n",
              "      <td>Sam</td>\n",
              "    </tr>\n",
              "    <tr>\n",
              "      <th>Salary</th>\n",
              "      <td>14000</td>\n",
              "      <td>10000</td>\n",
              "      <td>7000</td>\n",
              "      <td>9000</td>\n",
              "      <td>11000</td>\n",
              "    </tr>\n",
              "  </tbody>\n",
              "</table>\n",
              "</div>"
            ],
            "text/plain": [
              "           Emp1    Emp2   Emp3    Emp4   Emp5\n",
              "Emp No      101     102    103     104    105\n",
              "Emp Name    Jai  Kannan  Raman  Suresh    Sam\n",
              "Salary    14000   10000   7000    9000  11000"
            ]
          },
          "metadata": {
            "tags": []
          },
          "execution_count": 26
        }
      ]
    },
    {
      "cell_type": "markdown",
      "metadata": {
        "id": "csN0509b3J-9"
      },
      "source": [
        "---\n",
        "# 2. Creating DataFrame from CSV and Saving it to CSV\n",
        "\n",
        "> CSV(Comma Seperated Values) is the most commonly used format used for storing tabular data like spreadsheets and database. As name suggests in csv values are seperated or delimited by comma ( , )\n",
        "\n",
        "> Pandas Provide methods for creating dataframe from a csv file and to export/save a dataframe into a csv file.\n"
      ]
    },
    {
      "cell_type": "code",
      "metadata": {
        "id": "fDPb0lj5paS8"
      },
      "source": [
        "import pandas as pd"
      ],
      "execution_count": null,
      "outputs": []
    },
    {
      "cell_type": "markdown",
      "metadata": {
        "id": "oTshUtpypZfu"
      },
      "source": [
        "## 2.1 Creating DataFrame from CSV\n",
        "\n",
        "> To create dataframe from csv pandas library provides a method called read_csv. read_csv method contains many attributes some of the most commonly used attributes are.\n",
        "\n",
        "\n",
        "1.   **filepath_or_buffer** - URL/Dir location of the csv file goes here\n",
        "2.   **sep** - Delimeter of csv file. Default value is ','\n",
        "3.   **header** - Makes the passed row or rowas as column header\n",
        "4.   **index_col** - Makes passed column as index\n",
        "5.   **use_cols** - Used to retrive only specific columns\n"
      ]
    },
    {
      "cell_type": "code",
      "metadata": {
        "id": "EsHxNccB-oDl"
      },
      "source": [
        "df_path = 'https://raw.githubusercontent.com/naveen63hdh/Data-Analytics/main/dataset.csv'"
      ],
      "execution_count": null,
      "outputs": []
    },
    {
      "cell_type": "code",
      "metadata": {
        "id": "c3FgAs55IZpW"
      },
      "source": [
        "one_piece_df = pd.read_csv(df_path,sep = ',', header = 'infer', index_col = 'Character', usecols = ['Character','Devil Fruit','Class','Status'])"
      ],
      "execution_count": null,
      "outputs": []
    },
    {
      "cell_type": "code",
      "metadata": {
        "colab": {
          "base_uri": "https://localhost:8080/",
          "height": 238
        },
        "id": "uFSC81t4Icek",
        "outputId": "18272da8-7731-48ce-bf88-5a3dee0a7bf4"
      },
      "source": [
        "one_piece_df.head()"
      ],
      "execution_count": null,
      "outputs": [
        {
          "output_type": "execute_result",
          "data": {
            "text/html": [
              "<div>\n",
              "<style scoped>\n",
              "    .dataframe tbody tr th:only-of-type {\n",
              "        vertical-align: middle;\n",
              "    }\n",
              "\n",
              "    .dataframe tbody tr th {\n",
              "        vertical-align: top;\n",
              "    }\n",
              "\n",
              "    .dataframe thead th {\n",
              "        text-align: right;\n",
              "    }\n",
              "</style>\n",
              "<table border=\"1\" class=\"dataframe\">\n",
              "  <thead>\n",
              "    <tr style=\"text-align: right;\">\n",
              "      <th></th>\n",
              "      <th>Devil Fruit</th>\n",
              "      <th>Class</th>\n",
              "      <th>Status</th>\n",
              "    </tr>\n",
              "    <tr>\n",
              "      <th>Character</th>\n",
              "      <th></th>\n",
              "      <th></th>\n",
              "      <th></th>\n",
              "    </tr>\n",
              "  </thead>\n",
              "  <tbody>\n",
              "    <tr>\n",
              "      <th>Marshall D. Teach</th>\n",
              "      <td>Gura Gura no Mi</td>\n",
              "      <td>Paramecia</td>\n",
              "      <td>Consumed</td>\n",
              "    </tr>\n",
              "    <tr>\n",
              "      <th>Marshall D. Teach</th>\n",
              "      <td>Yami Yami no Mi</td>\n",
              "      <td>Logia</td>\n",
              "      <td>Consumed</td>\n",
              "    </tr>\n",
              "    <tr>\n",
              "      <th>Absalom</th>\n",
              "      <td>Suke Suke no Mi</td>\n",
              "      <td>Paramecia</td>\n",
              "      <td>Re-Consumed</td>\n",
              "    </tr>\n",
              "    <tr>\n",
              "      <th>Alpacaman</th>\n",
              "      <td>Alpaca SMILE</td>\n",
              "      <td>SMILE</td>\n",
              "      <td>Consumed</td>\n",
              "    </tr>\n",
              "    <tr>\n",
              "      <th>Alvida</th>\n",
              "      <td>Sube Sube no Mi</td>\n",
              "      <td>Paramecia</td>\n",
              "      <td>Consumed</td>\n",
              "    </tr>\n",
              "  </tbody>\n",
              "</table>\n",
              "</div>"
            ],
            "text/plain": [
              "                       Devil Fruit      Class       Status\n",
              "Character                                                 \n",
              "Marshall D. Teach  Gura Gura no Mi  Paramecia     Consumed\n",
              "Marshall D. Teach  Yami Yami no Mi      Logia     Consumed\n",
              "Absalom            Suke Suke no Mi  Paramecia  Re-Consumed\n",
              "Alpacaman             Alpaca SMILE      SMILE     Consumed\n",
              "Alvida             Sube Sube no Mi  Paramecia     Consumed"
            ]
          },
          "metadata": {
            "tags": []
          },
          "execution_count": 30
        }
      ]
    },
    {
      "cell_type": "markdown",
      "metadata": {
        "id": "Opjy246sNvjX"
      },
      "source": [
        "## 2.2 Saving DataFrame as CSV\n",
        "> To save a dataframe as a csv file pandas provide a method called to_csv()"
      ]
    },
    {
      "cell_type": "code",
      "metadata": {
        "id": "YPcZLLNHQVsW"
      },
      "source": [
        "data = {'Emp No':[101,102,103,104,105],\n",
        "        'Emp Name':['Jai','Kannan','Raman','Suresh','Sam'],\n",
        "        'Salary':[14000,10000,7000,9000,11000]}                "
      ],
      "execution_count": null,
      "outputs": []
    },
    {
      "cell_type": "code",
      "metadata": {
        "id": "rOokWX2lQnYD"
      },
      "source": [
        "df = pd.DataFrame(data)"
      ],
      "execution_count": null,
      "outputs": []
    },
    {
      "cell_type": "code",
      "metadata": {
        "id": "S58PmvSXIdW2"
      },
      "source": [
        "df.to_csv('my_dataset.csv')"
      ],
      "execution_count": null,
      "outputs": []
    },
    {
      "cell_type": "markdown",
      "metadata": {
        "id": "v1g9zRxwRGt9"
      },
      "source": [
        "---\n",
        "# 3. Group by operations in DataFrame\n",
        "    \n",
        "> Pandas groupby() allows us to split our data into separate groups to perform computations for better analysis. groupby() returns the **DataFrameGroupBy** object.\n",
        "\n",
        "> Using DataFrameGroupBy object we can do some analysis like getting speicfic group's values, number of groups, size of each group and etc.\n",
        "\n",
        "> Some of the attributes and methods used to access DataFrameGroupBy are:\n",
        "\n",
        "*   **ngroups** - Attribute to get number of groups\n",
        "*   **groups** - Attribute that returns groupwise row number                \n",
        "*   **size()** - Method to display group sizes\n",
        "*   **first() and last()** - Methods to preview first and last entry of each group\n",
        "*   **get_group()** - Method to retrive a dataframe for specific group\n"
      ]
    },
    {
      "cell_type": "code",
      "metadata": {
        "id": "wjN5tCEHq-_3"
      },
      "source": [
        "import pandas as pd"
      ],
      "execution_count": null,
      "outputs": []
    },
    {
      "cell_type": "code",
      "metadata": {
        "id": "d2k3Hbv8r3ej"
      },
      "source": [
        "df_path = 'https://raw.githubusercontent.com/naveen63hdh/Data-Analytics/main/dataset.csv'"
      ],
      "execution_count": null,
      "outputs": []
    },
    {
      "cell_type": "code",
      "metadata": {
        "id": "i4ENiHcIr2f4"
      },
      "source": [
        "op_df = pd.read_csv(df_path)"
      ],
      "execution_count": null,
      "outputs": []
    },
    {
      "cell_type": "code",
      "metadata": {
        "id": "luzkfJjJr11-"
      },
      "source": [
        "devil_fruits = op_df.groupby('Class')"
      ],
      "execution_count": null,
      "outputs": []
    },
    {
      "cell_type": "markdown",
      "metadata": {
        "id": "Wfb67k5sxhGg"
      },
      "source": [
        "### 3.1 ngroups - Attribute to get number of **groups**"
      ]
    },
    {
      "cell_type": "code",
      "metadata": {
        "colab": {
          "base_uri": "https://localhost:8080/"
        },
        "id": "Gs4kA34ox4JI",
        "outputId": "77a2d691-1a98-40b8-a369-7e71ab7797b0"
      },
      "source": [
        "devil_fruits.ngroups"
      ],
      "execution_count": null,
      "outputs": [
        {
          "output_type": "execute_result",
          "data": {
            "text/plain": [
              "6"
            ]
          },
          "metadata": {
            "tags": []
          },
          "execution_count": 38
        }
      ]
    },
    {
      "cell_type": "markdown",
      "metadata": {
        "id": "UVoHifAMyG7X"
      },
      "source": [
        "### 3.2 groups - Attribute that returns groupwise row number                "
      ]
    },
    {
      "cell_type": "code",
      "metadata": {
        "colab": {
          "base_uri": "https://localhost:8080/"
        },
        "id": "rCaSvYM2sW1Y",
        "outputId": "f8b2367c-b211-45ca-f653-dd42f2a6974f"
      },
      "source": [
        "devil_fruits.groups"
      ],
      "execution_count": null,
      "outputs": [
        {
          "output_type": "execute_result",
          "data": {
            "text/plain": [
              "{'(undetermined)': [96, 105, 163], 'Failed SMILE': [78, 98, 141, 150, 164], 'Logia': [1, 22, 28, 30, 50, 63, 104, 120, 135, 139, 140, 155], 'Paramecia': [0, 2, 4, 5, 7, 8, 9, 10, 13, 14, 15, 17, 18, 19, 23, 24, 25, 29, 31, 34, 35, 36, 37, 38, 39, 40, 41, 42, 43, 44, 45, 46, 54, 55, 57, 58, 60, 62, 65, 66, 68, 70, 71, 73, 75, 79, 85, 86, 89, 90, 94, 95, 97, 99, 102, 107, 109, 111, 112, 114, 121, 123, 126, 132, 133, 142, 143, 146, 147, 149, 151, 152, 153, 160, 161, 162, 166, 167, 168, 169, 170, 171, 172, 173, 178], 'SMILE': [3, 6, 11, 12, 26, 47, 48, 49, 51, 56, 61, 69, 72, 74, 76, 77, 80, 81, 82, 83, 84, 101, 108, 110, 124, 125, 129, 137, 144, 148, 156, 157, 158, 159, 174, 175, 176], 'Zoan': [16, 20, 21, 27, 32, 33, 52, 53, 59, 64, 67, 87, 88, 91, 92, 93, 100, 103, 106, 113, 115, 116, 117, 118, 119, 122, 127, 128, 130, 131, 134, 136, 138, 145, 154, 165, 177]}"
            ]
          },
          "metadata": {
            "tags": []
          },
          "execution_count": 39
        }
      ]
    },
    {
      "cell_type": "markdown",
      "metadata": {
        "id": "yLXs_2B-ym3x"
      },
      "source": [
        "### 3.3 size() - Method to display group sizes"
      ]
    },
    {
      "cell_type": "code",
      "metadata": {
        "colab": {
          "base_uri": "https://localhost:8080/"
        },
        "id": "PZy3cUFhyuAP",
        "outputId": "6f7e6147-cdd0-4ab9-f704-5e327cef1fad"
      },
      "source": [
        "devil_fruits.size()"
      ],
      "execution_count": null,
      "outputs": [
        {
          "output_type": "execute_result",
          "data": {
            "text/plain": [
              "Class\n",
              "(undetermined)     3\n",
              "Failed SMILE       5\n",
              "Logia             12\n",
              "Paramecia         85\n",
              "SMILE             37\n",
              "Zoan              37\n",
              "dtype: int64"
            ]
          },
          "metadata": {
            "tags": []
          },
          "execution_count": 40
        }
      ]
    },
    {
      "cell_type": "markdown",
      "metadata": {
        "id": "rkpuA0mNy9HV"
      },
      "source": [
        "### 3.4 first() and last() - Methods to preview first and last entry of each group"
      ]
    },
    {
      "cell_type": "code",
      "metadata": {
        "colab": {
          "base_uri": "https://localhost:8080/",
          "height": 269
        },
        "id": "Vfku0MnWzRuI",
        "outputId": "bab1ef4b-abd9-441e-e91a-ec9709d182b7"
      },
      "source": [
        "devil_fruits.first()"
      ],
      "execution_count": null,
      "outputs": [
        {
          "output_type": "execute_result",
          "data": {
            "text/html": [
              "<div>\n",
              "<style scoped>\n",
              "    .dataframe tbody tr th:only-of-type {\n",
              "        vertical-align: middle;\n",
              "    }\n",
              "\n",
              "    .dataframe tbody tr th {\n",
              "        vertical-align: top;\n",
              "    }\n",
              "\n",
              "    .dataframe thead th {\n",
              "        text-align: right;\n",
              "    }\n",
              "</style>\n",
              "<table border=\"1\" class=\"dataframe\">\n",
              "  <thead>\n",
              "    <tr style=\"text-align: right;\">\n",
              "      <th></th>\n",
              "      <th>Character</th>\n",
              "      <th>Devil Fruit</th>\n",
              "      <th>Subclass</th>\n",
              "      <th>Awakened</th>\n",
              "      <th>Status</th>\n",
              "    </tr>\n",
              "    <tr>\n",
              "      <th>Class</th>\n",
              "      <th></th>\n",
              "      <th></th>\n",
              "      <th></th>\n",
              "      <th></th>\n",
              "      <th></th>\n",
              "    </tr>\n",
              "  </thead>\n",
              "  <tbody>\n",
              "    <tr>\n",
              "      <th>(undetermined)</th>\n",
              "      <td>Karasu</td>\n",
              "      <td>(unnamed)</td>\n",
              "      <td>(undetermined)</td>\n",
              "      <td>No</td>\n",
              "      <td>Consumed</td>\n",
              "    </tr>\n",
              "    <tr>\n",
              "      <th>Failed SMILE</th>\n",
              "      <td>Han</td>\n",
              "      <td>(unnamed)</td>\n",
              "      <td>Failed Artificial Zoan</td>\n",
              "      <td>No</td>\n",
              "      <td>Consumed</td>\n",
              "    </tr>\n",
              "    <tr>\n",
              "      <th>Logia</th>\n",
              "      <td>Marshall D. Teach</td>\n",
              "      <td>Yami Yami no Mi</td>\n",
              "      <td>Regular Logia</td>\n",
              "      <td>No</td>\n",
              "      <td>Consumed</td>\n",
              "    </tr>\n",
              "    <tr>\n",
              "      <th>Paramecia</th>\n",
              "      <td>Marshall D. Teach</td>\n",
              "      <td>Gura Gura no Mi</td>\n",
              "      <td>Regular Paramecia</td>\n",
              "      <td>No</td>\n",
              "      <td>Consumed</td>\n",
              "    </tr>\n",
              "    <tr>\n",
              "      <th>SMILE</th>\n",
              "      <td>Alpacaman</td>\n",
              "      <td>Alpaca SMILE</td>\n",
              "      <td>Artificial Zoan</td>\n",
              "      <td>No</td>\n",
              "      <td>Consumed</td>\n",
              "    </tr>\n",
              "    <tr>\n",
              "      <th>Zoan</th>\n",
              "      <td>Bian</td>\n",
              "      <td>Mushi Mushi no Mi, Model: Suzumebachi</td>\n",
              "      <td>Regular Zoan</td>\n",
              "      <td>No</td>\n",
              "      <td>Consumed</td>\n",
              "    </tr>\n",
              "  </tbody>\n",
              "</table>\n",
              "</div>"
            ],
            "text/plain": [
              "                        Character  ...    Status\n",
              "Class                              ...          \n",
              "(undetermined)             Karasu  ...  Consumed\n",
              "Failed SMILE                  Han  ...  Consumed\n",
              "Logia           Marshall D. Teach  ...  Consumed\n",
              "Paramecia       Marshall D. Teach  ...  Consumed\n",
              "SMILE                   Alpacaman  ...  Consumed\n",
              "Zoan                         Bian  ...  Consumed\n",
              "\n",
              "[6 rows x 5 columns]"
            ]
          },
          "metadata": {
            "tags": []
          },
          "execution_count": 41
        }
      ]
    },
    {
      "cell_type": "code",
      "metadata": {
        "colab": {
          "base_uri": "https://localhost:8080/",
          "height": 269
        },
        "id": "hqMFRJX_zYPI",
        "outputId": "e0e1c2d6-3c3e-4260-e3aa-b5afd41ef1b3"
      },
      "source": [
        "devil_fruits.last()"
      ],
      "execution_count": null,
      "outputs": [
        {
          "output_type": "execute_result",
          "data": {
            "text/html": [
              "<div>\n",
              "<style scoped>\n",
              "    .dataframe tbody tr th:only-of-type {\n",
              "        vertical-align: middle;\n",
              "    }\n",
              "\n",
              "    .dataframe tbody tr th {\n",
              "        vertical-align: top;\n",
              "    }\n",
              "\n",
              "    .dataframe thead th {\n",
              "        text-align: right;\n",
              "    }\n",
              "</style>\n",
              "<table border=\"1\" class=\"dataframe\">\n",
              "  <thead>\n",
              "    <tr style=\"text-align: right;\">\n",
              "      <th></th>\n",
              "      <th>Character</th>\n",
              "      <th>Devil Fruit</th>\n",
              "      <th>Subclass</th>\n",
              "      <th>Awakened</th>\n",
              "      <th>Status</th>\n",
              "    </tr>\n",
              "    <tr>\n",
              "      <th>Class</th>\n",
              "      <th></th>\n",
              "      <th></th>\n",
              "      <th></th>\n",
              "      <th></th>\n",
              "      <th></th>\n",
              "    </tr>\n",
              "  </thead>\n",
              "  <tbody>\n",
              "    <tr>\n",
              "      <th>(undetermined)</th>\n",
              "      <td>Tamago</td>\n",
              "      <td>Tama Tama no Mi</td>\n",
              "      <td>(undetermined)</td>\n",
              "      <td>No</td>\n",
              "      <td>Consumed</td>\n",
              "    </tr>\n",
              "    <tr>\n",
              "      <th>Failed SMILE</th>\n",
              "      <td>Toko</td>\n",
              "      <td>(unnamed)</td>\n",
              "      <td>Failed Artificial Zoan</td>\n",
              "      <td>No</td>\n",
              "      <td>Consumed</td>\n",
              "    </tr>\n",
              "    <tr>\n",
              "      <th>Logia</th>\n",
              "      <td>Smoker</td>\n",
              "      <td>Moku Moku no Mi</td>\n",
              "      <td>Regular Logia</td>\n",
              "      <td>No</td>\n",
              "      <td>Consumed</td>\n",
              "    </tr>\n",
              "    <tr>\n",
              "      <th>Paramecia</th>\n",
              "      <td>Zala</td>\n",
              "      <td>Toge Toge no Mi</td>\n",
              "      <td>Regular Paramecia</td>\n",
              "      <td>No</td>\n",
              "      <td>Consumed</td>\n",
              "    </tr>\n",
              "    <tr>\n",
              "      <th>SMILE</th>\n",
              "      <td>Wolf gifter (chapter 943) #2</td>\n",
              "      <td>Wolf SMILE</td>\n",
              "      <td>Artificial Zoan</td>\n",
              "      <td>No</td>\n",
              "      <td>Consumed</td>\n",
              "    </tr>\n",
              "    <tr>\n",
              "      <th>Zoan</th>\n",
              "      <td>X Drake</td>\n",
              "      <td>Ryu Ryu no Mi, Model: Allosaurus</td>\n",
              "      <td>Ancient Zoan</td>\n",
              "      <td>No</td>\n",
              "      <td>Consumed</td>\n",
              "    </tr>\n",
              "  </tbody>\n",
              "</table>\n",
              "</div>"
            ],
            "text/plain": [
              "                                   Character  ...    Status\n",
              "Class                                         ...          \n",
              "(undetermined)                        Tamago  ...  Consumed\n",
              "Failed SMILE                            Toko  ...  Consumed\n",
              "Logia                                 Smoker  ...  Consumed\n",
              "Paramecia                               Zala  ...  Consumed\n",
              "SMILE           Wolf gifter (chapter 943) #2  ...  Consumed\n",
              "Zoan                                 X Drake  ...  Consumed\n",
              "\n",
              "[6 rows x 5 columns]"
            ]
          },
          "metadata": {
            "tags": []
          },
          "execution_count": 42
        }
      ]
    },
    {
      "cell_type": "markdown",
      "metadata": {
        "id": "EUeX2ABVzcKW"
      },
      "source": [
        "### 3.5 get_group() - Method to retrive a dataframe for specific group"
      ]
    },
    {
      "cell_type": "code",
      "metadata": {
        "colab": {
          "base_uri": "https://localhost:8080/",
          "height": 426
        },
        "id": "jLYhI_b7zlvR",
        "outputId": "bcff0546-46a2-4ac4-a7a7-47ff37a77cb1"
      },
      "source": [
        "devil_fruits.get_group('Logia')"
      ],
      "execution_count": null,
      "outputs": [
        {
          "output_type": "execute_result",
          "data": {
            "text/html": [
              "<div>\n",
              "<style scoped>\n",
              "    .dataframe tbody tr th:only-of-type {\n",
              "        vertical-align: middle;\n",
              "    }\n",
              "\n",
              "    .dataframe tbody tr th {\n",
              "        vertical-align: top;\n",
              "    }\n",
              "\n",
              "    .dataframe thead th {\n",
              "        text-align: right;\n",
              "    }\n",
              "</style>\n",
              "<table border=\"1\" class=\"dataframe\">\n",
              "  <thead>\n",
              "    <tr style=\"text-align: right;\">\n",
              "      <th></th>\n",
              "      <th>Character</th>\n",
              "      <th>Devil Fruit</th>\n",
              "      <th>Subclass</th>\n",
              "      <th>Awakened</th>\n",
              "      <th>Status</th>\n",
              "    </tr>\n",
              "  </thead>\n",
              "  <tbody>\n",
              "    <tr>\n",
              "      <th>1</th>\n",
              "      <td>Marshall D. Teach</td>\n",
              "      <td>Yami Yami no Mi</td>\n",
              "      <td>Regular Logia</td>\n",
              "      <td>No</td>\n",
              "      <td>Consumed</td>\n",
              "    </tr>\n",
              "    <tr>\n",
              "      <th>22</th>\n",
              "      <td>Borsalino</td>\n",
              "      <td>Pika Pika no Mi</td>\n",
              "      <td>Regular Logia</td>\n",
              "      <td>No</td>\n",
              "      <td>Consumed</td>\n",
              "    </tr>\n",
              "    <tr>\n",
              "      <th>28</th>\n",
              "      <td>Caesar Clown</td>\n",
              "      <td>Gasu Gasu no Mi</td>\n",
              "      <td>Regular Logia</td>\n",
              "      <td>No</td>\n",
              "      <td>Consumed</td>\n",
              "    </tr>\n",
              "    <tr>\n",
              "      <th>30</th>\n",
              "      <td>Caribou</td>\n",
              "      <td>Numa Numa no Mi</td>\n",
              "      <td>Regular Logia</td>\n",
              "      <td>No</td>\n",
              "      <td>Consumed</td>\n",
              "    </tr>\n",
              "    <tr>\n",
              "      <th>50</th>\n",
              "      <td>Crocodile</td>\n",
              "      <td>Suna Suna no Mi</td>\n",
              "      <td>Regular Logia</td>\n",
              "      <td>No</td>\n",
              "      <td>Consumed</td>\n",
              "    </tr>\n",
              "    <tr>\n",
              "      <th>63</th>\n",
              "      <td>Enel</td>\n",
              "      <td>Goro Goro no Mi</td>\n",
              "      <td>Regular Logia</td>\n",
              "      <td>No</td>\n",
              "      <td>Consumed</td>\n",
              "    </tr>\n",
              "    <tr>\n",
              "      <th>104</th>\n",
              "      <td>Kuzan</td>\n",
              "      <td>Hie Hie no Mi</td>\n",
              "      <td>Regular Logia</td>\n",
              "      <td>No</td>\n",
              "      <td>Consumed</td>\n",
              "    </tr>\n",
              "    <tr>\n",
              "      <th>120</th>\n",
              "      <td>Monet</td>\n",
              "      <td>Yuki Yuki no Mi</td>\n",
              "      <td>Regular Logia</td>\n",
              "      <td>No</td>\n",
              "      <td>Free</td>\n",
              "    </tr>\n",
              "    <tr>\n",
              "      <th>135</th>\n",
              "      <td>Portgas D. Ace</td>\n",
              "      <td>Mera Mera no Mi</td>\n",
              "      <td>Regular Logia</td>\n",
              "      <td>No</td>\n",
              "      <td>Re-Consumed</td>\n",
              "    </tr>\n",
              "    <tr>\n",
              "      <th>139</th>\n",
              "      <td>Sabo</td>\n",
              "      <td>Mera Mera no Mi</td>\n",
              "      <td>Regular Logia</td>\n",
              "      <td>No</td>\n",
              "      <td>Consumed</td>\n",
              "    </tr>\n",
              "    <tr>\n",
              "      <th>140</th>\n",
              "      <td>Sakazuki</td>\n",
              "      <td>Magu Magu no Mi</td>\n",
              "      <td>Regular Logia</td>\n",
              "      <td>No</td>\n",
              "      <td>Consumed</td>\n",
              "    </tr>\n",
              "    <tr>\n",
              "      <th>155</th>\n",
              "      <td>Smoker</td>\n",
              "      <td>Moku Moku no Mi</td>\n",
              "      <td>Regular Logia</td>\n",
              "      <td>No</td>\n",
              "      <td>Consumed</td>\n",
              "    </tr>\n",
              "  </tbody>\n",
              "</table>\n",
              "</div>"
            ],
            "text/plain": [
              "             Character      Devil Fruit       Subclass Awakened       Status\n",
              "1    Marshall D. Teach  Yami Yami no Mi  Regular Logia       No     Consumed\n",
              "22           Borsalino  Pika Pika no Mi  Regular Logia       No     Consumed\n",
              "28        Caesar Clown  Gasu Gasu no Mi  Regular Logia       No     Consumed\n",
              "30             Caribou  Numa Numa no Mi  Regular Logia       No     Consumed\n",
              "50           Crocodile  Suna Suna no Mi  Regular Logia       No     Consumed\n",
              "63                Enel  Goro Goro no Mi  Regular Logia       No     Consumed\n",
              "104              Kuzan    Hie Hie no Mi  Regular Logia       No     Consumed\n",
              "120              Monet  Yuki Yuki no Mi  Regular Logia       No         Free\n",
              "135     Portgas D. Ace  Mera Mera no Mi  Regular Logia       No  Re-Consumed\n",
              "139               Sabo  Mera Mera no Mi  Regular Logia       No     Consumed\n",
              "140           Sakazuki  Magu Magu no Mi  Regular Logia       No     Consumed\n",
              "155             Smoker  Moku Moku no Mi  Regular Logia       No     Consumed"
            ]
          },
          "metadata": {
            "tags": []
          },
          "execution_count": 43
        }
      ]
    },
    {
      "cell_type": "markdown",
      "metadata": {
        "id": "tD0o7epi6Vob"
      },
      "source": [
        "---\n",
        "# 4. Combining and Merging in DataFrame\n",
        "\n",
        "> Pandas Support both Horizontal and vertical combination of dataframes. **Horizontal combination** means combining dataframes in column level **merge()** and **join()** are the methods provided by pandas for horizontal combination.And **Vertical combination** means combining dataframes in row leve **concat()** and **append()** are the methods used for vertical combination.\n"
      ]
    },
    {
      "cell_type": "code",
      "metadata": {
        "id": "tg71Y9HX_-kb"
      },
      "source": [
        "import pandas as pd"
      ],
      "execution_count": null,
      "outputs": []
    },
    {
      "cell_type": "markdown",
      "metadata": {
        "id": "cJW0zZ5lADzK"
      },
      "source": [
        "## 4.1 merge() - Combining data on common columns or indices.\n",
        "\n",
        "\n",
        "> Merging two dataset can be done in two ways\n",
        "\n",
        "*   Merging dataframe with common column name\n",
        "*   Merging dataframe with different column name\n",
        "\n",
        "> Using how attribute in merge() each type can do 4 merge different operations \n",
        "\n",
        "*   Inner/Equi Join\n",
        "*   Left Join\n",
        "*   Right Join\n",
        "*   Outer Join\n"
      ]
    },
    {
      "cell_type": "markdown",
      "metadata": {
        "id": "WCHwxSDADoZi"
      },
      "source": [
        "### 4.1.1Merging dataframe with common column name"
      ]
    },
    {
      "cell_type": "code",
      "metadata": {
        "id": "2RUNR_CwACu5"
      },
      "source": [
        "data1 = {'Emp No':[101,102,103,104,105],\n",
        "        'Emp Name':['Jai','Kannan','Raman','Suresh','Sam'],\n",
        "        'Salary':[14000,10000,7000,9000,11000]}                \n",
        "\n",
        "data2 = {'Emp No':[101,102,104,105,106,107],\n",
        "        'Team id':[201,203,201,202,202,204],\n",
        "        'Team Leader':['Vivek','Gaurav','Vivek','Vishwa','Vishwa','Guru']}"
      ],
      "execution_count": null,
      "outputs": []
    },
    {
      "cell_type": "code",
      "metadata": {
        "id": "sJWmcr76Dqo_"
      },
      "source": [
        "df1 = pd.DataFrame(data1)\n",
        "df2 = pd.DataFrame(data2)"
      ],
      "execution_count": null,
      "outputs": []
    },
    {
      "cell_type": "code",
      "metadata": {
        "colab": {
          "base_uri": "https://localhost:8080/",
          "height": 206
        },
        "id": "ZC-pGK8jD7Tz",
        "outputId": "acaceb57-14bd-4d0e-f72c-49af3eb80dd7"
      },
      "source": [
        "df1"
      ],
      "execution_count": null,
      "outputs": [
        {
          "output_type": "execute_result",
          "data": {
            "text/html": [
              "<div>\n",
              "<style scoped>\n",
              "    .dataframe tbody tr th:only-of-type {\n",
              "        vertical-align: middle;\n",
              "    }\n",
              "\n",
              "    .dataframe tbody tr th {\n",
              "        vertical-align: top;\n",
              "    }\n",
              "\n",
              "    .dataframe thead th {\n",
              "        text-align: right;\n",
              "    }\n",
              "</style>\n",
              "<table border=\"1\" class=\"dataframe\">\n",
              "  <thead>\n",
              "    <tr style=\"text-align: right;\">\n",
              "      <th></th>\n",
              "      <th>Emp No</th>\n",
              "      <th>Emp Name</th>\n",
              "      <th>Salary</th>\n",
              "    </tr>\n",
              "  </thead>\n",
              "  <tbody>\n",
              "    <tr>\n",
              "      <th>0</th>\n",
              "      <td>101</td>\n",
              "      <td>Jai</td>\n",
              "      <td>14000</td>\n",
              "    </tr>\n",
              "    <tr>\n",
              "      <th>1</th>\n",
              "      <td>102</td>\n",
              "      <td>Kannan</td>\n",
              "      <td>10000</td>\n",
              "    </tr>\n",
              "    <tr>\n",
              "      <th>2</th>\n",
              "      <td>103</td>\n",
              "      <td>Raman</td>\n",
              "      <td>7000</td>\n",
              "    </tr>\n",
              "    <tr>\n",
              "      <th>3</th>\n",
              "      <td>104</td>\n",
              "      <td>Suresh</td>\n",
              "      <td>9000</td>\n",
              "    </tr>\n",
              "    <tr>\n",
              "      <th>4</th>\n",
              "      <td>105</td>\n",
              "      <td>Sam</td>\n",
              "      <td>11000</td>\n",
              "    </tr>\n",
              "  </tbody>\n",
              "</table>\n",
              "</div>"
            ],
            "text/plain": [
              "   Emp No Emp Name  Salary\n",
              "0     101      Jai   14000\n",
              "1     102   Kannan   10000\n",
              "2     103    Raman    7000\n",
              "3     104   Suresh    9000\n",
              "4     105      Sam   11000"
            ]
          },
          "metadata": {
            "tags": []
          },
          "execution_count": 47
        }
      ]
    },
    {
      "cell_type": "code",
      "metadata": {
        "colab": {
          "base_uri": "https://localhost:8080/",
          "height": 238
        },
        "id": "MDoyOhLLD-wO",
        "outputId": "e84b06c6-5031-49c2-b8e3-ea1a31ab67f7"
      },
      "source": [
        "df2"
      ],
      "execution_count": null,
      "outputs": [
        {
          "output_type": "execute_result",
          "data": {
            "text/html": [
              "<div>\n",
              "<style scoped>\n",
              "    .dataframe tbody tr th:only-of-type {\n",
              "        vertical-align: middle;\n",
              "    }\n",
              "\n",
              "    .dataframe tbody tr th {\n",
              "        vertical-align: top;\n",
              "    }\n",
              "\n",
              "    .dataframe thead th {\n",
              "        text-align: right;\n",
              "    }\n",
              "</style>\n",
              "<table border=\"1\" class=\"dataframe\">\n",
              "  <thead>\n",
              "    <tr style=\"text-align: right;\">\n",
              "      <th></th>\n",
              "      <th>Emp No</th>\n",
              "      <th>Team id</th>\n",
              "      <th>Team Leader</th>\n",
              "    </tr>\n",
              "  </thead>\n",
              "  <tbody>\n",
              "    <tr>\n",
              "      <th>0</th>\n",
              "      <td>101</td>\n",
              "      <td>201</td>\n",
              "      <td>Vivek</td>\n",
              "    </tr>\n",
              "    <tr>\n",
              "      <th>1</th>\n",
              "      <td>102</td>\n",
              "      <td>203</td>\n",
              "      <td>Gaurav</td>\n",
              "    </tr>\n",
              "    <tr>\n",
              "      <th>2</th>\n",
              "      <td>104</td>\n",
              "      <td>201</td>\n",
              "      <td>Vivek</td>\n",
              "    </tr>\n",
              "    <tr>\n",
              "      <th>3</th>\n",
              "      <td>105</td>\n",
              "      <td>202</td>\n",
              "      <td>Vishwa</td>\n",
              "    </tr>\n",
              "    <tr>\n",
              "      <th>4</th>\n",
              "      <td>106</td>\n",
              "      <td>202</td>\n",
              "      <td>Vishwa</td>\n",
              "    </tr>\n",
              "    <tr>\n",
              "      <th>5</th>\n",
              "      <td>107</td>\n",
              "      <td>204</td>\n",
              "      <td>Guru</td>\n",
              "    </tr>\n",
              "  </tbody>\n",
              "</table>\n",
              "</div>"
            ],
            "text/plain": [
              "   Emp No  Team id Team Leader\n",
              "0     101      201       Vivek\n",
              "1     102      203      Gaurav\n",
              "2     104      201       Vivek\n",
              "3     105      202      Vishwa\n",
              "4     106      202      Vishwa\n",
              "5     107      204        Guru"
            ]
          },
          "metadata": {
            "tags": []
          },
          "execution_count": 48
        }
      ]
    },
    {
      "cell_type": "markdown",
      "metadata": {
        "id": "MGOp76anEkC_"
      },
      "source": [
        "### Inner/Equi Join"
      ]
    },
    {
      "cell_type": "code",
      "metadata": {
        "colab": {
          "base_uri": "https://localhost:8080/",
          "height": 175
        },
        "id": "qkmTva2DEUj7",
        "outputId": "c7ad74e4-70f4-4105-f924-1d57d530602d"
      },
      "source": [
        "pd.merge(df1,df2)"
      ],
      "execution_count": null,
      "outputs": [
        {
          "output_type": "execute_result",
          "data": {
            "text/html": [
              "<div>\n",
              "<style scoped>\n",
              "    .dataframe tbody tr th:only-of-type {\n",
              "        vertical-align: middle;\n",
              "    }\n",
              "\n",
              "    .dataframe tbody tr th {\n",
              "        vertical-align: top;\n",
              "    }\n",
              "\n",
              "    .dataframe thead th {\n",
              "        text-align: right;\n",
              "    }\n",
              "</style>\n",
              "<table border=\"1\" class=\"dataframe\">\n",
              "  <thead>\n",
              "    <tr style=\"text-align: right;\">\n",
              "      <th></th>\n",
              "      <th>Emp No</th>\n",
              "      <th>Emp Name</th>\n",
              "      <th>Salary</th>\n",
              "      <th>Team id</th>\n",
              "      <th>Team Leader</th>\n",
              "    </tr>\n",
              "  </thead>\n",
              "  <tbody>\n",
              "    <tr>\n",
              "      <th>0</th>\n",
              "      <td>101</td>\n",
              "      <td>Jai</td>\n",
              "      <td>14000</td>\n",
              "      <td>201</td>\n",
              "      <td>Vivek</td>\n",
              "    </tr>\n",
              "    <tr>\n",
              "      <th>1</th>\n",
              "      <td>102</td>\n",
              "      <td>Kannan</td>\n",
              "      <td>10000</td>\n",
              "      <td>203</td>\n",
              "      <td>Gaurav</td>\n",
              "    </tr>\n",
              "    <tr>\n",
              "      <th>2</th>\n",
              "      <td>104</td>\n",
              "      <td>Suresh</td>\n",
              "      <td>9000</td>\n",
              "      <td>201</td>\n",
              "      <td>Vivek</td>\n",
              "    </tr>\n",
              "    <tr>\n",
              "      <th>3</th>\n",
              "      <td>105</td>\n",
              "      <td>Sam</td>\n",
              "      <td>11000</td>\n",
              "      <td>202</td>\n",
              "      <td>Vishwa</td>\n",
              "    </tr>\n",
              "  </tbody>\n",
              "</table>\n",
              "</div>"
            ],
            "text/plain": [
              "   Emp No Emp Name  Salary  Team id Team Leader\n",
              "0     101      Jai   14000      201       Vivek\n",
              "1     102   Kannan   10000      203      Gaurav\n",
              "2     104   Suresh    9000      201       Vivek\n",
              "3     105      Sam   11000      202      Vishwa"
            ]
          },
          "metadata": {
            "tags": []
          },
          "execution_count": 49
        }
      ]
    },
    {
      "cell_type": "code",
      "metadata": {
        "colab": {
          "base_uri": "https://localhost:8080/",
          "height": 175
        },
        "id": "ERfzcA1xEzDX",
        "outputId": "d22127da-d208-4d57-be5d-c58164c062fe"
      },
      "source": [
        "pd.merge(df1,df2,how='inner')"
      ],
      "execution_count": null,
      "outputs": [
        {
          "output_type": "execute_result",
          "data": {
            "text/html": [
              "<div>\n",
              "<style scoped>\n",
              "    .dataframe tbody tr th:only-of-type {\n",
              "        vertical-align: middle;\n",
              "    }\n",
              "\n",
              "    .dataframe tbody tr th {\n",
              "        vertical-align: top;\n",
              "    }\n",
              "\n",
              "    .dataframe thead th {\n",
              "        text-align: right;\n",
              "    }\n",
              "</style>\n",
              "<table border=\"1\" class=\"dataframe\">\n",
              "  <thead>\n",
              "    <tr style=\"text-align: right;\">\n",
              "      <th></th>\n",
              "      <th>Emp No</th>\n",
              "      <th>Emp Name</th>\n",
              "      <th>Salary</th>\n",
              "      <th>Team id</th>\n",
              "      <th>Team Leader</th>\n",
              "    </tr>\n",
              "  </thead>\n",
              "  <tbody>\n",
              "    <tr>\n",
              "      <th>0</th>\n",
              "      <td>101</td>\n",
              "      <td>Jai</td>\n",
              "      <td>14000</td>\n",
              "      <td>201</td>\n",
              "      <td>Vivek</td>\n",
              "    </tr>\n",
              "    <tr>\n",
              "      <th>1</th>\n",
              "      <td>102</td>\n",
              "      <td>Kannan</td>\n",
              "      <td>10000</td>\n",
              "      <td>203</td>\n",
              "      <td>Gaurav</td>\n",
              "    </tr>\n",
              "    <tr>\n",
              "      <th>2</th>\n",
              "      <td>104</td>\n",
              "      <td>Suresh</td>\n",
              "      <td>9000</td>\n",
              "      <td>201</td>\n",
              "      <td>Vivek</td>\n",
              "    </tr>\n",
              "    <tr>\n",
              "      <th>3</th>\n",
              "      <td>105</td>\n",
              "      <td>Sam</td>\n",
              "      <td>11000</td>\n",
              "      <td>202</td>\n",
              "      <td>Vishwa</td>\n",
              "    </tr>\n",
              "  </tbody>\n",
              "</table>\n",
              "</div>"
            ],
            "text/plain": [
              "   Emp No Emp Name  Salary  Team id Team Leader\n",
              "0     101      Jai   14000      201       Vivek\n",
              "1     102   Kannan   10000      203      Gaurav\n",
              "2     104   Suresh    9000      201       Vivek\n",
              "3     105      Sam   11000      202      Vishwa"
            ]
          },
          "metadata": {
            "tags": []
          },
          "execution_count": 50
        }
      ]
    },
    {
      "cell_type": "markdown",
      "metadata": {
        "id": "1AQFTk6jFaZ2"
      },
      "source": [
        "### Left Join"
      ]
    },
    {
      "cell_type": "code",
      "metadata": {
        "colab": {
          "base_uri": "https://localhost:8080/",
          "height": 206
        },
        "id": "7SUUyrbiFesw",
        "outputId": "fa7dbf62-0634-4b73-a353-388b5c04eec3"
      },
      "source": [
        "pd.merge(df1,df2,how='left')"
      ],
      "execution_count": null,
      "outputs": [
        {
          "output_type": "execute_result",
          "data": {
            "text/html": [
              "<div>\n",
              "<style scoped>\n",
              "    .dataframe tbody tr th:only-of-type {\n",
              "        vertical-align: middle;\n",
              "    }\n",
              "\n",
              "    .dataframe tbody tr th {\n",
              "        vertical-align: top;\n",
              "    }\n",
              "\n",
              "    .dataframe thead th {\n",
              "        text-align: right;\n",
              "    }\n",
              "</style>\n",
              "<table border=\"1\" class=\"dataframe\">\n",
              "  <thead>\n",
              "    <tr style=\"text-align: right;\">\n",
              "      <th></th>\n",
              "      <th>Emp No</th>\n",
              "      <th>Emp Name</th>\n",
              "      <th>Salary</th>\n",
              "      <th>Team id</th>\n",
              "      <th>Team Leader</th>\n",
              "    </tr>\n",
              "  </thead>\n",
              "  <tbody>\n",
              "    <tr>\n",
              "      <th>0</th>\n",
              "      <td>101</td>\n",
              "      <td>Jai</td>\n",
              "      <td>14000</td>\n",
              "      <td>201.0</td>\n",
              "      <td>Vivek</td>\n",
              "    </tr>\n",
              "    <tr>\n",
              "      <th>1</th>\n",
              "      <td>102</td>\n",
              "      <td>Kannan</td>\n",
              "      <td>10000</td>\n",
              "      <td>203.0</td>\n",
              "      <td>Gaurav</td>\n",
              "    </tr>\n",
              "    <tr>\n",
              "      <th>2</th>\n",
              "      <td>103</td>\n",
              "      <td>Raman</td>\n",
              "      <td>7000</td>\n",
              "      <td>NaN</td>\n",
              "      <td>NaN</td>\n",
              "    </tr>\n",
              "    <tr>\n",
              "      <th>3</th>\n",
              "      <td>104</td>\n",
              "      <td>Suresh</td>\n",
              "      <td>9000</td>\n",
              "      <td>201.0</td>\n",
              "      <td>Vivek</td>\n",
              "    </tr>\n",
              "    <tr>\n",
              "      <th>4</th>\n",
              "      <td>105</td>\n",
              "      <td>Sam</td>\n",
              "      <td>11000</td>\n",
              "      <td>202.0</td>\n",
              "      <td>Vishwa</td>\n",
              "    </tr>\n",
              "  </tbody>\n",
              "</table>\n",
              "</div>"
            ],
            "text/plain": [
              "   Emp No Emp Name  Salary  Team id Team Leader\n",
              "0     101      Jai   14000    201.0       Vivek\n",
              "1     102   Kannan   10000    203.0      Gaurav\n",
              "2     103    Raman    7000      NaN         NaN\n",
              "3     104   Suresh    9000    201.0       Vivek\n",
              "4     105      Sam   11000    202.0      Vishwa"
            ]
          },
          "metadata": {
            "tags": []
          },
          "execution_count": 51
        }
      ]
    },
    {
      "cell_type": "markdown",
      "metadata": {
        "id": "zZDXrCMqFqMJ"
      },
      "source": [
        "### Right Join"
      ]
    },
    {
      "cell_type": "code",
      "metadata": {
        "colab": {
          "base_uri": "https://localhost:8080/",
          "height": 238
        },
        "id": "cAtIXCzSFww4",
        "outputId": "3245d8ec-06e7-4071-e066-161617c1f513"
      },
      "source": [
        "pd.merge(df1,df2,how='right')"
      ],
      "execution_count": null,
      "outputs": [
        {
          "output_type": "execute_result",
          "data": {
            "text/html": [
              "<div>\n",
              "<style scoped>\n",
              "    .dataframe tbody tr th:only-of-type {\n",
              "        vertical-align: middle;\n",
              "    }\n",
              "\n",
              "    .dataframe tbody tr th {\n",
              "        vertical-align: top;\n",
              "    }\n",
              "\n",
              "    .dataframe thead th {\n",
              "        text-align: right;\n",
              "    }\n",
              "</style>\n",
              "<table border=\"1\" class=\"dataframe\">\n",
              "  <thead>\n",
              "    <tr style=\"text-align: right;\">\n",
              "      <th></th>\n",
              "      <th>Emp No</th>\n",
              "      <th>Emp Name</th>\n",
              "      <th>Salary</th>\n",
              "      <th>Team id</th>\n",
              "      <th>Team Leader</th>\n",
              "    </tr>\n",
              "  </thead>\n",
              "  <tbody>\n",
              "    <tr>\n",
              "      <th>0</th>\n",
              "      <td>101</td>\n",
              "      <td>Jai</td>\n",
              "      <td>14000.0</td>\n",
              "      <td>201</td>\n",
              "      <td>Vivek</td>\n",
              "    </tr>\n",
              "    <tr>\n",
              "      <th>1</th>\n",
              "      <td>102</td>\n",
              "      <td>Kannan</td>\n",
              "      <td>10000.0</td>\n",
              "      <td>203</td>\n",
              "      <td>Gaurav</td>\n",
              "    </tr>\n",
              "    <tr>\n",
              "      <th>2</th>\n",
              "      <td>104</td>\n",
              "      <td>Suresh</td>\n",
              "      <td>9000.0</td>\n",
              "      <td>201</td>\n",
              "      <td>Vivek</td>\n",
              "    </tr>\n",
              "    <tr>\n",
              "      <th>3</th>\n",
              "      <td>105</td>\n",
              "      <td>Sam</td>\n",
              "      <td>11000.0</td>\n",
              "      <td>202</td>\n",
              "      <td>Vishwa</td>\n",
              "    </tr>\n",
              "    <tr>\n",
              "      <th>4</th>\n",
              "      <td>106</td>\n",
              "      <td>NaN</td>\n",
              "      <td>NaN</td>\n",
              "      <td>202</td>\n",
              "      <td>Vishwa</td>\n",
              "    </tr>\n",
              "    <tr>\n",
              "      <th>5</th>\n",
              "      <td>107</td>\n",
              "      <td>NaN</td>\n",
              "      <td>NaN</td>\n",
              "      <td>204</td>\n",
              "      <td>Guru</td>\n",
              "    </tr>\n",
              "  </tbody>\n",
              "</table>\n",
              "</div>"
            ],
            "text/plain": [
              "   Emp No Emp Name   Salary  Team id Team Leader\n",
              "0     101      Jai  14000.0      201       Vivek\n",
              "1     102   Kannan  10000.0      203      Gaurav\n",
              "2     104   Suresh   9000.0      201       Vivek\n",
              "3     105      Sam  11000.0      202      Vishwa\n",
              "4     106      NaN      NaN      202      Vishwa\n",
              "5     107      NaN      NaN      204        Guru"
            ]
          },
          "metadata": {
            "tags": []
          },
          "execution_count": 52
        }
      ]
    },
    {
      "cell_type": "markdown",
      "metadata": {
        "id": "qVgIIL2zF1uR"
      },
      "source": [
        "### Outer Join"
      ]
    },
    {
      "cell_type": "code",
      "metadata": {
        "colab": {
          "base_uri": "https://localhost:8080/",
          "height": 269
        },
        "id": "PL7pKawiF6db",
        "outputId": "f9330f69-2c94-4059-f73b-e70ea415dd58"
      },
      "source": [
        "pd.merge(df1,df2,how='outer')"
      ],
      "execution_count": null,
      "outputs": [
        {
          "output_type": "execute_result",
          "data": {
            "text/html": [
              "<div>\n",
              "<style scoped>\n",
              "    .dataframe tbody tr th:only-of-type {\n",
              "        vertical-align: middle;\n",
              "    }\n",
              "\n",
              "    .dataframe tbody tr th {\n",
              "        vertical-align: top;\n",
              "    }\n",
              "\n",
              "    .dataframe thead th {\n",
              "        text-align: right;\n",
              "    }\n",
              "</style>\n",
              "<table border=\"1\" class=\"dataframe\">\n",
              "  <thead>\n",
              "    <tr style=\"text-align: right;\">\n",
              "      <th></th>\n",
              "      <th>Emp No</th>\n",
              "      <th>Emp Name</th>\n",
              "      <th>Salary</th>\n",
              "      <th>Team id</th>\n",
              "      <th>Team Leader</th>\n",
              "    </tr>\n",
              "  </thead>\n",
              "  <tbody>\n",
              "    <tr>\n",
              "      <th>0</th>\n",
              "      <td>101</td>\n",
              "      <td>Jai</td>\n",
              "      <td>14000.0</td>\n",
              "      <td>201.0</td>\n",
              "      <td>Vivek</td>\n",
              "    </tr>\n",
              "    <tr>\n",
              "      <th>1</th>\n",
              "      <td>102</td>\n",
              "      <td>Kannan</td>\n",
              "      <td>10000.0</td>\n",
              "      <td>203.0</td>\n",
              "      <td>Gaurav</td>\n",
              "    </tr>\n",
              "    <tr>\n",
              "      <th>2</th>\n",
              "      <td>103</td>\n",
              "      <td>Raman</td>\n",
              "      <td>7000.0</td>\n",
              "      <td>NaN</td>\n",
              "      <td>NaN</td>\n",
              "    </tr>\n",
              "    <tr>\n",
              "      <th>3</th>\n",
              "      <td>104</td>\n",
              "      <td>Suresh</td>\n",
              "      <td>9000.0</td>\n",
              "      <td>201.0</td>\n",
              "      <td>Vivek</td>\n",
              "    </tr>\n",
              "    <tr>\n",
              "      <th>4</th>\n",
              "      <td>105</td>\n",
              "      <td>Sam</td>\n",
              "      <td>11000.0</td>\n",
              "      <td>202.0</td>\n",
              "      <td>Vishwa</td>\n",
              "    </tr>\n",
              "    <tr>\n",
              "      <th>5</th>\n",
              "      <td>106</td>\n",
              "      <td>NaN</td>\n",
              "      <td>NaN</td>\n",
              "      <td>202.0</td>\n",
              "      <td>Vishwa</td>\n",
              "    </tr>\n",
              "    <tr>\n",
              "      <th>6</th>\n",
              "      <td>107</td>\n",
              "      <td>NaN</td>\n",
              "      <td>NaN</td>\n",
              "      <td>204.0</td>\n",
              "      <td>Guru</td>\n",
              "    </tr>\n",
              "  </tbody>\n",
              "</table>\n",
              "</div>"
            ],
            "text/plain": [
              "   Emp No Emp Name   Salary  Team id Team Leader\n",
              "0     101      Jai  14000.0    201.0       Vivek\n",
              "1     102   Kannan  10000.0    203.0      Gaurav\n",
              "2     103    Raman   7000.0      NaN         NaN\n",
              "3     104   Suresh   9000.0    201.0       Vivek\n",
              "4     105      Sam  11000.0    202.0      Vishwa\n",
              "5     106      NaN      NaN    202.0      Vishwa\n",
              "6     107      NaN      NaN    204.0        Guru"
            ]
          },
          "metadata": {
            "tags": []
          },
          "execution_count": 53
        }
      ]
    },
    {
      "cell_type": "markdown",
      "metadata": {
        "id": "VBhu3lgRGIpf"
      },
      "source": [
        "### 4.1.2 Merging dataframe with different column name"
      ]
    },
    {
      "cell_type": "code",
      "metadata": {
        "id": "AIXf6FduGTUJ"
      },
      "source": [
        "data1 = {'Emp No':[101,102,103,104,105],\n",
        "        'Emp Name':['Jai','Kannan','Raman','Suresh','Sam'],\n",
        "        'Salary':[14000,10000,7000,9000,11000]\n",
        "        }                \n",
        "\n",
        "data2 = {'Emp Id':[101,102,104,105,106,107],\n",
        "        'Team id':[201,203,201,202,202,204],\n",
        "        'Team Leader':['Vivek','Gaurav','Vivek','Vishwa','Vishwa','Guru']\n",
        "        }"
      ],
      "execution_count": null,
      "outputs": []
    },
    {
      "cell_type": "code",
      "metadata": {
        "id": "I-foza4PGZJE"
      },
      "source": [
        "df1 = pd.DataFrame(data1)\n",
        "df2 = pd.DataFrame(data2)"
      ],
      "execution_count": null,
      "outputs": []
    },
    {
      "cell_type": "code",
      "metadata": {
        "colab": {
          "base_uri": "https://localhost:8080/",
          "height": 206
        },
        "id": "76NObXKQGiRw",
        "outputId": "15214f8e-fec9-4bb7-9878-3da38ab13648"
      },
      "source": [
        "df1"
      ],
      "execution_count": null,
      "outputs": [
        {
          "output_type": "execute_result",
          "data": {
            "text/html": [
              "<div>\n",
              "<style scoped>\n",
              "    .dataframe tbody tr th:only-of-type {\n",
              "        vertical-align: middle;\n",
              "    }\n",
              "\n",
              "    .dataframe tbody tr th {\n",
              "        vertical-align: top;\n",
              "    }\n",
              "\n",
              "    .dataframe thead th {\n",
              "        text-align: right;\n",
              "    }\n",
              "</style>\n",
              "<table border=\"1\" class=\"dataframe\">\n",
              "  <thead>\n",
              "    <tr style=\"text-align: right;\">\n",
              "      <th></th>\n",
              "      <th>Emp No</th>\n",
              "      <th>Emp Name</th>\n",
              "      <th>Salary</th>\n",
              "    </tr>\n",
              "  </thead>\n",
              "  <tbody>\n",
              "    <tr>\n",
              "      <th>0</th>\n",
              "      <td>101</td>\n",
              "      <td>Jai</td>\n",
              "      <td>14000</td>\n",
              "    </tr>\n",
              "    <tr>\n",
              "      <th>1</th>\n",
              "      <td>102</td>\n",
              "      <td>Kannan</td>\n",
              "      <td>10000</td>\n",
              "    </tr>\n",
              "    <tr>\n",
              "      <th>2</th>\n",
              "      <td>103</td>\n",
              "      <td>Raman</td>\n",
              "      <td>7000</td>\n",
              "    </tr>\n",
              "    <tr>\n",
              "      <th>3</th>\n",
              "      <td>104</td>\n",
              "      <td>Suresh</td>\n",
              "      <td>9000</td>\n",
              "    </tr>\n",
              "    <tr>\n",
              "      <th>4</th>\n",
              "      <td>105</td>\n",
              "      <td>Sam</td>\n",
              "      <td>11000</td>\n",
              "    </tr>\n",
              "  </tbody>\n",
              "</table>\n",
              "</div>"
            ],
            "text/plain": [
              "   Emp No Emp Name  Salary\n",
              "0     101      Jai   14000\n",
              "1     102   Kannan   10000\n",
              "2     103    Raman    7000\n",
              "3     104   Suresh    9000\n",
              "4     105      Sam   11000"
            ]
          },
          "metadata": {
            "tags": []
          },
          "execution_count": 56
        }
      ]
    },
    {
      "cell_type": "code",
      "metadata": {
        "colab": {
          "base_uri": "https://localhost:8080/",
          "height": 238
        },
        "id": "p32hw9vwGjMp",
        "outputId": "da312d05-60ca-4c17-e824-6439bdb5ab44"
      },
      "source": [
        "df2"
      ],
      "execution_count": null,
      "outputs": [
        {
          "output_type": "execute_result",
          "data": {
            "text/html": [
              "<div>\n",
              "<style scoped>\n",
              "    .dataframe tbody tr th:only-of-type {\n",
              "        vertical-align: middle;\n",
              "    }\n",
              "\n",
              "    .dataframe tbody tr th {\n",
              "        vertical-align: top;\n",
              "    }\n",
              "\n",
              "    .dataframe thead th {\n",
              "        text-align: right;\n",
              "    }\n",
              "</style>\n",
              "<table border=\"1\" class=\"dataframe\">\n",
              "  <thead>\n",
              "    <tr style=\"text-align: right;\">\n",
              "      <th></th>\n",
              "      <th>Emp Id</th>\n",
              "      <th>Team id</th>\n",
              "      <th>Team Leader</th>\n",
              "    </tr>\n",
              "  </thead>\n",
              "  <tbody>\n",
              "    <tr>\n",
              "      <th>0</th>\n",
              "      <td>101</td>\n",
              "      <td>201</td>\n",
              "      <td>Vivek</td>\n",
              "    </tr>\n",
              "    <tr>\n",
              "      <th>1</th>\n",
              "      <td>102</td>\n",
              "      <td>203</td>\n",
              "      <td>Gaurav</td>\n",
              "    </tr>\n",
              "    <tr>\n",
              "      <th>2</th>\n",
              "      <td>104</td>\n",
              "      <td>201</td>\n",
              "      <td>Vivek</td>\n",
              "    </tr>\n",
              "    <tr>\n",
              "      <th>3</th>\n",
              "      <td>105</td>\n",
              "      <td>202</td>\n",
              "      <td>Vishwa</td>\n",
              "    </tr>\n",
              "    <tr>\n",
              "      <th>4</th>\n",
              "      <td>106</td>\n",
              "      <td>202</td>\n",
              "      <td>Vishwa</td>\n",
              "    </tr>\n",
              "    <tr>\n",
              "      <th>5</th>\n",
              "      <td>107</td>\n",
              "      <td>204</td>\n",
              "      <td>Guru</td>\n",
              "    </tr>\n",
              "  </tbody>\n",
              "</table>\n",
              "</div>"
            ],
            "text/plain": [
              "   Emp Id  Team id Team Leader\n",
              "0     101      201       Vivek\n",
              "1     102      203      Gaurav\n",
              "2     104      201       Vivek\n",
              "3     105      202      Vishwa\n",
              "4     106      202      Vishwa\n",
              "5     107      204        Guru"
            ]
          },
          "metadata": {
            "tags": []
          },
          "execution_count": 57
        }
      ]
    },
    {
      "cell_type": "code",
      "metadata": {
        "colab": {
          "base_uri": "https://localhost:8080/",
          "height": 175
        },
        "id": "HlZMEjjiGrn6",
        "outputId": "9ce2c3ad-8be1-42b3-e3b7-3c1b6fc6a9f3"
      },
      "source": [
        "pd.merge(df1,df2,left_on = 'Emp No',right_on = 'Emp Id',how = 'inner')"
      ],
      "execution_count": null,
      "outputs": [
        {
          "output_type": "execute_result",
          "data": {
            "text/html": [
              "<div>\n",
              "<style scoped>\n",
              "    .dataframe tbody tr th:only-of-type {\n",
              "        vertical-align: middle;\n",
              "    }\n",
              "\n",
              "    .dataframe tbody tr th {\n",
              "        vertical-align: top;\n",
              "    }\n",
              "\n",
              "    .dataframe thead th {\n",
              "        text-align: right;\n",
              "    }\n",
              "</style>\n",
              "<table border=\"1\" class=\"dataframe\">\n",
              "  <thead>\n",
              "    <tr style=\"text-align: right;\">\n",
              "      <th></th>\n",
              "      <th>Emp No</th>\n",
              "      <th>Emp Name</th>\n",
              "      <th>Salary</th>\n",
              "      <th>Emp Id</th>\n",
              "      <th>Team id</th>\n",
              "      <th>Team Leader</th>\n",
              "    </tr>\n",
              "  </thead>\n",
              "  <tbody>\n",
              "    <tr>\n",
              "      <th>0</th>\n",
              "      <td>101</td>\n",
              "      <td>Jai</td>\n",
              "      <td>14000</td>\n",
              "      <td>101</td>\n",
              "      <td>201</td>\n",
              "      <td>Vivek</td>\n",
              "    </tr>\n",
              "    <tr>\n",
              "      <th>1</th>\n",
              "      <td>102</td>\n",
              "      <td>Kannan</td>\n",
              "      <td>10000</td>\n",
              "      <td>102</td>\n",
              "      <td>203</td>\n",
              "      <td>Gaurav</td>\n",
              "    </tr>\n",
              "    <tr>\n",
              "      <th>2</th>\n",
              "      <td>104</td>\n",
              "      <td>Suresh</td>\n",
              "      <td>9000</td>\n",
              "      <td>104</td>\n",
              "      <td>201</td>\n",
              "      <td>Vivek</td>\n",
              "    </tr>\n",
              "    <tr>\n",
              "      <th>3</th>\n",
              "      <td>105</td>\n",
              "      <td>Sam</td>\n",
              "      <td>11000</td>\n",
              "      <td>105</td>\n",
              "      <td>202</td>\n",
              "      <td>Vishwa</td>\n",
              "    </tr>\n",
              "  </tbody>\n",
              "</table>\n",
              "</div>"
            ],
            "text/plain": [
              "   Emp No Emp Name  Salary  Emp Id  Team id Team Leader\n",
              "0     101      Jai   14000     101      201       Vivek\n",
              "1     102   Kannan   10000     102      203      Gaurav\n",
              "2     104   Suresh    9000     104      201       Vivek\n",
              "3     105      Sam   11000     105      202      Vishwa"
            ]
          },
          "metadata": {
            "tags": []
          },
          "execution_count": 58
        }
      ]
    },
    {
      "cell_type": "markdown",
      "metadata": {
        "id": "HSOrXyf0Ho1s"
      },
      "source": [
        "## 4.2 join() - combines data on a key column or an index.\n",
        "\n",
        ">   join() is similar to merge() both are used to combine dataframe. In join() dataframes can be combined using index but whereas in merge we can combine using both index and columns\n",
        "\n",
        "\n"
      ]
    },
    {
      "cell_type": "code",
      "metadata": {
        "id": "J6TWB_gIH4DY"
      },
      "source": [
        "data1 = {'Emp No':[101,102,103,104,105],\n",
        "        'Emp Name':['Jai','Kannan','Raman','Suresh','Sam'],\n",
        "        'Salary':[14000,10000,7000,9000,11000]}                \n",
        "\n",
        "data2 = {'Emp No':[101,102,104,105,106,107],\n",
        "        'Team id':[201,203,201,202,202,204],\n",
        "        'Team Leader':['Vivek','Gaurav','Vivek','Vishwa','Vishwa','Guru']}"
      ],
      "execution_count": null,
      "outputs": []
    },
    {
      "cell_type": "code",
      "metadata": {
        "id": "URyNahOlNofF"
      },
      "source": [
        "df1 = pd.DataFrame(data1)\n",
        "df2 = pd.DataFrame(data2)"
      ],
      "execution_count": null,
      "outputs": []
    },
    {
      "cell_type": "code",
      "metadata": {
        "colab": {
          "base_uri": "https://localhost:8080/",
          "height": 206
        },
        "id": "U0eVmAP2OEcP",
        "outputId": "763eb01a-6a62-431b-e969-77040c1989df"
      },
      "source": [
        "df1"
      ],
      "execution_count": null,
      "outputs": [
        {
          "output_type": "execute_result",
          "data": {
            "text/html": [
              "<div>\n",
              "<style scoped>\n",
              "    .dataframe tbody tr th:only-of-type {\n",
              "        vertical-align: middle;\n",
              "    }\n",
              "\n",
              "    .dataframe tbody tr th {\n",
              "        vertical-align: top;\n",
              "    }\n",
              "\n",
              "    .dataframe thead th {\n",
              "        text-align: right;\n",
              "    }\n",
              "</style>\n",
              "<table border=\"1\" class=\"dataframe\">\n",
              "  <thead>\n",
              "    <tr style=\"text-align: right;\">\n",
              "      <th></th>\n",
              "      <th>Emp No</th>\n",
              "      <th>Emp Name</th>\n",
              "      <th>Salary</th>\n",
              "    </tr>\n",
              "  </thead>\n",
              "  <tbody>\n",
              "    <tr>\n",
              "      <th>0</th>\n",
              "      <td>101</td>\n",
              "      <td>Jai</td>\n",
              "      <td>14000</td>\n",
              "    </tr>\n",
              "    <tr>\n",
              "      <th>1</th>\n",
              "      <td>102</td>\n",
              "      <td>Kannan</td>\n",
              "      <td>10000</td>\n",
              "    </tr>\n",
              "    <tr>\n",
              "      <th>2</th>\n",
              "      <td>103</td>\n",
              "      <td>Raman</td>\n",
              "      <td>7000</td>\n",
              "    </tr>\n",
              "    <tr>\n",
              "      <th>3</th>\n",
              "      <td>104</td>\n",
              "      <td>Suresh</td>\n",
              "      <td>9000</td>\n",
              "    </tr>\n",
              "    <tr>\n",
              "      <th>4</th>\n",
              "      <td>105</td>\n",
              "      <td>Sam</td>\n",
              "      <td>11000</td>\n",
              "    </tr>\n",
              "  </tbody>\n",
              "</table>\n",
              "</div>"
            ],
            "text/plain": [
              "   Emp No Emp Name  Salary\n",
              "0     101      Jai   14000\n",
              "1     102   Kannan   10000\n",
              "2     103    Raman    7000\n",
              "3     104   Suresh    9000\n",
              "4     105      Sam   11000"
            ]
          },
          "metadata": {
            "tags": []
          },
          "execution_count": 61
        }
      ]
    },
    {
      "cell_type": "code",
      "metadata": {
        "colab": {
          "base_uri": "https://localhost:8080/",
          "height": 238
        },
        "id": "sZkwsz1WOHs3",
        "outputId": "76472bfd-4226-4405-9556-c8aa7ce5bc1d"
      },
      "source": [
        "df2"
      ],
      "execution_count": null,
      "outputs": [
        {
          "output_type": "execute_result",
          "data": {
            "text/html": [
              "<div>\n",
              "<style scoped>\n",
              "    .dataframe tbody tr th:only-of-type {\n",
              "        vertical-align: middle;\n",
              "    }\n",
              "\n",
              "    .dataframe tbody tr th {\n",
              "        vertical-align: top;\n",
              "    }\n",
              "\n",
              "    .dataframe thead th {\n",
              "        text-align: right;\n",
              "    }\n",
              "</style>\n",
              "<table border=\"1\" class=\"dataframe\">\n",
              "  <thead>\n",
              "    <tr style=\"text-align: right;\">\n",
              "      <th></th>\n",
              "      <th>Emp No</th>\n",
              "      <th>Team id</th>\n",
              "      <th>Team Leader</th>\n",
              "    </tr>\n",
              "  </thead>\n",
              "  <tbody>\n",
              "    <tr>\n",
              "      <th>0</th>\n",
              "      <td>101</td>\n",
              "      <td>201</td>\n",
              "      <td>Vivek</td>\n",
              "    </tr>\n",
              "    <tr>\n",
              "      <th>1</th>\n",
              "      <td>102</td>\n",
              "      <td>203</td>\n",
              "      <td>Gaurav</td>\n",
              "    </tr>\n",
              "    <tr>\n",
              "      <th>2</th>\n",
              "      <td>104</td>\n",
              "      <td>201</td>\n",
              "      <td>Vivek</td>\n",
              "    </tr>\n",
              "    <tr>\n",
              "      <th>3</th>\n",
              "      <td>105</td>\n",
              "      <td>202</td>\n",
              "      <td>Vishwa</td>\n",
              "    </tr>\n",
              "    <tr>\n",
              "      <th>4</th>\n",
              "      <td>106</td>\n",
              "      <td>202</td>\n",
              "      <td>Vishwa</td>\n",
              "    </tr>\n",
              "    <tr>\n",
              "      <th>5</th>\n",
              "      <td>107</td>\n",
              "      <td>204</td>\n",
              "      <td>Guru</td>\n",
              "    </tr>\n",
              "  </tbody>\n",
              "</table>\n",
              "</div>"
            ],
            "text/plain": [
              "   Emp No  Team id Team Leader\n",
              "0     101      201       Vivek\n",
              "1     102      203      Gaurav\n",
              "2     104      201       Vivek\n",
              "3     105      202      Vishwa\n",
              "4     106      202      Vishwa\n",
              "5     107      204        Guru"
            ]
          },
          "metadata": {
            "tags": []
          },
          "execution_count": 62
        }
      ]
    },
    {
      "cell_type": "code",
      "metadata": {
        "colab": {
          "base_uri": "https://localhost:8080/",
          "height": 206
        },
        "id": "kxS0pZ6-OIYY",
        "outputId": "1c9414b9-150b-444b-a605-50ee5b8c1836"
      },
      "source": [
        "df1.join(df2,lsuffix = '_l',rsuffix = '_r')"
      ],
      "execution_count": null,
      "outputs": [
        {
          "output_type": "execute_result",
          "data": {
            "text/html": [
              "<div>\n",
              "<style scoped>\n",
              "    .dataframe tbody tr th:only-of-type {\n",
              "        vertical-align: middle;\n",
              "    }\n",
              "\n",
              "    .dataframe tbody tr th {\n",
              "        vertical-align: top;\n",
              "    }\n",
              "\n",
              "    .dataframe thead th {\n",
              "        text-align: right;\n",
              "    }\n",
              "</style>\n",
              "<table border=\"1\" class=\"dataframe\">\n",
              "  <thead>\n",
              "    <tr style=\"text-align: right;\">\n",
              "      <th></th>\n",
              "      <th>Emp No_l</th>\n",
              "      <th>Emp Name</th>\n",
              "      <th>Salary</th>\n",
              "      <th>Emp No_r</th>\n",
              "      <th>Team id</th>\n",
              "      <th>Team Leader</th>\n",
              "    </tr>\n",
              "  </thead>\n",
              "  <tbody>\n",
              "    <tr>\n",
              "      <th>0</th>\n",
              "      <td>101</td>\n",
              "      <td>Jai</td>\n",
              "      <td>14000</td>\n",
              "      <td>101</td>\n",
              "      <td>201</td>\n",
              "      <td>Vivek</td>\n",
              "    </tr>\n",
              "    <tr>\n",
              "      <th>1</th>\n",
              "      <td>102</td>\n",
              "      <td>Kannan</td>\n",
              "      <td>10000</td>\n",
              "      <td>102</td>\n",
              "      <td>203</td>\n",
              "      <td>Gaurav</td>\n",
              "    </tr>\n",
              "    <tr>\n",
              "      <th>2</th>\n",
              "      <td>103</td>\n",
              "      <td>Raman</td>\n",
              "      <td>7000</td>\n",
              "      <td>104</td>\n",
              "      <td>201</td>\n",
              "      <td>Vivek</td>\n",
              "    </tr>\n",
              "    <tr>\n",
              "      <th>3</th>\n",
              "      <td>104</td>\n",
              "      <td>Suresh</td>\n",
              "      <td>9000</td>\n",
              "      <td>105</td>\n",
              "      <td>202</td>\n",
              "      <td>Vishwa</td>\n",
              "    </tr>\n",
              "    <tr>\n",
              "      <th>4</th>\n",
              "      <td>105</td>\n",
              "      <td>Sam</td>\n",
              "      <td>11000</td>\n",
              "      <td>106</td>\n",
              "      <td>202</td>\n",
              "      <td>Vishwa</td>\n",
              "    </tr>\n",
              "  </tbody>\n",
              "</table>\n",
              "</div>"
            ],
            "text/plain": [
              "   Emp No_l Emp Name  Salary  Emp No_r  Team id Team Leader\n",
              "0       101      Jai   14000       101      201       Vivek\n",
              "1       102   Kannan   10000       102      203      Gaurav\n",
              "2       103    Raman    7000       104      201       Vivek\n",
              "3       104   Suresh    9000       105      202      Vishwa\n",
              "4       105      Sam   11000       106      202      Vishwa"
            ]
          },
          "metadata": {
            "tags": []
          },
          "execution_count": 63
        }
      ]
    },
    {
      "cell_type": "markdown",
      "metadata": {
        "id": "5ksl-ktKT2-f"
      },
      "source": [
        "## 4.3 concat() - combines Data Frames across rows or columns.\n",
        "\n",
        "\n",
        "> In concat we pass the list of dataframes that need to be concatinated. Concat operation can be done in two ways\n",
        "\n",
        "\n",
        "*   Concat dataframe on axis 0 (Default Operation)\n",
        "*   Concat dataframe on axis 1 (Horizontal Operation) "
      ]
    },
    {
      "cell_type": "code",
      "metadata": {
        "id": "PuQ9S2x7GbS2"
      },
      "source": [
        "data1 = {'Emp No':[101,102,103,104,105],\n",
        "        'Emp Name':['Jai','Kannan','Raman','Suresh','Sam'],\n",
        "        'Salary':[14000,10000,7000,9000,11000]}                \n",
        "\n",
        "data2 = {'Emp No':[101,102,104,105,106,107],\n",
        "        'Team id':[201,203,201,202,202,204],\n",
        "        'Team Leader':['Vivek','Gaurav','Vivek','Vishwa','Vishwa','Guru']}"
      ],
      "execution_count": null,
      "outputs": []
    },
    {
      "cell_type": "code",
      "metadata": {
        "id": "_Xe-EIvGGyk3"
      },
      "source": [
        "df1 = pd.DataFrame(data1)\n",
        "df2 = pd.DataFrame(data2)"
      ],
      "execution_count": null,
      "outputs": []
    },
    {
      "cell_type": "code",
      "metadata": {
        "colab": {
          "base_uri": "https://localhost:8080/",
          "height": 206
        },
        "id": "gSPGmEufG2HF",
        "outputId": "7f7399af-46f6-4957-c9e7-cc951a8f1fbe"
      },
      "source": [
        "df1"
      ],
      "execution_count": null,
      "outputs": [
        {
          "output_type": "execute_result",
          "data": {
            "text/html": [
              "<div>\n",
              "<style scoped>\n",
              "    .dataframe tbody tr th:only-of-type {\n",
              "        vertical-align: middle;\n",
              "    }\n",
              "\n",
              "    .dataframe tbody tr th {\n",
              "        vertical-align: top;\n",
              "    }\n",
              "\n",
              "    .dataframe thead th {\n",
              "        text-align: right;\n",
              "    }\n",
              "</style>\n",
              "<table border=\"1\" class=\"dataframe\">\n",
              "  <thead>\n",
              "    <tr style=\"text-align: right;\">\n",
              "      <th></th>\n",
              "      <th>Emp No</th>\n",
              "      <th>Emp Name</th>\n",
              "      <th>Salary</th>\n",
              "    </tr>\n",
              "  </thead>\n",
              "  <tbody>\n",
              "    <tr>\n",
              "      <th>0</th>\n",
              "      <td>101</td>\n",
              "      <td>Jai</td>\n",
              "      <td>14000</td>\n",
              "    </tr>\n",
              "    <tr>\n",
              "      <th>1</th>\n",
              "      <td>102</td>\n",
              "      <td>Kannan</td>\n",
              "      <td>10000</td>\n",
              "    </tr>\n",
              "    <tr>\n",
              "      <th>2</th>\n",
              "      <td>103</td>\n",
              "      <td>Raman</td>\n",
              "      <td>7000</td>\n",
              "    </tr>\n",
              "    <tr>\n",
              "      <th>3</th>\n",
              "      <td>104</td>\n",
              "      <td>Suresh</td>\n",
              "      <td>9000</td>\n",
              "    </tr>\n",
              "    <tr>\n",
              "      <th>4</th>\n",
              "      <td>105</td>\n",
              "      <td>Sam</td>\n",
              "      <td>11000</td>\n",
              "    </tr>\n",
              "  </tbody>\n",
              "</table>\n",
              "</div>"
            ],
            "text/plain": [
              "   Emp No Emp Name  Salary\n",
              "0     101      Jai   14000\n",
              "1     102   Kannan   10000\n",
              "2     103    Raman    7000\n",
              "3     104   Suresh    9000\n",
              "4     105      Sam   11000"
            ]
          },
          "metadata": {
            "tags": []
          },
          "execution_count": 66
        }
      ]
    },
    {
      "cell_type": "code",
      "metadata": {
        "colab": {
          "base_uri": "https://localhost:8080/",
          "height": 238
        },
        "id": "rYzxjCvWG3TU",
        "outputId": "ab8aea0c-f53a-4b57-8928-af01bf1defcd"
      },
      "source": [
        "df2"
      ],
      "execution_count": null,
      "outputs": [
        {
          "output_type": "execute_result",
          "data": {
            "text/html": [
              "<div>\n",
              "<style scoped>\n",
              "    .dataframe tbody tr th:only-of-type {\n",
              "        vertical-align: middle;\n",
              "    }\n",
              "\n",
              "    .dataframe tbody tr th {\n",
              "        vertical-align: top;\n",
              "    }\n",
              "\n",
              "    .dataframe thead th {\n",
              "        text-align: right;\n",
              "    }\n",
              "</style>\n",
              "<table border=\"1\" class=\"dataframe\">\n",
              "  <thead>\n",
              "    <tr style=\"text-align: right;\">\n",
              "      <th></th>\n",
              "      <th>Emp No</th>\n",
              "      <th>Team id</th>\n",
              "      <th>Team Leader</th>\n",
              "    </tr>\n",
              "  </thead>\n",
              "  <tbody>\n",
              "    <tr>\n",
              "      <th>0</th>\n",
              "      <td>101</td>\n",
              "      <td>201</td>\n",
              "      <td>Vivek</td>\n",
              "    </tr>\n",
              "    <tr>\n",
              "      <th>1</th>\n",
              "      <td>102</td>\n",
              "      <td>203</td>\n",
              "      <td>Gaurav</td>\n",
              "    </tr>\n",
              "    <tr>\n",
              "      <th>2</th>\n",
              "      <td>104</td>\n",
              "      <td>201</td>\n",
              "      <td>Vivek</td>\n",
              "    </tr>\n",
              "    <tr>\n",
              "      <th>3</th>\n",
              "      <td>105</td>\n",
              "      <td>202</td>\n",
              "      <td>Vishwa</td>\n",
              "    </tr>\n",
              "    <tr>\n",
              "      <th>4</th>\n",
              "      <td>106</td>\n",
              "      <td>202</td>\n",
              "      <td>Vishwa</td>\n",
              "    </tr>\n",
              "    <tr>\n",
              "      <th>5</th>\n",
              "      <td>107</td>\n",
              "      <td>204</td>\n",
              "      <td>Guru</td>\n",
              "    </tr>\n",
              "  </tbody>\n",
              "</table>\n",
              "</div>"
            ],
            "text/plain": [
              "   Emp No  Team id Team Leader\n",
              "0     101      201       Vivek\n",
              "1     102      203      Gaurav\n",
              "2     104      201       Vivek\n",
              "3     105      202      Vishwa\n",
              "4     106      202      Vishwa\n",
              "5     107      204        Guru"
            ]
          },
          "metadata": {
            "tags": []
          },
          "execution_count": 67
        }
      ]
    },
    {
      "cell_type": "markdown",
      "metadata": {
        "id": "dekrbMeEG6ao"
      },
      "source": [
        "### 4.3.1 Concat dataframe on axis 0\n",
        "\n",
        "\n",
        "> This is the default concat operation with concats list of dataframe into single dataframe\n",
        "\n"
      ]
    },
    {
      "cell_type": "code",
      "metadata": {
        "colab": {
          "base_uri": "https://localhost:8080/",
          "height": 394
        },
        "id": "C-hAdu7XHLo0",
        "outputId": "fde937a5-1a4e-4d2a-db2b-5d6ddcb2ade5"
      },
      "source": [
        "pd.concat([df1,df2])"
      ],
      "execution_count": null,
      "outputs": [
        {
          "output_type": "execute_result",
          "data": {
            "text/html": [
              "<div>\n",
              "<style scoped>\n",
              "    .dataframe tbody tr th:only-of-type {\n",
              "        vertical-align: middle;\n",
              "    }\n",
              "\n",
              "    .dataframe tbody tr th {\n",
              "        vertical-align: top;\n",
              "    }\n",
              "\n",
              "    .dataframe thead th {\n",
              "        text-align: right;\n",
              "    }\n",
              "</style>\n",
              "<table border=\"1\" class=\"dataframe\">\n",
              "  <thead>\n",
              "    <tr style=\"text-align: right;\">\n",
              "      <th></th>\n",
              "      <th>Emp No</th>\n",
              "      <th>Emp Name</th>\n",
              "      <th>Salary</th>\n",
              "      <th>Team id</th>\n",
              "      <th>Team Leader</th>\n",
              "    </tr>\n",
              "  </thead>\n",
              "  <tbody>\n",
              "    <tr>\n",
              "      <th>0</th>\n",
              "      <td>101</td>\n",
              "      <td>Jai</td>\n",
              "      <td>14000.0</td>\n",
              "      <td>NaN</td>\n",
              "      <td>NaN</td>\n",
              "    </tr>\n",
              "    <tr>\n",
              "      <th>1</th>\n",
              "      <td>102</td>\n",
              "      <td>Kannan</td>\n",
              "      <td>10000.0</td>\n",
              "      <td>NaN</td>\n",
              "      <td>NaN</td>\n",
              "    </tr>\n",
              "    <tr>\n",
              "      <th>2</th>\n",
              "      <td>103</td>\n",
              "      <td>Raman</td>\n",
              "      <td>7000.0</td>\n",
              "      <td>NaN</td>\n",
              "      <td>NaN</td>\n",
              "    </tr>\n",
              "    <tr>\n",
              "      <th>3</th>\n",
              "      <td>104</td>\n",
              "      <td>Suresh</td>\n",
              "      <td>9000.0</td>\n",
              "      <td>NaN</td>\n",
              "      <td>NaN</td>\n",
              "    </tr>\n",
              "    <tr>\n",
              "      <th>4</th>\n",
              "      <td>105</td>\n",
              "      <td>Sam</td>\n",
              "      <td>11000.0</td>\n",
              "      <td>NaN</td>\n",
              "      <td>NaN</td>\n",
              "    </tr>\n",
              "    <tr>\n",
              "      <th>0</th>\n",
              "      <td>101</td>\n",
              "      <td>NaN</td>\n",
              "      <td>NaN</td>\n",
              "      <td>201.0</td>\n",
              "      <td>Vivek</td>\n",
              "    </tr>\n",
              "    <tr>\n",
              "      <th>1</th>\n",
              "      <td>102</td>\n",
              "      <td>NaN</td>\n",
              "      <td>NaN</td>\n",
              "      <td>203.0</td>\n",
              "      <td>Gaurav</td>\n",
              "    </tr>\n",
              "    <tr>\n",
              "      <th>2</th>\n",
              "      <td>104</td>\n",
              "      <td>NaN</td>\n",
              "      <td>NaN</td>\n",
              "      <td>201.0</td>\n",
              "      <td>Vivek</td>\n",
              "    </tr>\n",
              "    <tr>\n",
              "      <th>3</th>\n",
              "      <td>105</td>\n",
              "      <td>NaN</td>\n",
              "      <td>NaN</td>\n",
              "      <td>202.0</td>\n",
              "      <td>Vishwa</td>\n",
              "    </tr>\n",
              "    <tr>\n",
              "      <th>4</th>\n",
              "      <td>106</td>\n",
              "      <td>NaN</td>\n",
              "      <td>NaN</td>\n",
              "      <td>202.0</td>\n",
              "      <td>Vishwa</td>\n",
              "    </tr>\n",
              "    <tr>\n",
              "      <th>5</th>\n",
              "      <td>107</td>\n",
              "      <td>NaN</td>\n",
              "      <td>NaN</td>\n",
              "      <td>204.0</td>\n",
              "      <td>Guru</td>\n",
              "    </tr>\n",
              "  </tbody>\n",
              "</table>\n",
              "</div>"
            ],
            "text/plain": [
              "   Emp No Emp Name   Salary  Team id Team Leader\n",
              "0     101      Jai  14000.0      NaN         NaN\n",
              "1     102   Kannan  10000.0      NaN         NaN\n",
              "2     103    Raman   7000.0      NaN         NaN\n",
              "3     104   Suresh   9000.0      NaN         NaN\n",
              "4     105      Sam  11000.0      NaN         NaN\n",
              "0     101      NaN      NaN    201.0       Vivek\n",
              "1     102      NaN      NaN    203.0      Gaurav\n",
              "2     104      NaN      NaN    201.0       Vivek\n",
              "3     105      NaN      NaN    202.0      Vishwa\n",
              "4     106      NaN      NaN    202.0      Vishwa\n",
              "5     107      NaN      NaN    204.0        Guru"
            ]
          },
          "metadata": {
            "tags": []
          },
          "execution_count": 68
        }
      ]
    },
    {
      "cell_type": "markdown",
      "metadata": {
        "id": "8zoeMzf1Hz54"
      },
      "source": [
        "### 4.3.2 Concat dataframe on axis 1\n",
        "\n",
        "\n",
        "> Concating dataframe with axis 1 is similar to joins \n",
        "\n"
      ]
    },
    {
      "cell_type": "code",
      "metadata": {
        "colab": {
          "base_uri": "https://localhost:8080/",
          "height": 238
        },
        "id": "wLEIYz-wUaY7",
        "outputId": "61a1bfa2-b80b-4393-9be7-0ace90a7d114"
      },
      "source": [
        "pd.concat([df1,df2],axis = 1)"
      ],
      "execution_count": null,
      "outputs": [
        {
          "output_type": "execute_result",
          "data": {
            "text/html": [
              "<div>\n",
              "<style scoped>\n",
              "    .dataframe tbody tr th:only-of-type {\n",
              "        vertical-align: middle;\n",
              "    }\n",
              "\n",
              "    .dataframe tbody tr th {\n",
              "        vertical-align: top;\n",
              "    }\n",
              "\n",
              "    .dataframe thead th {\n",
              "        text-align: right;\n",
              "    }\n",
              "</style>\n",
              "<table border=\"1\" class=\"dataframe\">\n",
              "  <thead>\n",
              "    <tr style=\"text-align: right;\">\n",
              "      <th></th>\n",
              "      <th>Emp No</th>\n",
              "      <th>Emp Name</th>\n",
              "      <th>Salary</th>\n",
              "      <th>Emp No</th>\n",
              "      <th>Team id</th>\n",
              "      <th>Team Leader</th>\n",
              "    </tr>\n",
              "  </thead>\n",
              "  <tbody>\n",
              "    <tr>\n",
              "      <th>0</th>\n",
              "      <td>101.0</td>\n",
              "      <td>Jai</td>\n",
              "      <td>14000.0</td>\n",
              "      <td>101</td>\n",
              "      <td>201</td>\n",
              "      <td>Vivek</td>\n",
              "    </tr>\n",
              "    <tr>\n",
              "      <th>1</th>\n",
              "      <td>102.0</td>\n",
              "      <td>Kannan</td>\n",
              "      <td>10000.0</td>\n",
              "      <td>102</td>\n",
              "      <td>203</td>\n",
              "      <td>Gaurav</td>\n",
              "    </tr>\n",
              "    <tr>\n",
              "      <th>2</th>\n",
              "      <td>103.0</td>\n",
              "      <td>Raman</td>\n",
              "      <td>7000.0</td>\n",
              "      <td>104</td>\n",
              "      <td>201</td>\n",
              "      <td>Vivek</td>\n",
              "    </tr>\n",
              "    <tr>\n",
              "      <th>3</th>\n",
              "      <td>104.0</td>\n",
              "      <td>Suresh</td>\n",
              "      <td>9000.0</td>\n",
              "      <td>105</td>\n",
              "      <td>202</td>\n",
              "      <td>Vishwa</td>\n",
              "    </tr>\n",
              "    <tr>\n",
              "      <th>4</th>\n",
              "      <td>105.0</td>\n",
              "      <td>Sam</td>\n",
              "      <td>11000.0</td>\n",
              "      <td>106</td>\n",
              "      <td>202</td>\n",
              "      <td>Vishwa</td>\n",
              "    </tr>\n",
              "    <tr>\n",
              "      <th>5</th>\n",
              "      <td>NaN</td>\n",
              "      <td>NaN</td>\n",
              "      <td>NaN</td>\n",
              "      <td>107</td>\n",
              "      <td>204</td>\n",
              "      <td>Guru</td>\n",
              "    </tr>\n",
              "  </tbody>\n",
              "</table>\n",
              "</div>"
            ],
            "text/plain": [
              "   Emp No Emp Name   Salary  Emp No  Team id Team Leader\n",
              "0   101.0      Jai  14000.0     101      201       Vivek\n",
              "1   102.0   Kannan  10000.0     102      203      Gaurav\n",
              "2   103.0    Raman   7000.0     104      201       Vivek\n",
              "3   104.0   Suresh   9000.0     105      202      Vishwa\n",
              "4   105.0      Sam  11000.0     106      202      Vishwa\n",
              "5     NaN      NaN      NaN     107      204        Guru"
            ]
          },
          "metadata": {
            "tags": []
          },
          "execution_count": 69
        }
      ]
    },
    {
      "cell_type": "markdown",
      "metadata": {
        "id": "qPmffYe1VErd"
      },
      "source": [
        "---\n",
        "# 5.Types of Indexing in DataFrame\n",
        "\n",
        "\n",
        "> Selecting values from particular rows and columns in a dataframe is known as Indexing. By using Indexing, we can select all rows and some columns or some rows and all columns. \n",
        "\n",
        "> Indexing in DataFrame can be done in 3 ways:\n",
        "\n",
        "*   Column Name\n",
        "*   loc()\n",
        "*   iloc()\n"
      ]
    },
    {
      "cell_type": "code",
      "metadata": {
        "colab": {
          "base_uri": "https://localhost:8080/",
          "height": 206
        },
        "id": "68VYowlbUhrA",
        "outputId": "05197e74-1ac4-4139-d831-2b71bb2201a5"
      },
      "source": [
        "import pandas as pd \n",
        "\n",
        "data = {'Emp No':[101,102,103,104,105],\n",
        "        'Emp Name':['Jai','Kannan','Raman','Suresh','Sam'],\n",
        "        'Salary':[14000,10000,7000,9000,11000]}                \n",
        "\n",
        "df = pd.DataFrame(data)\n",
        "df"
      ],
      "execution_count": null,
      "outputs": [
        {
          "output_type": "execute_result",
          "data": {
            "text/html": [
              "<div>\n",
              "<style scoped>\n",
              "    .dataframe tbody tr th:only-of-type {\n",
              "        vertical-align: middle;\n",
              "    }\n",
              "\n",
              "    .dataframe tbody tr th {\n",
              "        vertical-align: top;\n",
              "    }\n",
              "\n",
              "    .dataframe thead th {\n",
              "        text-align: right;\n",
              "    }\n",
              "</style>\n",
              "<table border=\"1\" class=\"dataframe\">\n",
              "  <thead>\n",
              "    <tr style=\"text-align: right;\">\n",
              "      <th></th>\n",
              "      <th>Emp No</th>\n",
              "      <th>Emp Name</th>\n",
              "      <th>Salary</th>\n",
              "    </tr>\n",
              "  </thead>\n",
              "  <tbody>\n",
              "    <tr>\n",
              "      <th>0</th>\n",
              "      <td>101</td>\n",
              "      <td>Jai</td>\n",
              "      <td>14000</td>\n",
              "    </tr>\n",
              "    <tr>\n",
              "      <th>1</th>\n",
              "      <td>102</td>\n",
              "      <td>Kannan</td>\n",
              "      <td>10000</td>\n",
              "    </tr>\n",
              "    <tr>\n",
              "      <th>2</th>\n",
              "      <td>103</td>\n",
              "      <td>Raman</td>\n",
              "      <td>7000</td>\n",
              "    </tr>\n",
              "    <tr>\n",
              "      <th>3</th>\n",
              "      <td>104</td>\n",
              "      <td>Suresh</td>\n",
              "      <td>9000</td>\n",
              "    </tr>\n",
              "    <tr>\n",
              "      <th>4</th>\n",
              "      <td>105</td>\n",
              "      <td>Sam</td>\n",
              "      <td>11000</td>\n",
              "    </tr>\n",
              "  </tbody>\n",
              "</table>\n",
              "</div>"
            ],
            "text/plain": [
              "   Emp No Emp Name  Salary\n",
              "0     101      Jai   14000\n",
              "1     102   Kannan   10000\n",
              "2     103    Raman    7000\n",
              "3     104   Suresh    9000\n",
              "4     105      Sam   11000"
            ]
          },
          "metadata": {
            "tags": []
          },
          "execution_count": 70
        }
      ]
    },
    {
      "cell_type": "markdown",
      "metadata": {
        "id": "1iiQkrvvXBFY"
      },
      "source": [
        "## 5.1 Indexing using column name\n",
        "\n",
        "\n",
        "> Giving column name in the index part will return only datas from given column.For indexing more than one column, column name can be passed as list.\n",
        "\n"
      ]
    },
    {
      "cell_type": "code",
      "metadata": {
        "colab": {
          "base_uri": "https://localhost:8080/"
        },
        "id": "BVg8xGmbXAZ_",
        "outputId": "b7484e02-bbea-4450-e712-692d4924fe42"
      },
      "source": [
        "df['Emp No']"
      ],
      "execution_count": null,
      "outputs": [
        {
          "output_type": "execute_result",
          "data": {
            "text/plain": [
              "0    101\n",
              "1    102\n",
              "2    103\n",
              "3    104\n",
              "4    105\n",
              "Name: Emp No, dtype: int64"
            ]
          },
          "metadata": {
            "tags": []
          },
          "execution_count": 71
        }
      ]
    },
    {
      "cell_type": "code",
      "metadata": {
        "colab": {
          "base_uri": "https://localhost:8080/",
          "height": 206
        },
        "id": "gMEZUhkvXJLu",
        "outputId": "551ec198-2954-41dd-8e51-383d8e7213f1"
      },
      "source": [
        "df[['Emp No','Salary']]"
      ],
      "execution_count": null,
      "outputs": [
        {
          "output_type": "execute_result",
          "data": {
            "text/html": [
              "<div>\n",
              "<style scoped>\n",
              "    .dataframe tbody tr th:only-of-type {\n",
              "        vertical-align: middle;\n",
              "    }\n",
              "\n",
              "    .dataframe tbody tr th {\n",
              "        vertical-align: top;\n",
              "    }\n",
              "\n",
              "    .dataframe thead th {\n",
              "        text-align: right;\n",
              "    }\n",
              "</style>\n",
              "<table border=\"1\" class=\"dataframe\">\n",
              "  <thead>\n",
              "    <tr style=\"text-align: right;\">\n",
              "      <th></th>\n",
              "      <th>Emp No</th>\n",
              "      <th>Salary</th>\n",
              "    </tr>\n",
              "  </thead>\n",
              "  <tbody>\n",
              "    <tr>\n",
              "      <th>0</th>\n",
              "      <td>101</td>\n",
              "      <td>14000</td>\n",
              "    </tr>\n",
              "    <tr>\n",
              "      <th>1</th>\n",
              "      <td>102</td>\n",
              "      <td>10000</td>\n",
              "    </tr>\n",
              "    <tr>\n",
              "      <th>2</th>\n",
              "      <td>103</td>\n",
              "      <td>7000</td>\n",
              "    </tr>\n",
              "    <tr>\n",
              "      <th>3</th>\n",
              "      <td>104</td>\n",
              "      <td>9000</td>\n",
              "    </tr>\n",
              "    <tr>\n",
              "      <th>4</th>\n",
              "      <td>105</td>\n",
              "      <td>11000</td>\n",
              "    </tr>\n",
              "  </tbody>\n",
              "</table>\n",
              "</div>"
            ],
            "text/plain": [
              "   Emp No  Salary\n",
              "0     101   14000\n",
              "1     102   10000\n",
              "2     103    7000\n",
              "3     104    9000\n",
              "4     105   11000"
            ]
          },
          "metadata": {
            "tags": []
          },
          "execution_count": 72
        }
      ]
    },
    {
      "cell_type": "markdown",
      "metadata": {
        "id": "vm8BVX7HXxq0"
      },
      "source": [
        "## 5.2 loc method\n",
        "\n",
        "> Using loc() we can index row, column or both with the Label (column/row name)\n"
      ]
    },
    {
      "cell_type": "code",
      "metadata": {
        "colab": {
          "base_uri": "https://localhost:8080/",
          "height": 143
        },
        "id": "hCLtTKo3ZNGj",
        "outputId": "9dc11946-d9e7-4fd4-e25f-e2a8b273eb8f"
      },
      "source": [
        "df.loc[[0,1,2],['Emp No','Salary']]"
      ],
      "execution_count": null,
      "outputs": [
        {
          "output_type": "execute_result",
          "data": {
            "text/html": [
              "<div>\n",
              "<style scoped>\n",
              "    .dataframe tbody tr th:only-of-type {\n",
              "        vertical-align: middle;\n",
              "    }\n",
              "\n",
              "    .dataframe tbody tr th {\n",
              "        vertical-align: top;\n",
              "    }\n",
              "\n",
              "    .dataframe thead th {\n",
              "        text-align: right;\n",
              "    }\n",
              "</style>\n",
              "<table border=\"1\" class=\"dataframe\">\n",
              "  <thead>\n",
              "    <tr style=\"text-align: right;\">\n",
              "      <th></th>\n",
              "      <th>Emp No</th>\n",
              "      <th>Salary</th>\n",
              "    </tr>\n",
              "  </thead>\n",
              "  <tbody>\n",
              "    <tr>\n",
              "      <th>0</th>\n",
              "      <td>101</td>\n",
              "      <td>14000</td>\n",
              "    </tr>\n",
              "    <tr>\n",
              "      <th>1</th>\n",
              "      <td>102</td>\n",
              "      <td>10000</td>\n",
              "    </tr>\n",
              "    <tr>\n",
              "      <th>2</th>\n",
              "      <td>103</td>\n",
              "      <td>7000</td>\n",
              "    </tr>\n",
              "  </tbody>\n",
              "</table>\n",
              "</div>"
            ],
            "text/plain": [
              "   Emp No  Salary\n",
              "0     101   14000\n",
              "1     102   10000\n",
              "2     103    7000"
            ]
          },
          "metadata": {
            "tags": []
          },
          "execution_count": 73
        }
      ]
    },
    {
      "cell_type": "markdown",
      "metadata": {
        "id": "s8cgyoUSZ_fj"
      },
      "source": [
        "## 5.3 iloc method\n",
        "\n",
        "> iloc is similar to loc method but in iloc we use integers to index\n",
        "\n"
      ]
    },
    {
      "cell_type": "code",
      "metadata": {
        "colab": {
          "base_uri": "https://localhost:8080/",
          "height": 143
        },
        "id": "Fp3W-Em5aUTo",
        "outputId": "315ed4cb-de3a-481a-edad-6e0c01f451e9"
      },
      "source": [
        "df.iloc[:3,1:3]"
      ],
      "execution_count": null,
      "outputs": [
        {
          "output_type": "execute_result",
          "data": {
            "text/html": [
              "<div>\n",
              "<style scoped>\n",
              "    .dataframe tbody tr th:only-of-type {\n",
              "        vertical-align: middle;\n",
              "    }\n",
              "\n",
              "    .dataframe tbody tr th {\n",
              "        vertical-align: top;\n",
              "    }\n",
              "\n",
              "    .dataframe thead th {\n",
              "        text-align: right;\n",
              "    }\n",
              "</style>\n",
              "<table border=\"1\" class=\"dataframe\">\n",
              "  <thead>\n",
              "    <tr style=\"text-align: right;\">\n",
              "      <th></th>\n",
              "      <th>Emp Name</th>\n",
              "      <th>Salary</th>\n",
              "    </tr>\n",
              "  </thead>\n",
              "  <tbody>\n",
              "    <tr>\n",
              "      <th>0</th>\n",
              "      <td>Jai</td>\n",
              "      <td>14000</td>\n",
              "    </tr>\n",
              "    <tr>\n",
              "      <th>1</th>\n",
              "      <td>Kannan</td>\n",
              "      <td>10000</td>\n",
              "    </tr>\n",
              "    <tr>\n",
              "      <th>2</th>\n",
              "      <td>Raman</td>\n",
              "      <td>7000</td>\n",
              "    </tr>\n",
              "  </tbody>\n",
              "</table>\n",
              "</div>"
            ],
            "text/plain": [
              "  Emp Name  Salary\n",
              "0      Jai   14000\n",
              "1   Kannan   10000\n",
              "2    Raman    7000"
            ]
          },
          "metadata": {
            "tags": []
          },
          "execution_count": 74
        }
      ]
    },
    {
      "cell_type": "markdown",
      "metadata": {
        "id": "sIaaTconatbo"
      },
      "source": [
        "---\n",
        "# 6. Aggregation functions in dataframe\n",
        "\n",
        "> Pandas provides some aggregate functions to do some operations on grouped dataframe.\n",
        "\n",
        "> Some commonly used aggregation functions are\n",
        "\n",
        "*   **count()** - returns total number of items in dataframe\n",
        "*   **sum()** - returns sum of all items\n",
        "*   **mean()** - returns mean of all items\n",
        "*   **min()** - returns minimum\n",
        "*   **max()** - returns maximum\n"
      ]
    },
    {
      "cell_type": "code",
      "metadata": {
        "colab": {
          "base_uri": "https://localhost:8080/",
          "height": 206
        },
        "id": "_iNECH0hnbIl",
        "outputId": "f7eb7a94-91d1-492a-a431-227bd5a19462"
      },
      "source": [
        "import pandas as pd \n",
        "\n",
        "df_path = 'https://raw.githubusercontent.com/naveen63hdh/Data-Analytics/main/bounty.csv'\n",
        "\n",
        "df = pd.read_csv(df_path)\n",
        "df.head()"
      ],
      "execution_count": null,
      "outputs": [
        {
          "output_type": "execute_result",
          "data": {
            "text/html": [
              "<div>\n",
              "<style scoped>\n",
              "    .dataframe tbody tr th:only-of-type {\n",
              "        vertical-align: middle;\n",
              "    }\n",
              "\n",
              "    .dataframe tbody tr th {\n",
              "        vertical-align: top;\n",
              "    }\n",
              "\n",
              "    .dataframe thead th {\n",
              "        text-align: right;\n",
              "    }\n",
              "</style>\n",
              "<table border=\"1\" class=\"dataframe\">\n",
              "  <thead>\n",
              "    <tr style=\"text-align: right;\">\n",
              "      <th></th>\n",
              "      <th>Character</th>\n",
              "      <th>Bounty</th>\n",
              "      <th>Status</th>\n",
              "    </tr>\n",
              "  </thead>\n",
              "  <tbody>\n",
              "    <tr>\n",
              "      <th>0</th>\n",
              "      <td>Albion</td>\n",
              "      <td>92000000.0</td>\n",
              "      <td>NaN</td>\n",
              "    </tr>\n",
              "    <tr>\n",
              "      <th>1</th>\n",
              "      <td>Alvida</td>\n",
              "      <td>5000000.0</td>\n",
              "      <td>Retracted</td>\n",
              "    </tr>\n",
              "    <tr>\n",
              "      <th>2</th>\n",
              "      <td>Arlong</td>\n",
              "      <td>20000000.0</td>\n",
              "      <td>Retracted</td>\n",
              "    </tr>\n",
              "    <tr>\n",
              "      <th>3</th>\n",
              "      <td>Avalo Pizarro</td>\n",
              "      <td>NaN</td>\n",
              "      <td>Unknown value</td>\n",
              "    </tr>\n",
              "    <tr>\n",
              "      <th>4</th>\n",
              "      <td>Babe</td>\n",
              "      <td>3200000.0</td>\n",
              "      <td>NaN</td>\n",
              "    </tr>\n",
              "  </tbody>\n",
              "</table>\n",
              "</div>"
            ],
            "text/plain": [
              "       Character      Bounty         Status\n",
              "0         Albion  92000000.0            NaN\n",
              "1         Alvida   5000000.0      Retracted\n",
              "2         Arlong  20000000.0      Retracted\n",
              "3  Avalo Pizarro         NaN  Unknown value\n",
              "4           Babe   3200000.0            NaN"
            ]
          },
          "metadata": {
            "tags": []
          },
          "execution_count": 75
        }
      ]
    },
    {
      "cell_type": "markdown",
      "metadata": {
        "id": "o3oukmmnngYX"
      },
      "source": [
        "## 6.1 count() - returns total number of items in dataframe"
      ]
    },
    {
      "cell_type": "code",
      "metadata": {
        "colab": {
          "base_uri": "https://localhost:8080/",
          "height": 269
        },
        "id": "pjvpRBeSoqz6",
        "outputId": "ab2991dd-4648-4787-80f5-2c5c5ff75809"
      },
      "source": [
        "df.groupby('Status').count()"
      ],
      "execution_count": null,
      "outputs": [
        {
          "output_type": "execute_result",
          "data": {
            "text/html": [
              "<div>\n",
              "<style scoped>\n",
              "    .dataframe tbody tr th:only-of-type {\n",
              "        vertical-align: middle;\n",
              "    }\n",
              "\n",
              "    .dataframe tbody tr th {\n",
              "        vertical-align: top;\n",
              "    }\n",
              "\n",
              "    .dataframe thead th {\n",
              "        text-align: right;\n",
              "    }\n",
              "</style>\n",
              "<table border=\"1\" class=\"dataframe\">\n",
              "  <thead>\n",
              "    <tr style=\"text-align: right;\">\n",
              "      <th></th>\n",
              "      <th>Character</th>\n",
              "      <th>Bounty</th>\n",
              "    </tr>\n",
              "    <tr>\n",
              "      <th>Status</th>\n",
              "      <th></th>\n",
              "      <th></th>\n",
              "    </tr>\n",
              "  </thead>\n",
              "  <tbody>\n",
              "    <tr>\n",
              "      <th>As Nyaban Brothers</th>\n",
              "      <td>2</td>\n",
              "      <td>2</td>\n",
              "    </tr>\n",
              "    <tr>\n",
              "      <th>Over</th>\n",
              "      <td>4</td>\n",
              "      <td>4</td>\n",
              "    </tr>\n",
              "    <tr>\n",
              "      <th>Retracted</th>\n",
              "      <td>22</td>\n",
              "      <td>22</td>\n",
              "    </tr>\n",
              "    <tr>\n",
              "      <th>Unknown value</th>\n",
              "      <td>18</td>\n",
              "      <td>0</td>\n",
              "    </tr>\n",
              "    <tr>\n",
              "      <th>Wanted by Coast Guard</th>\n",
              "      <td>1</td>\n",
              "      <td>1</td>\n",
              "    </tr>\n",
              "    <tr>\n",
              "      <th>¥</th>\n",
              "      <td>1</td>\n",
              "      <td>1</td>\n",
              "    </tr>\n",
              "  </tbody>\n",
              "</table>\n",
              "</div>"
            ],
            "text/plain": [
              "                       Character  Bounty\n",
              "Status                                  \n",
              "As Nyaban Brothers             2       2\n",
              "Over                           4       4\n",
              "Retracted                     22      22\n",
              "Unknown value                 18       0\n",
              "Wanted by Coast Guard          1       1\n",
              "¥                              1       1"
            ]
          },
          "metadata": {
            "tags": []
          },
          "execution_count": 76
        }
      ]
    },
    {
      "cell_type": "markdown",
      "metadata": {
        "id": "3OGdowpGnyZ4"
      },
      "source": [
        "## 6.2 sum() - returns sum of all items"
      ]
    },
    {
      "cell_type": "code",
      "metadata": {
        "colab": {
          "base_uri": "https://localhost:8080/",
          "height": 269
        },
        "id": "_gakOxBPwiB3",
        "outputId": "b20e1ebd-67a1-490e-ae03-8d4b892fdfd0"
      },
      "source": [
        "df.groupby('Status').sum()"
      ],
      "execution_count": null,
      "outputs": [
        {
          "output_type": "execute_result",
          "data": {
            "text/html": [
              "<div>\n",
              "<style scoped>\n",
              "    .dataframe tbody tr th:only-of-type {\n",
              "        vertical-align: middle;\n",
              "    }\n",
              "\n",
              "    .dataframe tbody tr th {\n",
              "        vertical-align: top;\n",
              "    }\n",
              "\n",
              "    .dataframe thead th {\n",
              "        text-align: right;\n",
              "    }\n",
              "</style>\n",
              "<table border=\"1\" class=\"dataframe\">\n",
              "  <thead>\n",
              "    <tr style=\"text-align: right;\">\n",
              "      <th></th>\n",
              "      <th>Bounty</th>\n",
              "    </tr>\n",
              "    <tr>\n",
              "      <th>Status</th>\n",
              "      <th></th>\n",
              "    </tr>\n",
              "  </thead>\n",
              "  <tbody>\n",
              "    <tr>\n",
              "      <th>As Nyaban Brothers</th>\n",
              "      <td>1.400000e+07</td>\n",
              "    </tr>\n",
              "    <tr>\n",
              "      <th>Over</th>\n",
              "      <td>1.982000e+08</td>\n",
              "    </tr>\n",
              "    <tr>\n",
              "      <th>Retracted</th>\n",
              "      <td>1.259286e+10</td>\n",
              "    </tr>\n",
              "    <tr>\n",
              "      <th>Unknown value</th>\n",
              "      <td>0.000000e+00</td>\n",
              "    </tr>\n",
              "    <tr>\n",
              "      <th>Wanted by Coast Guard</th>\n",
              "      <td>7.800000e+06</td>\n",
              "    </tr>\n",
              "    <tr>\n",
              "      <th>¥</th>\n",
              "      <td>1.000000e+06</td>\n",
              "    </tr>\n",
              "  </tbody>\n",
              "</table>\n",
              "</div>"
            ],
            "text/plain": [
              "                             Bounty\n",
              "Status                             \n",
              "As Nyaban Brothers     1.400000e+07\n",
              "Over                   1.982000e+08\n",
              "Retracted              1.259286e+10\n",
              "Unknown value          0.000000e+00\n",
              "Wanted by Coast Guard  7.800000e+06\n",
              "¥                      1.000000e+06"
            ]
          },
          "metadata": {
            "tags": []
          },
          "execution_count": 77
        }
      ]
    },
    {
      "cell_type": "markdown",
      "metadata": {
        "id": "M8yokhG6n3PK"
      },
      "source": [
        "## 6.3 mean() - returns mean of all items"
      ]
    },
    {
      "cell_type": "code",
      "metadata": {
        "colab": {
          "base_uri": "https://localhost:8080/",
          "height": 269
        },
        "id": "8sqqdr_vwlik",
        "outputId": "1f63cabc-ab2f-42e4-e4e7-86d6deba9ada"
      },
      "source": [
        "df.groupby('Status').mean()"
      ],
      "execution_count": null,
      "outputs": [
        {
          "output_type": "execute_result",
          "data": {
            "text/html": [
              "<div>\n",
              "<style scoped>\n",
              "    .dataframe tbody tr th:only-of-type {\n",
              "        vertical-align: middle;\n",
              "    }\n",
              "\n",
              "    .dataframe tbody tr th {\n",
              "        vertical-align: top;\n",
              "    }\n",
              "\n",
              "    .dataframe thead th {\n",
              "        text-align: right;\n",
              "    }\n",
              "</style>\n",
              "<table border=\"1\" class=\"dataframe\">\n",
              "  <thead>\n",
              "    <tr style=\"text-align: right;\">\n",
              "      <th></th>\n",
              "      <th>Bounty</th>\n",
              "    </tr>\n",
              "    <tr>\n",
              "      <th>Status</th>\n",
              "      <th></th>\n",
              "    </tr>\n",
              "  </thead>\n",
              "  <tbody>\n",
              "    <tr>\n",
              "      <th>As Nyaban Brothers</th>\n",
              "      <td>7.000000e+06</td>\n",
              "    </tr>\n",
              "    <tr>\n",
              "      <th>Over</th>\n",
              "      <td>4.955000e+07</td>\n",
              "    </tr>\n",
              "    <tr>\n",
              "      <th>Retracted</th>\n",
              "      <td>5.724027e+08</td>\n",
              "    </tr>\n",
              "    <tr>\n",
              "      <th>Unknown value</th>\n",
              "      <td>NaN</td>\n",
              "    </tr>\n",
              "    <tr>\n",
              "      <th>Wanted by Coast Guard</th>\n",
              "      <td>7.800000e+06</td>\n",
              "    </tr>\n",
              "    <tr>\n",
              "      <th>¥</th>\n",
              "      <td>1.000000e+06</td>\n",
              "    </tr>\n",
              "  </tbody>\n",
              "</table>\n",
              "</div>"
            ],
            "text/plain": [
              "                             Bounty\n",
              "Status                             \n",
              "As Nyaban Brothers     7.000000e+06\n",
              "Over                   4.955000e+07\n",
              "Retracted              5.724027e+08\n",
              "Unknown value                   NaN\n",
              "Wanted by Coast Guard  7.800000e+06\n",
              "¥                      1.000000e+06"
            ]
          },
          "metadata": {
            "tags": []
          },
          "execution_count": 78
        }
      ]
    },
    {
      "cell_type": "markdown",
      "metadata": {
        "id": "VLSK0Fwyn5yS"
      },
      "source": [
        "## 6.4 min() - returns minimum\n",
        "\n"
      ]
    },
    {
      "cell_type": "code",
      "metadata": {
        "colab": {
          "base_uri": "https://localhost:8080/",
          "height": 269
        },
        "id": "1YmuitgDwqzX",
        "outputId": "f26e1a1c-d0a0-4a94-f55d-64db8f6c4fef"
      },
      "source": [
        "df.groupby('Status').min()"
      ],
      "execution_count": null,
      "outputs": [
        {
          "output_type": "execute_result",
          "data": {
            "text/html": [
              "<div>\n",
              "<style scoped>\n",
              "    .dataframe tbody tr th:only-of-type {\n",
              "        vertical-align: middle;\n",
              "    }\n",
              "\n",
              "    .dataframe tbody tr th {\n",
              "        vertical-align: top;\n",
              "    }\n",
              "\n",
              "    .dataframe thead th {\n",
              "        text-align: right;\n",
              "    }\n",
              "</style>\n",
              "<table border=\"1\" class=\"dataframe\">\n",
              "  <thead>\n",
              "    <tr style=\"text-align: right;\">\n",
              "      <th></th>\n",
              "      <th>Character</th>\n",
              "      <th>Bounty</th>\n",
              "    </tr>\n",
              "    <tr>\n",
              "      <th>Status</th>\n",
              "      <th></th>\n",
              "      <th></th>\n",
              "    </tr>\n",
              "  </thead>\n",
              "  <tbody>\n",
              "    <tr>\n",
              "      <th>As Nyaban Brothers</th>\n",
              "      <td>Buchi</td>\n",
              "      <td>7000000.0</td>\n",
              "    </tr>\n",
              "    <tr>\n",
              "      <th>Over</th>\n",
              "      <td>Doc Q</td>\n",
              "      <td>20000000.0</td>\n",
              "    </tr>\n",
              "    <tr>\n",
              "      <th>Retracted</th>\n",
              "      <td>(pirate defeated by Smoker in chapter 439)</td>\n",
              "      <td>5000000.0</td>\n",
              "    </tr>\n",
              "    <tr>\n",
              "      <th>Unknown value</th>\n",
              "      <td>Avalo Pizarro</td>\n",
              "      <td>NaN</td>\n",
              "    </tr>\n",
              "    <tr>\n",
              "      <th>Wanted by Coast Guard</th>\n",
              "      <td>Curly Dadan</td>\n",
              "      <td>7800000.0</td>\n",
              "    </tr>\n",
              "    <tr>\n",
              "      <th>¥</th>\n",
              "      <td>Mikio Itoo</td>\n",
              "      <td>1000000.0</td>\n",
              "    </tr>\n",
              "  </tbody>\n",
              "</table>\n",
              "</div>"
            ],
            "text/plain": [
              "                                                        Character      Bounty\n",
              "Status                                                                       \n",
              "As Nyaban Brothers                                          Buchi   7000000.0\n",
              "Over                                                        Doc Q  20000000.0\n",
              "Retracted              (pirate defeated by Smoker in chapter 439)   5000000.0\n",
              "Unknown value                                       Avalo Pizarro         NaN\n",
              "Wanted by Coast Guard                                 Curly Dadan   7800000.0\n",
              "¥                                                      Mikio Itoo   1000000.0"
            ]
          },
          "metadata": {
            "tags": []
          },
          "execution_count": 79
        }
      ]
    },
    {
      "cell_type": "markdown",
      "metadata": {
        "id": "xkGzvG41n7zY"
      },
      "source": [
        "## 6.5 max() - returns maximum"
      ]
    },
    {
      "cell_type": "code",
      "metadata": {
        "colab": {
          "base_uri": "https://localhost:8080/",
          "height": 269
        },
        "id": "3YFh0AonwurL",
        "outputId": "78d70737-a1cb-4a1e-aabe-c14fd3d79662"
      },
      "source": [
        "df.groupby('Status').max()"
      ],
      "execution_count": null,
      "outputs": [
        {
          "output_type": "execute_result",
          "data": {
            "text/html": [
              "<div>\n",
              "<style scoped>\n",
              "    .dataframe tbody tr th:only-of-type {\n",
              "        vertical-align: middle;\n",
              "    }\n",
              "\n",
              "    .dataframe tbody tr th {\n",
              "        vertical-align: top;\n",
              "    }\n",
              "\n",
              "    .dataframe thead th {\n",
              "        text-align: right;\n",
              "    }\n",
              "</style>\n",
              "<table border=\"1\" class=\"dataframe\">\n",
              "  <thead>\n",
              "    <tr style=\"text-align: right;\">\n",
              "      <th></th>\n",
              "      <th>Character</th>\n",
              "      <th>Bounty</th>\n",
              "    </tr>\n",
              "    <tr>\n",
              "      <th>Status</th>\n",
              "      <th></th>\n",
              "      <th></th>\n",
              "    </tr>\n",
              "  </thead>\n",
              "  <tbody>\n",
              "    <tr>\n",
              "      <th>As Nyaban Brothers</th>\n",
              "      <td>Sham</td>\n",
              "      <td>7.000000e+06</td>\n",
              "    </tr>\n",
              "    <tr>\n",
              "      <th>Over</th>\n",
              "      <td>Van Augur</td>\n",
              "      <td>7.200000e+07</td>\n",
              "    </tr>\n",
              "    <tr>\n",
              "      <th>Retracted</th>\n",
              "      <td>Trebol</td>\n",
              "      <td>5.564800e+09</td>\n",
              "    </tr>\n",
              "    <tr>\n",
              "      <th>Unknown value</th>\n",
              "      <td>Yorki</td>\n",
              "      <td>NaN</td>\n",
              "    </tr>\n",
              "    <tr>\n",
              "      <th>Wanted by Coast Guard</th>\n",
              "      <td>Curly Dadan</td>\n",
              "      <td>7.800000e+06</td>\n",
              "    </tr>\n",
              "    <tr>\n",
              "      <th>¥</th>\n",
              "      <td>Mikio Itoo</td>\n",
              "      <td>1.000000e+06</td>\n",
              "    </tr>\n",
              "  </tbody>\n",
              "</table>\n",
              "</div>"
            ],
            "text/plain": [
              "                         Character        Bounty\n",
              "Status                                          \n",
              "As Nyaban Brothers            Sham  7.000000e+06\n",
              "Over                     Van Augur  7.200000e+07\n",
              "Retracted                   Trebol  5.564800e+09\n",
              "Unknown value                Yorki           NaN\n",
              "Wanted by Coast Guard  Curly Dadan  7.800000e+06\n",
              "¥                       Mikio Itoo  1.000000e+06"
            ]
          },
          "metadata": {
            "tags": []
          },
          "execution_count": 80
        }
      ]
    },
    {
      "cell_type": "markdown",
      "metadata": {
        "id": "fybe7x2uxR8y"
      },
      "source": [
        "\n",
        "\n",
        "---\n",
        "\n",
        "\n",
        "# 7 Appending rows and columns to dataframe\n",
        "\n",
        "\n",
        "> In Pandas appending rows and columns to a dataframe can be done in many number of ways some of them are:\n",
        "\n",
        "*   By using append()\n",
        "*   By appending rows using loc[] method.\n",
        "*   By appending colums using lists.\n"
      ]
    },
    {
      "cell_type": "code",
      "metadata": {
        "id": "Rdd8uqLGMS10"
      },
      "source": [
        "import pandas as pd"
      ],
      "execution_count": null,
      "outputs": []
    },
    {
      "cell_type": "markdown",
      "metadata": {
        "id": "x2eKbHcwMXr9"
      },
      "source": [
        "## 7.1 By using append()\n",
        "\n",
        "> By using append() we can append both rows and columns from one dataframe to another. The 3 types of appending using append() are:\n",
        "\n",
        "\n",
        "*   With same index as dataframes\n",
        "*   By ignoring index\n",
        "*   With Different Shapes\n",
        "\n"
      ]
    },
    {
      "cell_type": "code",
      "metadata": {
        "colab": {
          "base_uri": "https://localhost:8080/",
          "height": 206
        },
        "id": "-d7qX3LkSAu-",
        "outputId": "1afe14f5-459a-4d52-c4fc-d8fe465fa1b9"
      },
      "source": [
        "data1 = {'Emp No':[101,102,103,104,105],\n",
        "        'Emp Name':['Jai','Kannan','Raman','Suresh','Sam'],\n",
        "        'Salary':[14000,10000,7000,9000,11000]}                \n",
        "\n",
        "df1 = pd.DataFrame(data1)\n",
        "df1"
      ],
      "execution_count": null,
      "outputs": [
        {
          "output_type": "execute_result",
          "data": {
            "text/html": [
              "<div>\n",
              "<style scoped>\n",
              "    .dataframe tbody tr th:only-of-type {\n",
              "        vertical-align: middle;\n",
              "    }\n",
              "\n",
              "    .dataframe tbody tr th {\n",
              "        vertical-align: top;\n",
              "    }\n",
              "\n",
              "    .dataframe thead th {\n",
              "        text-align: right;\n",
              "    }\n",
              "</style>\n",
              "<table border=\"1\" class=\"dataframe\">\n",
              "  <thead>\n",
              "    <tr style=\"text-align: right;\">\n",
              "      <th></th>\n",
              "      <th>Emp No</th>\n",
              "      <th>Emp Name</th>\n",
              "      <th>Salary</th>\n",
              "    </tr>\n",
              "  </thead>\n",
              "  <tbody>\n",
              "    <tr>\n",
              "      <th>0</th>\n",
              "      <td>101</td>\n",
              "      <td>Jai</td>\n",
              "      <td>14000</td>\n",
              "    </tr>\n",
              "    <tr>\n",
              "      <th>1</th>\n",
              "      <td>102</td>\n",
              "      <td>Kannan</td>\n",
              "      <td>10000</td>\n",
              "    </tr>\n",
              "    <tr>\n",
              "      <th>2</th>\n",
              "      <td>103</td>\n",
              "      <td>Raman</td>\n",
              "      <td>7000</td>\n",
              "    </tr>\n",
              "    <tr>\n",
              "      <th>3</th>\n",
              "      <td>104</td>\n",
              "      <td>Suresh</td>\n",
              "      <td>9000</td>\n",
              "    </tr>\n",
              "    <tr>\n",
              "      <th>4</th>\n",
              "      <td>105</td>\n",
              "      <td>Sam</td>\n",
              "      <td>11000</td>\n",
              "    </tr>\n",
              "  </tbody>\n",
              "</table>\n",
              "</div>"
            ],
            "text/plain": [
              "   Emp No Emp Name  Salary\n",
              "0     101      Jai   14000\n",
              "1     102   Kannan   10000\n",
              "2     103    Raman    7000\n",
              "3     104   Suresh    9000\n",
              "4     105      Sam   11000"
            ]
          },
          "metadata": {
            "tags": []
          },
          "execution_count": 82
        }
      ]
    },
    {
      "cell_type": "markdown",
      "metadata": {
        "id": "AVdAN03KSH43"
      },
      "source": [
        "### 7.1.1 With same index as dataframes"
      ]
    },
    {
      "cell_type": "code",
      "metadata": {
        "colab": {
          "base_uri": "https://localhost:8080/",
          "height": 332
        },
        "id": "z6fACOFKTC_1",
        "outputId": "907c2d12-1d7a-4758-cac9-37e7095c3d1a"
      },
      "source": [
        "data2 = {\n",
        "        'Emp No':[201,202,203,204],\n",
        "        'Emp Name':['Vivek','Gaurav','Vishwa','Guru'],\n",
        "        'Salary':[10000,13000,15000,12000]\n",
        "         }\n",
        "\n",
        "df2 = pd.DataFrame(data2)\n",
        "df1.append(df2)"
      ],
      "execution_count": null,
      "outputs": [
        {
          "output_type": "execute_result",
          "data": {
            "text/html": [
              "<div>\n",
              "<style scoped>\n",
              "    .dataframe tbody tr th:only-of-type {\n",
              "        vertical-align: middle;\n",
              "    }\n",
              "\n",
              "    .dataframe tbody tr th {\n",
              "        vertical-align: top;\n",
              "    }\n",
              "\n",
              "    .dataframe thead th {\n",
              "        text-align: right;\n",
              "    }\n",
              "</style>\n",
              "<table border=\"1\" class=\"dataframe\">\n",
              "  <thead>\n",
              "    <tr style=\"text-align: right;\">\n",
              "      <th></th>\n",
              "      <th>Emp No</th>\n",
              "      <th>Emp Name</th>\n",
              "      <th>Salary</th>\n",
              "    </tr>\n",
              "  </thead>\n",
              "  <tbody>\n",
              "    <tr>\n",
              "      <th>0</th>\n",
              "      <td>101</td>\n",
              "      <td>Jai</td>\n",
              "      <td>14000</td>\n",
              "    </tr>\n",
              "    <tr>\n",
              "      <th>1</th>\n",
              "      <td>102</td>\n",
              "      <td>Kannan</td>\n",
              "      <td>10000</td>\n",
              "    </tr>\n",
              "    <tr>\n",
              "      <th>2</th>\n",
              "      <td>103</td>\n",
              "      <td>Raman</td>\n",
              "      <td>7000</td>\n",
              "    </tr>\n",
              "    <tr>\n",
              "      <th>3</th>\n",
              "      <td>104</td>\n",
              "      <td>Suresh</td>\n",
              "      <td>9000</td>\n",
              "    </tr>\n",
              "    <tr>\n",
              "      <th>4</th>\n",
              "      <td>105</td>\n",
              "      <td>Sam</td>\n",
              "      <td>11000</td>\n",
              "    </tr>\n",
              "    <tr>\n",
              "      <th>0</th>\n",
              "      <td>201</td>\n",
              "      <td>Vivek</td>\n",
              "      <td>10000</td>\n",
              "    </tr>\n",
              "    <tr>\n",
              "      <th>1</th>\n",
              "      <td>202</td>\n",
              "      <td>Gaurav</td>\n",
              "      <td>13000</td>\n",
              "    </tr>\n",
              "    <tr>\n",
              "      <th>2</th>\n",
              "      <td>203</td>\n",
              "      <td>Vishwa</td>\n",
              "      <td>15000</td>\n",
              "    </tr>\n",
              "    <tr>\n",
              "      <th>3</th>\n",
              "      <td>204</td>\n",
              "      <td>Guru</td>\n",
              "      <td>12000</td>\n",
              "    </tr>\n",
              "  </tbody>\n",
              "</table>\n",
              "</div>"
            ],
            "text/plain": [
              "   Emp No Emp Name  Salary\n",
              "0     101      Jai   14000\n",
              "1     102   Kannan   10000\n",
              "2     103    Raman    7000\n",
              "3     104   Suresh    9000\n",
              "4     105      Sam   11000\n",
              "0     201    Vivek   10000\n",
              "1     202   Gaurav   13000\n",
              "2     203   Vishwa   15000\n",
              "3     204     Guru   12000"
            ]
          },
          "metadata": {
            "tags": []
          },
          "execution_count": 83
        }
      ]
    },
    {
      "cell_type": "markdown",
      "metadata": {
        "id": "3LWY42gRZO3E"
      },
      "source": [
        "### 7.1.2 By ignoring index"
      ]
    },
    {
      "cell_type": "code",
      "metadata": {
        "colab": {
          "base_uri": "https://localhost:8080/",
          "height": 332
        },
        "id": "Mmfpnz9aZeyY",
        "outputId": "1a3b0f7e-3641-471f-fb81-77b0b8d3470f"
      },
      "source": [
        "data2 = {\n",
        "        'Emp No':[201,202,203,204],\n",
        "        'Emp Name':['Vivek','Gaurav','Vishwa','Guru'],\n",
        "        'Salary':[10000,13000,15000,12000]\n",
        "         }\n",
        "\n",
        "df2 = pd.DataFrame(data2)\n",
        "df1.append(df2,ignore_index=True)"
      ],
      "execution_count": null,
      "outputs": [
        {
          "output_type": "execute_result",
          "data": {
            "text/html": [
              "<div>\n",
              "<style scoped>\n",
              "    .dataframe tbody tr th:only-of-type {\n",
              "        vertical-align: middle;\n",
              "    }\n",
              "\n",
              "    .dataframe tbody tr th {\n",
              "        vertical-align: top;\n",
              "    }\n",
              "\n",
              "    .dataframe thead th {\n",
              "        text-align: right;\n",
              "    }\n",
              "</style>\n",
              "<table border=\"1\" class=\"dataframe\">\n",
              "  <thead>\n",
              "    <tr style=\"text-align: right;\">\n",
              "      <th></th>\n",
              "      <th>Emp No</th>\n",
              "      <th>Emp Name</th>\n",
              "      <th>Salary</th>\n",
              "    </tr>\n",
              "  </thead>\n",
              "  <tbody>\n",
              "    <tr>\n",
              "      <th>0</th>\n",
              "      <td>101</td>\n",
              "      <td>Jai</td>\n",
              "      <td>14000</td>\n",
              "    </tr>\n",
              "    <tr>\n",
              "      <th>1</th>\n",
              "      <td>102</td>\n",
              "      <td>Kannan</td>\n",
              "      <td>10000</td>\n",
              "    </tr>\n",
              "    <tr>\n",
              "      <th>2</th>\n",
              "      <td>103</td>\n",
              "      <td>Raman</td>\n",
              "      <td>7000</td>\n",
              "    </tr>\n",
              "    <tr>\n",
              "      <th>3</th>\n",
              "      <td>104</td>\n",
              "      <td>Suresh</td>\n",
              "      <td>9000</td>\n",
              "    </tr>\n",
              "    <tr>\n",
              "      <th>4</th>\n",
              "      <td>105</td>\n",
              "      <td>Sam</td>\n",
              "      <td>11000</td>\n",
              "    </tr>\n",
              "    <tr>\n",
              "      <th>5</th>\n",
              "      <td>201</td>\n",
              "      <td>Vivek</td>\n",
              "      <td>10000</td>\n",
              "    </tr>\n",
              "    <tr>\n",
              "      <th>6</th>\n",
              "      <td>202</td>\n",
              "      <td>Gaurav</td>\n",
              "      <td>13000</td>\n",
              "    </tr>\n",
              "    <tr>\n",
              "      <th>7</th>\n",
              "      <td>203</td>\n",
              "      <td>Vishwa</td>\n",
              "      <td>15000</td>\n",
              "    </tr>\n",
              "    <tr>\n",
              "      <th>8</th>\n",
              "      <td>204</td>\n",
              "      <td>Guru</td>\n",
              "      <td>12000</td>\n",
              "    </tr>\n",
              "  </tbody>\n",
              "</table>\n",
              "</div>"
            ],
            "text/plain": [
              "   Emp No Emp Name  Salary\n",
              "0     101      Jai   14000\n",
              "1     102   Kannan   10000\n",
              "2     103    Raman    7000\n",
              "3     104   Suresh    9000\n",
              "4     105      Sam   11000\n",
              "5     201    Vivek   10000\n",
              "6     202   Gaurav   13000\n",
              "7     203   Vishwa   15000\n",
              "8     204     Guru   12000"
            ]
          },
          "metadata": {
            "tags": []
          },
          "execution_count": 84
        }
      ]
    },
    {
      "cell_type": "markdown",
      "metadata": {
        "id": "7tPec6lZaj4A"
      },
      "source": [
        "### 7.1.3 With Different Shapes"
      ]
    },
    {
      "cell_type": "code",
      "metadata": {
        "colab": {
          "base_uri": "https://localhost:8080/",
          "height": 394
        },
        "id": "B4DwoBAXZwir",
        "outputId": "c37dfff7-f605-4cce-96b4-ba7f16afa772"
      },
      "source": [
        "data2 = {'Emp No':[101,102,104,105,106,107],        \n",
        "        'Team Leader':['Vivek','Gaurav','Vivek','Vishwa','Vishwa','Guru']}\n",
        "df2 = pd.DataFrame(data2)\n",
        "df1.append(df2,ignore_index = True)"
      ],
      "execution_count": null,
      "outputs": [
        {
          "output_type": "execute_result",
          "data": {
            "text/html": [
              "<div>\n",
              "<style scoped>\n",
              "    .dataframe tbody tr th:only-of-type {\n",
              "        vertical-align: middle;\n",
              "    }\n",
              "\n",
              "    .dataframe tbody tr th {\n",
              "        vertical-align: top;\n",
              "    }\n",
              "\n",
              "    .dataframe thead th {\n",
              "        text-align: right;\n",
              "    }\n",
              "</style>\n",
              "<table border=\"1\" class=\"dataframe\">\n",
              "  <thead>\n",
              "    <tr style=\"text-align: right;\">\n",
              "      <th></th>\n",
              "      <th>Emp No</th>\n",
              "      <th>Emp Name</th>\n",
              "      <th>Salary</th>\n",
              "      <th>Team Leader</th>\n",
              "    </tr>\n",
              "  </thead>\n",
              "  <tbody>\n",
              "    <tr>\n",
              "      <th>0</th>\n",
              "      <td>101</td>\n",
              "      <td>Jai</td>\n",
              "      <td>14000.0</td>\n",
              "      <td>NaN</td>\n",
              "    </tr>\n",
              "    <tr>\n",
              "      <th>1</th>\n",
              "      <td>102</td>\n",
              "      <td>Kannan</td>\n",
              "      <td>10000.0</td>\n",
              "      <td>NaN</td>\n",
              "    </tr>\n",
              "    <tr>\n",
              "      <th>2</th>\n",
              "      <td>103</td>\n",
              "      <td>Raman</td>\n",
              "      <td>7000.0</td>\n",
              "      <td>NaN</td>\n",
              "    </tr>\n",
              "    <tr>\n",
              "      <th>3</th>\n",
              "      <td>104</td>\n",
              "      <td>Suresh</td>\n",
              "      <td>9000.0</td>\n",
              "      <td>NaN</td>\n",
              "    </tr>\n",
              "    <tr>\n",
              "      <th>4</th>\n",
              "      <td>105</td>\n",
              "      <td>Sam</td>\n",
              "      <td>11000.0</td>\n",
              "      <td>NaN</td>\n",
              "    </tr>\n",
              "    <tr>\n",
              "      <th>5</th>\n",
              "      <td>101</td>\n",
              "      <td>NaN</td>\n",
              "      <td>NaN</td>\n",
              "      <td>Vivek</td>\n",
              "    </tr>\n",
              "    <tr>\n",
              "      <th>6</th>\n",
              "      <td>102</td>\n",
              "      <td>NaN</td>\n",
              "      <td>NaN</td>\n",
              "      <td>Gaurav</td>\n",
              "    </tr>\n",
              "    <tr>\n",
              "      <th>7</th>\n",
              "      <td>104</td>\n",
              "      <td>NaN</td>\n",
              "      <td>NaN</td>\n",
              "      <td>Vivek</td>\n",
              "    </tr>\n",
              "    <tr>\n",
              "      <th>8</th>\n",
              "      <td>105</td>\n",
              "      <td>NaN</td>\n",
              "      <td>NaN</td>\n",
              "      <td>Vishwa</td>\n",
              "    </tr>\n",
              "    <tr>\n",
              "      <th>9</th>\n",
              "      <td>106</td>\n",
              "      <td>NaN</td>\n",
              "      <td>NaN</td>\n",
              "      <td>Vishwa</td>\n",
              "    </tr>\n",
              "    <tr>\n",
              "      <th>10</th>\n",
              "      <td>107</td>\n",
              "      <td>NaN</td>\n",
              "      <td>NaN</td>\n",
              "      <td>Guru</td>\n",
              "    </tr>\n",
              "  </tbody>\n",
              "</table>\n",
              "</div>"
            ],
            "text/plain": [
              "    Emp No Emp Name   Salary Team Leader\n",
              "0      101      Jai  14000.0         NaN\n",
              "1      102   Kannan  10000.0         NaN\n",
              "2      103    Raman   7000.0         NaN\n",
              "3      104   Suresh   9000.0         NaN\n",
              "4      105      Sam  11000.0         NaN\n",
              "5      101      NaN      NaN       Vivek\n",
              "6      102      NaN      NaN      Gaurav\n",
              "7      104      NaN      NaN       Vivek\n",
              "8      105      NaN      NaN      Vishwa\n",
              "9      106      NaN      NaN      Vishwa\n",
              "10     107      NaN      NaN        Guru"
            ]
          },
          "metadata": {
            "tags": []
          },
          "execution_count": 85
        }
      ]
    },
    {
      "cell_type": "markdown",
      "metadata": {
        "id": "TK1YIN8ubA4c"
      },
      "source": [
        "## 7.2 By appending rows using loc[] method\n",
        "\n",
        "> Create an empty DataFrame with a column name and indices and then appending rows one by one to it using loc[] method.\n",
        "\n"
      ]
    },
    {
      "cell_type": "code",
      "metadata": {
        "colab": {
          "base_uri": "https://localhost:8080/",
          "height": 206
        },
        "id": "Dz1BHLWKfaGX",
        "outputId": "e06c26bd-5473-4ba9-e6b0-4608d7e7d104"
      },
      "source": [
        "df1 = pd.DataFrame(columns=[\"Emp Name\",\"Salary\"],index=[101,102,103,104,105])\n",
        "df1"
      ],
      "execution_count": null,
      "outputs": [
        {
          "output_type": "execute_result",
          "data": {
            "text/html": [
              "<div>\n",
              "<style scoped>\n",
              "    .dataframe tbody tr th:only-of-type {\n",
              "        vertical-align: middle;\n",
              "    }\n",
              "\n",
              "    .dataframe tbody tr th {\n",
              "        vertical-align: top;\n",
              "    }\n",
              "\n",
              "    .dataframe thead th {\n",
              "        text-align: right;\n",
              "    }\n",
              "</style>\n",
              "<table border=\"1\" class=\"dataframe\">\n",
              "  <thead>\n",
              "    <tr style=\"text-align: right;\">\n",
              "      <th></th>\n",
              "      <th>Emp Name</th>\n",
              "      <th>Salary</th>\n",
              "    </tr>\n",
              "  </thead>\n",
              "  <tbody>\n",
              "    <tr>\n",
              "      <th>101</th>\n",
              "      <td>NaN</td>\n",
              "      <td>NaN</td>\n",
              "    </tr>\n",
              "    <tr>\n",
              "      <th>102</th>\n",
              "      <td>NaN</td>\n",
              "      <td>NaN</td>\n",
              "    </tr>\n",
              "    <tr>\n",
              "      <th>103</th>\n",
              "      <td>NaN</td>\n",
              "      <td>NaN</td>\n",
              "    </tr>\n",
              "    <tr>\n",
              "      <th>104</th>\n",
              "      <td>NaN</td>\n",
              "      <td>NaN</td>\n",
              "    </tr>\n",
              "    <tr>\n",
              "      <th>105</th>\n",
              "      <td>NaN</td>\n",
              "      <td>NaN</td>\n",
              "    </tr>\n",
              "  </tbody>\n",
              "</table>\n",
              "</div>"
            ],
            "text/plain": [
              "    Emp Name Salary\n",
              "101      NaN    NaN\n",
              "102      NaN    NaN\n",
              "103      NaN    NaN\n",
              "104      NaN    NaN\n",
              "105      NaN    NaN"
            ]
          },
          "metadata": {
            "tags": []
          },
          "execution_count": 86
        }
      ]
    },
    {
      "cell_type": "code",
      "metadata": {
        "colab": {
          "base_uri": "https://localhost:8080/",
          "height": 206
        },
        "id": "oXcnkeqzfkKv",
        "outputId": "541428cf-eb1c-47bf-e0e9-6a41efcd410e"
      },
      "source": [
        "df1.loc[101] = ['Jai',14000]\n",
        "df1.loc[102] = ['Kannan',10000]\n",
        "df1.loc[103] = ['Raman',7000]\n",
        "df1.loc[104] = ['Suresh',9000]\n",
        "df1.loc[105] = ['Sam',11000]\n",
        "df1"
      ],
      "execution_count": null,
      "outputs": [
        {
          "output_type": "execute_result",
          "data": {
            "text/html": [
              "<div>\n",
              "<style scoped>\n",
              "    .dataframe tbody tr th:only-of-type {\n",
              "        vertical-align: middle;\n",
              "    }\n",
              "\n",
              "    .dataframe tbody tr th {\n",
              "        vertical-align: top;\n",
              "    }\n",
              "\n",
              "    .dataframe thead th {\n",
              "        text-align: right;\n",
              "    }\n",
              "</style>\n",
              "<table border=\"1\" class=\"dataframe\">\n",
              "  <thead>\n",
              "    <tr style=\"text-align: right;\">\n",
              "      <th></th>\n",
              "      <th>Emp Name</th>\n",
              "      <th>Salary</th>\n",
              "    </tr>\n",
              "  </thead>\n",
              "  <tbody>\n",
              "    <tr>\n",
              "      <th>101</th>\n",
              "      <td>Jai</td>\n",
              "      <td>14000</td>\n",
              "    </tr>\n",
              "    <tr>\n",
              "      <th>102</th>\n",
              "      <td>Kannan</td>\n",
              "      <td>10000</td>\n",
              "    </tr>\n",
              "    <tr>\n",
              "      <th>103</th>\n",
              "      <td>Raman</td>\n",
              "      <td>7000</td>\n",
              "    </tr>\n",
              "    <tr>\n",
              "      <th>104</th>\n",
              "      <td>Suresh</td>\n",
              "      <td>9000</td>\n",
              "    </tr>\n",
              "    <tr>\n",
              "      <th>105</th>\n",
              "      <td>Sam</td>\n",
              "      <td>11000</td>\n",
              "    </tr>\n",
              "  </tbody>\n",
              "</table>\n",
              "</div>"
            ],
            "text/plain": [
              "    Emp Name Salary\n",
              "101      Jai  14000\n",
              "102   Kannan  10000\n",
              "103    Raman   7000\n",
              "104   Suresh   9000\n",
              "105      Sam  11000"
            ]
          },
          "metadata": {
            "tags": []
          },
          "execution_count": 87
        }
      ]
    },
    {
      "cell_type": "markdown",
      "metadata": {
        "id": "7QQsFiuGgmkh"
      },
      "source": [
        "## 7.3 By appending colums using lists"
      ]
    },
    {
      "cell_type": "code",
      "metadata": {
        "colab": {
          "base_uri": "https://localhost:8080/",
          "height": 206
        },
        "id": "BleQ2eCOgqSB",
        "outputId": "4e11678b-70ff-4bc4-a80d-206c6feb5beb"
      },
      "source": [
        "data1 = {'Emp No':[101,102,103,104,105],        \n",
        "        'Salary':[14000,10000,7000,9000,11000]}                \n",
        "\n",
        "df1 = pd.DataFrame(data1)\n",
        "df1"
      ],
      "execution_count": null,
      "outputs": [
        {
          "output_type": "execute_result",
          "data": {
            "text/html": [
              "<div>\n",
              "<style scoped>\n",
              "    .dataframe tbody tr th:only-of-type {\n",
              "        vertical-align: middle;\n",
              "    }\n",
              "\n",
              "    .dataframe tbody tr th {\n",
              "        vertical-align: top;\n",
              "    }\n",
              "\n",
              "    .dataframe thead th {\n",
              "        text-align: right;\n",
              "    }\n",
              "</style>\n",
              "<table border=\"1\" class=\"dataframe\">\n",
              "  <thead>\n",
              "    <tr style=\"text-align: right;\">\n",
              "      <th></th>\n",
              "      <th>Emp No</th>\n",
              "      <th>Salary</th>\n",
              "    </tr>\n",
              "  </thead>\n",
              "  <tbody>\n",
              "    <tr>\n",
              "      <th>0</th>\n",
              "      <td>101</td>\n",
              "      <td>14000</td>\n",
              "    </tr>\n",
              "    <tr>\n",
              "      <th>1</th>\n",
              "      <td>102</td>\n",
              "      <td>10000</td>\n",
              "    </tr>\n",
              "    <tr>\n",
              "      <th>2</th>\n",
              "      <td>103</td>\n",
              "      <td>7000</td>\n",
              "    </tr>\n",
              "    <tr>\n",
              "      <th>3</th>\n",
              "      <td>104</td>\n",
              "      <td>9000</td>\n",
              "    </tr>\n",
              "    <tr>\n",
              "      <th>4</th>\n",
              "      <td>105</td>\n",
              "      <td>11000</td>\n",
              "    </tr>\n",
              "  </tbody>\n",
              "</table>\n",
              "</div>"
            ],
            "text/plain": [
              "   Emp No  Salary\n",
              "0     101   14000\n",
              "1     102   10000\n",
              "2     103    7000\n",
              "3     104    9000\n",
              "4     105   11000"
            ]
          },
          "metadata": {
            "tags": []
          },
          "execution_count": 88
        }
      ]
    },
    {
      "cell_type": "code",
      "metadata": {
        "colab": {
          "base_uri": "https://localhost:8080/",
          "height": 206
        },
        "id": "1zMuzKPxgxpq",
        "outputId": "454154df-0c01-4d89-a7f0-e45305ac841f"
      },
      "source": [
        "empname = ['Jai','Kannan','Raman','Suresh','Sam']\n",
        "df1['Emp Name'] = empname\n",
        "df1"
      ],
      "execution_count": null,
      "outputs": [
        {
          "output_type": "execute_result",
          "data": {
            "text/html": [
              "<div>\n",
              "<style scoped>\n",
              "    .dataframe tbody tr th:only-of-type {\n",
              "        vertical-align: middle;\n",
              "    }\n",
              "\n",
              "    .dataframe tbody tr th {\n",
              "        vertical-align: top;\n",
              "    }\n",
              "\n",
              "    .dataframe thead th {\n",
              "        text-align: right;\n",
              "    }\n",
              "</style>\n",
              "<table border=\"1\" class=\"dataframe\">\n",
              "  <thead>\n",
              "    <tr style=\"text-align: right;\">\n",
              "      <th></th>\n",
              "      <th>Emp No</th>\n",
              "      <th>Salary</th>\n",
              "      <th>Emp Name</th>\n",
              "    </tr>\n",
              "  </thead>\n",
              "  <tbody>\n",
              "    <tr>\n",
              "      <th>0</th>\n",
              "      <td>101</td>\n",
              "      <td>14000</td>\n",
              "      <td>Jai</td>\n",
              "    </tr>\n",
              "    <tr>\n",
              "      <th>1</th>\n",
              "      <td>102</td>\n",
              "      <td>10000</td>\n",
              "      <td>Kannan</td>\n",
              "    </tr>\n",
              "    <tr>\n",
              "      <th>2</th>\n",
              "      <td>103</td>\n",
              "      <td>7000</td>\n",
              "      <td>Raman</td>\n",
              "    </tr>\n",
              "    <tr>\n",
              "      <th>3</th>\n",
              "      <td>104</td>\n",
              "      <td>9000</td>\n",
              "      <td>Suresh</td>\n",
              "    </tr>\n",
              "    <tr>\n",
              "      <th>4</th>\n",
              "      <td>105</td>\n",
              "      <td>11000</td>\n",
              "      <td>Sam</td>\n",
              "    </tr>\n",
              "  </tbody>\n",
              "</table>\n",
              "</div>"
            ],
            "text/plain": [
              "   Emp No  Salary Emp Name\n",
              "0     101   14000      Jai\n",
              "1     102   10000   Kannan\n",
              "2     103    7000    Raman\n",
              "3     104    9000   Suresh\n",
              "4     105   11000      Sam"
            ]
          },
          "metadata": {
            "tags": []
          },
          "execution_count": 89
        }
      ]
    },
    {
      "cell_type": "markdown",
      "metadata": {
        "id": "ibr-Sjp1hAPF"
      },
      "source": [
        "---\n",
        "# 8 Pivoting operations in dataframe\n",
        "\n",
        "\n",
        "> Pivoting dataframes reshaping datframes. In some scenario we might need to have column values as column name or index in those scenarios pivotting comes into the picture. Panda provides two methods for pivotting\n",
        "\n",
        "*   pivot() - Returns ReshapedDataFrame\n",
        "*   pivot_table() - Returns DataFrame\n",
        "\n"
      ]
    },
    {
      "cell_type": "code",
      "metadata": {
        "colab": {
          "base_uri": "https://localhost:8080/",
          "height": 206
        },
        "id": "meZkVuLlChXm",
        "outputId": "0c0f08f6-da56-4111-b754-ceb163c8a6e8"
      },
      "source": [
        "import pandas as pd\n",
        "data = {'Emp No':[101,102,103,104,105],\n",
        "        'Emp Name':['Jai','Kannan','Raman','Suresh','Sam'],\n",
        "        'Salary':[14000,10000,7000,9000,11000]}                \n",
        "\n",
        "df = pd.DataFrame(data)\n",
        "df"
      ],
      "execution_count": null,
      "outputs": [
        {
          "output_type": "execute_result",
          "data": {
            "text/html": [
              "<div>\n",
              "<style scoped>\n",
              "    .dataframe tbody tr th:only-of-type {\n",
              "        vertical-align: middle;\n",
              "    }\n",
              "\n",
              "    .dataframe tbody tr th {\n",
              "        vertical-align: top;\n",
              "    }\n",
              "\n",
              "    .dataframe thead th {\n",
              "        text-align: right;\n",
              "    }\n",
              "</style>\n",
              "<table border=\"1\" class=\"dataframe\">\n",
              "  <thead>\n",
              "    <tr style=\"text-align: right;\">\n",
              "      <th></th>\n",
              "      <th>Emp No</th>\n",
              "      <th>Emp Name</th>\n",
              "      <th>Salary</th>\n",
              "    </tr>\n",
              "  </thead>\n",
              "  <tbody>\n",
              "    <tr>\n",
              "      <th>0</th>\n",
              "      <td>101</td>\n",
              "      <td>Jai</td>\n",
              "      <td>14000</td>\n",
              "    </tr>\n",
              "    <tr>\n",
              "      <th>1</th>\n",
              "      <td>102</td>\n",
              "      <td>Kannan</td>\n",
              "      <td>10000</td>\n",
              "    </tr>\n",
              "    <tr>\n",
              "      <th>2</th>\n",
              "      <td>103</td>\n",
              "      <td>Raman</td>\n",
              "      <td>7000</td>\n",
              "    </tr>\n",
              "    <tr>\n",
              "      <th>3</th>\n",
              "      <td>104</td>\n",
              "      <td>Suresh</td>\n",
              "      <td>9000</td>\n",
              "    </tr>\n",
              "    <tr>\n",
              "      <th>4</th>\n",
              "      <td>105</td>\n",
              "      <td>Sam</td>\n",
              "      <td>11000</td>\n",
              "    </tr>\n",
              "  </tbody>\n",
              "</table>\n",
              "</div>"
            ],
            "text/plain": [
              "   Emp No Emp Name  Salary\n",
              "0     101      Jai   14000\n",
              "1     102   Kannan   10000\n",
              "2     103    Raman    7000\n",
              "3     104   Suresh    9000\n",
              "4     105      Sam   11000"
            ]
          },
          "metadata": {
            "tags": []
          },
          "execution_count": 90
        }
      ]
    },
    {
      "cell_type": "markdown",
      "metadata": {
        "id": "cjdCgSD0CmFi"
      },
      "source": [
        "## 8.1 pivot()\n",
        "\n",
        "> pivot() is an extremely powerfull function that can be used to reshape dataframe based on colums values. pivot() is called using DataFrame object and it returns ReshapedDataFrame object. pivot() contains three parameters they are:\n",
        "\n",
        "*   **index** - Single/List of columns to make new frame's index\n",
        "*   **columns** - Single/List of columns to make new frame's column\n",
        "*   **values** - Sinlge/List of columns to populate new frame\n",
        "\n",
        "**Syntax :**\n",
        "```\n",
        "pivot(index,columns,values)\n",
        "```\n",
        "\n",
        "\n"
      ]
    },
    {
      "cell_type": "code",
      "metadata": {
        "colab": {
          "base_uri": "https://localhost:8080/",
          "height": 238
        },
        "id": "7Ukyyn6oCqfr",
        "outputId": "128c56a4-75d8-4c84-dd0e-64b7a57ff188"
      },
      "source": [
        "df.pivot(index ='Emp No',columns = 'Emp Name',values = 'Salary' )"
      ],
      "execution_count": null,
      "outputs": [
        {
          "output_type": "execute_result",
          "data": {
            "text/html": [
              "<div>\n",
              "<style scoped>\n",
              "    .dataframe tbody tr th:only-of-type {\n",
              "        vertical-align: middle;\n",
              "    }\n",
              "\n",
              "    .dataframe tbody tr th {\n",
              "        vertical-align: top;\n",
              "    }\n",
              "\n",
              "    .dataframe thead th {\n",
              "        text-align: right;\n",
              "    }\n",
              "</style>\n",
              "<table border=\"1\" class=\"dataframe\">\n",
              "  <thead>\n",
              "    <tr style=\"text-align: right;\">\n",
              "      <th>Emp Name</th>\n",
              "      <th>Jai</th>\n",
              "      <th>Kannan</th>\n",
              "      <th>Raman</th>\n",
              "      <th>Sam</th>\n",
              "      <th>Suresh</th>\n",
              "    </tr>\n",
              "    <tr>\n",
              "      <th>Emp No</th>\n",
              "      <th></th>\n",
              "      <th></th>\n",
              "      <th></th>\n",
              "      <th></th>\n",
              "      <th></th>\n",
              "    </tr>\n",
              "  </thead>\n",
              "  <tbody>\n",
              "    <tr>\n",
              "      <th>101</th>\n",
              "      <td>14000.0</td>\n",
              "      <td>NaN</td>\n",
              "      <td>NaN</td>\n",
              "      <td>NaN</td>\n",
              "      <td>NaN</td>\n",
              "    </tr>\n",
              "    <tr>\n",
              "      <th>102</th>\n",
              "      <td>NaN</td>\n",
              "      <td>10000.0</td>\n",
              "      <td>NaN</td>\n",
              "      <td>NaN</td>\n",
              "      <td>NaN</td>\n",
              "    </tr>\n",
              "    <tr>\n",
              "      <th>103</th>\n",
              "      <td>NaN</td>\n",
              "      <td>NaN</td>\n",
              "      <td>7000.0</td>\n",
              "      <td>NaN</td>\n",
              "      <td>NaN</td>\n",
              "    </tr>\n",
              "    <tr>\n",
              "      <th>104</th>\n",
              "      <td>NaN</td>\n",
              "      <td>NaN</td>\n",
              "      <td>NaN</td>\n",
              "      <td>NaN</td>\n",
              "      <td>9000.0</td>\n",
              "    </tr>\n",
              "    <tr>\n",
              "      <th>105</th>\n",
              "      <td>NaN</td>\n",
              "      <td>NaN</td>\n",
              "      <td>NaN</td>\n",
              "      <td>11000.0</td>\n",
              "      <td>NaN</td>\n",
              "    </tr>\n",
              "  </tbody>\n",
              "</table>\n",
              "</div>"
            ],
            "text/plain": [
              "Emp Name      Jai   Kannan   Raman      Sam  Suresh\n",
              "Emp No                                             \n",
              "101       14000.0      NaN     NaN      NaN     NaN\n",
              "102           NaN  10000.0     NaN      NaN     NaN\n",
              "103           NaN      NaN  7000.0      NaN     NaN\n",
              "104           NaN      NaN     NaN      NaN  9000.0\n",
              "105           NaN      NaN     NaN  11000.0     NaN"
            ]
          },
          "metadata": {
            "tags": []
          },
          "execution_count": 91
        }
      ]
    },
    {
      "cell_type": "markdown",
      "metadata": {
        "id": "6YfKYI55Fnha"
      },
      "source": [
        "## 8.2 pivot_table()\n",
        "\n",
        "> Like pivot() pivot_table() is also used to reshape dataframe but pivot_table returns DataFrame which look like excel style pivot table. And pivot_table is called using pandas object. pivot_table provides many parameter some of the important params are:\n",
        "\n",
        "\n",
        "*   **data** - DataFrame object which holds data\n",
        "*   **index** - Single/List of columns to make new frame's index\n",
        "*   **columns** - Single/List of columns to make new frame's column\n",
        "*   **values** - Sinlge/List of columns to populate new frame\n",
        "\n",
        "**Syntax :**\n",
        "```\n",
        "pivot_table(data,index,columns,values)\n",
        "```"
      ]
    },
    {
      "cell_type": "code",
      "metadata": {
        "colab": {
          "base_uri": "https://localhost:8080/",
          "height": 238
        },
        "id": "Qcyr4GKxIGVX",
        "outputId": "14ecefff-e65a-4056-95d9-c6c12bc0395f"
      },
      "source": [
        "df2 = pd.pivot_table(data = df,index = 'Emp Name',columns = 'Emp No',values ='Salary')\n",
        "df2"
      ],
      "execution_count": null,
      "outputs": [
        {
          "output_type": "execute_result",
          "data": {
            "text/html": [
              "<div>\n",
              "<style scoped>\n",
              "    .dataframe tbody tr th:only-of-type {\n",
              "        vertical-align: middle;\n",
              "    }\n",
              "\n",
              "    .dataframe tbody tr th {\n",
              "        vertical-align: top;\n",
              "    }\n",
              "\n",
              "    .dataframe thead th {\n",
              "        text-align: right;\n",
              "    }\n",
              "</style>\n",
              "<table border=\"1\" class=\"dataframe\">\n",
              "  <thead>\n",
              "    <tr style=\"text-align: right;\">\n",
              "      <th>Emp No</th>\n",
              "      <th>101</th>\n",
              "      <th>102</th>\n",
              "      <th>103</th>\n",
              "      <th>104</th>\n",
              "      <th>105</th>\n",
              "    </tr>\n",
              "    <tr>\n",
              "      <th>Emp Name</th>\n",
              "      <th></th>\n",
              "      <th></th>\n",
              "      <th></th>\n",
              "      <th></th>\n",
              "      <th></th>\n",
              "    </tr>\n",
              "  </thead>\n",
              "  <tbody>\n",
              "    <tr>\n",
              "      <th>Jai</th>\n",
              "      <td>14000.0</td>\n",
              "      <td>NaN</td>\n",
              "      <td>NaN</td>\n",
              "      <td>NaN</td>\n",
              "      <td>NaN</td>\n",
              "    </tr>\n",
              "    <tr>\n",
              "      <th>Kannan</th>\n",
              "      <td>NaN</td>\n",
              "      <td>10000.0</td>\n",
              "      <td>NaN</td>\n",
              "      <td>NaN</td>\n",
              "      <td>NaN</td>\n",
              "    </tr>\n",
              "    <tr>\n",
              "      <th>Raman</th>\n",
              "      <td>NaN</td>\n",
              "      <td>NaN</td>\n",
              "      <td>7000.0</td>\n",
              "      <td>NaN</td>\n",
              "      <td>NaN</td>\n",
              "    </tr>\n",
              "    <tr>\n",
              "      <th>Sam</th>\n",
              "      <td>NaN</td>\n",
              "      <td>NaN</td>\n",
              "      <td>NaN</td>\n",
              "      <td>NaN</td>\n",
              "      <td>11000.0</td>\n",
              "    </tr>\n",
              "    <tr>\n",
              "      <th>Suresh</th>\n",
              "      <td>NaN</td>\n",
              "      <td>NaN</td>\n",
              "      <td>NaN</td>\n",
              "      <td>9000.0</td>\n",
              "      <td>NaN</td>\n",
              "    </tr>\n",
              "  </tbody>\n",
              "</table>\n",
              "</div>"
            ],
            "text/plain": [
              "Emp No        101      102     103     104      105\n",
              "Emp Name                                           \n",
              "Jai       14000.0      NaN     NaN     NaN      NaN\n",
              "Kannan        NaN  10000.0     NaN     NaN      NaN\n",
              "Raman         NaN      NaN  7000.0     NaN      NaN\n",
              "Sam           NaN      NaN     NaN     NaN  11000.0\n",
              "Suresh        NaN      NaN     NaN  9000.0      NaN"
            ]
          },
          "metadata": {
            "tags": []
          },
          "execution_count": 92
        }
      ]
    },
    {
      "cell_type": "code",
      "metadata": {
        "colab": {
          "base_uri": "https://localhost:8080/"
        },
        "id": "KFtzd9UkJEqa",
        "outputId": "143ab9ac-cc19-4ac7-a315-e1a732c13cab"
      },
      "source": [
        "type(df2)"
      ],
      "execution_count": null,
      "outputs": [
        {
          "output_type": "execute_result",
          "data": {
            "text/plain": [
              "pandas.core.frame.DataFrame"
            ]
          },
          "metadata": {
            "tags": []
          },
          "execution_count": 93
        }
      ]
    },
    {
      "cell_type": "markdown",
      "metadata": {
        "id": "bYOXHf05MoFr"
      },
      "source": [
        "---\n",
        "# 9. Different possible operations to a DataFrame\n",
        "\n",
        "> Pandas provides rich set of methods to work with DataFrames. All the methods we discussed above is just a small part. There are more methods which are useful for dataframe operations some of them are:\n",
        "\n",
        "*   transpose()\n",
        "*   sample()\n",
        "*   replace()\n",
        "*   fillna()\n",
        "*   describe()"
      ]
    },
    {
      "cell_type": "code",
      "metadata": {
        "id": "3JJJOB0oUiB0"
      },
      "source": [
        "import pandas as pd"
      ],
      "execution_count": null,
      "outputs": []
    },
    {
      "cell_type": "markdown",
      "metadata": {
        "id": "a8p7iSAEUkv9"
      },
      "source": [
        "## 9.1 transpose()\n",
        "\n",
        "> As name suggests transpose() is used to convert dataframe's index to column and columns to index. Using this we can get the transpose matrix of dataframe.\n"
      ]
    },
    {
      "cell_type": "code",
      "metadata": {
        "colab": {
          "base_uri": "https://localhost:8080/",
          "height": 206
        },
        "id": "inqi_f5HUrX3",
        "outputId": "d3370995-5ba0-4c4e-fc82-2a407bca5998"
      },
      "source": [
        "data = {'Emp No':[101,102,103,104,105],\n",
        "        'Emp Name':['Jai','Kannan','Raman','Suresh','Sam'],\n",
        "        'Salary':[14000,10000,7000,9000,11000]}                \n",
        "\n",
        "df = pd.DataFrame(data)\n",
        "df"
      ],
      "execution_count": null,
      "outputs": [
        {
          "output_type": "execute_result",
          "data": {
            "text/html": [
              "<div>\n",
              "<style scoped>\n",
              "    .dataframe tbody tr th:only-of-type {\n",
              "        vertical-align: middle;\n",
              "    }\n",
              "\n",
              "    .dataframe tbody tr th {\n",
              "        vertical-align: top;\n",
              "    }\n",
              "\n",
              "    .dataframe thead th {\n",
              "        text-align: right;\n",
              "    }\n",
              "</style>\n",
              "<table border=\"1\" class=\"dataframe\">\n",
              "  <thead>\n",
              "    <tr style=\"text-align: right;\">\n",
              "      <th></th>\n",
              "      <th>Emp No</th>\n",
              "      <th>Emp Name</th>\n",
              "      <th>Salary</th>\n",
              "    </tr>\n",
              "  </thead>\n",
              "  <tbody>\n",
              "    <tr>\n",
              "      <th>0</th>\n",
              "      <td>101</td>\n",
              "      <td>Jai</td>\n",
              "      <td>14000</td>\n",
              "    </tr>\n",
              "    <tr>\n",
              "      <th>1</th>\n",
              "      <td>102</td>\n",
              "      <td>Kannan</td>\n",
              "      <td>10000</td>\n",
              "    </tr>\n",
              "    <tr>\n",
              "      <th>2</th>\n",
              "      <td>103</td>\n",
              "      <td>Raman</td>\n",
              "      <td>7000</td>\n",
              "    </tr>\n",
              "    <tr>\n",
              "      <th>3</th>\n",
              "      <td>104</td>\n",
              "      <td>Suresh</td>\n",
              "      <td>9000</td>\n",
              "    </tr>\n",
              "    <tr>\n",
              "      <th>4</th>\n",
              "      <td>105</td>\n",
              "      <td>Sam</td>\n",
              "      <td>11000</td>\n",
              "    </tr>\n",
              "  </tbody>\n",
              "</table>\n",
              "</div>"
            ],
            "text/plain": [
              "   Emp No Emp Name  Salary\n",
              "0     101      Jai   14000\n",
              "1     102   Kannan   10000\n",
              "2     103    Raman    7000\n",
              "3     104   Suresh    9000\n",
              "4     105      Sam   11000"
            ]
          },
          "metadata": {
            "tags": []
          },
          "execution_count": 95
        }
      ]
    },
    {
      "cell_type": "code",
      "metadata": {
        "colab": {
          "base_uri": "https://localhost:8080/",
          "height": 143
        },
        "id": "KFkrf7LXUwgr",
        "outputId": "b2789a70-4ab9-4e73-80e6-e56a68bac0a2"
      },
      "source": [
        "df.transpose()"
      ],
      "execution_count": null,
      "outputs": [
        {
          "output_type": "execute_result",
          "data": {
            "text/html": [
              "<div>\n",
              "<style scoped>\n",
              "    .dataframe tbody tr th:only-of-type {\n",
              "        vertical-align: middle;\n",
              "    }\n",
              "\n",
              "    .dataframe tbody tr th {\n",
              "        vertical-align: top;\n",
              "    }\n",
              "\n",
              "    .dataframe thead th {\n",
              "        text-align: right;\n",
              "    }\n",
              "</style>\n",
              "<table border=\"1\" class=\"dataframe\">\n",
              "  <thead>\n",
              "    <tr style=\"text-align: right;\">\n",
              "      <th></th>\n",
              "      <th>0</th>\n",
              "      <th>1</th>\n",
              "      <th>2</th>\n",
              "      <th>3</th>\n",
              "      <th>4</th>\n",
              "    </tr>\n",
              "  </thead>\n",
              "  <tbody>\n",
              "    <tr>\n",
              "      <th>Emp No</th>\n",
              "      <td>101</td>\n",
              "      <td>102</td>\n",
              "      <td>103</td>\n",
              "      <td>104</td>\n",
              "      <td>105</td>\n",
              "    </tr>\n",
              "    <tr>\n",
              "      <th>Emp Name</th>\n",
              "      <td>Jai</td>\n",
              "      <td>Kannan</td>\n",
              "      <td>Raman</td>\n",
              "      <td>Suresh</td>\n",
              "      <td>Sam</td>\n",
              "    </tr>\n",
              "    <tr>\n",
              "      <th>Salary</th>\n",
              "      <td>14000</td>\n",
              "      <td>10000</td>\n",
              "      <td>7000</td>\n",
              "      <td>9000</td>\n",
              "      <td>11000</td>\n",
              "    </tr>\n",
              "  </tbody>\n",
              "</table>\n",
              "</div>"
            ],
            "text/plain": [
              "              0       1      2       3      4\n",
              "Emp No      101     102    103     104    105\n",
              "Emp Name    Jai  Kannan  Raman  Suresh    Sam\n",
              "Salary    14000   10000   7000    9000  11000"
            ]
          },
          "metadata": {
            "tags": []
          },
          "execution_count": 96
        }
      ]
    },
    {
      "cell_type": "markdown",
      "metadata": {
        "id": "PBQ1Q5j5VotT"
      },
      "source": [
        "## 9.2 sample()\n",
        "\n",
        "> In some scenarios we might need some random which doesn't have any common pattern using sample() we can achieve that sample() retrives some random datas from dataframe. Using n attribute of sample() we can say how many number of random data needs to be retrived.\n",
        "\n"
      ]
    },
    {
      "cell_type": "code",
      "metadata": {
        "colab": {
          "base_uri": "https://localhost:8080/",
          "height": 424
        },
        "id": "4KadjA_tWTKh",
        "outputId": "77ea0dd1-4228-41b3-cfc6-604ff5054805"
      },
      "source": [
        "df_path = 'https://raw.githubusercontent.com/naveen63hdh/Data-Analytics/main/dataset.csv'\n",
        "\n",
        "one_piece = pd.read_csv(df_path)\n",
        "one_piece"
      ],
      "execution_count": null,
      "outputs": [
        {
          "output_type": "execute_result",
          "data": {
            "text/html": [
              "<div>\n",
              "<style scoped>\n",
              "    .dataframe tbody tr th:only-of-type {\n",
              "        vertical-align: middle;\n",
              "    }\n",
              "\n",
              "    .dataframe tbody tr th {\n",
              "        vertical-align: top;\n",
              "    }\n",
              "\n",
              "    .dataframe thead th {\n",
              "        text-align: right;\n",
              "    }\n",
              "</style>\n",
              "<table border=\"1\" class=\"dataframe\">\n",
              "  <thead>\n",
              "    <tr style=\"text-align: right;\">\n",
              "      <th></th>\n",
              "      <th>Character</th>\n",
              "      <th>Devil Fruit</th>\n",
              "      <th>Class</th>\n",
              "      <th>Subclass</th>\n",
              "      <th>Awakened</th>\n",
              "      <th>Status</th>\n",
              "    </tr>\n",
              "  </thead>\n",
              "  <tbody>\n",
              "    <tr>\n",
              "      <th>0</th>\n",
              "      <td>Marshall D. Teach</td>\n",
              "      <td>Gura Gura no Mi</td>\n",
              "      <td>Paramecia</td>\n",
              "      <td>Regular Paramecia</td>\n",
              "      <td>No</td>\n",
              "      <td>Consumed</td>\n",
              "    </tr>\n",
              "    <tr>\n",
              "      <th>1</th>\n",
              "      <td>Marshall D. Teach</td>\n",
              "      <td>Yami Yami no Mi</td>\n",
              "      <td>Logia</td>\n",
              "      <td>Regular Logia</td>\n",
              "      <td>No</td>\n",
              "      <td>Consumed</td>\n",
              "    </tr>\n",
              "    <tr>\n",
              "      <th>2</th>\n",
              "      <td>Absalom</td>\n",
              "      <td>Suke Suke no Mi</td>\n",
              "      <td>Paramecia</td>\n",
              "      <td>Regular Paramecia</td>\n",
              "      <td>No</td>\n",
              "      <td>Re-Consumed</td>\n",
              "    </tr>\n",
              "    <tr>\n",
              "      <th>3</th>\n",
              "      <td>Alpacaman</td>\n",
              "      <td>Alpaca SMILE</td>\n",
              "      <td>SMILE</td>\n",
              "      <td>Artificial Zoan</td>\n",
              "      <td>No</td>\n",
              "      <td>Consumed</td>\n",
              "    </tr>\n",
              "    <tr>\n",
              "      <th>4</th>\n",
              "      <td>Alvida</td>\n",
              "      <td>Sube Sube no Mi</td>\n",
              "      <td>Paramecia</td>\n",
              "      <td>Regular Paramecia</td>\n",
              "      <td>No</td>\n",
              "      <td>Consumed</td>\n",
              "    </tr>\n",
              "    <tr>\n",
              "      <th>...</th>\n",
              "      <td>...</td>\n",
              "      <td>...</td>\n",
              "      <td>...</td>\n",
              "      <td>...</td>\n",
              "      <td>...</td>\n",
              "      <td>...</td>\n",
              "    </tr>\n",
              "    <tr>\n",
              "      <th>174</th>\n",
              "      <td>Wolf gifter (chapter 809)</td>\n",
              "      <td>Wolf SMILE</td>\n",
              "      <td>SMILE</td>\n",
              "      <td>Artificial Zoan</td>\n",
              "      <td>No</td>\n",
              "      <td>Consumed</td>\n",
              "    </tr>\n",
              "    <tr>\n",
              "      <th>175</th>\n",
              "      <td>Wolf gifter (chapter 943) #1</td>\n",
              "      <td>Wolf SMILE</td>\n",
              "      <td>SMILE</td>\n",
              "      <td>Artificial Zoan</td>\n",
              "      <td>No</td>\n",
              "      <td>Consumed</td>\n",
              "    </tr>\n",
              "    <tr>\n",
              "      <th>176</th>\n",
              "      <td>Wolf gifter (chapter 943) #2</td>\n",
              "      <td>Wolf SMILE</td>\n",
              "      <td>SMILE</td>\n",
              "      <td>Artificial Zoan</td>\n",
              "      <td>No</td>\n",
              "      <td>Consumed</td>\n",
              "    </tr>\n",
              "    <tr>\n",
              "      <th>177</th>\n",
              "      <td>X Drake</td>\n",
              "      <td>Ryu Ryu no Mi, Model: Allosaurus</td>\n",
              "      <td>Zoan</td>\n",
              "      <td>Ancient Zoan</td>\n",
              "      <td>No</td>\n",
              "      <td>Consumed</td>\n",
              "    </tr>\n",
              "    <tr>\n",
              "      <th>178</th>\n",
              "      <td>Zala</td>\n",
              "      <td>Toge Toge no Mi</td>\n",
              "      <td>Paramecia</td>\n",
              "      <td>Regular Paramecia</td>\n",
              "      <td>No</td>\n",
              "      <td>Consumed</td>\n",
              "    </tr>\n",
              "  </tbody>\n",
              "</table>\n",
              "<p>179 rows × 6 columns</p>\n",
              "</div>"
            ],
            "text/plain": [
              "                        Character  ...       Status\n",
              "0               Marshall D. Teach  ...     Consumed\n",
              "1               Marshall D. Teach  ...     Consumed\n",
              "2                         Absalom  ...  Re-Consumed\n",
              "3                       Alpacaman  ...     Consumed\n",
              "4                          Alvida  ...     Consumed\n",
              "..                            ...  ...          ...\n",
              "174     Wolf gifter (chapter 809)  ...     Consumed\n",
              "175  Wolf gifter (chapter 943) #1  ...     Consumed\n",
              "176  Wolf gifter (chapter 943) #2  ...     Consumed\n",
              "177                       X Drake  ...     Consumed\n",
              "178                          Zala  ...     Consumed\n",
              "\n",
              "[179 rows x 6 columns]"
            ]
          },
          "metadata": {
            "tags": []
          },
          "execution_count": 97
        }
      ]
    },
    {
      "cell_type": "code",
      "metadata": {
        "colab": {
          "base_uri": "https://localhost:8080/",
          "height": 206
        },
        "id": "aprRHRdkWfyC",
        "outputId": "859792c0-5e56-4416-abcf-bc2f566db543"
      },
      "source": [
        "one_piece.sample(n=5)"
      ],
      "execution_count": null,
      "outputs": [
        {
          "output_type": "execute_result",
          "data": {
            "text/html": [
              "<div>\n",
              "<style scoped>\n",
              "    .dataframe tbody tr th:only-of-type {\n",
              "        vertical-align: middle;\n",
              "    }\n",
              "\n",
              "    .dataframe tbody tr th {\n",
              "        vertical-align: top;\n",
              "    }\n",
              "\n",
              "    .dataframe thead th {\n",
              "        text-align: right;\n",
              "    }\n",
              "</style>\n",
              "<table border=\"1\" class=\"dataframe\">\n",
              "  <thead>\n",
              "    <tr style=\"text-align: right;\">\n",
              "      <th></th>\n",
              "      <th>Character</th>\n",
              "      <th>Devil Fruit</th>\n",
              "      <th>Class</th>\n",
              "      <th>Subclass</th>\n",
              "      <th>Awakened</th>\n",
              "      <th>Status</th>\n",
              "    </tr>\n",
              "  </thead>\n",
              "  <tbody>\n",
              "    <tr>\n",
              "      <th>46</th>\n",
              "      <td>Charlotte Smoothie</td>\n",
              "      <td>Shibo Shibo no Mi</td>\n",
              "      <td>Paramecia</td>\n",
              "      <td>Regular Paramecia</td>\n",
              "      <td>No</td>\n",
              "      <td>Consumed</td>\n",
              "    </tr>\n",
              "    <tr>\n",
              "      <th>4</th>\n",
              "      <td>Alvida</td>\n",
              "      <td>Sube Sube no Mi</td>\n",
              "      <td>Paramecia</td>\n",
              "      <td>Regular Paramecia</td>\n",
              "      <td>No</td>\n",
              "      <td>Consumed</td>\n",
              "    </tr>\n",
              "    <tr>\n",
              "      <th>0</th>\n",
              "      <td>Marshall D. Teach</td>\n",
              "      <td>Gura Gura no Mi</td>\n",
              "      <td>Paramecia</td>\n",
              "      <td>Regular Paramecia</td>\n",
              "      <td>No</td>\n",
              "      <td>Consumed</td>\n",
              "    </tr>\n",
              "    <tr>\n",
              "      <th>35</th>\n",
              "      <td>Charlotte Cracker</td>\n",
              "      <td>Bisu Bisu no Mi</td>\n",
              "      <td>Paramecia</td>\n",
              "      <td>Regular Paramecia</td>\n",
              "      <td>No</td>\n",
              "      <td>Consumed</td>\n",
              "    </tr>\n",
              "    <tr>\n",
              "      <th>116</th>\n",
              "      <td>Minokoala</td>\n",
              "      <td>(unnamed)</td>\n",
              "      <td>Zoan</td>\n",
              "      <td>Regular Zoan</td>\n",
              "      <td>Yes</td>\n",
              "      <td>Consumed</td>\n",
              "    </tr>\n",
              "  </tbody>\n",
              "</table>\n",
              "</div>"
            ],
            "text/plain": [
              "              Character        Devil Fruit  ... Awakened    Status\n",
              "46   Charlotte Smoothie  Shibo Shibo no Mi  ...       No  Consumed\n",
              "4                Alvida    Sube Sube no Mi  ...       No  Consumed\n",
              "0     Marshall D. Teach    Gura Gura no Mi  ...       No  Consumed\n",
              "35    Charlotte Cracker    Bisu Bisu no Mi  ...       No  Consumed\n",
              "116           Minokoala          (unnamed)  ...      Yes  Consumed\n",
              "\n",
              "[5 rows x 6 columns]"
            ]
          },
          "metadata": {
            "tags": []
          },
          "execution_count": 98
        }
      ]
    },
    {
      "cell_type": "markdown",
      "metadata": {
        "id": "-4qTYkfjW57M"
      },
      "source": [
        "## 9.3 replace()\n",
        "\n",
        "> replace() is used to replace string, dictionaries, list, series and even regex. The value(s) or the regex expression to be replaced will be given in *to_replace* attribute and the string. The new value is given in *value* attribute. If we are using regex expression then *regex* attribute should be flagged as True.\n",
        "\n"
      ]
    },
    {
      "cell_type": "code",
      "metadata": {
        "colab": {
          "base_uri": "https://localhost:8080/",
          "height": 206
        },
        "id": "LRzclYvHdHAe",
        "outputId": "b86f838e-c2ee-49ff-a023-0d4d275bbb9a"
      },
      "source": [
        "data = {'Emp No':[101,102,103,104,105],\n",
        "        'Emp Name':['Jai','Kannan','Raman','Suresh','Sam'],\n",
        "        'Salary':[14000,10000,7000,9000,10000]}                \n",
        "\n",
        "df = pd.DataFrame(data)\n",
        "df"
      ],
      "execution_count": null,
      "outputs": [
        {
          "output_type": "execute_result",
          "data": {
            "text/html": [
              "<div>\n",
              "<style scoped>\n",
              "    .dataframe tbody tr th:only-of-type {\n",
              "        vertical-align: middle;\n",
              "    }\n",
              "\n",
              "    .dataframe tbody tr th {\n",
              "        vertical-align: top;\n",
              "    }\n",
              "\n",
              "    .dataframe thead th {\n",
              "        text-align: right;\n",
              "    }\n",
              "</style>\n",
              "<table border=\"1\" class=\"dataframe\">\n",
              "  <thead>\n",
              "    <tr style=\"text-align: right;\">\n",
              "      <th></th>\n",
              "      <th>Emp No</th>\n",
              "      <th>Emp Name</th>\n",
              "      <th>Salary</th>\n",
              "    </tr>\n",
              "  </thead>\n",
              "  <tbody>\n",
              "    <tr>\n",
              "      <th>0</th>\n",
              "      <td>101</td>\n",
              "      <td>Jai</td>\n",
              "      <td>14000</td>\n",
              "    </tr>\n",
              "    <tr>\n",
              "      <th>1</th>\n",
              "      <td>102</td>\n",
              "      <td>Kannan</td>\n",
              "      <td>10000</td>\n",
              "    </tr>\n",
              "    <tr>\n",
              "      <th>2</th>\n",
              "      <td>103</td>\n",
              "      <td>Raman</td>\n",
              "      <td>7000</td>\n",
              "    </tr>\n",
              "    <tr>\n",
              "      <th>3</th>\n",
              "      <td>104</td>\n",
              "      <td>Suresh</td>\n",
              "      <td>9000</td>\n",
              "    </tr>\n",
              "    <tr>\n",
              "      <th>4</th>\n",
              "      <td>105</td>\n",
              "      <td>Sam</td>\n",
              "      <td>10000</td>\n",
              "    </tr>\n",
              "  </tbody>\n",
              "</table>\n",
              "</div>"
            ],
            "text/plain": [
              "   Emp No Emp Name  Salary\n",
              "0     101      Jai   14000\n",
              "1     102   Kannan   10000\n",
              "2     103    Raman    7000\n",
              "3     104   Suresh    9000\n",
              "4     105      Sam   10000"
            ]
          },
          "metadata": {
            "tags": []
          },
          "execution_count": 99
        }
      ]
    },
    {
      "cell_type": "code",
      "metadata": {
        "colab": {
          "base_uri": "https://localhost:8080/",
          "height": 206
        },
        "id": "t5Ygv-kvfS_6",
        "outputId": "26b2d2bb-ed0a-490e-a1c8-1e0ef4742e1b"
      },
      "source": [
        "df.replace(10000,12000)"
      ],
      "execution_count": null,
      "outputs": [
        {
          "output_type": "execute_result",
          "data": {
            "text/html": [
              "<div>\n",
              "<style scoped>\n",
              "    .dataframe tbody tr th:only-of-type {\n",
              "        vertical-align: middle;\n",
              "    }\n",
              "\n",
              "    .dataframe tbody tr th {\n",
              "        vertical-align: top;\n",
              "    }\n",
              "\n",
              "    .dataframe thead th {\n",
              "        text-align: right;\n",
              "    }\n",
              "</style>\n",
              "<table border=\"1\" class=\"dataframe\">\n",
              "  <thead>\n",
              "    <tr style=\"text-align: right;\">\n",
              "      <th></th>\n",
              "      <th>Emp No</th>\n",
              "      <th>Emp Name</th>\n",
              "      <th>Salary</th>\n",
              "    </tr>\n",
              "  </thead>\n",
              "  <tbody>\n",
              "    <tr>\n",
              "      <th>0</th>\n",
              "      <td>101</td>\n",
              "      <td>Jai</td>\n",
              "      <td>14000</td>\n",
              "    </tr>\n",
              "    <tr>\n",
              "      <th>1</th>\n",
              "      <td>102</td>\n",
              "      <td>Kannan</td>\n",
              "      <td>12000</td>\n",
              "    </tr>\n",
              "    <tr>\n",
              "      <th>2</th>\n",
              "      <td>103</td>\n",
              "      <td>Raman</td>\n",
              "      <td>7000</td>\n",
              "    </tr>\n",
              "    <tr>\n",
              "      <th>3</th>\n",
              "      <td>104</td>\n",
              "      <td>Suresh</td>\n",
              "      <td>9000</td>\n",
              "    </tr>\n",
              "    <tr>\n",
              "      <th>4</th>\n",
              "      <td>105</td>\n",
              "      <td>Sam</td>\n",
              "      <td>12000</td>\n",
              "    </tr>\n",
              "  </tbody>\n",
              "</table>\n",
              "</div>"
            ],
            "text/plain": [
              "   Emp No Emp Name  Salary\n",
              "0     101      Jai   14000\n",
              "1     102   Kannan   12000\n",
              "2     103    Raman    7000\n",
              "3     104   Suresh    9000\n",
              "4     105      Sam   12000"
            ]
          },
          "metadata": {
            "tags": []
          },
          "execution_count": 100
        }
      ]
    },
    {
      "cell_type": "code",
      "metadata": {
        "colab": {
          "base_uri": "https://localhost:8080/",
          "height": 206
        },
        "id": "gk_nugRAeIYu",
        "outputId": "30d2c6a6-b190-475e-b808-d578c58832fe"
      },
      "source": [
        "df.replace('Ka.+','Ramu',regex=True)"
      ],
      "execution_count": null,
      "outputs": [
        {
          "output_type": "execute_result",
          "data": {
            "text/html": [
              "<div>\n",
              "<style scoped>\n",
              "    .dataframe tbody tr th:only-of-type {\n",
              "        vertical-align: middle;\n",
              "    }\n",
              "\n",
              "    .dataframe tbody tr th {\n",
              "        vertical-align: top;\n",
              "    }\n",
              "\n",
              "    .dataframe thead th {\n",
              "        text-align: right;\n",
              "    }\n",
              "</style>\n",
              "<table border=\"1\" class=\"dataframe\">\n",
              "  <thead>\n",
              "    <tr style=\"text-align: right;\">\n",
              "      <th></th>\n",
              "      <th>Emp No</th>\n",
              "      <th>Emp Name</th>\n",
              "      <th>Salary</th>\n",
              "    </tr>\n",
              "  </thead>\n",
              "  <tbody>\n",
              "    <tr>\n",
              "      <th>0</th>\n",
              "      <td>101</td>\n",
              "      <td>Jai</td>\n",
              "      <td>14000</td>\n",
              "    </tr>\n",
              "    <tr>\n",
              "      <th>1</th>\n",
              "      <td>102</td>\n",
              "      <td>Ramu</td>\n",
              "      <td>10000</td>\n",
              "    </tr>\n",
              "    <tr>\n",
              "      <th>2</th>\n",
              "      <td>103</td>\n",
              "      <td>Raman</td>\n",
              "      <td>7000</td>\n",
              "    </tr>\n",
              "    <tr>\n",
              "      <th>3</th>\n",
              "      <td>104</td>\n",
              "      <td>Suresh</td>\n",
              "      <td>9000</td>\n",
              "    </tr>\n",
              "    <tr>\n",
              "      <th>4</th>\n",
              "      <td>105</td>\n",
              "      <td>Sam</td>\n",
              "      <td>10000</td>\n",
              "    </tr>\n",
              "  </tbody>\n",
              "</table>\n",
              "</div>"
            ],
            "text/plain": [
              "   Emp No Emp Name  Salary\n",
              "0     101      Jai   14000\n",
              "1     102     Ramu   10000\n",
              "2     103    Raman    7000\n",
              "3     104   Suresh    9000\n",
              "4     105      Sam   10000"
            ]
          },
          "metadata": {
            "tags": []
          },
          "execution_count": 101
        }
      ]
    },
    {
      "cell_type": "markdown",
      "metadata": {
        "id": "F8JPbh9ffuRU"
      },
      "source": [
        "## 9.4 fillna()\n",
        "\n",
        "> fillna() is used to fill the null/NaN values with custom values in the dataframe. *value* attribute is used to give the custom null value.\n",
        "\n"
      ]
    },
    {
      "cell_type": "code",
      "metadata": {
        "colab": {
          "base_uri": "https://localhost:8080/",
          "height": 206
        },
        "id": "YIK3ge0ugZCr",
        "outputId": "4552326b-2736-40fb-b4c1-77841bda100b"
      },
      "source": [
        "data = {'Emp No':[101,102,103,104,105],\n",
        "        'Emp Name':['Jai','Kannan','Raman','Suresh','Sam'],\n",
        "        'Salary':[14000,None,7000,None,10000]}                \n",
        "\n",
        "df = pd.DataFrame(data)\n",
        "df"
      ],
      "execution_count": null,
      "outputs": [
        {
          "output_type": "execute_result",
          "data": {
            "text/html": [
              "<div>\n",
              "<style scoped>\n",
              "    .dataframe tbody tr th:only-of-type {\n",
              "        vertical-align: middle;\n",
              "    }\n",
              "\n",
              "    .dataframe tbody tr th {\n",
              "        vertical-align: top;\n",
              "    }\n",
              "\n",
              "    .dataframe thead th {\n",
              "        text-align: right;\n",
              "    }\n",
              "</style>\n",
              "<table border=\"1\" class=\"dataframe\">\n",
              "  <thead>\n",
              "    <tr style=\"text-align: right;\">\n",
              "      <th></th>\n",
              "      <th>Emp No</th>\n",
              "      <th>Emp Name</th>\n",
              "      <th>Salary</th>\n",
              "    </tr>\n",
              "  </thead>\n",
              "  <tbody>\n",
              "    <tr>\n",
              "      <th>0</th>\n",
              "      <td>101</td>\n",
              "      <td>Jai</td>\n",
              "      <td>14000.0</td>\n",
              "    </tr>\n",
              "    <tr>\n",
              "      <th>1</th>\n",
              "      <td>102</td>\n",
              "      <td>Kannan</td>\n",
              "      <td>NaN</td>\n",
              "    </tr>\n",
              "    <tr>\n",
              "      <th>2</th>\n",
              "      <td>103</td>\n",
              "      <td>Raman</td>\n",
              "      <td>7000.0</td>\n",
              "    </tr>\n",
              "    <tr>\n",
              "      <th>3</th>\n",
              "      <td>104</td>\n",
              "      <td>Suresh</td>\n",
              "      <td>NaN</td>\n",
              "    </tr>\n",
              "    <tr>\n",
              "      <th>4</th>\n",
              "      <td>105</td>\n",
              "      <td>Sam</td>\n",
              "      <td>10000.0</td>\n",
              "    </tr>\n",
              "  </tbody>\n",
              "</table>\n",
              "</div>"
            ],
            "text/plain": [
              "   Emp No Emp Name   Salary\n",
              "0     101      Jai  14000.0\n",
              "1     102   Kannan      NaN\n",
              "2     103    Raman   7000.0\n",
              "3     104   Suresh      NaN\n",
              "4     105      Sam  10000.0"
            ]
          },
          "metadata": {
            "tags": []
          },
          "execution_count": 102
        }
      ]
    },
    {
      "cell_type": "code",
      "metadata": {
        "colab": {
          "base_uri": "https://localhost:8080/",
          "height": 206
        },
        "id": "vGNew1s8hn9e",
        "outputId": "7227dd44-1873-4dba-9d2e-d5a38aa326e7"
      },
      "source": [
        "df.fillna(0)"
      ],
      "execution_count": null,
      "outputs": [
        {
          "output_type": "execute_result",
          "data": {
            "text/html": [
              "<div>\n",
              "<style scoped>\n",
              "    .dataframe tbody tr th:only-of-type {\n",
              "        vertical-align: middle;\n",
              "    }\n",
              "\n",
              "    .dataframe tbody tr th {\n",
              "        vertical-align: top;\n",
              "    }\n",
              "\n",
              "    .dataframe thead th {\n",
              "        text-align: right;\n",
              "    }\n",
              "</style>\n",
              "<table border=\"1\" class=\"dataframe\">\n",
              "  <thead>\n",
              "    <tr style=\"text-align: right;\">\n",
              "      <th></th>\n",
              "      <th>Emp No</th>\n",
              "      <th>Emp Name</th>\n",
              "      <th>Salary</th>\n",
              "    </tr>\n",
              "  </thead>\n",
              "  <tbody>\n",
              "    <tr>\n",
              "      <th>0</th>\n",
              "      <td>101</td>\n",
              "      <td>Jai</td>\n",
              "      <td>14000.0</td>\n",
              "    </tr>\n",
              "    <tr>\n",
              "      <th>1</th>\n",
              "      <td>102</td>\n",
              "      <td>Kannan</td>\n",
              "      <td>0.0</td>\n",
              "    </tr>\n",
              "    <tr>\n",
              "      <th>2</th>\n",
              "      <td>103</td>\n",
              "      <td>Raman</td>\n",
              "      <td>7000.0</td>\n",
              "    </tr>\n",
              "    <tr>\n",
              "      <th>3</th>\n",
              "      <td>104</td>\n",
              "      <td>Suresh</td>\n",
              "      <td>0.0</td>\n",
              "    </tr>\n",
              "    <tr>\n",
              "      <th>4</th>\n",
              "      <td>105</td>\n",
              "      <td>Sam</td>\n",
              "      <td>10000.0</td>\n",
              "    </tr>\n",
              "  </tbody>\n",
              "</table>\n",
              "</div>"
            ],
            "text/plain": [
              "   Emp No Emp Name   Salary\n",
              "0     101      Jai  14000.0\n",
              "1     102   Kannan      0.0\n",
              "2     103    Raman   7000.0\n",
              "3     104   Suresh      0.0\n",
              "4     105      Sam  10000.0"
            ]
          },
          "metadata": {
            "tags": []
          },
          "execution_count": 103
        }
      ]
    },
    {
      "cell_type": "markdown",
      "metadata": {
        "id": "vee7aTJviHzc"
      },
      "source": [
        "## 9.5 describe()\n",
        "\n",
        "> Describe method gives a brief summary of datas in dataframe. It gives values for **count, mean, std, min, max, 25%,50% and 75%**. Using include adn exclude attributes we can say the datatupes that need to be included and excluded.\n",
        "\n"
      ]
    },
    {
      "cell_type": "code",
      "metadata": {
        "colab": {
          "base_uri": "https://localhost:8080/",
          "height": 206
        },
        "id": "aaEeTG7PlzuO",
        "outputId": "d32ed83f-766b-4b8d-cd9e-ce34afd8903b"
      },
      "source": [
        "data = {'Emp No':[101,102,103,104,105],\n",
        "        'Emp Name':['Jai','Kannan','Raman','Suresh','Sam'],\n",
        "        'Salary':[14000.0,10000.0,7000.0,9000.0,10000.0]}                \n",
        "\n",
        "df = pd.DataFrame(data)\n",
        "df"
      ],
      "execution_count": null,
      "outputs": [
        {
          "output_type": "execute_result",
          "data": {
            "text/html": [
              "<div>\n",
              "<style scoped>\n",
              "    .dataframe tbody tr th:only-of-type {\n",
              "        vertical-align: middle;\n",
              "    }\n",
              "\n",
              "    .dataframe tbody tr th {\n",
              "        vertical-align: top;\n",
              "    }\n",
              "\n",
              "    .dataframe thead th {\n",
              "        text-align: right;\n",
              "    }\n",
              "</style>\n",
              "<table border=\"1\" class=\"dataframe\">\n",
              "  <thead>\n",
              "    <tr style=\"text-align: right;\">\n",
              "      <th></th>\n",
              "      <th>Emp No</th>\n",
              "      <th>Emp Name</th>\n",
              "      <th>Salary</th>\n",
              "    </tr>\n",
              "  </thead>\n",
              "  <tbody>\n",
              "    <tr>\n",
              "      <th>0</th>\n",
              "      <td>101</td>\n",
              "      <td>Jai</td>\n",
              "      <td>14000.0</td>\n",
              "    </tr>\n",
              "    <tr>\n",
              "      <th>1</th>\n",
              "      <td>102</td>\n",
              "      <td>Kannan</td>\n",
              "      <td>10000.0</td>\n",
              "    </tr>\n",
              "    <tr>\n",
              "      <th>2</th>\n",
              "      <td>103</td>\n",
              "      <td>Raman</td>\n",
              "      <td>7000.0</td>\n",
              "    </tr>\n",
              "    <tr>\n",
              "      <th>3</th>\n",
              "      <td>104</td>\n",
              "      <td>Suresh</td>\n",
              "      <td>9000.0</td>\n",
              "    </tr>\n",
              "    <tr>\n",
              "      <th>4</th>\n",
              "      <td>105</td>\n",
              "      <td>Sam</td>\n",
              "      <td>10000.0</td>\n",
              "    </tr>\n",
              "  </tbody>\n",
              "</table>\n",
              "</div>"
            ],
            "text/plain": [
              "   Emp No Emp Name   Salary\n",
              "0     101      Jai  14000.0\n",
              "1     102   Kannan  10000.0\n",
              "2     103    Raman   7000.0\n",
              "3     104   Suresh   9000.0\n",
              "4     105      Sam  10000.0"
            ]
          },
          "metadata": {
            "tags": []
          },
          "execution_count": 104
        }
      ]
    },
    {
      "cell_type": "code",
      "metadata": {
        "colab": {
          "base_uri": "https://localhost:8080/",
          "height": 300
        },
        "id": "TuiIvosGh71X",
        "outputId": "0afed28d-e78f-4fb6-e7d7-38fa7b6d89d5"
      },
      "source": [
        "df.describe(include=float)"
      ],
      "execution_count": null,
      "outputs": [
        {
          "output_type": "execute_result",
          "data": {
            "text/html": [
              "<div>\n",
              "<style scoped>\n",
              "    .dataframe tbody tr th:only-of-type {\n",
              "        vertical-align: middle;\n",
              "    }\n",
              "\n",
              "    .dataframe tbody tr th {\n",
              "        vertical-align: top;\n",
              "    }\n",
              "\n",
              "    .dataframe thead th {\n",
              "        text-align: right;\n",
              "    }\n",
              "</style>\n",
              "<table border=\"1\" class=\"dataframe\">\n",
              "  <thead>\n",
              "    <tr style=\"text-align: right;\">\n",
              "      <th></th>\n",
              "      <th>Salary</th>\n",
              "    </tr>\n",
              "  </thead>\n",
              "  <tbody>\n",
              "    <tr>\n",
              "      <th>count</th>\n",
              "      <td>5.000000</td>\n",
              "    </tr>\n",
              "    <tr>\n",
              "      <th>mean</th>\n",
              "      <td>10000.000000</td>\n",
              "    </tr>\n",
              "    <tr>\n",
              "      <th>std</th>\n",
              "      <td>2549.509757</td>\n",
              "    </tr>\n",
              "    <tr>\n",
              "      <th>min</th>\n",
              "      <td>7000.000000</td>\n",
              "    </tr>\n",
              "    <tr>\n",
              "      <th>25%</th>\n",
              "      <td>9000.000000</td>\n",
              "    </tr>\n",
              "    <tr>\n",
              "      <th>50%</th>\n",
              "      <td>10000.000000</td>\n",
              "    </tr>\n",
              "    <tr>\n",
              "      <th>75%</th>\n",
              "      <td>10000.000000</td>\n",
              "    </tr>\n",
              "    <tr>\n",
              "      <th>max</th>\n",
              "      <td>14000.000000</td>\n",
              "    </tr>\n",
              "  </tbody>\n",
              "</table>\n",
              "</div>"
            ],
            "text/plain": [
              "             Salary\n",
              "count      5.000000\n",
              "mean   10000.000000\n",
              "std     2549.509757\n",
              "min     7000.000000\n",
              "25%     9000.000000\n",
              "50%    10000.000000\n",
              "75%    10000.000000\n",
              "max    14000.000000"
            ]
          },
          "metadata": {
            "tags": []
          },
          "execution_count": 105
        }
      ]
    },
    {
      "cell_type": "markdown",
      "metadata": {
        "id": "o1hCxzLALiyc"
      },
      "source": [
        "# 10 String Manpulations\n",
        "\n",
        "> String is a list of character in order. A character can be anything we type in a keyboard in single keystroke. Python contains a rich set of methods for String manipulations. In this heading we will see about the following topics\n",
        "\n",
        "*   Creating and accessing String\n",
        "*   Slicing \n",
        "*   Length \n",
        "*   Count\n",
        "*   Find\n",
        "*   Replace\n",
        "*   Changing Cases\n",
        "*   Zero Fill\n",
        "*   Startswith / Endswith\n",
        "*   Testing methods"
      ]
    },
    {
      "cell_type": "markdown",
      "metadata": {
        "id": "RirlMn2tOcOl"
      },
      "source": [
        "## 10.1 Creating and accessing String\n",
        "\n",
        "> A String can be simply created by giving variable name equals the string value in single quotes or double quotes.\n",
        "\n",
        "> Using [] we can access character in string."
      ]
    },
    {
      "cell_type": "code",
      "metadata": {
        "colab": {
          "base_uri": "https://localhost:8080/"
        },
        "id": "b-3cyZM4Ddmm",
        "outputId": "70792f8a-b3fb-4188-da89-134c1e3470d0"
      },
      "source": [
        "word = \"Hello World!\"\n",
        "print(word[4])\n",
        "print(word)"
      ],
      "execution_count": null,
      "outputs": [
        {
          "output_type": "stream",
          "text": [
            "o\n",
            "Hello World!\n"
          ],
          "name": "stdout"
        }
      ]
    },
    {
      "cell_type": "markdown",
      "metadata": {
        "id": "eySlS0lIPZou"
      },
      "source": [
        "## 10.2 Slicing\n",
        "\n",
        "> [ start : end : count ] is the syntax for slicing string in python **start** and **end** are indexes of the string it can be either positivee indexing or negative indexing.\n",
        "\n",
        "*   **start:** where the slicing should begin.\n",
        "*   **end:** until where we want the slicing to go, end parameter is exclusive.\n",
        "*   **step:** how many steps we have to take at each iteration, the default being 1, so we can go through all items in the array. If we give negative indexing step should be in negative."
      ]
    },
    {
      "cell_type": "code",
      "metadata": {
        "colab": {
          "base_uri": "https://localhost:8080/"
        },
        "id": "RkPr3tq4DuKu",
        "outputId": "a41cc6a9-a741-458b-f4ae-d2c87bbde7a9"
      },
      "source": [
        "print(word)\n",
        "print(word[:6])\n",
        "print(word[1::2])\n",
        "print(word[-1:-7:-1])"
      ],
      "execution_count": null,
      "outputs": [
        {
          "output_type": "stream",
          "text": [
            "Hello World!\n",
            "Hello \n",
            "el ol!\n",
            "!dlroW\n"
          ],
          "name": "stdout"
        }
      ]
    },
    {
      "cell_type": "markdown",
      "metadata": {
        "id": "o1Iq6WSuxrfq"
      },
      "source": [
        "## 10.3 Length\n",
        "\n",
        "> The len() is used to find the length of the string.\n",
        "\n"
      ]
    },
    {
      "cell_type": "code",
      "metadata": {
        "colab": {
          "base_uri": "https://localhost:8080/"
        },
        "id": "9efaYAKnEKVq",
        "outputId": "bd89cd87-065c-44cf-8481-016b92eae258"
      },
      "source": [
        "print(word)\n",
        "len(word)"
      ],
      "execution_count": null,
      "outputs": [
        {
          "output_type": "stream",
          "text": [
            "Hello World!\n"
          ],
          "name": "stdout"
        },
        {
          "output_type": "execute_result",
          "data": {
            "text/plain": [
              "12"
            ]
          },
          "metadata": {
            "tags": []
          },
          "execution_count": 108
        }
      ]
    },
    {
      "cell_type": "markdown",
      "metadata": {
        "id": "zm0_1UYKxy7i"
      },
      "source": [
        "## 10.4 Count\n",
        "\n",
        "> count() is used to find the number occurence of specific char or pattern in the string. \n",
        "\n"
      ]
    },
    {
      "cell_type": "code",
      "metadata": {
        "colab": {
          "base_uri": "https://localhost:8080/"
        },
        "id": "8CKB-wPZENLH",
        "outputId": "189a7fdd-0d11-4470-f05f-5dfb4de463e5"
      },
      "source": [
        "print(word)\n",
        "word.count('o')"
      ],
      "execution_count": null,
      "outputs": [
        {
          "output_type": "stream",
          "text": [
            "Hello World!\n"
          ],
          "name": "stdout"
        },
        {
          "output_type": "execute_result",
          "data": {
            "text/plain": [
              "2"
            ]
          },
          "metadata": {
            "tags": []
          },
          "execution_count": 109
        }
      ]
    },
    {
      "cell_type": "markdown",
      "metadata": {
        "id": "-dhV8vzPx78G"
      },
      "source": [
        "## 10.5 Find\n",
        "\n",
        "> find() returns the first position of the string passed in parameter."
      ]
    },
    {
      "cell_type": "code",
      "metadata": {
        "colab": {
          "base_uri": "https://localhost:8080/"
        },
        "id": "nRwPkx-4EV6T",
        "outputId": "0f872464-047f-42ee-e9ad-0ba834a5a370"
      },
      "source": [
        "print(word)\n",
        "word.find('l')"
      ],
      "execution_count": null,
      "outputs": [
        {
          "output_type": "stream",
          "text": [
            "Hello World!\n"
          ],
          "name": "stdout"
        },
        {
          "output_type": "execute_result",
          "data": {
            "text/plain": [
              "2"
            ]
          },
          "metadata": {
            "tags": []
          },
          "execution_count": 110
        }
      ]
    },
    {
      "cell_type": "markdown",
      "metadata": {
        "id": "Teh8PNo6x-uP"
      },
      "source": [
        "## 10.6 Replace\n",
        "\n",
        "> replace() is used to replace the string given in first parameter with the given string in second parameter.\n"
      ]
    },
    {
      "cell_type": "code",
      "metadata": {
        "colab": {
          "base_uri": "https://localhost:8080/",
          "height": 54
        },
        "id": "Fi35ushkEnoV",
        "outputId": "f311fc51-bce8-44ef-e8cd-2cbfe3e92b24"
      },
      "source": [
        "print(word)\n",
        "word.replace('Hello','Welcome')"
      ],
      "execution_count": null,
      "outputs": [
        {
          "output_type": "stream",
          "text": [
            "Hello World!\n"
          ],
          "name": "stdout"
        },
        {
          "output_type": "execute_result",
          "data": {
            "application/vnd.google.colaboratory.intrinsic+json": {
              "type": "string"
            },
            "text/plain": [
              "'Welcome World!'"
            ]
          },
          "metadata": {
            "tags": []
          },
          "execution_count": 111
        }
      ]
    },
    {
      "cell_type": "markdown",
      "metadata": {
        "id": "5_96BS__yBPX"
      },
      "source": [
        "## 10.7 Changing Cases\n",
        "\n",
        "> There are 5 methods in python to change the case of the string\n",
        "\n",
        "*   **upper() -** returns string in uppercase\n",
        "*   **lower() -** returns string in lowercase\n",
        "*   **title() -** returns string in titlecase(i.e)Changes each words start to uppercase\n",
        "*   **capitialize() -** returns string by changing only first word to uppercase\n",
        "*   **swapcase() -** returns string by swapping lower to upper and upper to lower case.\n"
      ]
    },
    {
      "cell_type": "markdown",
      "metadata": {
        "id": "2RZ669pp8a_X"
      },
      "source": [
        "### 10.7.1 upper() - returns string in uppercase"
      ]
    },
    {
      "cell_type": "code",
      "metadata": {
        "colab": {
          "base_uri": "https://localhost:8080/",
          "height": 54
        },
        "id": "MYp3ueLAEuqH",
        "outputId": "f26a5b35-4a4c-4139-c2d9-04f504ffbb73"
      },
      "source": [
        "print(word)\n",
        "word.upper()"
      ],
      "execution_count": null,
      "outputs": [
        {
          "output_type": "stream",
          "text": [
            "Hello World!\n"
          ],
          "name": "stdout"
        },
        {
          "output_type": "execute_result",
          "data": {
            "application/vnd.google.colaboratory.intrinsic+json": {
              "type": "string"
            },
            "text/plain": [
              "'HELLO WORLD!'"
            ]
          },
          "metadata": {
            "tags": []
          },
          "execution_count": 112
        }
      ]
    },
    {
      "cell_type": "markdown",
      "metadata": {
        "id": "Sg23q0S08atu"
      },
      "source": [
        "### 10.7.2 lower() - returns string in lowercase"
      ]
    },
    {
      "cell_type": "code",
      "metadata": {
        "colab": {
          "base_uri": "https://localhost:8080/",
          "height": 54
        },
        "id": "NHj1y40UE3FJ",
        "outputId": "1f329aee-d870-417d-f9e1-46432a41d8c9"
      },
      "source": [
        "print(word)\n",
        "word.lower()"
      ],
      "execution_count": null,
      "outputs": [
        {
          "output_type": "stream",
          "text": [
            "Hello World!\n"
          ],
          "name": "stdout"
        },
        {
          "output_type": "execute_result",
          "data": {
            "application/vnd.google.colaboratory.intrinsic+json": {
              "type": "string"
            },
            "text/plain": [
              "'hello world!'"
            ]
          },
          "metadata": {
            "tags": []
          },
          "execution_count": 113
        }
      ]
    },
    {
      "cell_type": "markdown",
      "metadata": {
        "id": "GjFsfVr68aYq"
      },
      "source": [
        "### 10.7.3 title() - returns string in titlecase(i.e)Changes each words start to uppercase"
      ]
    },
    {
      "cell_type": "code",
      "metadata": {
        "colab": {
          "base_uri": "https://localhost:8080/",
          "height": 54
        },
        "id": "CFux3I-rE7Sm",
        "outputId": "8b8501a8-be2b-454d-b4a9-929a9ddde504"
      },
      "source": [
        "print(word)\n",
        "word.title()"
      ],
      "execution_count": null,
      "outputs": [
        {
          "output_type": "stream",
          "text": [
            "Hello World!\n"
          ],
          "name": "stdout"
        },
        {
          "output_type": "execute_result",
          "data": {
            "application/vnd.google.colaboratory.intrinsic+json": {
              "type": "string"
            },
            "text/plain": [
              "'Hello World!'"
            ]
          },
          "metadata": {
            "tags": []
          },
          "execution_count": 114
        }
      ]
    },
    {
      "cell_type": "markdown",
      "metadata": {
        "id": "wMMkOGHJ8aMm"
      },
      "source": [
        "### 10.7.4 capitialize() - returns string by changing only first word to uppercase"
      ]
    },
    {
      "cell_type": "code",
      "metadata": {
        "colab": {
          "base_uri": "https://localhost:8080/",
          "height": 54
        },
        "id": "yrShpjBiE-dj",
        "outputId": "80e60747-32bc-4fa2-8de3-098f7f3ab77d"
      },
      "source": [
        "print(word)\n",
        "word.capitalize()"
      ],
      "execution_count": null,
      "outputs": [
        {
          "output_type": "stream",
          "text": [
            "Hello World!\n"
          ],
          "name": "stdout"
        },
        {
          "output_type": "execute_result",
          "data": {
            "application/vnd.google.colaboratory.intrinsic+json": {
              "type": "string"
            },
            "text/plain": [
              "'Hello world!'"
            ]
          },
          "metadata": {
            "tags": []
          },
          "execution_count": 115
        }
      ]
    },
    {
      "cell_type": "markdown",
      "metadata": {
        "id": "ffRWQGXj8YiG"
      },
      "source": [
        "### 10.7.5 swapcase() - returns string by swapping lower to upper and upper to lower case."
      ]
    },
    {
      "cell_type": "code",
      "metadata": {
        "colab": {
          "base_uri": "https://localhost:8080/",
          "height": 54
        },
        "id": "ji2uZd3AFDqT",
        "outputId": "9b25eac5-758e-4522-c79e-a59ae52841e9"
      },
      "source": [
        "print(word)\n",
        "word.swapcase()"
      ],
      "execution_count": null,
      "outputs": [
        {
          "output_type": "stream",
          "text": [
            "Hello World!\n"
          ],
          "name": "stdout"
        },
        {
          "output_type": "execute_result",
          "data": {
            "application/vnd.google.colaboratory.intrinsic+json": {
              "type": "string"
            },
            "text/plain": [
              "'hELLO wORLD!'"
            ]
          },
          "metadata": {
            "tags": []
          },
          "execution_count": 116
        }
      ]
    },
    {
      "cell_type": "markdown",
      "metadata": {
        "id": "mj_0uU2SyGaw"
      },
      "source": [
        "## 10.8 Zero Fill\n",
        "\n",
        "> zfill() method adds zeros (0) at the beginning of the string, until it reaches the specified length.\n",
        "\n"
      ]
    },
    {
      "cell_type": "code",
      "metadata": {
        "colab": {
          "base_uri": "https://localhost:8080/",
          "height": 54
        },
        "id": "Wi1ORRFiFH0T",
        "outputId": "53154028-ff73-40ac-edbb-25dd444bb5c0"
      },
      "source": [
        "print(word)\n",
        "word.zfill(20)"
      ],
      "execution_count": null,
      "outputs": [
        {
          "output_type": "stream",
          "text": [
            "Hello World!\n"
          ],
          "name": "stdout"
        },
        {
          "output_type": "execute_result",
          "data": {
            "application/vnd.google.colaboratory.intrinsic+json": {
              "type": "string"
            },
            "text/plain": [
              "'00000000Hello World!'"
            ]
          },
          "metadata": {
            "tags": []
          },
          "execution_count": 117
        }
      ]
    },
    {
      "cell_type": "markdown",
      "metadata": {
        "id": "uCmlMqD8yJnM"
      },
      "source": [
        "## 10.9 Startswith / Endswith\n",
        "\n",
        "> startswith() is a boolean method which returns True if the string start with specified value else it returns false.\n",
        "\n",
        "> endswith() is a boolean method which returns True if the string end with specified value else it returns false."
      ]
    },
    {
      "cell_type": "code",
      "metadata": {
        "colab": {
          "base_uri": "https://localhost:8080/"
        },
        "id": "DgelpeEuFoe5",
        "outputId": "045c089d-8834-451a-f667-ed5a152c4e16"
      },
      "source": [
        "print(word)\n",
        "print(word.startswith('H'))\n",
        "print(word.startswith('!'))\n",
        "print(word.endswith('H'))\n",
        "print(word.endswith('!'))"
      ],
      "execution_count": null,
      "outputs": [
        {
          "output_type": "stream",
          "text": [
            "Hello World!\n",
            "True\n",
            "False\n",
            "False\n",
            "True\n"
          ],
          "name": "stdout"
        }
      ]
    },
    {
      "cell_type": "markdown",
      "metadata": {
        "id": "2oaRwtujyRW5"
      },
      "source": [
        "## 10.10 Testing Methods\n",
        "\n",
        "> Testing methods are python boolean methods which are used to test things like whether string is aphabet, numeric, uppercase, lowecase and etc. The string testing methods in python are:\n",
        "\n",
        "* **isalnum() -**\tReturns True if all characters in the string are alphanumeric\n",
        "* **isalpha() -**\tReturns True if all characters in the string are in the alphabet\n",
        "* **isdigit() -**\tReturns True if all characters in the string are digits\n",
        "* **isidentifier() -** Returns True if the string is an identifier\n",
        "* **islower()\t-** Returns True if all characters in the string are lower case\n",
        "* **isspace()\t-** Returns True if all characters in the string are whitespaces\n",
        "* **istitle() -** Returns True if the string follows the rules of a title\n",
        "* **isupper()\t-** Returns True if all characters in the string are upper case"
      ]
    },
    {
      "cell_type": "markdown",
      "metadata": {
        "id": "y_y68MhyAnkb"
      },
      "source": [
        "### 10.10.1 isalnum() -\tReturns True if all characters in the string are alphanumeric"
      ]
    },
    {
      "cell_type": "code",
      "metadata": {
        "colab": {
          "base_uri": "https://localhost:8080/"
        },
        "id": "WfIS1rY9F305",
        "outputId": "c905bfe6-4808-424d-8cb7-fea884d6bf77"
      },
      "source": [
        "print(word)\n",
        "print(word.isalnum())\n",
        "word2 = \"naveen123\"\n",
        "print(word2)\n",
        "print(word2.isalnum())"
      ],
      "execution_count": null,
      "outputs": [
        {
          "output_type": "stream",
          "text": [
            "Hello World!\n",
            "False\n",
            "naveen123\n",
            "True\n"
          ],
          "name": "stdout"
        }
      ]
    },
    {
      "cell_type": "markdown",
      "metadata": {
        "id": "A2K53tN8Awrs"
      },
      "source": [
        "### 10.10.2 isalpha() -\tReturns True if all characters in the string are in the alphabet"
      ]
    },
    {
      "cell_type": "code",
      "metadata": {
        "colab": {
          "base_uri": "https://localhost:8080/"
        },
        "id": "juuxj6OsGarR",
        "outputId": "091c90f4-c5bd-48da-f456-ded75944e057"
      },
      "source": [
        "print(word)\n",
        "print(word.isalpha())\n",
        "word2 = \"Naveen\"\n",
        "print(word2)\n",
        "print(word2.isalpha())"
      ],
      "execution_count": null,
      "outputs": [
        {
          "output_type": "stream",
          "text": [
            "Hello World!\n",
            "False\n",
            "Naveen\n",
            "True\n"
          ],
          "name": "stdout"
        }
      ]
    },
    {
      "cell_type": "markdown",
      "metadata": {
        "id": "A_3ur0AzAwOy"
      },
      "source": [
        "### 10.10.3 isdigit() -\tReturns True if all characters in the string are digits"
      ]
    },
    {
      "cell_type": "code",
      "metadata": {
        "colab": {
          "base_uri": "https://localhost:8080/"
        },
        "id": "loOux6pSHChX",
        "outputId": "40f2dbe2-6f9e-499a-a6bd-2088696e82fb"
      },
      "source": [
        "print(word)\n",
        "print(word.isdigit())\n",
        "word2 = \"20352037\"\n",
        "print(word2)\n",
        "print(word2.isdigit())"
      ],
      "execution_count": null,
      "outputs": [
        {
          "output_type": "stream",
          "text": [
            "Hello World!\n",
            "False\n",
            "20352037\n",
            "True\n"
          ],
          "name": "stdout"
        }
      ]
    },
    {
      "cell_type": "markdown",
      "metadata": {
        "id": "-Ze4u7zcAv_5"
      },
      "source": [
        "### 10.10.4 isidentifier() - Returns True if the string is an identifier"
      ]
    },
    {
      "cell_type": "code",
      "metadata": {
        "colab": {
          "base_uri": "https://localhost:8080/"
        },
        "id": "W69LRBTTIJty",
        "outputId": "56dc9faf-a70e-4141-c7dd-fec314e4e932"
      },
      "source": [
        "print(word)\n",
        "print(word.isidentifier())\n",
        "word2 = \"helloworld\"\n",
        "print(word2)\n",
        "print(word2.isidentifier())"
      ],
      "execution_count": null,
      "outputs": [
        {
          "output_type": "stream",
          "text": [
            "Hello World!\n",
            "False\n",
            "helloworld\n",
            "True\n"
          ],
          "name": "stdout"
        }
      ]
    },
    {
      "cell_type": "markdown",
      "metadata": {
        "id": "sWQnJDcWAvyA"
      },
      "source": [
        "### 10.10.5 islower()\t- Returns True if all characters in the string are lower case"
      ]
    },
    {
      "cell_type": "code",
      "metadata": {
        "colab": {
          "base_uri": "https://localhost:8080/"
        },
        "id": "0X3y14N4IVoR",
        "outputId": "024c7db4-3321-48fb-8bb1-d08a3950653d"
      },
      "source": [
        "print(word)\n",
        "print(word.islower())\n",
        "word2 = \"helloworld\"\n",
        "print(word2)\n",
        "print(word2.islower())"
      ],
      "execution_count": null,
      "outputs": [
        {
          "output_type": "stream",
          "text": [
            "Hello World!\n",
            "False\n",
            "helloworld\n",
            "True\n"
          ],
          "name": "stdout"
        }
      ]
    },
    {
      "cell_type": "markdown",
      "metadata": {
        "id": "vrhyVJdUAvLV"
      },
      "source": [
        "### 10.10.6 isspace()\t- Returns True if all characters in the string are whitespaces"
      ]
    },
    {
      "cell_type": "code",
      "metadata": {
        "colab": {
          "base_uri": "https://localhost:8080/"
        },
        "id": "aIyq5neeIbUE",
        "outputId": "c5899d22-8432-441b-87d9-6d8b5dde77a0"
      },
      "source": [
        "print(word)\n",
        "print(word.isspace())\n",
        "word2 = \" \"\n",
        "print(word2)\n",
        "print(word2.isspace())"
      ],
      "execution_count": null,
      "outputs": [
        {
          "output_type": "stream",
          "text": [
            "Hello World!\n",
            "False\n",
            " \n",
            "True\n"
          ],
          "name": "stdout"
        }
      ]
    },
    {
      "cell_type": "markdown",
      "metadata": {
        "id": "SqUnlXlAAu4B"
      },
      "source": [
        "### 10.10.7 istitle() - Returns True if the string follows the rules of a title"
      ]
    },
    {
      "cell_type": "code",
      "metadata": {
        "colab": {
          "base_uri": "https://localhost:8080/"
        },
        "id": "JaBRVwveInNK",
        "outputId": "5e73e635-0d1c-4825-f329-ebd52b405362"
      },
      "source": [
        "print(word)\n",
        "print(word.istitle())\n",
        "word2 = \"hello world\"\n",
        "print(word2)\n",
        "print(word2.istitle())"
      ],
      "execution_count": null,
      "outputs": [
        {
          "output_type": "stream",
          "text": [
            "Hello World!\n",
            "True\n",
            "hello world\n",
            "False\n"
          ],
          "name": "stdout"
        }
      ]
    },
    {
      "cell_type": "markdown",
      "metadata": {
        "id": "lVeNkkSBAuqt"
      },
      "source": [
        "### 10.10.8 isupper()\t- Returns True if all characters in the string are upper case"
      ]
    },
    {
      "cell_type": "code",
      "metadata": {
        "colab": {
          "base_uri": "https://localhost:8080/"
        },
        "id": "JiVyG37lIu4M",
        "outputId": "cf98f888-c91c-4349-c08d-42be23d6671d"
      },
      "source": [
        "print(word)\n",
        "print(word.isupper())\n",
        "word2 = \"HELLO WORLD\"\n",
        "print(word2)\n",
        "print(word2.isupper())"
      ],
      "execution_count": null,
      "outputs": [
        {
          "output_type": "stream",
          "text": [
            "Hello World!\n",
            "False\n",
            "HELLO WORLD\n",
            "True\n"
          ],
          "name": "stdout"
        }
      ]
    }
  ]
}